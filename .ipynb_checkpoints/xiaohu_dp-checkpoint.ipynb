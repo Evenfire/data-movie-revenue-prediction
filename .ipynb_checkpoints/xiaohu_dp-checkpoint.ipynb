{
 "cells": [
  {
   "cell_type": "code",
   "execution_count": 68,
   "id": "36ffd467",
   "metadata": {},
   "outputs": [],
   "source": [
    "import pandas as pd\n",
    "import matplotlib.pyplot as plt "
   ]
  },
  {
   "cell_type": "code",
   "execution_count": 11,
   "id": "76997442",
   "metadata": {
    "scrolled": true
   },
   "outputs": [
    {
     "name": "stderr",
     "output_type": "stream",
     "text": [
      "/tmp/ipykernel_15502/584763029.py:5: DtypeWarning: Columns (7) have mixed types. Specify dtype option on import or set low_memory=False.\n",
      "  data_cleaned = pd.read_csv(f\"{path}{file_name}\", delimiter=';')\n"
     ]
    },
    {
     "data": {
      "text/html": [
       "<div>\n",
       "<style scoped>\n",
       "    .dataframe tbody tr th:only-of-type {\n",
       "        vertical-align: middle;\n",
       "    }\n",
       "\n",
       "    .dataframe tbody tr th {\n",
       "        vertical-align: top;\n",
       "    }\n",
       "\n",
       "    .dataframe thead th {\n",
       "        text-align: right;\n",
       "    }\n",
       "</style>\n",
       "<table border=\"1\" class=\"dataframe\">\n",
       "  <thead>\n",
       "    <tr style=\"text-align: right;\">\n",
       "      <th></th>\n",
       "      <th>id</th>\n",
       "      <th>budget</th>\n",
       "      <th>genres</th>\n",
       "      <th>imdb_id</th>\n",
       "      <th>original_language</th>\n",
       "      <th>original_title</th>\n",
       "      <th>overview</th>\n",
       "      <th>popularity</th>\n",
       "      <th>production_companies</th>\n",
       "      <th>production_countries</th>\n",
       "      <th>...</th>\n",
       "      <th>runtime</th>\n",
       "      <th>spoken_languages</th>\n",
       "      <th>status</th>\n",
       "      <th>tagline</th>\n",
       "      <th>title</th>\n",
       "      <th>vote_average</th>\n",
       "      <th>vote_count</th>\n",
       "      <th>production_companies_number</th>\n",
       "      <th>production_countries_number</th>\n",
       "      <th>spoken_languages_number</th>\n",
       "    </tr>\n",
       "  </thead>\n",
       "  <tbody>\n",
       "    <tr>\n",
       "      <th>0</th>\n",
       "      <td>2</td>\n",
       "      <td>0</td>\n",
       "      <td>Drama|Crime</td>\n",
       "      <td>tt0094675</td>\n",
       "      <td>fi</td>\n",
       "      <td>Ariel</td>\n",
       "      <td>Taisto Kasurinen is a Finnish coal miner whose...</td>\n",
       "      <td>0.823904</td>\n",
       "      <td>Villealfa Filmproduction Oy</td>\n",
       "      <td>Finland</td>\n",
       "      <td>...</td>\n",
       "      <td>69.0</td>\n",
       "      <td>suomi</td>\n",
       "      <td>Released</td>\n",
       "      <td>NaN</td>\n",
       "      <td>Ariel</td>\n",
       "      <td>7.1</td>\n",
       "      <td>40</td>\n",
       "      <td>2</td>\n",
       "      <td>1</td>\n",
       "      <td>2</td>\n",
       "    </tr>\n",
       "    <tr>\n",
       "      <th>1</th>\n",
       "      <td>3</td>\n",
       "      <td>0</td>\n",
       "      <td>Drama|Comedy</td>\n",
       "      <td>tt0092149</td>\n",
       "      <td>fi</td>\n",
       "      <td>Varjoja paratiisissa</td>\n",
       "      <td>An episode in the life of Nikander, a garbage ...</td>\n",
       "      <td>0.47445</td>\n",
       "      <td>Villealfa Filmproduction Oy</td>\n",
       "      <td>Finland</td>\n",
       "      <td>...</td>\n",
       "      <td>76.0</td>\n",
       "      <td>English</td>\n",
       "      <td>Released</td>\n",
       "      <td>NaN</td>\n",
       "      <td>Shadows in Paradise</td>\n",
       "      <td>7.0</td>\n",
       "      <td>32</td>\n",
       "      <td>1</td>\n",
       "      <td>1</td>\n",
       "      <td>3</td>\n",
       "    </tr>\n",
       "    <tr>\n",
       "      <th>2</th>\n",
       "      <td>5</td>\n",
       "      <td>4000000</td>\n",
       "      <td>Crime|Comedy</td>\n",
       "      <td>tt0113101</td>\n",
       "      <td>en</td>\n",
       "      <td>Four Rooms</td>\n",
       "      <td>It's Ted the Bellhop's first night on the job....</td>\n",
       "      <td>1.698</td>\n",
       "      <td>Miramax Films</td>\n",
       "      <td>United States of America</td>\n",
       "      <td>...</td>\n",
       "      <td>98.0</td>\n",
       "      <td>English</td>\n",
       "      <td>Released</td>\n",
       "      <td>Twelve outrageous guests. Four scandalous requ...</td>\n",
       "      <td>Four Rooms</td>\n",
       "      <td>6.5</td>\n",
       "      <td>485</td>\n",
       "      <td>2</td>\n",
       "      <td>1</td>\n",
       "      <td>1</td>\n",
       "    </tr>\n",
       "    <tr>\n",
       "      <th>3</th>\n",
       "      <td>6</td>\n",
       "      <td>0</td>\n",
       "      <td>Action|Thriller|Crime</td>\n",
       "      <td>tt0107286</td>\n",
       "      <td>en</td>\n",
       "      <td>Judgment Night</td>\n",
       "      <td>While racing to a boxing match, Frank, Mike, J...</td>\n",
       "      <td>1.32287</td>\n",
       "      <td>Universal Pictures</td>\n",
       "      <td>Japan</td>\n",
       "      <td>...</td>\n",
       "      <td>110.0</td>\n",
       "      <td>English</td>\n",
       "      <td>Released</td>\n",
       "      <td>Don't move. Don't whisper. Don't even breathe.</td>\n",
       "      <td>Judgment Night</td>\n",
       "      <td>6.5</td>\n",
       "      <td>69</td>\n",
       "      <td>3</td>\n",
       "      <td>2</td>\n",
       "      <td>1</td>\n",
       "    </tr>\n",
       "    <tr>\n",
       "      <th>4</th>\n",
       "      <td>8</td>\n",
       "      <td>42000</td>\n",
       "      <td>Documentary</td>\n",
       "      <td>tt0825671</td>\n",
       "      <td>en</td>\n",
       "      <td>Life in Loops (A Megacities RMX)</td>\n",
       "      <td>Timo Novotny labels his new project an experim...</td>\n",
       "      <td>0.054716</td>\n",
       "      <td>inLoops</td>\n",
       "      <td>Austria</td>\n",
       "      <td>...</td>\n",
       "      <td>80.0</td>\n",
       "      <td>English</td>\n",
       "      <td>Released</td>\n",
       "      <td>A Megacities remix.</td>\n",
       "      <td>Life in Loops (A Megacities RMX)</td>\n",
       "      <td>6.4</td>\n",
       "      <td>4</td>\n",
       "      <td>1</td>\n",
       "      <td>1</td>\n",
       "      <td>5</td>\n",
       "    </tr>\n",
       "  </tbody>\n",
       "</table>\n",
       "<p>5 rows × 22 columns</p>\n",
       "</div>"
      ],
      "text/plain": [
       "   id   budget                 genres    imdb_id original_language  \\\n",
       "0   2        0            Drama|Crime  tt0094675                fi   \n",
       "1   3        0           Drama|Comedy  tt0092149                fi   \n",
       "2   5  4000000           Crime|Comedy  tt0113101                en   \n",
       "3   6        0  Action|Thriller|Crime  tt0107286                en   \n",
       "4   8    42000            Documentary  tt0825671                en   \n",
       "\n",
       "                     original_title  \\\n",
       "0                             Ariel   \n",
       "1              Varjoja paratiisissa   \n",
       "2                        Four Rooms   \n",
       "3                    Judgment Night   \n",
       "4  Life in Loops (A Megacities RMX)   \n",
       "\n",
       "                                            overview popularity  \\\n",
       "0  Taisto Kasurinen is a Finnish coal miner whose...   0.823904   \n",
       "1  An episode in the life of Nikander, a garbage ...    0.47445   \n",
       "2  It's Ted the Bellhop's first night on the job....      1.698   \n",
       "3  While racing to a boxing match, Frank, Mike, J...    1.32287   \n",
       "4  Timo Novotny labels his new project an experim...   0.054716   \n",
       "\n",
       "          production_companies      production_countries  ... runtime  \\\n",
       "0  Villealfa Filmproduction Oy                   Finland  ...    69.0   \n",
       "1  Villealfa Filmproduction Oy                   Finland  ...    76.0   \n",
       "2                Miramax Films  United States of America  ...    98.0   \n",
       "3           Universal Pictures                     Japan  ...   110.0   \n",
       "4                      inLoops                   Austria  ...    80.0   \n",
       "\n",
       "   spoken_languages    status  \\\n",
       "0             suomi  Released   \n",
       "1           English  Released   \n",
       "2           English  Released   \n",
       "3           English  Released   \n",
       "4           English  Released   \n",
       "\n",
       "                                             tagline  \\\n",
       "0                                                NaN   \n",
       "1                                                NaN   \n",
       "2  Twelve outrageous guests. Four scandalous requ...   \n",
       "3     Don't move. Don't whisper. Don't even breathe.   \n",
       "4                                A Megacities remix.   \n",
       "\n",
       "                              title vote_average vote_count  \\\n",
       "0                             Ariel          7.1         40   \n",
       "1               Shadows in Paradise          7.0         32   \n",
       "2                        Four Rooms          6.5        485   \n",
       "3                    Judgment Night          6.5         69   \n",
       "4  Life in Loops (A Megacities RMX)          6.4          4   \n",
       "\n",
       "   production_companies_number  production_countries_number  \\\n",
       "0                            2                            1   \n",
       "1                            1                            1   \n",
       "2                            2                            1   \n",
       "3                            3                            2   \n",
       "4                            1                            1   \n",
       "\n",
       "   spoken_languages_number  \n",
       "0                        2  \n",
       "1                        3  \n",
       "2                        1  \n",
       "3                        1  \n",
       "4                        5  \n",
       "\n",
       "[5 rows x 22 columns]"
      ]
     },
     "execution_count": 11,
     "metadata": {},
     "output_type": "execute_result"
    }
   ],
   "source": [
    "# Import data 'AllMoviesDetailsCleaned'\n",
    "\n",
    "path = '/home/abeljiang2/code/final_project/data-movie-revenue-prediction/data/'\n",
    "file_name = 'AllMoviesDetailsCleaned.csv'\n",
    "data_cleaned = pd.read_csv(f\"{path}{file_name}\", delimiter=';')\n",
    "data_cleaned.head()"
   ]
  },
  {
   "cell_type": "code",
   "execution_count": 12,
   "id": "6950be26",
   "metadata": {},
   "outputs": [
    {
     "data": {
      "text/plain": [
       "Index(['id', 'budget', 'genres', 'imdb_id', 'original_language',\n",
       "       'original_title', 'overview', 'popularity', 'production_companies',\n",
       "       'production_countries', 'release_date', 'revenue', 'runtime',\n",
       "       'spoken_languages', 'status', 'tagline', 'title', 'vote_average',\n",
       "       'vote_count', 'production_companies_number',\n",
       "       'production_countries_number', 'spoken_languages_number'],\n",
       "      dtype='object')"
      ]
     },
     "execution_count": 12,
     "metadata": {},
     "output_type": "execute_result"
    }
   ],
   "source": [
    "data_cleaned.columns"
   ]
  },
  {
   "cell_type": "code",
   "execution_count": 13,
   "id": "d9817fa0",
   "metadata": {},
   "outputs": [
    {
     "data": {
      "text/plain": [
       "(329044, 22)"
      ]
     },
     "execution_count": 13,
     "metadata": {},
     "output_type": "execute_result"
    }
   ],
   "source": [
    "data_cleaned.shape"
   ]
  },
  {
   "cell_type": "code",
   "execution_count": 14,
   "id": "d8e7d120",
   "metadata": {},
   "outputs": [
    {
     "data": {
      "text/plain": [
       "0"
      ]
     },
     "execution_count": 14,
     "metadata": {},
     "output_type": "execute_result"
    }
   ],
   "source": [
    "data_cleaned.duplicated().sum()"
   ]
  },
  {
   "cell_type": "code",
   "execution_count": 76,
   "id": "09a09208",
   "metadata": {
    "scrolled": true
   },
   "outputs": [
    {
     "data": {
      "text/plain": [
       "tagline                        0.839137\n",
       "genres                         0.369340\n",
       "imdb_id                        0.238509\n",
       "overview                       0.154946\n",
       "runtime                        0.111815\n",
       "release_date                   0.073078\n",
       "spoken_languages               0.013554\n",
       "status                         0.006042\n",
       "original_language              0.000617\n",
       "title                          0.000003\n",
       "original_title                 0.000003\n",
       "id                             0.000000\n",
       "production_countries_number    0.000000\n",
       "production_companies_number    0.000000\n",
       "vote_count                     0.000000\n",
       "vote_average                   0.000000\n",
       "revenue                        0.000000\n",
       "budget                         0.000000\n",
       "production_countries           0.000000\n",
       "production_companies           0.000000\n",
       "popularity                     0.000000\n",
       "spoken_languages_number        0.000000\n",
       "dtype: float64"
      ]
     },
     "execution_count": 76,
     "metadata": {},
     "output_type": "execute_result"
    }
   ],
   "source": [
    "# Percentage of Null Value\n",
    "data_cleaned.isnull().sum().sort_values(ascending=False)/len(data_cleaned)"
   ]
  },
  {
   "cell_type": "code",
   "execution_count": 93,
   "id": "c84d4b8d",
   "metadata": {},
   "outputs": [
    {
     "data": {
      "text/html": [
       "<div>\n",
       "<style scoped>\n",
       "    .dataframe tbody tr th:only-of-type {\n",
       "        vertical-align: middle;\n",
       "    }\n",
       "\n",
       "    .dataframe tbody tr th {\n",
       "        vertical-align: top;\n",
       "    }\n",
       "\n",
       "    .dataframe thead th {\n",
       "        text-align: right;\n",
       "    }\n",
       "</style>\n",
       "<table border=\"1\" class=\"dataframe\">\n",
       "  <thead>\n",
       "    <tr style=\"text-align: right;\">\n",
       "      <th></th>\n",
       "      <th>id</th>\n",
       "      <th>budget</th>\n",
       "      <th>revenue</th>\n",
       "      <th>runtime</th>\n",
       "      <th>vote_average</th>\n",
       "      <th>vote_count</th>\n",
       "      <th>production_companies_number</th>\n",
       "      <th>production_countries_number</th>\n",
       "      <th>spoken_languages_number</th>\n",
       "    </tr>\n",
       "  </thead>\n",
       "  <tbody>\n",
       "    <tr>\n",
       "      <th>count</th>\n",
       "      <td>329044.000000</td>\n",
       "      <td>3.290440e+05</td>\n",
       "      <td>3.290440e+05</td>\n",
       "      <td>292252.000000</td>\n",
       "      <td>329044.000000</td>\n",
       "      <td>329044.000000</td>\n",
       "      <td>329044.00000</td>\n",
       "      <td>329044.000000</td>\n",
       "      <td>329044.000000</td>\n",
       "    </tr>\n",
       "    <tr>\n",
       "      <th>mean</th>\n",
       "      <td>252984.152937</td>\n",
       "      <td>6.129073e+05</td>\n",
       "      <td>1.533838e+06</td>\n",
       "      <td>60.406813</td>\n",
       "      <td>2.374474</td>\n",
       "      <td>14.211270</td>\n",
       "      <td>0.59475</td>\n",
       "      <td>0.609882</td>\n",
       "      <td>0.647628</td>\n",
       "    </tr>\n",
       "    <tr>\n",
       "      <th>std</th>\n",
       "      <td>138633.855160</td>\n",
       "      <td>6.845307e+06</td>\n",
       "      <td>2.401891e+07</td>\n",
       "      <td>142.502210</td>\n",
       "      <td>3.126254</td>\n",
       "      <td>166.443851</td>\n",
       "      <td>1.03807</td>\n",
       "      <td>0.664861</td>\n",
       "      <td>0.672048</td>\n",
       "    </tr>\n",
       "    <tr>\n",
       "      <th>min</th>\n",
       "      <td>2.000000</td>\n",
       "      <td>0.000000e+00</td>\n",
       "      <td>-1.200000e+01</td>\n",
       "      <td>0.000000</td>\n",
       "      <td>0.000000</td>\n",
       "      <td>0.000000</td>\n",
       "      <td>0.00000</td>\n",
       "      <td>0.000000</td>\n",
       "      <td>0.000000</td>\n",
       "    </tr>\n",
       "    <tr>\n",
       "      <th>25%</th>\n",
       "      <td>124796.250000</td>\n",
       "      <td>0.000000e+00</td>\n",
       "      <td>0.000000e+00</td>\n",
       "      <td>5.000000</td>\n",
       "      <td>0.000000</td>\n",
       "      <td>0.000000</td>\n",
       "      <td>0.00000</td>\n",
       "      <td>0.000000</td>\n",
       "      <td>0.000000</td>\n",
       "    </tr>\n",
       "    <tr>\n",
       "      <th>50%</th>\n",
       "      <td>276473.500000</td>\n",
       "      <td>0.000000e+00</td>\n",
       "      <td>0.000000e+00</td>\n",
       "      <td>71.000000</td>\n",
       "      <td>0.000000</td>\n",
       "      <td>0.000000</td>\n",
       "      <td>0.00000</td>\n",
       "      <td>1.000000</td>\n",
       "      <td>1.000000</td>\n",
       "    </tr>\n",
       "    <tr>\n",
       "      <th>75%</th>\n",
       "      <td>370839.250000</td>\n",
       "      <td>0.000000e+00</td>\n",
       "      <td>0.000000e+00</td>\n",
       "      <td>94.000000</td>\n",
       "      <td>5.500000</td>\n",
       "      <td>1.000000</td>\n",
       "      <td>1.00000</td>\n",
       "      <td>1.000000</td>\n",
       "      <td>1.000000</td>\n",
       "    </tr>\n",
       "    <tr>\n",
       "      <th>max</th>\n",
       "      <td>469219.000000</td>\n",
       "      <td>6.000000e+08</td>\n",
       "      <td>2.781506e+09</td>\n",
       "      <td>51420.000000</td>\n",
       "      <td>10.000000</td>\n",
       "      <td>12811.000000</td>\n",
       "      <td>26.00000</td>\n",
       "      <td>26.000000</td>\n",
       "      <td>25.000000</td>\n",
       "    </tr>\n",
       "  </tbody>\n",
       "</table>\n",
       "</div>"
      ],
      "text/plain": [
       "                  id        budget       revenue        runtime  \\\n",
       "count  329044.000000  3.290440e+05  3.290440e+05  292252.000000   \n",
       "mean   252984.152937  6.129073e+05  1.533838e+06      60.406813   \n",
       "std    138633.855160  6.845307e+06  2.401891e+07     142.502210   \n",
       "min         2.000000  0.000000e+00 -1.200000e+01       0.000000   \n",
       "25%    124796.250000  0.000000e+00  0.000000e+00       5.000000   \n",
       "50%    276473.500000  0.000000e+00  0.000000e+00      71.000000   \n",
       "75%    370839.250000  0.000000e+00  0.000000e+00      94.000000   \n",
       "max    469219.000000  6.000000e+08  2.781506e+09   51420.000000   \n",
       "\n",
       "        vote_average     vote_count  production_companies_number  \\\n",
       "count  329044.000000  329044.000000                 329044.00000   \n",
       "mean        2.374474      14.211270                      0.59475   \n",
       "std         3.126254     166.443851                      1.03807   \n",
       "min         0.000000       0.000000                      0.00000   \n",
       "25%         0.000000       0.000000                      0.00000   \n",
       "50%         0.000000       0.000000                      0.00000   \n",
       "75%         5.500000       1.000000                      1.00000   \n",
       "max        10.000000   12811.000000                     26.00000   \n",
       "\n",
       "       production_countries_number  spoken_languages_number  \n",
       "count                329044.000000            329044.000000  \n",
       "mean                      0.609882                 0.647628  \n",
       "std                       0.664861                 0.672048  \n",
       "min                       0.000000                 0.000000  \n",
       "25%                       0.000000                 0.000000  \n",
       "50%                       1.000000                 1.000000  \n",
       "75%                       1.000000                 1.000000  \n",
       "max                      26.000000                25.000000  "
      ]
     },
     "execution_count": 93,
     "metadata": {},
     "output_type": "execute_result"
    }
   ],
   "source": [
    "data_cleaned.describe()"
   ]
  },
  {
   "cell_type": "code",
   "execution_count": 67,
   "id": "a1245c66",
   "metadata": {},
   "outputs": [
    {
     "data": {
      "text/plain": [
       "0.026409841844859654"
      ]
     },
     "execution_count": 67,
     "metadata": {},
     "output_type": "execute_result"
    }
   ],
   "source": [
    "# Percentage of sample revnue is not equal 0\n",
    "(data_cleaned['revenue']!=0).sum()/len(data_cleaned)"
   ]
  },
  {
   "cell_type": "code",
   "execution_count": 69,
   "id": "78a9dd37",
   "metadata": {},
   "outputs": [
    {
     "data": {
      "text/plain": [
       "0.047960151225975856"
      ]
     },
     "execution_count": 69,
     "metadata": {},
     "output_type": "execute_result"
    }
   ],
   "source": [
    "# Percentage of sample budget is not equal 0\n",
    "(data_cleaned['budget']!=0).sum()/len(data_cleaned)"
   ]
  },
  {
   "cell_type": "code",
   "execution_count": 85,
   "id": "e8d708d6",
   "metadata": {
    "scrolled": true
   },
   "outputs": [
    {
     "data": {
      "text/plain": [
       "(8689, 22)"
      ]
     },
     "execution_count": 85,
     "metadata": {},
     "output_type": "execute_result"
    }
   ],
   "source": [
    "# Remove revenue with 0\n",
    "data_cleaned_revenue = data_cleaned[data_cleaned['revenue']>0]\n",
    "data_cleaned_revenue.shape"
   ]
  },
  {
   "cell_type": "code",
   "execution_count": 86,
   "id": "2ce3f9a4",
   "metadata": {},
   "outputs": [
    {
     "data": {
      "text/plain": [
       "1.0"
      ]
     },
     "execution_count": 86,
     "metadata": {},
     "output_type": "execute_result"
    }
   ],
   "source": [
    "# Percentage of sample revnue is not equal 0\n",
    "(data_cleaned_revenue['revenue']>0).sum()/len(data_cleaned_revenue)"
   ]
  },
  {
   "cell_type": "code",
   "execution_count": 92,
   "id": "e9b767ca",
   "metadata": {},
   "outputs": [
    {
     "data": {
      "text/plain": [
       "117411             1\n",
       "49545              1\n",
       "15178              1\n",
       "220549             1\n",
       "227138             1\n",
       "             ...    \n",
       "87484     1513528810\n",
       "14575     1519557910\n",
       "474       1845034188\n",
       "90013     2068223624\n",
       "12167     2781505847\n",
       "Name: revenue, Length: 8689, dtype: int64"
      ]
     },
     "execution_count": 92,
     "metadata": {},
     "output_type": "execute_result"
    }
   ],
   "source": [
    "data_cleaned_revenue['revenue'].sort_values(ascending=True)"
   ]
  },
  {
   "cell_type": "code",
   "execution_count": 88,
   "id": "263c73ec",
   "metadata": {
    "scrolled": false
   },
   "outputs": [
    {
     "data": {
      "text/plain": [
       "<matplotlib.collections.PathCollection at 0x7f43f71e17f0>"
      ]
     },
     "execution_count": 88,
     "metadata": {},
     "output_type": "execute_result"
    },
    {
     "data": {
      "image/png": "[encoded data removed]",
      "text/plain": [
       "<Figure size 640x480 with 1 Axes>"
      ]
     },
     "metadata": {},
     "output_type": "display_data"
    }
   ],
   "source": [
    "plt.scatter(data_cleaned_revenue['budget'],data_cleaned_revenue['revenue'])"
   ]
  },
  {
   "cell_type": "code",
   "execution_count": 16,
   "id": "1eb49876",
   "metadata": {},
   "outputs": [
    {
     "data": {
      "text/html": [
       "<div>\n",
       "<style scoped>\n",
       "    .dataframe tbody tr th:only-of-type {\n",
       "        vertical-align: middle;\n",
       "    }\n",
       "\n",
       "    .dataframe tbody tr th {\n",
       "        vertical-align: top;\n",
       "    }\n",
       "\n",
       "    .dataframe thead th {\n",
       "        text-align: right;\n",
       "    }\n",
       "</style>\n",
       "<table border=\"1\" class=\"dataframe\">\n",
       "  <thead>\n",
       "    <tr style=\"text-align: right;\">\n",
       "      <th></th>\n",
       "      <th>id</th>\n",
       "      <th>actor1_name</th>\n",
       "      <th>actor1_gender</th>\n",
       "      <th>actor2_name</th>\n",
       "      <th>actor2_gender</th>\n",
       "      <th>actor3_name</th>\n",
       "      <th>actor3_gender</th>\n",
       "      <th>actor4_name</th>\n",
       "      <th>actor4_gender</th>\n",
       "      <th>actor5_name</th>\n",
       "      <th>actor5_gender</th>\n",
       "      <th>actor_number</th>\n",
       "      <th>director_name</th>\n",
       "      <th>director_gender</th>\n",
       "      <th>director_number</th>\n",
       "      <th>producer_name</th>\n",
       "      <th>producer_number</th>\n",
       "      <th>screeplay_name</th>\n",
       "      <th>editor_name</th>\n",
       "    </tr>\n",
       "  </thead>\n",
       "  <tbody>\n",
       "    <tr>\n",
       "      <th>0</th>\n",
       "      <td>2</td>\n",
       "      <td>Turo Pajala</td>\n",
       "      <td>0</td>\n",
       "      <td>Susanna Haavisto</td>\n",
       "      <td>0.0</td>\n",
       "      <td>Matti Pellonpää</td>\n",
       "      <td>2</td>\n",
       "      <td>Eetu Hilkamo</td>\n",
       "      <td>0</td>\n",
       "      <td>none</td>\n",
       "      <td>0</td>\n",
       "      <td>4</td>\n",
       "      <td>Aki Kaurismäki</td>\n",
       "      <td>0.0</td>\n",
       "      <td>1</td>\n",
       "      <td>none</td>\n",
       "      <td>0</td>\n",
       "      <td>Aki Kaurismäki</td>\n",
       "      <td>Raija Talvio</td>\n",
       "    </tr>\n",
       "    <tr>\n",
       "      <th>1</th>\n",
       "      <td>3</td>\n",
       "      <td>Matti Pellonpää</td>\n",
       "      <td>2</td>\n",
       "      <td>Kati Outinen</td>\n",
       "      <td>1.0</td>\n",
       "      <td>Sakari Kuosmanen</td>\n",
       "      <td>2</td>\n",
       "      <td>Esko Nikkari</td>\n",
       "      <td>2</td>\n",
       "      <td>Kylli Köngäs</td>\n",
       "      <td>0</td>\n",
       "      <td>7</td>\n",
       "      <td>Aki Kaurismäki</td>\n",
       "      <td>0.0</td>\n",
       "      <td>1</td>\n",
       "      <td>Mika Kaurismäki</td>\n",
       "      <td>1</td>\n",
       "      <td>Aki Kaurismäki</td>\n",
       "      <td>Raija Talvio</td>\n",
       "    </tr>\n",
       "    <tr>\n",
       "      <th>2</th>\n",
       "      <td>5</td>\n",
       "      <td>Tim Roth</td>\n",
       "      <td>2</td>\n",
       "      <td>Antonio Banderas</td>\n",
       "      <td>2.0</td>\n",
       "      <td>Jennifer Beals</td>\n",
       "      <td>1</td>\n",
       "      <td>Madonna</td>\n",
       "      <td>1</td>\n",
       "      <td>Marisa Tomei</td>\n",
       "      <td>1</td>\n",
       "      <td>24</td>\n",
       "      <td>Allison Anders</td>\n",
       "      <td>1.0</td>\n",
       "      <td>4</td>\n",
       "      <td>Lawrence Bender</td>\n",
       "      <td>1</td>\n",
       "      <td>none</td>\n",
       "      <td>Margaret Goodspeed</td>\n",
       "    </tr>\n",
       "    <tr>\n",
       "      <th>3</th>\n",
       "      <td>6</td>\n",
       "      <td>Emilio Estevez</td>\n",
       "      <td>2</td>\n",
       "      <td>Cuba Gooding Jr.</td>\n",
       "      <td>2.0</td>\n",
       "      <td>Denis Leary</td>\n",
       "      <td>2</td>\n",
       "      <td>Jeremy Piven</td>\n",
       "      <td>2</td>\n",
       "      <td>Peter Greene</td>\n",
       "      <td>2</td>\n",
       "      <td>15</td>\n",
       "      <td>Stephen Hopkins</td>\n",
       "      <td>2.0</td>\n",
       "      <td>1</td>\n",
       "      <td>Gene Levy</td>\n",
       "      <td>1</td>\n",
       "      <td>Lewis Colick</td>\n",
       "      <td>Tim Wellburn</td>\n",
       "    </tr>\n",
       "    <tr>\n",
       "      <th>4</th>\n",
       "      <td>8</td>\n",
       "      <td>none</td>\n",
       "      <td>0</td>\n",
       "      <td>none</td>\n",
       "      <td>0.0</td>\n",
       "      <td>none</td>\n",
       "      <td>0</td>\n",
       "      <td>none</td>\n",
       "      <td>0</td>\n",
       "      <td>none</td>\n",
       "      <td>0</td>\n",
       "      <td>0</td>\n",
       "      <td>Timo Novotny</td>\n",
       "      <td>0.0</td>\n",
       "      <td>1</td>\n",
       "      <td>Timo Novotny</td>\n",
       "      <td>2</td>\n",
       "      <td>Michael Glawogger</td>\n",
       "      <td>Timo Novotny</td>\n",
       "    </tr>\n",
       "  </tbody>\n",
       "</table>\n",
       "</div>"
      ],
      "text/plain": [
       "   id      actor1_name  actor1_gender       actor2_name  actor2_gender  \\\n",
       "0   2      Turo Pajala              0  Susanna Haavisto            0.0   \n",
       "1   3  Matti Pellonpää              2      Kati Outinen            1.0   \n",
       "2   5         Tim Roth              2  Antonio Banderas            2.0   \n",
       "3   6   Emilio Estevez              2  Cuba Gooding Jr.            2.0   \n",
       "4   8             none              0              none            0.0   \n",
       "\n",
       "        actor3_name  actor3_gender   actor4_name  actor4_gender   actor5_name  \\\n",
       "0   Matti Pellonpää              2  Eetu Hilkamo              0          none   \n",
       "1  Sakari Kuosmanen              2  Esko Nikkari              2  Kylli Köngäs   \n",
       "2    Jennifer Beals              1       Madonna              1  Marisa Tomei   \n",
       "3       Denis Leary              2  Jeremy Piven              2  Peter Greene   \n",
       "4              none              0          none              0          none   \n",
       "\n",
       "   actor5_gender  actor_number    director_name  director_gender  \\\n",
       "0              0             4   Aki Kaurismäki              0.0   \n",
       "1              0             7   Aki Kaurismäki              0.0   \n",
       "2              1            24   Allison Anders              1.0   \n",
       "3              2            15  Stephen Hopkins              2.0   \n",
       "4              0             0     Timo Novotny              0.0   \n",
       "\n",
       "   director_number    producer_name  producer_number     screeplay_name  \\\n",
       "0                1             none                0     Aki Kaurismäki   \n",
       "1                1  Mika Kaurismäki                1     Aki Kaurismäki   \n",
       "2                4  Lawrence Bender                1               none   \n",
       "3                1        Gene Levy                1       Lewis Colick   \n",
       "4                1     Timo Novotny                2  Michael Glawogger   \n",
       "\n",
       "          editor_name  \n",
       "0        Raija Talvio  \n",
       "1        Raija Talvio  \n",
       "2  Margaret Goodspeed  \n",
       "3        Tim Wellburn  \n",
       "4        Timo Novotny  "
      ]
     },
     "execution_count": 16,
     "metadata": {},
     "output_type": "execute_result"
    }
   ],
   "source": [
    "# Import data 'AllMoviesCastingRaw.csv'\n",
    "\n",
    "path = '/home/abeljiang2/code/final_project/data-movie-revenue-prediction/data/'\n",
    "file_name = 'AllMoviesCastingRaw.csv'\n",
    "data_raw = pd.read_csv(f\"{path}{file_name}\", delimiter=';')\n",
    "data_raw.head()"
   ]
  },
  {
   "cell_type": "code",
   "execution_count": 17,
   "id": "cdc34888",
   "metadata": {},
   "outputs": [
    {
     "data": {
      "text/plain": [
       "Index(['id', 'actor1_name', 'actor1_gender', 'actor2_name', 'actor2_gender',\n",
       "       'actor3_name', 'actor3_gender', 'actor4_name', 'actor4_gender',\n",
       "       'actor5_name', 'actor5_gender', 'actor_number', 'director_name',\n",
       "       'director_gender', 'director_number', 'producer_name',\n",
       "       'producer_number', 'screeplay_name', 'editor_name'],\n",
       "      dtype='object')"
      ]
     },
     "execution_count": 17,
     "metadata": {},
     "output_type": "execute_result"
    }
   ],
   "source": [
    "data_raw.columns"
   ]
  },
  {
   "cell_type": "code",
   "execution_count": 18,
   "id": "98e47fbb",
   "metadata": {},
   "outputs": [
    {
     "data": {
      "text/plain": [
       "id                 0\n",
       "actor1_name        0\n",
       "actor1_gender      0\n",
       "actor2_name        0\n",
       "actor2_gender      1\n",
       "actor3_name        0\n",
       "actor3_gender      0\n",
       "actor4_name        0\n",
       "actor4_gender      0\n",
       "actor5_name        0\n",
       "actor5_gender      0\n",
       "actor_number       0\n",
       "director_name      0\n",
       "director_gender    1\n",
       "director_number    0\n",
       "producer_name      0\n",
       "producer_number    0\n",
       "screeplay_name     0\n",
       "editor_name        0\n",
       "dtype: int64"
      ]
     },
     "execution_count": 18,
     "metadata": {},
     "output_type": "execute_result"
    }
   ],
   "source": [
    "data_raw.isnull().sum()"
   ]
  },
  {
   "cell_type": "code",
   "execution_count": 19,
   "id": "59200644",
   "metadata": {},
   "outputs": [
    {
     "data": {
      "text/plain": [
       "(329044, 19)"
      ]
     },
     "execution_count": 19,
     "metadata": {},
     "output_type": "execute_result"
    }
   ],
   "source": [
    "data_raw.shape"
   ]
  },
  {
   "cell_type": "code",
   "execution_count": 21,
   "id": "70c2e2c7",
   "metadata": {},
   "outputs": [
    {
     "data": {
      "text/html": [
       "<div>\n",
       "<style scoped>\n",
       "    .dataframe tbody tr th:only-of-type {\n",
       "        vertical-align: middle;\n",
       "    }\n",
       "\n",
       "    .dataframe tbody tr th {\n",
       "        vertical-align: top;\n",
       "    }\n",
       "\n",
       "    .dataframe thead th {\n",
       "        text-align: right;\n",
       "    }\n",
       "</style>\n",
       "<table border=\"1\" class=\"dataframe\">\n",
       "  <thead>\n",
       "    <tr style=\"text-align: right;\">\n",
       "      <th></th>\n",
       "      <th>director_name</th>\n",
       "      <th>ceremony</th>\n",
       "      <th>year</th>\n",
       "      <th>category</th>\n",
       "      <th>outcome</th>\n",
       "      <th>original_language</th>\n",
       "    </tr>\n",
       "  </thead>\n",
       "  <tbody>\n",
       "    <tr>\n",
       "      <th>0</th>\n",
       "      <td>Aki Kaurismäki</td>\n",
       "      <td>ACCEC Awards</td>\n",
       "      <td>2004.0</td>\n",
       "      <td>ACCEC Award</td>\n",
       "      <td>Won</td>\n",
       "      <td>fi</td>\n",
       "    </tr>\n",
       "    <tr>\n",
       "      <th>1</th>\n",
       "      <td>Aki Kaurismäki</td>\n",
       "      <td>Alliance of Women Film Journalists</td>\n",
       "      <td>2012.0</td>\n",
       "      <td>EDA Award</td>\n",
       "      <td>Nominated</td>\n",
       "      <td>fi</td>\n",
       "    </tr>\n",
       "    <tr>\n",
       "      <th>2</th>\n",
       "      <td>Aki Kaurismäki</td>\n",
       "      <td>Amanda Awards, Norway</td>\n",
       "      <td>1999.0</td>\n",
       "      <td>Amanda</td>\n",
       "      <td>Nominated</td>\n",
       "      <td>fi</td>\n",
       "    </tr>\n",
       "    <tr>\n",
       "      <th>3</th>\n",
       "      <td>Aki Kaurismäki</td>\n",
       "      <td>Argentinean Film Critics Association Awards</td>\n",
       "      <td>2013.0</td>\n",
       "      <td>Silver Condor</td>\n",
       "      <td>Nominated</td>\n",
       "      <td>fi</td>\n",
       "    </tr>\n",
       "    <tr>\n",
       "      <th>4</th>\n",
       "      <td>Aki Kaurismäki</td>\n",
       "      <td>Argentinean Film Critics Association Awards</td>\n",
       "      <td>2004.0</td>\n",
       "      <td>Silver Condor</td>\n",
       "      <td>Nominated</td>\n",
       "      <td>fi</td>\n",
       "    </tr>\n",
       "  </tbody>\n",
       "</table>\n",
       "</div>"
      ],
      "text/plain": [
       "    director_name                                     ceremony    year  \\\n",
       "0  Aki Kaurismäki                                 ACCEC Awards  2004.0   \n",
       "1  Aki Kaurismäki           Alliance of Women Film Journalists  2012.0   \n",
       "2  Aki Kaurismäki                        Amanda Awards, Norway  1999.0   \n",
       "3  Aki Kaurismäki  Argentinean Film Critics Association Awards  2013.0   \n",
       "4  Aki Kaurismäki  Argentinean Film Critics Association Awards  2004.0   \n",
       "\n",
       "        category    outcome original_language  \n",
       "0    ACCEC Award        Won                fi  \n",
       "1      EDA Award  Nominated                fi  \n",
       "2         Amanda  Nominated                fi  \n",
       "3  Silver Condor  Nominated                fi  \n",
       "4  Silver Condor  Nominated                fi  "
      ]
     },
     "execution_count": 21,
     "metadata": {},
     "output_type": "execute_result"
    }
   ],
   "source": [
    "# Import data '220k_awards_by_directors'\n",
    "\n",
    "path = '/home/abeljiang2/code/final_project/data-movie-revenue-prediction/data/'\n",
    "file_name = '220k_awards_by_directors.csv'\n",
    "data_award = pd.read_csv(f\"{path}{file_name}\", delimiter=',')\n",
    "data_award.head()"
   ]
  },
  {
   "cell_type": "code",
   "execution_count": 22,
   "id": "36870e0b",
   "metadata": {},
   "outputs": [
    {
     "data": {
      "text/plain": [
       "Index(['director_name', 'ceremony', 'year', 'category', 'outcome',\n",
       "       'original_language'],\n",
       "      dtype='object')"
      ]
     },
     "execution_count": 22,
     "metadata": {},
     "output_type": "execute_result"
    }
   ],
   "source": [
    "data_award.columns"
   ]
  },
  {
   "cell_type": "code",
   "execution_count": 23,
   "id": "68e4cdf0",
   "metadata": {},
   "outputs": [
    {
     "data": {
      "text/plain": [
       "director_name        0\n",
       "ceremony             0\n",
       "year                 0\n",
       "category             1\n",
       "outcome              0\n",
       "original_language    0\n",
       "dtype: int64"
      ]
     },
     "execution_count": 23,
     "metadata": {},
     "output_type": "execute_result"
    }
   ],
   "source": [
    "data_award.isnull().sum()"
   ]
  },
  {
   "cell_type": "code",
   "execution_count": 24,
   "id": "a6ffc432",
   "metadata": {},
   "outputs": [
    {
     "data": {
      "text/plain": [
       "(225675, 6)"
      ]
     },
     "execution_count": 24,
     "metadata": {},
     "output_type": "execute_result"
    }
   ],
   "source": [
    "data_award.shape"
   ]
  },
  {
   "cell_type": "code",
   "execution_count": 29,
   "id": "40e1484d",
   "metadata": {},
   "outputs": [
    {
     "data": {
      "text/html": [
       "<div>\n",
       "<style scoped>\n",
       "    .dataframe tbody tr th:only-of-type {\n",
       "        vertical-align: middle;\n",
       "    }\n",
       "\n",
       "    .dataframe tbody tr th {\n",
       "        vertical-align: top;\n",
       "    }\n",
       "\n",
       "    .dataframe thead th {\n",
       "        text-align: right;\n",
       "    }\n",
       "</style>\n",
       "<table border=\"1\" class=\"dataframe\">\n",
       "  <thead>\n",
       "    <tr style=\"text-align: right;\">\n",
       "      <th></th>\n",
       "      <th>Abdellatif Kechiche</th>\n",
       "      <th>(french: [abdublatif keuiu]; tunisian arabic: uuuf uuuuuau uuuauue, born  december ) is a tunisian-french actor, film director and screenwriter. he made his directorial debut in  with la faute ue voltaire, which he also wrote. his film blue is the warmest colour won the palme d'or at the  cannes film festival.</th>\n",
       "    </tr>\n",
       "  </thead>\n",
       "  <tbody>\n",
       "    <tr>\n",
       "      <th>0</th>\n",
       "      <td>Abel Gance</td>\n",
       "      <td>(french: [guus];  october  u  november ) was...</td>\n",
       "    </tr>\n",
       "    <tr>\n",
       "      <th>1</th>\n",
       "      <td>Agnès Varda</td>\n",
       "      <td>agnues  (french: [auubs vauda]; born  may ) is...</td>\n",
       "    </tr>\n",
       "    <tr>\n",
       "      <th>2</th>\n",
       "      <td>Aki Kaurismäki</td>\n",
       "      <td>olavi kaurismueki (finnish: [ucuki uckuurismu...</td>\n",
       "    </tr>\n",
       "    <tr>\n",
       "      <th>3</th>\n",
       "      <td>Akira Kurosawa</td>\n",
       "      <td>(ueduca ue, march ,  u september , ) was a j...</td>\n",
       "    </tr>\n",
       "    <tr>\n",
       "      <th>4</th>\n",
       "      <td>Alain Cavalier</td>\n",
       "      <td>(french: [kavalje]; born  september ) is a f...</td>\n",
       "    </tr>\n",
       "  </tbody>\n",
       "</table>\n",
       "</div>"
      ],
      "text/plain": [
       "  Abdellatif Kechiche  \\\n",
       "0          Abel Gance   \n",
       "1         Agnès Varda   \n",
       "2      Aki Kaurismäki   \n",
       "3      Akira Kurosawa   \n",
       "4      Alain Cavalier   \n",
       "\n",
       "    (french: [abdublatif keuiu]; tunisian arabic: uuuf uuuuuau uuuauue, born  december ) is a tunisian-french actor, film director and screenwriter. he made his directorial debut in  with la faute ue voltaire, which he also wrote. his film blue is the warmest colour won the palme d'or at the  cannes film festival.  \n",
       "0    (french: [guus];  october  u  november ) was...                                                                                                                                                                                                                                                                         \n",
       "1  agnues  (french: [auubs vauda]; born  may ) is...                                                                                                                                                                                                                                                                         \n",
       "2   olavi kaurismueki (finnish: [ucuki uckuurismu...                                                                                                                                                                                                                                                                         \n",
       "3    (ueduca ue, march ,  u september , ) was a j...                                                                                                                                                                                                                                                                         \n",
       "4    (french: [kavalje]; born  september ) is a f...                                                                                                                                                                                                                                                                         "
      ]
     },
     "execution_count": 29,
     "metadata": {},
     "output_type": "execute_result"
    }
   ],
   "source": [
    "# Import data '500 favorite directors_with wikipedia summary'\n",
    "\n",
    "path = '/home/abeljiang2/code/final_project/data-movie-revenue-prediction/data/'\n",
    "file_name = '500 favorite directors_with wikipedia summary.csv'\n",
    "data_favorite = pd.read_csv(f\"{path}{file_name}\", delimiter=';')\n",
    "data_favorite.head()"
   ]
  },
  {
   "cell_type": "code",
   "execution_count": 30,
   "id": "f3b0ff5a",
   "metadata": {},
   "outputs": [
    {
     "data": {
      "text/plain": [
       "(588, 2)"
      ]
     },
     "execution_count": 30,
     "metadata": {},
     "output_type": "execute_result"
    }
   ],
   "source": [
    "data_favorite.shape"
   ]
  },
  {
   "cell_type": "code",
   "execution_count": 31,
   "id": "9be43ae4",
   "metadata": {},
   "outputs": [
    {
     "data": {
      "text/plain": [
       "Index(['Abdellatif Kechiche', '  (french: [abdublatif keuiu]; tunisian arabic: uuuf uuuuuau uuuauue, born  december ) is a tunisian-french actor, film director and screenwriter. he made his directorial debut in  with la faute ue voltaire, which he also wrote. his film blue is the warmest colour won the palme d'or at the  cannes film festival.'], dtype='object')"
      ]
     },
     "execution_count": 31,
     "metadata": {},
     "output_type": "execute_result"
    }
   ],
   "source": [
    "data_favorite.columns"
   ]
  },
  {
   "cell_type": "code",
   "execution_count": 32,
   "id": "e61eac58",
   "metadata": {},
   "outputs": [
    {
     "data": {
      "text/plain": [
       "director_name        0\n",
       "ceremony             0\n",
       "year                 0\n",
       "category             1\n",
       "outcome              0\n",
       "original_language    0\n",
       "dtype: int64"
      ]
     },
     "execution_count": 32,
     "metadata": {},
     "output_type": "execute_result"
    }
   ],
   "source": [
    "data_award.isnull().sum()"
   ]
  },
  {
   "cell_type": "code",
   "execution_count": 33,
   "id": "eaf84562",
   "metadata": {
    "scrolled": true
   },
   "outputs": [
    {
     "data": {
      "text/html": [
       "<div>\n",
       "<style scoped>\n",
       "    .dataframe tbody tr th:only-of-type {\n",
       "        vertical-align: middle;\n",
       "    }\n",
       "\n",
       "    .dataframe tbody tr th {\n",
       "        vertical-align: top;\n",
       "    }\n",
       "\n",
       "    .dataframe thead th {\n",
       "        text-align: right;\n",
       "    }\n",
       "</style>\n",
       "<table border=\"1\" class=\"dataframe\">\n",
       "  <thead>\n",
       "    <tr style=\"text-align: right;\">\n",
       "      <th></th>\n",
       "      <th>name</th>\n",
       "      <th>tmdbID</th>\n",
       "      <th>imdbID</th>\n",
       "      <th>Total awards</th>\n",
       "      <th>Academy Fellowship</th>\n",
       "      <th>Academy Fellowship_won</th>\n",
       "      <th>Academy Fellowship_nominated</th>\n",
       "      <th>Gold Hugo</th>\n",
       "      <th>Gold Hugo_won</th>\n",
       "      <th>Gold Hugo_nominated</th>\n",
       "      <th>...</th>\n",
       "      <th>Orpheus Award_nominated</th>\n",
       "      <th>Arte France Cinéma Award</th>\n",
       "      <th>Arte France Cinéma Award_won</th>\n",
       "      <th>Arte France Cinéma Award_nominated</th>\n",
       "      <th>Citizens Award</th>\n",
       "      <th>Citizens Award_won</th>\n",
       "      <th>Citizens Award_nominated</th>\n",
       "      <th>Cowboy Award</th>\n",
       "      <th>Cowboy Award_won</th>\n",
       "      <th>Cowboy Award_nominated</th>\n",
       "    </tr>\n",
       "  </thead>\n",
       "  <tbody>\n",
       "    <tr>\n",
       "      <th>0</th>\n",
       "      <td>Ingmar Bergman</td>\n",
       "      <td>6648</td>\n",
       "      <td>nm0000005</td>\n",
       "      <td>101</td>\n",
       "      <td>1</td>\n",
       "      <td>1</td>\n",
       "      <td>0</td>\n",
       "      <td>2</td>\n",
       "      <td>0</td>\n",
       "      <td>2</td>\n",
       "      <td>...</td>\n",
       "      <td>0</td>\n",
       "      <td>0</td>\n",
       "      <td>0</td>\n",
       "      <td>0</td>\n",
       "      <td>0</td>\n",
       "      <td>0</td>\n",
       "      <td>0</td>\n",
       "      <td>0</td>\n",
       "      <td>0</td>\n",
       "      <td>0</td>\n",
       "    </tr>\n",
       "    <tr>\n",
       "      <th>1</th>\n",
       "      <td>Marlon Brando</td>\n",
       "      <td>3084</td>\n",
       "      <td>nm0000008</td>\n",
       "      <td>58</td>\n",
       "      <td>0</td>\n",
       "      <td>0</td>\n",
       "      <td>0</td>\n",
       "      <td>0</td>\n",
       "      <td>0</td>\n",
       "      <td>0</td>\n",
       "      <td>...</td>\n",
       "      <td>0</td>\n",
       "      <td>0</td>\n",
       "      <td>0</td>\n",
       "      <td>0</td>\n",
       "      <td>0</td>\n",
       "      <td>0</td>\n",
       "      <td>0</td>\n",
       "      <td>0</td>\n",
       "      <td>0</td>\n",
       "      <td>0</td>\n",
       "    </tr>\n",
       "    <tr>\n",
       "      <th>2</th>\n",
       "      <td>Federico Fellini</td>\n",
       "      <td>4415</td>\n",
       "      <td>nm0000019</td>\n",
       "      <td>90</td>\n",
       "      <td>1</td>\n",
       "      <td>1</td>\n",
       "      <td>0</td>\n",
       "      <td>1</td>\n",
       "      <td>0</td>\n",
       "      <td>1</td>\n",
       "      <td>...</td>\n",
       "      <td>0</td>\n",
       "      <td>0</td>\n",
       "      <td>0</td>\n",
       "      <td>0</td>\n",
       "      <td>0</td>\n",
       "      <td>0</td>\n",
       "      <td>0</td>\n",
       "      <td>0</td>\n",
       "      <td>0</td>\n",
       "      <td>0</td>\n",
       "    </tr>\n",
       "    <tr>\n",
       "      <th>3</th>\n",
       "      <td>Alfred Hitchcock</td>\n",
       "      <td>2636</td>\n",
       "      <td>nm0000033</td>\n",
       "      <td>53</td>\n",
       "      <td>1</td>\n",
       "      <td>1</td>\n",
       "      <td>0</td>\n",
       "      <td>0</td>\n",
       "      <td>0</td>\n",
       "      <td>0</td>\n",
       "      <td>...</td>\n",
       "      <td>0</td>\n",
       "      <td>0</td>\n",
       "      <td>0</td>\n",
       "      <td>0</td>\n",
       "      <td>0</td>\n",
       "      <td>0</td>\n",
       "      <td>0</td>\n",
       "      <td>0</td>\n",
       "      <td>0</td>\n",
       "      <td>0</td>\n",
       "    </tr>\n",
       "    <tr>\n",
       "      <th>4</th>\n",
       "      <td>Buster Keaton</td>\n",
       "      <td>8635</td>\n",
       "      <td>nm0000036</td>\n",
       "      <td>5</td>\n",
       "      <td>0</td>\n",
       "      <td>0</td>\n",
       "      <td>0</td>\n",
       "      <td>0</td>\n",
       "      <td>0</td>\n",
       "      <td>0</td>\n",
       "      <td>...</td>\n",
       "      <td>0</td>\n",
       "      <td>0</td>\n",
       "      <td>0</td>\n",
       "      <td>0</td>\n",
       "      <td>0</td>\n",
       "      <td>0</td>\n",
       "      <td>0</td>\n",
       "      <td>0</td>\n",
       "      <td>0</td>\n",
       "      <td>0</td>\n",
       "    </tr>\n",
       "  </tbody>\n",
       "</table>\n",
       "<p>5 rows × 6676 columns</p>\n",
       "</div>"
      ],
      "text/plain": [
       "               name  tmdbID     imdbID  Total awards  Academy Fellowship  \\\n",
       "0    Ingmar Bergman    6648  nm0000005           101                   1   \n",
       "1     Marlon Brando    3084  nm0000008            58                   0   \n",
       "2  Federico Fellini    4415  nm0000019            90                   1   \n",
       "3  Alfred Hitchcock    2636  nm0000033            53                   1   \n",
       "4     Buster Keaton    8635  nm0000036             5                   0   \n",
       "\n",
       "   Academy Fellowship_won  Academy Fellowship_nominated  Gold Hugo  \\\n",
       "0                       1                             0          2   \n",
       "1                       0                             0          0   \n",
       "2                       1                             0          1   \n",
       "3                       1                             0          0   \n",
       "4                       0                             0          0   \n",
       "\n",
       "   Gold Hugo_won  Gold Hugo_nominated  ...  Orpheus Award_nominated  \\\n",
       "0              0                    2  ...                        0   \n",
       "1              0                    0  ...                        0   \n",
       "2              0                    1  ...                        0   \n",
       "3              0                    0  ...                        0   \n",
       "4              0                    0  ...                        0   \n",
       "\n",
       "   Arte France Cinéma Award  Arte France Cinéma Award_won  \\\n",
       "0                         0                             0   \n",
       "1                         0                             0   \n",
       "2                         0                             0   \n",
       "3                         0                             0   \n",
       "4                         0                             0   \n",
       "\n",
       "   Arte France Cinéma Award_nominated  Citizens Award  Citizens Award_won  \\\n",
       "0                                   0               0                   0   \n",
       "1                                   0               0                   0   \n",
       "2                                   0               0                   0   \n",
       "3                                   0               0                   0   \n",
       "4                                   0               0                   0   \n",
       "\n",
       "   Citizens Award_nominated  Cowboy Award  Cowboy Award_won  \\\n",
       "0                         0             0                 0   \n",
       "1                         0             0                 0   \n",
       "2                         0             0                 0   \n",
       "3                         0             0                 0   \n",
       "4                         0             0                 0   \n",
       "\n",
       "   Cowboy Award_nominated  \n",
       "0                       0  \n",
       "1                       0  \n",
       "2                       0  \n",
       "3                       0  \n",
       "4                       0  \n",
       "\n",
       "[5 rows x 6676 columns]"
      ]
     },
     "execution_count": 33,
     "metadata": {},
     "output_type": "execute_result"
    }
   ],
   "source": [
    "# Import data '900_acclaimed_directors_awards'\n",
    "\n",
    "path = '/home/abeljiang2/code/final_project/data-movie-revenue-prediction/data/'\n",
    "file_name = '900_acclaimed_directors_awards.csv'\n",
    "data_acclaimed = pd.read_csv(f\"{path}{file_name}\", delimiter=';')\n",
    "data_acclaimed.head()\n"
   ]
  },
  {
   "cell_type": "code",
   "execution_count": 38,
   "id": "4cdc9f19",
   "metadata": {
    "scrolled": true
   },
   "outputs": [
    {
     "data": {
      "text/plain": [
       "Index(['name', 'tmdbID', 'imdbID', 'Total awards', 'Academy Fellowship',\n",
       "       'Academy Fellowship_won', 'Academy Fellowship_nominated', 'Gold Hugo',\n",
       "       'Gold Hugo_won', 'Gold Hugo_nominated',\n",
       "       ...\n",
       "       'Orpheus Award_nominated', 'Arte France Cinéma Award',\n",
       "       'Arte France Cinéma Award_won', 'Arte France Cinéma Award_nominated',\n",
       "       'Citizens Award', 'Citizens Award_won', 'Citizens Award_nominated',\n",
       "       'Cowboy Award', 'Cowboy Award_won', 'Cowboy Award_nominated'],\n",
       "      dtype='object', length=6676)"
      ]
     },
     "execution_count": 38,
     "metadata": {},
     "output_type": "execute_result"
    }
   ],
   "source": [
    "data_acclaimed.columns"
   ]
  },
  {
   "cell_type": "code",
   "execution_count": 35,
   "id": "d3588ea0",
   "metadata": {},
   "outputs": [
    {
     "data": {
      "text/plain": [
       "(893, 6676)"
      ]
     },
     "execution_count": 35,
     "metadata": {},
     "output_type": "execute_result"
    }
   ],
   "source": [
    "data_acclaimed.shape"
   ]
  },
  {
   "cell_type": "code",
   "execution_count": 36,
   "id": "3a5d7560",
   "metadata": {},
   "outputs": [
    {
     "data": {
      "text/plain": [
       "director_name        0\n",
       "ceremony             0\n",
       "year                 0\n",
       "category             1\n",
       "outcome              0\n",
       "original_language    0\n",
       "dtype: int64"
      ]
     },
     "execution_count": 36,
     "metadata": {},
     "output_type": "execute_result"
    }
   ],
   "source": [
    "data_award.isnull().sum()"
   ]
  },
  {
   "cell_type": "code",
   "execution_count": 39,
   "id": "1e9b8e8f",
   "metadata": {},
   "outputs": [
    {
     "data": {
      "text/html": [
       "<div>\n",
       "<style scoped>\n",
       "    .dataframe tbody tr th:only-of-type {\n",
       "        vertical-align: middle;\n",
       "    }\n",
       "\n",
       "    .dataframe tbody tr th {\n",
       "        vertical-align: top;\n",
       "    }\n",
       "\n",
       "    .dataframe thead th {\n",
       "        text-align: right;\n",
       "    }\n",
       "</style>\n",
       "<table border=\"1\" class=\"dataframe\">\n",
       "  <thead>\n",
       "    <tr style=\"text-align: right;\">\n",
       "      <th></th>\n",
       "      <th>Language</th>\n",
       "      <th>Country</th>\n",
       "    </tr>\n",
       "  </thead>\n",
       "  <tbody>\n",
       "    <tr>\n",
       "      <th>0</th>\n",
       "      <td>fi</td>\n",
       "      <td>FIN</td>\n",
       "    </tr>\n",
       "    <tr>\n",
       "      <th>1</th>\n",
       "      <td>en</td>\n",
       "      <td>USA</td>\n",
       "    </tr>\n",
       "    <tr>\n",
       "      <th>2</th>\n",
       "      <td>de</td>\n",
       "      <td>GER</td>\n",
       "    </tr>\n",
       "    <tr>\n",
       "      <th>3</th>\n",
       "      <td>da</td>\n",
       "      <td>DNK</td>\n",
       "    </tr>\n",
       "    <tr>\n",
       "      <th>4</th>\n",
       "      <td>he</td>\n",
       "      <td>ISR</td>\n",
       "    </tr>\n",
       "  </tbody>\n",
       "</table>\n",
       "</div>"
      ],
      "text/plain": [
       "  Language Country\n",
       "0       fi     FIN\n",
       "1       en     USA\n",
       "2       de     GER\n",
       "3       da     DNK\n",
       "4       he     ISR"
      ]
     },
     "execution_count": 39,
     "metadata": {},
     "output_type": "execute_result"
    }
   ],
   "source": [
    "# Import data 'language to country'\n",
    "\n",
    "path = '/home/abeljiang2/code/final_project/data-movie-revenue-prediction/data/'\n",
    "file_name = 'language to country.csv'\n",
    "data_language = pd.read_csv(f\"{path}{file_name}\", delimiter=';')\n",
    "data_language.head()"
   ]
  },
  {
   "cell_type": "code",
   "execution_count": 40,
   "id": "33886434",
   "metadata": {},
   "outputs": [
    {
     "data": {
      "text/plain": [
       "Index(['Language', 'Country'], dtype='object')"
      ]
     },
     "execution_count": 40,
     "metadata": {},
     "output_type": "execute_result"
    }
   ],
   "source": [
    "data_language.columns"
   ]
  },
  {
   "cell_type": "code",
   "execution_count": 41,
   "id": "99d3e950",
   "metadata": {},
   "outputs": [
    {
     "data": {
      "text/plain": [
       "(93, 2)"
      ]
     },
     "execution_count": 41,
     "metadata": {},
     "output_type": "execute_result"
    }
   ],
   "source": [
    "data_language.shape"
   ]
  },
  {
   "cell_type": "code",
   "execution_count": 42,
   "id": "40e443ba",
   "metadata": {},
   "outputs": [
    {
     "data": {
      "text/plain": [
       "Language    0\n",
       "Country     0\n",
       "dtype: int64"
      ]
     },
     "execution_count": 42,
     "metadata": {},
     "output_type": "execute_result"
    }
   ],
   "source": [
    "data_language.isnull().sum()"
   ]
  },
  {
   "cell_type": "code",
   "execution_count": 44,
   "id": "8ef7db72",
   "metadata": {},
   "outputs": [
    {
     "data": {
      "text/html": [
       "<div>\n",
       "<style scoped>\n",
       "    .dataframe tbody tr th:only-of-type {\n",
       "        vertical-align: middle;\n",
       "    }\n",
       "\n",
       "    .dataframe tbody tr th {\n",
       "        vertical-align: top;\n",
       "    }\n",
       "\n",
       "    .dataframe thead th {\n",
       "        text-align: right;\n",
       "    }\n",
       "</style>\n",
       "<table border=\"1\" class=\"dataframe\">\n",
       "  <thead>\n",
       "    <tr style=\"text-align: right;\">\n",
       "      <th></th>\n",
       "      <th>director_name</th>\n",
       "      <th>original_language</th>\n",
       "      <th>nb</th>\n",
       "    </tr>\n",
       "  </thead>\n",
       "  <tbody>\n",
       "    <tr>\n",
       "      <th>0</th>\n",
       "      <td>\\tCheung Chi-Sing</td>\n",
       "      <td>en</td>\n",
       "      <td>4</td>\n",
       "    </tr>\n",
       "    <tr>\n",
       "      <th>1</th>\n",
       "      <td>\\tRaymond Fung Sai-Hung</td>\n",
       "      <td>cn</td>\n",
       "      <td>1</td>\n",
       "    </tr>\n",
       "    <tr>\n",
       "      <th>2</th>\n",
       "      <td>\\tHuang Jian-Zhong</td>\n",
       "      <td>zh</td>\n",
       "      <td>3</td>\n",
       "    </tr>\n",
       "    <tr>\n",
       "      <th>3</th>\n",
       "      <td>\\tZhang Jing</td>\n",
       "      <td>zh</td>\n",
       "      <td>2</td>\n",
       "    </tr>\n",
       "    <tr>\n",
       "      <th>4</th>\n",
       "      <td>Faris Kermani</td>\n",
       "      <td>en</td>\n",
       "      <td>2</td>\n",
       "    </tr>\n",
       "  </tbody>\n",
       "</table>\n",
       "</div>"
      ],
      "text/plain": [
       "             director_name original_language  nb\n",
       "0        \\tCheung Chi-Sing                en   4\n",
       "1  \\tRaymond Fung Sai-Hung                cn   1\n",
       "2       \\tHuang Jian-Zhong                zh   3\n",
       "3             \\tZhang Jing                zh   2\n",
       "4           Faris Kermani                 en   2"
      ]
     },
     "execution_count": 44,
     "metadata": {},
     "output_type": "execute_result"
    }
   ],
   "source": [
    "# Import data 'MostCommonLanguageByDirector'\n",
    "\n",
    "path = '/home/abeljiang2/code/final_project/data-movie-revenue-prediction/data/'\n",
    "file_name = 'MostCommonLanguageByDirector.csv'\n",
    "data_mostcommon = pd.read_csv(f\"{path}{file_name}\", delimiter=',')\n",
    "data_mostcommon.head()"
   ]
  },
  {
   "cell_type": "code",
   "execution_count": 45,
   "id": "2ccfcc4c",
   "metadata": {},
   "outputs": [
    {
     "data": {
      "text/plain": [
       "Index(['director_name', 'original_language', 'nb'], dtype='object')"
      ]
     },
     "execution_count": 45,
     "metadata": {},
     "output_type": "execute_result"
    }
   ],
   "source": [
    "data_mostcommon.columns"
   ]
  },
  {
   "cell_type": "code",
   "execution_count": 46,
   "id": "ac0bedc5",
   "metadata": {},
   "outputs": [
    {
     "data": {
      "text/plain": [
       "(85881, 3)"
      ]
     },
     "execution_count": 46,
     "metadata": {},
     "output_type": "execute_result"
    }
   ],
   "source": [
    "data_mostcommon.shape"
   ]
  },
  {
   "cell_type": "code",
   "execution_count": 47,
   "id": "124c9fb4",
   "metadata": {},
   "outputs": [
    {
     "data": {
      "text/plain": [
       "director_name        0\n",
       "original_language    0\n",
       "nb                   0\n",
       "dtype: int64"
      ]
     },
     "execution_count": 47,
     "metadata": {},
     "output_type": "execute_result"
    }
   ],
   "source": [
    "data_mostcommon.isnull().sum()"
   ]
  },
  {
   "cell_type": "code",
   "execution_count": 56,
   "id": "47af27bd",
   "metadata": {},
   "outputs": [
    {
     "data": {
      "text/html": [
       "<div>\n",
       "<style scoped>\n",
       "    .dataframe tbody tr th:only-of-type {\n",
       "        vertical-align: middle;\n",
       "    }\n",
       "\n",
       "    .dataframe tbody tr th {\n",
       "        vertical-align: top;\n",
       "    }\n",
       "\n",
       "    .dataframe thead th {\n",
       "        text-align: right;\n",
       "    }\n",
       "</style>\n",
       "<table border=\"1\" class=\"dataframe\">\n",
       "  <thead>\n",
       "    <tr style=\"text-align: right;\">\n",
       "      <th></th>\n",
       "      <th>Unnamed: 0</th>\n",
       "      <th>name</th>\n",
       "      <th>ceremony</th>\n",
       "      <th>year</th>\n",
       "      <th>category</th>\n",
       "      <th>outcome</th>\n",
       "      <th>simplified_outcome</th>\n",
       "    </tr>\n",
       "  </thead>\n",
       "  <tbody>\n",
       "    <tr>\n",
       "      <th>0</th>\n",
       "      <td>1</td>\n",
       "      <td>steven spielberg</td>\n",
       "      <td>Academy Awards, USA</td>\n",
       "      <td>2016</td>\n",
       "      <td>Oscar</td>\n",
       "      <td>Nominated</td>\n",
       "      <td>Nominated</td>\n",
       "    </tr>\n",
       "    <tr>\n",
       "      <th>1</th>\n",
       "      <td>2</td>\n",
       "      <td>steven spielberg</td>\n",
       "      <td>Academy Awards, USA</td>\n",
       "      <td>2013</td>\n",
       "      <td>Oscar</td>\n",
       "      <td>Nominated</td>\n",
       "      <td>Nominated</td>\n",
       "    </tr>\n",
       "    <tr>\n",
       "      <th>2</th>\n",
       "      <td>3</td>\n",
       "      <td>steven spielberg</td>\n",
       "      <td>Academy Awards, USA</td>\n",
       "      <td>2012</td>\n",
       "      <td>Oscar</td>\n",
       "      <td>Nominated</td>\n",
       "      <td>Nominated</td>\n",
       "    </tr>\n",
       "    <tr>\n",
       "      <th>3</th>\n",
       "      <td>4</td>\n",
       "      <td>steven spielberg</td>\n",
       "      <td>Academy Awards, USA</td>\n",
       "      <td>2007</td>\n",
       "      <td>Oscar</td>\n",
       "      <td>Nominated</td>\n",
       "      <td>Nominated</td>\n",
       "    </tr>\n",
       "    <tr>\n",
       "      <th>4</th>\n",
       "      <td>5</td>\n",
       "      <td>steven spielberg</td>\n",
       "      <td>Academy Awards, USA</td>\n",
       "      <td>2006</td>\n",
       "      <td>Oscar</td>\n",
       "      <td>Nominated</td>\n",
       "      <td>Nominated</td>\n",
       "    </tr>\n",
       "  </tbody>\n",
       "</table>\n",
       "</div>"
      ],
      "text/plain": [
       "   Unnamed: 0              name             ceremony  year category  \\\n",
       "0           1  steven spielberg  Academy Awards, USA  2016    Oscar   \n",
       "1           2  steven spielberg  Academy Awards, USA  2013    Oscar   \n",
       "2           3  steven spielberg  Academy Awards, USA  2012    Oscar   \n",
       "3           4  steven spielberg  Academy Awards, USA  2007    Oscar   \n",
       "4           5  steven spielberg  Academy Awards, USA  2006    Oscar   \n",
       "\n",
       "     outcome simplified_outcome  \n",
       "0  Nominated          Nominated  \n",
       "1  Nominated          Nominated  \n",
       "2  Nominated          Nominated  \n",
       "3  Nominated          Nominated  \n",
       "4  Nominated          Nominated  "
      ]
     },
     "execution_count": 56,
     "metadata": {},
     "output_type": "execute_result"
    }
   ],
   "source": [
    "# Import data 'spielberg_awards'\n",
    "\n",
    "path = '/home/abeljiang2/code/final_project/data-movie-revenue-prediction/data/'\n",
    "file_name = 'spielberg_awards.csv'\n",
    "data_spielberg = pd.read_csv(f\"{path}{file_name}\",encoding = \"ISO-8859-1\")\n",
    "data_spielberg.head()"
   ]
  },
  {
   "cell_type": "code",
   "execution_count": 57,
   "id": "4c187698",
   "metadata": {},
   "outputs": [
    {
     "data": {
      "text/plain": [
       "Index(['Unnamed: 0', 'name', 'ceremony', 'year', 'category', 'outcome',\n",
       "       'simplified_outcome'],\n",
       "      dtype='object')"
      ]
     },
     "execution_count": 57,
     "metadata": {},
     "output_type": "execute_result"
    }
   ],
   "source": [
    "data_spielberg.columns"
   ]
  },
  {
   "cell_type": "code",
   "execution_count": 58,
   "id": "8ff8805a",
   "metadata": {},
   "outputs": [
    {
     "data": {
      "text/plain": [
       "(331, 7)"
      ]
     },
     "execution_count": 58,
     "metadata": {},
     "output_type": "execute_result"
    }
   ],
   "source": [
    "data_spielberg.shape"
   ]
  },
  {
   "cell_type": "code",
   "execution_count": 59,
   "id": "1836f0ce",
   "metadata": {},
   "outputs": [
    {
     "data": {
      "text/plain": [
       "Unnamed: 0            0\n",
       "name                  0\n",
       "ceremony              0\n",
       "year                  0\n",
       "category              0\n",
       "outcome               0\n",
       "simplified_outcome    0\n",
       "dtype: int64"
      ]
     },
     "execution_count": 59,
     "metadata": {},
     "output_type": "execute_result"
    }
   ],
   "source": [
    "data_spielberg.isnull().sum()"
   ]
  },
  {
   "cell_type": "code",
   "execution_count": null,
   "id": "63ae94e2",
   "metadata": {},
   "outputs": [],
   "source": []
  }
 ],
 "metadata": {
  "kernelspec": {
   "display_name": "Python 3 (ipykernel)",
   "language": "python",
   "name": "python3"
  },
  "language_info": {
   "codemirror_mode": {
    "name": "ipython",
    "version": 3
   },
   "file_extension": ".py",
   "mimetype": "text/x-python",
   "name": "python",
   "nbconvert_exporter": "python",
   "pygments_lexer": "ipython3",
   "version": "3.8.12"
  }
 },
 "nbformat": 4,
 "nbformat_minor": 5
}
