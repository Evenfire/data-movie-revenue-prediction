{
 "cells": [
  {
   "cell_type": "code",
   "execution_count": 27,
   "id": "0df57ce0",
   "metadata": {},
   "outputs": [
    {
     "name": "stdout",
     "output_type": "stream",
     "text": [
      "The autoreload extension is already loaded. To reload it, use:\n",
      "  %reload_ext autoreload\n"
     ]
    }
   ],
   "source": [
    "%load_ext autoreload\n",
    "%autoreload 2"
   ]
  },
  {
   "cell_type": "code",
   "execution_count": 99,
   "id": "66abc19b",
   "metadata": {},
   "outputs": [],
   "source": [
    "from sklearn.pipeline import Pipeline\n",
    "import pandas as pd\n",
    "import matplotlib.pyplot as plt\n",
    "import numpy as np\n",
    "from sklearn.model_selection import train_test_split\n",
    "from python_files.fetch_missing_data import fetch_missing_data\n",
    "from sklearn.preprocessing import StandardScaler,MinMaxScaler,RobustScaler\n",
    "from sklearn.impute import SimpleImputer\n",
    "from sklearn.dummy import DummyRegressor\n",
    "from python_files.data import GetData\n",
    "from python_files.basic_preprocessing import BasicPreprocessing\n",
    "from sklearn.preprocessing import OneHotEncoder\n",
    "from sklearn.compose import ColumnTransformer\n",
    "import seaborn as sns\n",
    "import datetime\n",
    "from sklearn.linear_model import LogisticRegression\n",
    "from sklearn.model_selection import cross_val_score\n",
    "from sklearn.linear_model import LinearRegression\n",
    "from sklearn.pipeline import Pipeline\n",
    "from sklearn.compose import ColumnTransformer"
   ]
  },
  {
   "cell_type": "markdown",
   "id": "37ddd0a7",
   "metadata": {},
   "source": [
    "# Check missing data"
   ]
  },
  {
   "cell_type": "code",
   "execution_count": 29,
   "id": "37a9844f",
   "metadata": {},
   "outputs": [
    {
     "data": {
      "text/html": [
       "<div>\n",
       "<style scoped>\n",
       "    .dataframe tbody tr th:only-of-type {\n",
       "        vertical-align: middle;\n",
       "    }\n",
       "\n",
       "    .dataframe tbody tr th {\n",
       "        vertical-align: top;\n",
       "    }\n",
       "\n",
       "    .dataframe thead th {\n",
       "        text-align: right;\n",
       "    }\n",
       "</style>\n",
       "<table border=\"1\" class=\"dataframe\">\n",
       "  <thead>\n",
       "    <tr style=\"text-align: right;\">\n",
       "      <th></th>\n",
       "      <th>id</th>\n",
       "      <th>budget</th>\n",
       "      <th>genres</th>\n",
       "      <th>imdb_id</th>\n",
       "      <th>original_language</th>\n",
       "      <th>production_companies</th>\n",
       "      <th>production_countries</th>\n",
       "      <th>release_date</th>\n",
       "      <th>revenue</th>\n",
       "      <th>runtime</th>\n",
       "      <th>...</th>\n",
       "      <th>actor5_name</th>\n",
       "      <th>actor5_gender</th>\n",
       "      <th>actor_number</th>\n",
       "      <th>director_name</th>\n",
       "      <th>director_gender</th>\n",
       "      <th>director_number</th>\n",
       "      <th>producer_name</th>\n",
       "      <th>producer_number</th>\n",
       "      <th>screeplay_name</th>\n",
       "      <th>editor_name</th>\n",
       "    </tr>\n",
       "  </thead>\n",
       "  <tbody>\n",
       "    <tr>\n",
       "      <th>0</th>\n",
       "      <td>5</td>\n",
       "      <td>4000000</td>\n",
       "      <td>Crime|Comedy</td>\n",
       "      <td>tt0113101</td>\n",
       "      <td>en</td>\n",
       "      <td>Miramax Films</td>\n",
       "      <td>United States of America</td>\n",
       "      <td>25-12-1995</td>\n",
       "      <td>4300000</td>\n",
       "      <td>98.0</td>\n",
       "      <td>...</td>\n",
       "      <td>Marisa Tomei</td>\n",
       "      <td>1</td>\n",
       "      <td>24</td>\n",
       "      <td>Allison Anders</td>\n",
       "      <td>1.0</td>\n",
       "      <td>4</td>\n",
       "      <td>Lawrence Bender</td>\n",
       "      <td>1</td>\n",
       "      <td>none</td>\n",
       "      <td>Margaret Goodspeed</td>\n",
       "    </tr>\n",
       "    <tr>\n",
       "      <th>1</th>\n",
       "      <td>9</td>\n",
       "      <td>4000000</td>\n",
       "      <td>Drama</td>\n",
       "      <td>tt0425473</td>\n",
       "      <td>de</td>\n",
       "      <td>none</td>\n",
       "      <td>Germany</td>\n",
       "      <td>02-09-2004</td>\n",
       "      <td>4257354</td>\n",
       "      <td>15.0</td>\n",
       "      <td>...</td>\n",
       "      <td>none</td>\n",
       "      <td>0</td>\n",
       "      <td>2</td>\n",
       "      <td>Marc Meyer</td>\n",
       "      <td>0.0</td>\n",
       "      <td>2</td>\n",
       "      <td>Marc Meyer</td>\n",
       "      <td>1</td>\n",
       "      <td>none</td>\n",
       "      <td>Marc Meyer</td>\n",
       "    </tr>\n",
       "    <tr>\n",
       "      <th>2</th>\n",
       "      <td>11</td>\n",
       "      <td>11000000</td>\n",
       "      <td>Adventure|Action|Science Fiction</td>\n",
       "      <td>tt0076759</td>\n",
       "      <td>en</td>\n",
       "      <td>Lucasfilm</td>\n",
       "      <td>United States of America</td>\n",
       "      <td>25-05-1977</td>\n",
       "      <td>775398007</td>\n",
       "      <td>121.0</td>\n",
       "      <td>...</td>\n",
       "      <td>Alec Guinness</td>\n",
       "      <td>2</td>\n",
       "      <td>106</td>\n",
       "      <td>George Lucas</td>\n",
       "      <td>2.0</td>\n",
       "      <td>1</td>\n",
       "      <td>Gary Kurtz</td>\n",
       "      <td>2</td>\n",
       "      <td>none</td>\n",
       "      <td>Marcia Lucas</td>\n",
       "    </tr>\n",
       "    <tr>\n",
       "      <th>3</th>\n",
       "      <td>12</td>\n",
       "      <td>94000000</td>\n",
       "      <td>Animation|Family</td>\n",
       "      <td>tt0266543</td>\n",
       "      <td>en</td>\n",
       "      <td>Pixar Animation Studios</td>\n",
       "      <td>United States of America</td>\n",
       "      <td>30-05-2003</td>\n",
       "      <td>940335536</td>\n",
       "      <td>100.0</td>\n",
       "      <td>...</td>\n",
       "      <td>Brad Garrett</td>\n",
       "      <td>2</td>\n",
       "      <td>24</td>\n",
       "      <td>Andrew Stanton</td>\n",
       "      <td>2.0</td>\n",
       "      <td>1</td>\n",
       "      <td>Graham Walters</td>\n",
       "      <td>1</td>\n",
       "      <td>Andrew Stanton</td>\n",
       "      <td>David Ian Salter</td>\n",
       "    </tr>\n",
       "    <tr>\n",
       "      <th>4</th>\n",
       "      <td>13</td>\n",
       "      <td>55000000</td>\n",
       "      <td>Comedy|Drama|Romance</td>\n",
       "      <td>tt0109830</td>\n",
       "      <td>en</td>\n",
       "      <td>Paramount Pictures</td>\n",
       "      <td>United States of America</td>\n",
       "      <td>06-07-1994</td>\n",
       "      <td>677945399</td>\n",
       "      <td>142.0</td>\n",
       "      <td>...</td>\n",
       "      <td>Sally Field</td>\n",
       "      <td>1</td>\n",
       "      <td>67</td>\n",
       "      <td>Robert Zemeckis</td>\n",
       "      <td>2.0</td>\n",
       "      <td>1</td>\n",
       "      <td>Wendy Finerman</td>\n",
       "      <td>3</td>\n",
       "      <td>Eric Roth</td>\n",
       "      <td>Arthur Schmidt</td>\n",
       "    </tr>\n",
       "  </tbody>\n",
       "</table>\n",
       "<p>5 rows × 35 columns</p>\n",
       "</div>"
      ],
      "text/plain": [
       "   id    budget                            genres    imdb_id  \\\n",
       "0   5   4000000                      Crime|Comedy  tt0113101   \n",
       "1   9   4000000                             Drama  tt0425473   \n",
       "2  11  11000000  Adventure|Action|Science Fiction  tt0076759   \n",
       "3  12  94000000                  Animation|Family  tt0266543   \n",
       "4  13  55000000              Comedy|Drama|Romance  tt0109830   \n",
       "\n",
       "  original_language     production_companies      production_countries  \\\n",
       "0                en            Miramax Films  United States of America   \n",
       "1                de                     none                   Germany   \n",
       "2                en                Lucasfilm  United States of America   \n",
       "3                en  Pixar Animation Studios  United States of America   \n",
       "4                en       Paramount Pictures  United States of America   \n",
       "\n",
       "  release_date    revenue  runtime  ...    actor5_name actor5_gender  \\\n",
       "0   25-12-1995    4300000     98.0  ...   Marisa Tomei             1   \n",
       "1   02-09-2004    4257354     15.0  ...           none             0   \n",
       "2   25-05-1977  775398007    121.0  ...  Alec Guinness             2   \n",
       "3   30-05-2003  940335536    100.0  ...   Brad Garrett             2   \n",
       "4   06-07-1994  677945399    142.0  ...    Sally Field             1   \n",
       "\n",
       "  actor_number    director_name  director_gender  director_number  \\\n",
       "0           24   Allison Anders              1.0                4   \n",
       "1            2       Marc Meyer              0.0                2   \n",
       "2          106     George Lucas              2.0                1   \n",
       "3           24   Andrew Stanton              2.0                1   \n",
       "4           67  Robert Zemeckis              2.0                1   \n",
       "\n",
       "     producer_name producer_number  screeplay_name         editor_name  \n",
       "0  Lawrence Bender               1            none  Margaret Goodspeed  \n",
       "1       Marc Meyer               1            none          Marc Meyer  \n",
       "2       Gary Kurtz               2            none        Marcia Lucas  \n",
       "3   Graham Walters               1  Andrew Stanton    David Ian Salter  \n",
       "4   Wendy Finerman               3       Eric Roth      Arthur Schmidt  \n",
       "\n",
       "[5 rows x 35 columns]"
      ]
     },
     "execution_count": 29,
     "metadata": {},
     "output_type": "execute_result"
    }
   ],
   "source": [
    "data = GetData().get_data()['AllDataMerged_updated']\n",
    "data.head()"
   ]
  },
  {
   "cell_type": "code",
   "execution_count": 30,
   "id": "265652c0",
   "metadata": {},
   "outputs": [
    {
     "data": {
      "text/plain": [
       "(8939, 35)"
      ]
     },
     "execution_count": 30,
     "metadata": {},
     "output_type": "execute_result"
    }
   ],
   "source": [
    "data.shape"
   ]
  },
  {
   "cell_type": "code",
   "execution_count": 31,
   "id": "76e29a4f",
   "metadata": {},
   "outputs": [
    {
     "data": {
      "text/plain": [
       "id                                0\n",
       "budget                            0\n",
       "genres                          246\n",
       "imdb_id                         227\n",
       "original_language                 1\n",
       "production_companies              0\n",
       "production_countries              0\n",
       "release_date                     21\n",
       "revenue                           0\n",
       "runtime                          26\n",
       "spoken_languages                 83\n",
       "status                            0\n",
       "title                             0\n",
       "production_companies_number       0\n",
       "production_countries_number       0\n",
       "spoken_languages_number           0\n",
       "belongs_to_collection          7467\n",
       "actor1_name                       0\n",
       "actor1_gender                     0\n",
       "actor2_name                       0\n",
       "actor2_gender                     0\n",
       "actor3_name                       0\n",
       "actor3_gender                     0\n",
       "actor4_name                       0\n",
       "actor4_gender                     0\n",
       "actor5_name                       0\n",
       "actor5_gender                     0\n",
       "actor_number                      0\n",
       "director_name                     0\n",
       "director_gender                   0\n",
       "director_number                   0\n",
       "producer_name                     0\n",
       "producer_number                   0\n",
       "screeplay_name                    0\n",
       "editor_name                       0\n",
       "dtype: int64"
      ]
     },
     "execution_count": 31,
     "metadata": {},
     "output_type": "execute_result"
    }
   ],
   "source": [
    "data.isnull().sum()"
   ]
  },
  {
   "cell_type": "code",
   "execution_count": 32,
   "id": "b2695afd",
   "metadata": {},
   "outputs": [
    {
     "data": {
      "text/plain": [
       "id                               int64\n",
       "budget                           int64\n",
       "genres                          object\n",
       "imdb_id                         object\n",
       "original_language               object\n",
       "production_companies            object\n",
       "production_countries            object\n",
       "release_date                    object\n",
       "revenue                          int64\n",
       "runtime                        float64\n",
       "spoken_languages                object\n",
       "status                          object\n",
       "title                           object\n",
       "production_companies_number      int64\n",
       "production_countries_number      int64\n",
       "spoken_languages_number          int64\n",
       "belongs_to_collection           object\n",
       "actor1_name                     object\n",
       "actor1_gender                    int64\n",
       "actor2_name                     object\n",
       "actor2_gender                  float64\n",
       "actor3_name                     object\n",
       "actor3_gender                    int64\n",
       "actor4_name                     object\n",
       "actor4_gender                    int64\n",
       "actor5_name                     object\n",
       "actor5_gender                    int64\n",
       "actor_number                     int64\n",
       "director_name                   object\n",
       "director_gender                float64\n",
       "director_number                  int64\n",
       "producer_name                   object\n",
       "producer_number                  int64\n",
       "screeplay_name                  object\n",
       "editor_name                     object\n",
       "dtype: object"
      ]
     },
     "execution_count": 32,
     "metadata": {},
     "output_type": "execute_result"
    }
   ],
   "source": [
    "data.dtypes"
   ]
  },
  {
   "cell_type": "code",
   "execution_count": 33,
   "id": "c3b9742a",
   "metadata": {},
   "outputs": [
    {
     "data": {
      "text/plain": [
       "id                             8939\n",
       "budget                          917\n",
       "genres                         1689\n",
       "imdb_id                        8712\n",
       "original_language                56\n",
       "production_companies           2677\n",
       "production_countries             89\n",
       "release_date                   5685\n",
       "revenue                        6333\n",
       "runtime                         229\n",
       "spoken_languages                 60\n",
       "status                            1\n",
       "title                          8735\n",
       "production_companies_number      23\n",
       "production_countries_number      11\n",
       "spoken_languages_number          10\n",
       "belongs_to_collection           812\n",
       "actor1_name                    4117\n",
       "actor1_gender                     3\n",
       "actor2_name                    5333\n",
       "actor2_gender                     3\n",
       "actor3_name                    5952\n",
       "actor3_gender                     3\n",
       "actor4_name                    6248\n",
       "actor4_gender                     3\n",
       "actor5_name                    6329\n",
       "actor5_gender                     3\n",
       "actor_number                    142\n",
       "director_name                  4564\n",
       "director_gender                   3\n",
       "director_number                  12\n",
       "producer_name                  3310\n",
       "producer_number                  14\n",
       "screeplay_name                 2979\n",
       "editor_name                    2152\n",
       "dtype: int64"
      ]
     },
     "execution_count": 33,
     "metadata": {},
     "output_type": "execute_result"
    }
   ],
   "source": [
    "data.nunique()"
   ]
  },
  {
   "cell_type": "code",
   "execution_count": 34,
   "id": "0067a4c4",
   "metadata": {},
   "outputs": [
    {
     "data": {
      "text/plain": [
       "none                 628\n",
       "Nicolas Cage          36\n",
       "Bruce Willis          33\n",
       "Robert De Niro        33\n",
       "Johnny Depp           33\n",
       "                    ... \n",
       "Thomas Gibson          1\n",
       "Iaia Forte             1\n",
       "Heinrich Ebber         1\n",
       "Aileen Quinn           1\n",
       "Mustafa Burmawala      1\n",
       "Name: actor1_name, Length: 4117, dtype: int64"
      ]
     },
     "execution_count": 34,
     "metadata": {},
     "output_type": "execute_result"
    }
   ],
   "source": [
    "data['actor1_name'].value_counts()"
   ]
  },
  {
   "cell_type": "code",
   "execution_count": 35,
   "id": "799b64e8",
   "metadata": {},
   "outputs": [
    {
     "data": {
      "text/plain": [
       "2    5419\n",
       "1    1780\n",
       "0    1740\n",
       "Name: actor1_gender, dtype: int64"
      ]
     },
     "execution_count": 35,
     "metadata": {},
     "output_type": "execute_result"
    }
   ],
   "source": [
    "data['actor1_gender'].value_counts()"
   ]
  },
  {
   "cell_type": "code",
   "execution_count": 9,
   "id": "2e0bfc8c",
   "metadata": {},
   "outputs": [
    {
     "data": {
      "text/html": [
       "<div>\n",
       "<style scoped>\n",
       "    .dataframe tbody tr th:only-of-type {\n",
       "        vertical-align: middle;\n",
       "    }\n",
       "\n",
       "    .dataframe tbody tr th {\n",
       "        vertical-align: top;\n",
       "    }\n",
       "\n",
       "    .dataframe thead th {\n",
       "        text-align: right;\n",
       "    }\n",
       "</style>\n",
       "<table border=\"1\" class=\"dataframe\">\n",
       "  <thead>\n",
       "    <tr style=\"text-align: right;\">\n",
       "      <th></th>\n",
       "      <th>id</th>\n",
       "      <th>budget</th>\n",
       "      <th>revenue</th>\n",
       "      <th>runtime</th>\n",
       "      <th>production_companies_number</th>\n",
       "      <th>production_countries_number</th>\n",
       "      <th>spoken_languages_number</th>\n",
       "      <th>actor1_gender</th>\n",
       "      <th>actor2_gender</th>\n",
       "      <th>actor3_gender</th>\n",
       "      <th>actor4_gender</th>\n",
       "      <th>actor5_gender</th>\n",
       "      <th>actor_number</th>\n",
       "      <th>director_gender</th>\n",
       "      <th>director_number</th>\n",
       "      <th>producer_number</th>\n",
       "    </tr>\n",
       "  </thead>\n",
       "  <tbody>\n",
       "    <tr>\n",
       "      <th>count</th>\n",
       "      <td>8939.000000</td>\n",
       "      <td>8.939000e+03</td>\n",
       "      <td>8.939000e+03</td>\n",
       "      <td>8913.000000</td>\n",
       "      <td>8939.000000</td>\n",
       "      <td>8939.000000</td>\n",
       "      <td>8939.000000</td>\n",
       "      <td>8939.000000</td>\n",
       "      <td>8939.000000</td>\n",
       "      <td>8939.000000</td>\n",
       "      <td>8939.000000</td>\n",
       "      <td>8939.00000</td>\n",
       "      <td>8939.000000</td>\n",
       "      <td>8939.000000</td>\n",
       "      <td>8939.000000</td>\n",
       "      <td>8939.000000</td>\n",
       "    </tr>\n",
       "    <tr>\n",
       "      <th>mean</th>\n",
       "      <td>49161.881530</td>\n",
       "      <td>2.815872e+07</td>\n",
       "      <td>7.817054e+07</td>\n",
       "      <td>103.205767</td>\n",
       "      <td>2.203043</td>\n",
       "      <td>1.236939</td>\n",
       "      <td>1.344781</td>\n",
       "      <td>1.411567</td>\n",
       "      <td>1.232464</td>\n",
       "      <td>1.211097</td>\n",
       "      <td>1.181005</td>\n",
       "      <td>1.12988</td>\n",
       "      <td>18.030652</td>\n",
       "      <td>1.389641</td>\n",
       "      <td>1.046538</td>\n",
       "      <td>1.600626</td>\n",
       "    </tr>\n",
       "    <tr>\n",
       "      <th>std</th>\n",
       "      <td>85018.062575</td>\n",
       "      <td>3.670012e+07</td>\n",
       "      <td>1.498542e+08</td>\n",
       "      <td>31.831092</td>\n",
       "      <td>2.101648</td>\n",
       "      <td>0.763347</td>\n",
       "      <td>0.858362</td>\n",
       "      <td>0.794705</td>\n",
       "      <td>0.790194</td>\n",
       "      <td>0.817455</td>\n",
       "      <td>0.852329</td>\n",
       "      <td>0.87864</td>\n",
       "      <td>17.784568</td>\n",
       "      <td>0.881162</td>\n",
       "      <td>0.501133</td>\n",
       "      <td>1.646896</td>\n",
       "    </tr>\n",
       "    <tr>\n",
       "      <th>min</th>\n",
       "      <td>5.000000</td>\n",
       "      <td>3.000000e+04</td>\n",
       "      <td>3.003000e+03</td>\n",
       "      <td>0.000000</td>\n",
       "      <td>0.000000</td>\n",
       "      <td>0.000000</td>\n",
       "      <td>0.000000</td>\n",
       "      <td>0.000000</td>\n",
       "      <td>0.000000</td>\n",
       "      <td>0.000000</td>\n",
       "      <td>0.000000</td>\n",
       "      <td>0.00000</td>\n",
       "      <td>0.000000</td>\n",
       "      <td>0.000000</td>\n",
       "      <td>0.000000</td>\n",
       "      <td>0.000000</td>\n",
       "    </tr>\n",
       "    <tr>\n",
       "      <th>25%</th>\n",
       "      <td>9568.000000</td>\n",
       "      <td>5.000000e+06</td>\n",
       "      <td>6.418310e+06</td>\n",
       "      <td>90.000000</td>\n",
       "      <td>1.000000</td>\n",
       "      <td>1.000000</td>\n",
       "      <td>1.000000</td>\n",
       "      <td>1.000000</td>\n",
       "      <td>1.000000</td>\n",
       "      <td>0.000000</td>\n",
       "      <td>0.000000</td>\n",
       "      <td>0.00000</td>\n",
       "      <td>8.000000</td>\n",
       "      <td>0.000000</td>\n",
       "      <td>1.000000</td>\n",
       "      <td>0.000000</td>\n",
       "    </tr>\n",
       "    <tr>\n",
       "      <th>50%</th>\n",
       "      <td>17561.000000</td>\n",
       "      <td>1.500000e+07</td>\n",
       "      <td>2.551375e+07</td>\n",
       "      <td>101.000000</td>\n",
       "      <td>2.000000</td>\n",
       "      <td>1.000000</td>\n",
       "      <td>1.000000</td>\n",
       "      <td>2.000000</td>\n",
       "      <td>1.000000</td>\n",
       "      <td>1.000000</td>\n",
       "      <td>1.000000</td>\n",
       "      <td>1.00000</td>\n",
       "      <td>14.000000</td>\n",
       "      <td>2.000000</td>\n",
       "      <td>1.000000</td>\n",
       "      <td>1.000000</td>\n",
       "    </tr>\n",
       "    <tr>\n",
       "      <th>75%</th>\n",
       "      <td>37671.000000</td>\n",
       "      <td>3.500000e+07</td>\n",
       "      <td>8.460386e+07</td>\n",
       "      <td>116.000000</td>\n",
       "      <td>3.000000</td>\n",
       "      <td>1.000000</td>\n",
       "      <td>1.000000</td>\n",
       "      <td>2.000000</td>\n",
       "      <td>2.000000</td>\n",
       "      <td>2.000000</td>\n",
       "      <td>2.000000</td>\n",
       "      <td>2.00000</td>\n",
       "      <td>21.000000</td>\n",
       "      <td>2.000000</td>\n",
       "      <td>1.000000</td>\n",
       "      <td>2.000000</td>\n",
       "    </tr>\n",
       "    <tr>\n",
       "      <th>max</th>\n",
       "      <td>468938.000000</td>\n",
       "      <td>3.800000e+08</td>\n",
       "      <td>2.920357e+09</td>\n",
       "      <td>720.000000</td>\n",
       "      <td>26.000000</td>\n",
       "      <td>12.000000</td>\n",
       "      <td>9.000000</td>\n",
       "      <td>2.000000</td>\n",
       "      <td>2.000000</td>\n",
       "      <td>2.000000</td>\n",
       "      <td>2.000000</td>\n",
       "      <td>2.00000</td>\n",
       "      <td>313.000000</td>\n",
       "      <td>2.000000</td>\n",
       "      <td>21.000000</td>\n",
       "      <td>22.000000</td>\n",
       "    </tr>\n",
       "  </tbody>\n",
       "</table>\n",
       "</div>"
      ],
      "text/plain": [
       "                  id        budget       revenue      runtime  \\\n",
       "count    8939.000000  8.939000e+03  8.939000e+03  8913.000000   \n",
       "mean    49161.881530  2.815872e+07  7.817054e+07   103.205767   \n",
       "std     85018.062575  3.670012e+07  1.498542e+08    31.831092   \n",
       "min         5.000000  3.000000e+04  3.003000e+03     0.000000   \n",
       "25%      9568.000000  5.000000e+06  6.418310e+06    90.000000   \n",
       "50%     17561.000000  1.500000e+07  2.551375e+07   101.000000   \n",
       "75%     37671.000000  3.500000e+07  8.460386e+07   116.000000   \n",
       "max    468938.000000  3.800000e+08  2.920357e+09   720.000000   \n",
       "\n",
       "       production_companies_number  production_countries_number  \\\n",
       "count                  8939.000000                  8939.000000   \n",
       "mean                      2.203043                     1.236939   \n",
       "std                       2.101648                     0.763347   \n",
       "min                       0.000000                     0.000000   \n",
       "25%                       1.000000                     1.000000   \n",
       "50%                       2.000000                     1.000000   \n",
       "75%                       3.000000                     1.000000   \n",
       "max                      26.000000                    12.000000   \n",
       "\n",
       "       spoken_languages_number  actor1_gender  actor2_gender  actor3_gender  \\\n",
       "count              8939.000000    8939.000000    8939.000000    8939.000000   \n",
       "mean                  1.344781       1.411567       1.232464       1.211097   \n",
       "std                   0.858362       0.794705       0.790194       0.817455   \n",
       "min                   0.000000       0.000000       0.000000       0.000000   \n",
       "25%                   1.000000       1.000000       1.000000       0.000000   \n",
       "50%                   1.000000       2.000000       1.000000       1.000000   \n",
       "75%                   1.000000       2.000000       2.000000       2.000000   \n",
       "max                   9.000000       2.000000       2.000000       2.000000   \n",
       "\n",
       "       actor4_gender  actor5_gender  actor_number  director_gender  \\\n",
       "count    8939.000000     8939.00000   8939.000000      8939.000000   \n",
       "mean        1.181005        1.12988     18.030652         1.389641   \n",
       "std         0.852329        0.87864     17.784568         0.881162   \n",
       "min         0.000000        0.00000      0.000000         0.000000   \n",
       "25%         0.000000        0.00000      8.000000         0.000000   \n",
       "50%         1.000000        1.00000     14.000000         2.000000   \n",
       "75%         2.000000        2.00000     21.000000         2.000000   \n",
       "max         2.000000        2.00000    313.000000         2.000000   \n",
       "\n",
       "       director_number  producer_number  \n",
       "count      8939.000000      8939.000000  \n",
       "mean          1.046538         1.600626  \n",
       "std           0.501133         1.646896  \n",
       "min           0.000000         0.000000  \n",
       "25%           1.000000         0.000000  \n",
       "50%           1.000000         1.000000  \n",
       "75%           1.000000         2.000000  \n",
       "max          21.000000        22.000000  "
      ]
     },
     "execution_count": 9,
     "metadata": {},
     "output_type": "execute_result"
    }
   ],
   "source": [
    "data.describe()"
   ]
  },
  {
   "cell_type": "markdown",
   "id": "402bf7fa",
   "metadata": {},
   "source": [
    "# Preprocessing"
   ]
  },
  {
   "cell_type": "code",
   "execution_count": 36,
   "id": "73b98ada",
   "metadata": {},
   "outputs": [],
   "source": [
    "df = data.copy()"
   ]
  },
  {
   "cell_type": "code",
   "execution_count": 37,
   "id": "d4be0995",
   "metadata": {},
   "outputs": [],
   "source": [
    "# Replace NaN by 0\n",
    "df.runtime.replace(np.NaN, 0, inplace=True)"
   ]
  },
  {
   "cell_type": "code",
   "execution_count": 38,
   "id": "3c58a3a0",
   "metadata": {},
   "outputs": [
    {
     "data": {
      "text/plain": [
       "id                                0\n",
       "budget                            0\n",
       "genres                          246\n",
       "imdb_id                         227\n",
       "original_language                 1\n",
       "production_companies              0\n",
       "production_countries              0\n",
       "release_date                     21\n",
       "revenue                           0\n",
       "runtime                           0\n",
       "spoken_languages                 83\n",
       "status                            0\n",
       "title                             0\n",
       "production_companies_number       0\n",
       "production_countries_number       0\n",
       "spoken_languages_number           0\n",
       "belongs_to_collection          7467\n",
       "actor1_name                       0\n",
       "actor1_gender                     0\n",
       "actor2_name                       0\n",
       "actor2_gender                     0\n",
       "actor3_name                       0\n",
       "actor3_gender                     0\n",
       "actor4_name                       0\n",
       "actor4_gender                     0\n",
       "actor5_name                       0\n",
       "actor5_gender                     0\n",
       "actor_number                      0\n",
       "director_name                     0\n",
       "director_gender                   0\n",
       "director_number                   0\n",
       "producer_name                     0\n",
       "producer_number                   0\n",
       "screeplay_name                    0\n",
       "editor_name                       0\n",
       "dtype: int64"
      ]
     },
     "execution_count": 38,
     "metadata": {},
     "output_type": "execute_result"
    }
   ],
   "source": [
    "df.isnull().sum()"
   ]
  },
  {
   "cell_type": "markdown",
   "id": "b4eaee72",
   "metadata": {},
   "source": [
    "# Top K calcuation"
   ]
  },
  {
   "cell_type": "code",
   "execution_count": 39,
   "id": "8698f4a4",
   "metadata": {},
   "outputs": [
    {
     "data": {
      "text/plain": [
       "array([1025491110, 1028570889, 1045713802, 1045713802, 1053929274,\n",
       "       1065659812, 1091405097, 1066969703, 1108561013, 1084939099,\n",
       "       1118888979, 2068223624, 1215439994, 1212583865, 1341511219,\n",
       "       1274219009, 1519557910, 1153304495, 1405035767, 1513528810,\n",
       "       1845034188, 1118888979, 1123746996, 1518815515, 1256977550,\n",
       "       2781505847, 1156730962, 1342000000, 1506249360, 2920357254])"
      ]
     },
     "execution_count": 39,
     "metadata": {},
     "output_type": "execute_result"
    }
   ],
   "source": [
    "revenue_top_k = np.partition(df['revenue'], -30)[-30:]\n",
    "revenue_top_k"
   ]
  },
  {
   "cell_type": "code",
   "execution_count": 40,
   "id": "48ccd522",
   "metadata": {},
   "outputs": [
    {
     "data": {
      "text/plain": [
       "array([2920357254, 2781505847, 2068223624, 1845034188, 1519557910,\n",
       "       1518815515, 1513528810, 1506249360, 1405035767, 1342000000,\n",
       "       1341511219, 1274219009, 1256977550, 1215439994, 1212583865,\n",
       "       1156730962, 1153304495, 1123746996, 1118888979, 1118888979,\n",
       "       1108561013, 1091405097, 1084939099, 1066969703, 1065659812,\n",
       "       1053929274, 1045713802, 1045713802, 1028570889, 1025491110])"
      ]
     },
     "execution_count": 40,
     "metadata": {},
     "output_type": "execute_result"
    }
   ],
   "source": [
    "np.sort(revenue_top_k)[::-1]"
   ]
  },
  {
   "cell_type": "code",
   "execution_count": 41,
   "id": "9a028de1",
   "metadata": {},
   "outputs": [],
   "source": [
    "# define function for top_k calcuation\n",
    "\n",
    "def top_k(feature, k):\n",
    "    feature_top_k = np.partition(feature, -k)[-k:]\n",
    "    return np.sort(feature_top_k)[::-1]"
   ]
  },
  {
   "cell_type": "code",
   "execution_count": 42,
   "id": "ab3c496e",
   "metadata": {},
   "outputs": [
    {
     "data": {
      "text/plain": [
       "array([ nan,  nan,  nan,  nan,  nan,  nan,  nan,  nan,  nan,  nan,  nan,\n",
       "        nan,  nan,  nan,  nan,  nan,  nan,  nan,  nan,  nan,  nan,  nan,\n",
       "        nan,  nan,  nan,  nan, 720., 552., 552., 371.])"
      ]
     },
     "execution_count": 42,
     "metadata": {},
     "output_type": "execute_result"
    }
   ],
   "source": [
    "top_k(data['runtime'], 30)"
   ]
  },
  {
   "cell_type": "markdown",
   "id": "a99d86c9",
   "metadata": {},
   "source": [
    "# log feature"
   ]
  },
  {
   "cell_type": "code",
   "execution_count": 43,
   "id": "ad356a0a",
   "metadata": {},
   "outputs": [],
   "source": [
    "# Apply log feature to budget and revnue\n",
    "df['budget_log'] = np.log(df['budget'])\n",
    "df['revenue_log'] = np.log(df['revenue'])"
   ]
  },
  {
   "cell_type": "code",
   "execution_count": 44,
   "id": "26525e0a",
   "metadata": {},
   "outputs": [
    {
     "data": {
      "text/plain": [
       "Index(['id', 'budget', 'genres', 'imdb_id', 'original_language',\n",
       "       'production_companies', 'production_countries', 'release_date',\n",
       "       'revenue', 'runtime', 'spoken_languages', 'status', 'title',\n",
       "       'production_companies_number', 'production_countries_number',\n",
       "       'spoken_languages_number', 'belongs_to_collection', 'actor1_name',\n",
       "       'actor1_gender', 'actor2_name', 'actor2_gender', 'actor3_name',\n",
       "       'actor3_gender', 'actor4_name', 'actor4_gender', 'actor5_name',\n",
       "       'actor5_gender', 'actor_number', 'director_name', 'director_gender',\n",
       "       'director_number', 'producer_name', 'producer_number', 'screeplay_name',\n",
       "       'editor_name', 'budget_log', 'revenue_log'],\n",
       "      dtype='object')"
      ]
     },
     "execution_count": 44,
     "metadata": {},
     "output_type": "execute_result"
    }
   ],
   "source": [
    "df.columns"
   ]
  },
  {
   "cell_type": "markdown",
   "id": "63a4e581",
   "metadata": {},
   "source": [
    "# Scaling analysis"
   ]
  },
  {
   "cell_type": "code",
   "execution_count": 45,
   "id": "ebbcb36d",
   "metadata": {},
   "outputs": [],
   "source": [
    "# Define function to Standardization scaling\n",
    "\n",
    "def Standardization_scaling(data_feature):\n",
    "    sd_scaler = StandardScaler()\n",
    "    sd_scaler.fit(data_feature)\n",
    "    return sd_scaler.transform(data_feature)"
   ]
  },
  {
   "cell_type": "code",
   "execution_count": 46,
   "id": "7eedc5e2",
   "metadata": {
    "scrolled": false
   },
   "outputs": [],
   "source": [
    "# Define function to MinMax scaling\n",
    "\n",
    "def MinMax_scaling(data_feature):\n",
    "    mm_scaler = MinMaxScaler()\n",
    "    mm_scaler.fit(data_feature)\n",
    "    return mm_scaler.transform(data_feature)"
   ]
  },
  {
   "cell_type": "code",
   "execution_count": 47,
   "id": "f337003a",
   "metadata": {},
   "outputs": [],
   "source": [
    "# Define function to Robust scaling\n",
    "\n",
    "def Robust_scaling(data_feature):\n",
    "    rb_scaler = RobustScaler()\n",
    "    rb_scaler.fit(data_feature)\n",
    "    return rb_scaler.transform(data_feature)"
   ]
  },
  {
   "cell_type": "code",
   "execution_count": 73,
   "id": "a2ee30c8",
   "metadata": {},
   "outputs": [],
   "source": [
    "df['budget_log_sd_scal'] = Standardization_scaling(df[['budget_log']])\n",
    "df['budget_log_mm_scal'] = MinMax_scaling(df[['budget_log']])\n",
    "df['budget_log_rb_scal'] = Robust_scaling(df[['budget_log']])"
   ]
  },
  {
   "cell_type": "code",
   "execution_count": 74,
   "id": "2de54cd3",
   "metadata": {},
   "outputs": [],
   "source": [
    "df['runtime_sd_scal'] = Standardization_scaling(df[['runtime']])\n",
    "df['runtime_mm_scal'] = MinMax_scaling(df[['runtime']])\n",
    "df['runtime_rb_scal'] = Robust_scaling(df[['runtime']])"
   ]
  },
  {
   "cell_type": "code",
   "execution_count": 78,
   "id": "7ca39fa5",
   "metadata": {},
   "outputs": [],
   "source": [
    "df['production_companies_number_sd_scal'] = Standardization_scaling(df[['production_companies_number']])\n",
    "df['production_companies_number_mm_scal'] = MinMax_scaling(df[['production_companies_number']])\n",
    "df['production_companies_number_rb_scal'] = Robust_scaling(df[['production_companies_number']])"
   ]
  },
  {
   "cell_type": "code",
   "execution_count": 81,
   "id": "2b4dc238",
   "metadata": {},
   "outputs": [],
   "source": [
    "df['production_countries_number_sd_scal'] = Standardization_scaling(df[['production_countries_number']])\n",
    "df['production_countries_number_mm_scal'] = MinMax_scaling(df[['production_countries_number']])\n",
    "df['production_countries_number_rb_scal'] = Robust_scaling(df[['production_countries_number']])"
   ]
  },
  {
   "cell_type": "code",
   "execution_count": 82,
   "id": "fede9354",
   "metadata": {},
   "outputs": [],
   "source": [
    "df['spoken_languages_number_sd_scal'] = Standardization_scaling(df[['spoken_languages_number']])\n",
    "df['spoken_languages_number_mm_scal'] = MinMax_scaling(df[['spoken_languages_number']])\n",
    "df['spoken_languages_number_rb_scal'] = Robust_scaling(df[['spoken_languages_number']])"
   ]
  },
  {
   "cell_type": "code",
   "execution_count": 59,
   "id": "3938bc80",
   "metadata": {},
   "outputs": [],
   "source": [
    "# Display historgram\n",
    "\n",
    "def display_histor(feature_1, feature_2):\n",
    "    fig, axs = plt.subplots(nrows=1, ncols=2, figsize=(10,3))\n",
    "    sns.histplot(feature_1, bins=40, ax=axs[0])\n",
    "    sns.histplot(feature_2, bins=40, ax=axs[1])\n",
    "    return"
   ]
  },
  {
   "cell_type": "code",
   "execution_count": 65,
   "id": "2966a258",
   "metadata": {},
   "outputs": [],
   "source": [
    "# Display outliner\n",
    "\n",
    "def display_boxplot(feature_1, feature_2):\n",
    "    \n",
    "    fig, axs = plt.subplots(nrows=1, ncols=2, figsize=(10,3))\n",
    "    sns.boxplot(feature_1, ax=axs[0])\n",
    "    sns.boxplot(feature_2, ax=axs[1])\n",
    "    return"
   ]
  },
  {
   "cell_type": "markdown",
   "id": "9a6f7a3f",
   "metadata": {},
   "source": [
    "## budget"
   ]
  },
  {
   "cell_type": "code",
   "execution_count": 68,
   "id": "214236d3",
   "metadata": {
    "scrolled": true
   },
   "outputs": [
    {
     "data": {
      "image/png": "[encoded data removed]",
      "text/plain": [
       "<Figure size 1000x300 with 2 Axes>"
      ]
     },
     "metadata": {},
     "output_type": "display_data"
    }
   ],
   "source": [
    "display_histor(df[['budget_log']],df[['budget_log_sd_scal']])"
   ]
  },
  {
   "cell_type": "code",
   "execution_count": 72,
   "id": "b6425957",
   "metadata": {
    "scrolled": true
   },
   "outputs": [
    {
     "name": "stderr",
     "output_type": "stream",
     "text": [
      "/home/abeljiang2/.pyenv/versions/3.8.12/envs/lewagon/lib/python3.8/site-packages/seaborn/_decorators.py:36: FutureWarning: Pass the following variable as a keyword arg: x. From version 0.12, the only valid positional argument will be `data`, and passing other arguments without an explicit keyword will result in an error or misinterpretation.\n",
      "  warnings.warn(\n"
     ]
    },
    {
     "data": {
      "image/png": "[encoded data removed]",
      "text/plain": [
       "<Figure size 1000x300 with 2 Axes>"
      ]
     },
     "metadata": {},
     "output_type": "display_data"
    }
   ],
   "source": [
    "display_boxplot(df['budget_log'], df['budget_log_sd_scal'])"
   ]
  },
  {
   "cell_type": "markdown",
   "id": "1c88250e",
   "metadata": {},
   "source": [
    "## Runtime"
   ]
  },
  {
   "cell_type": "code",
   "execution_count": 75,
   "id": "9ad39c6d",
   "metadata": {},
   "outputs": [
    {
     "data": {
      "image/png": "[encoded data removed]",
      "text/plain": [
       "<Figure size 1000x300 with 2 Axes>"
      ]
     },
     "metadata": {},
     "output_type": "display_data"
    }
   ],
   "source": [
    "display_histor(df[['runtime']],df[['runtime_sd_scal']])"
   ]
  },
  {
   "cell_type": "code",
   "execution_count": 76,
   "id": "b6994d45",
   "metadata": {},
   "outputs": [
    {
     "name": "stderr",
     "output_type": "stream",
     "text": [
      "/home/abeljiang2/.pyenv/versions/3.8.12/envs/lewagon/lib/python3.8/site-packages/seaborn/_decorators.py:36: FutureWarning: Pass the following variable as a keyword arg: x. From version 0.12, the only valid positional argument will be `data`, and passing other arguments without an explicit keyword will result in an error or misinterpretation.\n",
      "  warnings.warn(\n",
      "/home/abeljiang2/.pyenv/versions/3.8.12/envs/lewagon/lib/python3.8/site-packages/seaborn/_decorators.py:36: FutureWarning: Pass the following variable as a keyword arg: x. From version 0.12, the only valid positional argument will be `data`, and passing other arguments without an explicit keyword will result in an error or misinterpretation.\n",
      "  warnings.warn(\n"
     ]
    },
    {
     "data": {
      "image/png": "[encoded data removed]",
      "text/plain": [
       "<Figure size 1000x300 with 2 Axes>"
      ]
     },
     "metadata": {},
     "output_type": "display_data"
    }
   ],
   "source": [
    "display_boxplot(df['runtime'], df['runtime_sd_scal'])"
   ]
  },
  {
   "cell_type": "markdown",
   "id": "42a81f33",
   "metadata": {},
   "source": [
    "## Production company numbers"
   ]
  },
  {
   "cell_type": "code",
   "execution_count": 88,
   "id": "18f12cca",
   "metadata": {},
   "outputs": [
    {
     "data": {
      "image/png": "[encoded data removed]",
      "text/plain": [
       "<Figure size 1000x300 with 2 Axes>"
      ]
     },
     "metadata": {},
     "output_type": "display_data"
    }
   ],
   "source": [
    "display_histor(df[['production_companies_number']],df[['production_companies_number_mm_scal']])"
   ]
  },
  {
   "cell_type": "code",
   "execution_count": 80,
   "id": "674b4b83",
   "metadata": {},
   "outputs": [
    {
     "name": "stderr",
     "output_type": "stream",
     "text": [
      "/home/abeljiang2/.pyenv/versions/3.8.12/envs/lewagon/lib/python3.8/site-packages/seaborn/_decorators.py:36: FutureWarning: Pass the following variable as a keyword arg: x. From version 0.12, the only valid positional argument will be `data`, and passing other arguments without an explicit keyword will result in an error or misinterpretation.\n",
      "  warnings.warn(\n",
      "/home/abeljiang2/.pyenv/versions/3.8.12/envs/lewagon/lib/python3.8/site-packages/seaborn/_decorators.py:36: FutureWarning: Pass the following variable as a keyword arg: x. From version 0.12, the only valid positional argument will be `data`, and passing other arguments without an explicit keyword will result in an error or misinterpretation.\n",
      "  warnings.warn(\n"
     ]
    },
    {
     "data": {
      "image/png": "[encoded data removed]",
      "text/plain": [
       "<Figure size 1000x300 with 2 Axes>"
      ]
     },
     "metadata": {},
     "output_type": "display_data"
    }
   ],
   "source": [
    "display_boxplot(df['production_companies_number'], df['production_companies_number_mm_scal'])"
   ]
  },
  {
   "cell_type": "markdown",
   "id": "0e73e301",
   "metadata": {},
   "source": [
    "## Production contries numbers"
   ]
  },
  {
   "cell_type": "code",
   "execution_count": 83,
   "id": "967508b9",
   "metadata": {},
   "outputs": [
    {
     "data": {
      "image/png": "[encoded data removed]",
      "text/plain": [
       "<Figure size 1000x300 with 2 Axes>"
      ]
     },
     "metadata": {},
     "output_type": "display_data"
    }
   ],
   "source": [
    "display_histor(df[['production_countries_number']],df[['production_countries_number_mm_scal']])"
   ]
  },
  {
   "cell_type": "code",
   "execution_count": 84,
   "id": "6d6e0bcc",
   "metadata": {
    "scrolled": true
   },
   "outputs": [
    {
     "name": "stderr",
     "output_type": "stream",
     "text": [
      "/home/abeljiang2/.pyenv/versions/3.8.12/envs/lewagon/lib/python3.8/site-packages/seaborn/_decorators.py:36: FutureWarning: Pass the following variable as a keyword arg: x. From version 0.12, the only valid positional argument will be `data`, and passing other arguments without an explicit keyword will result in an error or misinterpretation.\n",
      "  warnings.warn(\n",
      "/home/abeljiang2/.pyenv/versions/3.8.12/envs/lewagon/lib/python3.8/site-packages/seaborn/_decorators.py:36: FutureWarning: Pass the following variable as a keyword arg: x. From version 0.12, the only valid positional argument will be `data`, and passing other arguments without an explicit keyword will result in an error or misinterpretation.\n",
      "  warnings.warn(\n"
     ]
    },
    {
     "data": {
      "image/png": "[encoded data removed]",
      "text/plain": [
       "<Figure size 1000x300 with 2 Axes>"
      ]
     },
     "metadata": {},
     "output_type": "display_data"
    }
   ],
   "source": [
    "display_boxplot(df['production_countries_number'], df['production_countries_number_mm_scal'])"
   ]
  },
  {
   "cell_type": "code",
   "execution_count": 90,
   "id": "a331c564",
   "metadata": {},
   "outputs": [
    {
     "data": {
      "text/html": [
       "<div>\n",
       "<style scoped>\n",
       "    .dataframe tbody tr th:only-of-type {\n",
       "        vertical-align: middle;\n",
       "    }\n",
       "\n",
       "    .dataframe tbody tr th {\n",
       "        vertical-align: top;\n",
       "    }\n",
       "\n",
       "    .dataframe thead th {\n",
       "        text-align: right;\n",
       "    }\n",
       "</style>\n",
       "<table border=\"1\" class=\"dataframe\">\n",
       "  <thead>\n",
       "    <tr style=\"text-align: right;\">\n",
       "      <th></th>\n",
       "      <th>production_countries_number</th>\n",
       "    </tr>\n",
       "  </thead>\n",
       "  <tbody>\n",
       "    <tr>\n",
       "      <th>0</th>\n",
       "      <td>1</td>\n",
       "    </tr>\n",
       "    <tr>\n",
       "      <th>1</th>\n",
       "      <td>1</td>\n",
       "    </tr>\n",
       "    <tr>\n",
       "      <th>2</th>\n",
       "      <td>1</td>\n",
       "    </tr>\n",
       "    <tr>\n",
       "      <th>3</th>\n",
       "      <td>1</td>\n",
       "    </tr>\n",
       "    <tr>\n",
       "      <th>4</th>\n",
       "      <td>1</td>\n",
       "    </tr>\n",
       "    <tr>\n",
       "      <th>...</th>\n",
       "      <td>...</td>\n",
       "    </tr>\n",
       "    <tr>\n",
       "      <th>8934</th>\n",
       "      <td>0</td>\n",
       "    </tr>\n",
       "    <tr>\n",
       "      <th>8935</th>\n",
       "      <td>2</td>\n",
       "    </tr>\n",
       "    <tr>\n",
       "      <th>8936</th>\n",
       "      <td>1</td>\n",
       "    </tr>\n",
       "    <tr>\n",
       "      <th>8937</th>\n",
       "      <td>1</td>\n",
       "    </tr>\n",
       "    <tr>\n",
       "      <th>8938</th>\n",
       "      <td>1</td>\n",
       "    </tr>\n",
       "  </tbody>\n",
       "</table>\n",
       "<p>8939 rows × 1 columns</p>\n",
       "</div>"
      ],
      "text/plain": [
       "      production_countries_number\n",
       "0                               1\n",
       "1                               1\n",
       "2                               1\n",
       "3                               1\n",
       "4                               1\n",
       "...                           ...\n",
       "8934                            0\n",
       "8935                            2\n",
       "8936                            1\n",
       "8937                            1\n",
       "8938                            1\n",
       "\n",
       "[8939 rows x 1 columns]"
      ]
     },
     "execution_count": 90,
     "metadata": {},
     "output_type": "execute_result"
    }
   ],
   "source": [
    "df[['production_countries_number']]"
   ]
  },
  {
   "cell_type": "markdown",
   "id": "70b0f36a",
   "metadata": {},
   "source": [
    "## Spoken language numbers"
   ]
  },
  {
   "cell_type": "code",
   "execution_count": 85,
   "id": "c753c060",
   "metadata": {},
   "outputs": [
    {
     "data": {
      "image/png": "[encoded data removed]",
      "text/plain": [
       "<Figure size 1000x300 with 2 Axes>"
      ]
     },
     "metadata": {},
     "output_type": "display_data"
    }
   ],
   "source": [
    "display_histor(df[['spoken_languages_number']],df[['spoken_languages_number_mm_scal']])"
   ]
  },
  {
   "cell_type": "code",
   "execution_count": 86,
   "id": "593d7a68",
   "metadata": {},
   "outputs": [
    {
     "name": "stderr",
     "output_type": "stream",
     "text": [
      "/home/abeljiang2/.pyenv/versions/3.8.12/envs/lewagon/lib/python3.8/site-packages/seaborn/_decorators.py:36: FutureWarning: Pass the following variable as a keyword arg: x. From version 0.12, the only valid positional argument will be `data`, and passing other arguments without an explicit keyword will result in an error or misinterpretation.\n",
      "  warnings.warn(\n",
      "/home/abeljiang2/.pyenv/versions/3.8.12/envs/lewagon/lib/python3.8/site-packages/seaborn/_decorators.py:36: FutureWarning: Pass the following variable as a keyword arg: x. From version 0.12, the only valid positional argument will be `data`, and passing other arguments without an explicit keyword will result in an error or misinterpretation.\n",
      "  warnings.warn(\n"
     ]
    },
    {
     "data": {
      "image/png": "[encoded data removed]",
      "text/plain": [
       "<Figure size 1000x300 with 2 Axes>"
      ]
     },
     "metadata": {},
     "output_type": "display_data"
    }
   ],
   "source": [
    "display_boxplot(df['spoken_languages_number'], df['spoken_languages_number_mm_scal'])"
   ]
  },
  {
   "cell_type": "code",
   "execution_count": 97,
   "id": "f75b8ab8",
   "metadata": {},
   "outputs": [
    {
     "data": {
      "text/html": [
       "<div>\n",
       "<style scoped>\n",
       "    .dataframe tbody tr th:only-of-type {\n",
       "        vertical-align: middle;\n",
       "    }\n",
       "\n",
       "    .dataframe tbody tr th {\n",
       "        vertical-align: top;\n",
       "    }\n",
       "\n",
       "    .dataframe thead th {\n",
       "        text-align: right;\n",
       "    }\n",
       "</style>\n",
       "<table border=\"1\" class=\"dataframe\">\n",
       "  <thead>\n",
       "    <tr style=\"text-align: right;\">\n",
       "      <th></th>\n",
       "      <th>spoken_languages_number</th>\n",
       "    </tr>\n",
       "  </thead>\n",
       "  <tbody>\n",
       "    <tr>\n",
       "      <th>0</th>\n",
       "      <td>1</td>\n",
       "    </tr>\n",
       "    <tr>\n",
       "      <th>1</th>\n",
       "      <td>1</td>\n",
       "    </tr>\n",
       "    <tr>\n",
       "      <th>2</th>\n",
       "      <td>1</td>\n",
       "    </tr>\n",
       "    <tr>\n",
       "      <th>3</th>\n",
       "      <td>1</td>\n",
       "    </tr>\n",
       "    <tr>\n",
       "      <th>4</th>\n",
       "      <td>1</td>\n",
       "    </tr>\n",
       "    <tr>\n",
       "      <th>...</th>\n",
       "      <td>...</td>\n",
       "    </tr>\n",
       "    <tr>\n",
       "      <th>8934</th>\n",
       "      <td>0</td>\n",
       "    </tr>\n",
       "    <tr>\n",
       "      <th>8935</th>\n",
       "      <td>0</td>\n",
       "    </tr>\n",
       "    <tr>\n",
       "      <th>8936</th>\n",
       "      <td>2</td>\n",
       "    </tr>\n",
       "    <tr>\n",
       "      <th>8937</th>\n",
       "      <td>1</td>\n",
       "    </tr>\n",
       "    <tr>\n",
       "      <th>8938</th>\n",
       "      <td>1</td>\n",
       "    </tr>\n",
       "  </tbody>\n",
       "</table>\n",
       "<p>8939 rows × 1 columns</p>\n",
       "</div>"
      ],
      "text/plain": [
       "      spoken_languages_number\n",
       "0                           1\n",
       "1                           1\n",
       "2                           1\n",
       "3                           1\n",
       "4                           1\n",
       "...                       ...\n",
       "8934                        0\n",
       "8935                        0\n",
       "8936                        2\n",
       "8937                        1\n",
       "8938                        1\n",
       "\n",
       "[8939 rows x 1 columns]"
      ]
     },
     "execution_count": 97,
     "metadata": {},
     "output_type": "execute_result"
    }
   ],
   "source": [
    "df[['spoken_languages_number']]"
   ]
  },
  {
   "cell_type": "markdown",
   "id": "9cebbe0a",
   "metadata": {},
   "source": [
    "# pipeline"
   ]
  },
  {
   "cell_type": "code",
   "execution_count": 123,
   "id": "1d8a233c",
   "metadata": {},
   "outputs": [
    {
     "data": {
      "text/html": [
       "<style>#sk-container-id-8 {color: black;background-color: white;}#sk-container-id-8 pre{padding: 0;}#sk-container-id-8 div.sk-toggleable {background-color: white;}#sk-container-id-8 label.sk-toggleable__label {cursor: pointer;display: block;width: 100%;margin-bottom: 0;padding: 0.3em;box-sizing: border-box;text-align: center;}#sk-container-id-8 label.sk-toggleable__label-arrow:before {content: \"▸\";float: left;margin-right: 0.25em;color: #696969;}#sk-container-id-8 label.sk-toggleable__label-arrow:hover:before {color: black;}#sk-container-id-8 div.sk-estimator:hover label.sk-toggleable__label-arrow:before {color: black;}#sk-container-id-8 div.sk-toggleable__content {max-height: 0;max-width: 0;overflow: hidden;text-align: left;background-color: #f0f8ff;}#sk-container-id-8 div.sk-toggleable__content pre {margin: 0.2em;color: black;border-radius: 0.25em;background-color: #f0f8ff;}#sk-container-id-8 input.sk-toggleable__control:checked~div.sk-toggleable__content {max-height: 200px;max-width: 100%;overflow: auto;}#sk-container-id-8 input.sk-toggleable__control:checked~label.sk-toggleable__label-arrow:before {content: \"▾\";}#sk-container-id-8 div.sk-estimator input.sk-toggleable__control:checked~label.sk-toggleable__label {background-color: #d4ebff;}#sk-container-id-8 div.sk-label input.sk-toggleable__control:checked~label.sk-toggleable__label {background-color: #d4ebff;}#sk-container-id-8 input.sk-hidden--visually {border: 0;clip: rect(1px 1px 1px 1px);clip: rect(1px, 1px, 1px, 1px);height: 1px;margin: -1px;overflow: hidden;padding: 0;position: absolute;width: 1px;}#sk-container-id-8 div.sk-estimator {font-family: monospace;background-color: #f0f8ff;border: 1px dotted black;border-radius: 0.25em;box-sizing: border-box;margin-bottom: 0.5em;}#sk-container-id-8 div.sk-estimator:hover {background-color: #d4ebff;}#sk-container-id-8 div.sk-parallel-item::after {content: \"\";width: 100%;border-bottom: 1px solid gray;flex-grow: 1;}#sk-container-id-8 div.sk-label:hover label.sk-toggleable__label {background-color: #d4ebff;}#sk-container-id-8 div.sk-serial::before {content: \"\";position: absolute;border-left: 1px solid gray;box-sizing: border-box;top: 0;bottom: 0;left: 50%;z-index: 0;}#sk-container-id-8 div.sk-serial {display: flex;flex-direction: column;align-items: center;background-color: white;padding-right: 0.2em;padding-left: 0.2em;position: relative;}#sk-container-id-8 div.sk-item {position: relative;z-index: 1;}#sk-container-id-8 div.sk-parallel {display: flex;align-items: stretch;justify-content: center;background-color: white;position: relative;}#sk-container-id-8 div.sk-item::before, #sk-container-id-8 div.sk-parallel-item::before {content: \"\";position: absolute;border-left: 1px solid gray;box-sizing: border-box;top: 0;bottom: 0;left: 50%;z-index: -1;}#sk-container-id-8 div.sk-parallel-item {display: flex;flex-direction: column;z-index: 1;position: relative;background-color: white;}#sk-container-id-8 div.sk-parallel-item:first-child::after {align-self: flex-end;width: 50%;}#sk-container-id-8 div.sk-parallel-item:last-child::after {align-self: flex-start;width: 50%;}#sk-container-id-8 div.sk-parallel-item:only-child::after {width: 0;}#sk-container-id-8 div.sk-dashed-wrapped {border: 1px dashed gray;margin: 0 0.4em 0.5em 0.4em;box-sizing: border-box;padding-bottom: 0.4em;background-color: white;}#sk-container-id-8 div.sk-label label {font-family: monospace;font-weight: bold;display: inline-block;line-height: 1.2em;}#sk-container-id-8 div.sk-label-container {text-align: center;}#sk-container-id-8 div.sk-container {/* jupyter's `normalize.less` sets `[hidden] { display: none; }` but bootstrap.min.css set `[hidden] { display: none !important; }` so we also need the `!important` here to be able to override the default hidden behavior on the sphinx rendered scikit-learn.org. See: https://github.com/scikit-learn/scikit-learn/issues/21755 */display: inline-block !important;position: relative;}#sk-container-id-8 div.sk-text-repr-fallback {display: none;}</style><div id=\"sk-container-id-8\" class=\"sk-top-container\"><div class=\"sk-text-repr-fallback\"><pre>ColumnTransformer(remainder=&#x27;passthrough&#x27;,\n",
       "                  transformers=[(&#x27;Standardization_scaling&#x27;, StandardScaler(),\n",
       "                                 [&#x27;budget_log&#x27;, &#x27;runtime&#x27;]),\n",
       "                                (&#x27;MinMax_scaling&#x27;, MinMaxScaler(),\n",
       "                                 [&#x27;production_companies_number&#x27;,\n",
       "                                  &#x27;production_countries_number&#x27;]),\n",
       "                                (&#x27;Robust_scaling&#x27;, RobustScaler(),\n",
       "                                 [&#x27;spoken_languages_number&#x27;])])</pre><b>In a Jupyter environment, please rerun this cell to show the HTML representation or trust the notebook. <br />On GitHub, the HTML representation is unable to render, please try loading this page with nbviewer.org.</b></div><div class=\"sk-container\" hidden><div class=\"sk-item sk-dashed-wrapped\"><div class=\"sk-label-container\"><div class=\"sk-label sk-toggleable\"><input class=\"sk-toggleable__control sk-hidden--visually\" id=\"sk-estimator-id-30\" type=\"checkbox\" ><label for=\"sk-estimator-id-30\" class=\"sk-toggleable__label sk-toggleable__label-arrow\">ColumnTransformer</label><div class=\"sk-toggleable__content\"><pre>ColumnTransformer(remainder=&#x27;passthrough&#x27;,\n",
       "                  transformers=[(&#x27;Standardization_scaling&#x27;, StandardScaler(),\n",
       "                                 [&#x27;budget_log&#x27;, &#x27;runtime&#x27;]),\n",
       "                                (&#x27;MinMax_scaling&#x27;, MinMaxScaler(),\n",
       "                                 [&#x27;production_companies_number&#x27;,\n",
       "                                  &#x27;production_countries_number&#x27;]),\n",
       "                                (&#x27;Robust_scaling&#x27;, RobustScaler(),\n",
       "                                 [&#x27;spoken_languages_number&#x27;])])</pre></div></div></div><div class=\"sk-parallel\"><div class=\"sk-parallel-item\"><div class=\"sk-item\"><div class=\"sk-label-container\"><div class=\"sk-label sk-toggleable\"><input class=\"sk-toggleable__control sk-hidden--visually\" id=\"sk-estimator-id-31\" type=\"checkbox\" ><label for=\"sk-estimator-id-31\" class=\"sk-toggleable__label sk-toggleable__label-arrow\">Standardization_scaling</label><div class=\"sk-toggleable__content\"><pre>[&#x27;budget_log&#x27;, &#x27;runtime&#x27;]</pre></div></div></div><div class=\"sk-serial\"><div class=\"sk-item\"><div class=\"sk-estimator sk-toggleable\"><input class=\"sk-toggleable__control sk-hidden--visually\" id=\"sk-estimator-id-32\" type=\"checkbox\" ><label for=\"sk-estimator-id-32\" class=\"sk-toggleable__label sk-toggleable__label-arrow\">StandardScaler</label><div class=\"sk-toggleable__content\"><pre>StandardScaler()</pre></div></div></div></div></div></div><div class=\"sk-parallel-item\"><div class=\"sk-item\"><div class=\"sk-label-container\"><div class=\"sk-label sk-toggleable\"><input class=\"sk-toggleable__control sk-hidden--visually\" id=\"sk-estimator-id-33\" type=\"checkbox\" ><label for=\"sk-estimator-id-33\" class=\"sk-toggleable__label sk-toggleable__label-arrow\">MinMax_scaling</label><div class=\"sk-toggleable__content\"><pre>[&#x27;production_companies_number&#x27;, &#x27;production_countries_number&#x27;]</pre></div></div></div><div class=\"sk-serial\"><div class=\"sk-item\"><div class=\"sk-estimator sk-toggleable\"><input class=\"sk-toggleable__control sk-hidden--visually\" id=\"sk-estimator-id-34\" type=\"checkbox\" ><label for=\"sk-estimator-id-34\" class=\"sk-toggleable__label sk-toggleable__label-arrow\">MinMaxScaler</label><div class=\"sk-toggleable__content\"><pre>MinMaxScaler()</pre></div></div></div></div></div></div><div class=\"sk-parallel-item\"><div class=\"sk-item\"><div class=\"sk-label-container\"><div class=\"sk-label sk-toggleable\"><input class=\"sk-toggleable__control sk-hidden--visually\" id=\"sk-estimator-id-35\" type=\"checkbox\" ><label for=\"sk-estimator-id-35\" class=\"sk-toggleable__label sk-toggleable__label-arrow\">Robust_scaling</label><div class=\"sk-toggleable__content\"><pre>[&#x27;spoken_languages_number&#x27;]</pre></div></div></div><div class=\"sk-serial\"><div class=\"sk-item\"><div class=\"sk-estimator sk-toggleable\"><input class=\"sk-toggleable__control sk-hidden--visually\" id=\"sk-estimator-id-36\" type=\"checkbox\" ><label for=\"sk-estimator-id-36\" class=\"sk-toggleable__label sk-toggleable__label-arrow\">RobustScaler</label><div class=\"sk-toggleable__content\"><pre>RobustScaler()</pre></div></div></div></div></div></div><div class=\"sk-parallel-item\"><div class=\"sk-item\"><div class=\"sk-label-container\"><div class=\"sk-label sk-toggleable\"><input class=\"sk-toggleable__control sk-hidden--visually\" id=\"sk-estimator-id-37\" type=\"checkbox\" ><label for=\"sk-estimator-id-37\" class=\"sk-toggleable__label sk-toggleable__label-arrow\">remainder</label><div class=\"sk-toggleable__content\"><pre></pre></div></div></div><div class=\"sk-serial\"><div class=\"sk-item\"><div class=\"sk-estimator sk-toggleable\"><input class=\"sk-toggleable__control sk-hidden--visually\" id=\"sk-estimator-id-38\" type=\"checkbox\" ><label for=\"sk-estimator-id-38\" class=\"sk-toggleable__label sk-toggleable__label-arrow\">passthrough</label><div class=\"sk-toggleable__content\"><pre>passthrough</pre></div></div></div></div></div></div></div></div></div></div>"
      ],
      "text/plain": [
       "ColumnTransformer(remainder='passthrough',\n",
       "                  transformers=[('Standardization_scaling', StandardScaler(),\n",
       "                                 ['budget_log', 'runtime']),\n",
       "                                ('MinMax_scaling', MinMaxScaler(),\n",
       "                                 ['production_companies_number',\n",
       "                                  'production_countries_number']),\n",
       "                                ('Robust_scaling', RobustScaler(),\n",
       "                                 ['spoken_languages_number'])])"
      ]
     },
     "execution_count": 123,
     "metadata": {},
     "output_type": "execute_result"
    }
   ],
   "source": [
    "# Parallelize \"num_transformer\" \n",
    "preprocessor = ColumnTransformer([\n",
    "('Standardization_scaling', StandardScaler(), ['budget_log', 'runtime']),\n",
    "('MinMax_scaling', MinMaxScaler(), ['production_companies_number', 'production_countries_number']),\n",
    "('Robust_scaling', RobustScaler(), ['spoken_languages_number'])],\n",
    "remainder ='passthrough' )\n",
    "\n",
    "preprocessor"
   ]
  },
  {
   "cell_type": "code",
   "execution_count": 124,
   "id": "593308cb",
   "metadata": {},
   "outputs": [],
   "source": [
    "df_transformed = preprocessor.fit_transform(df)"
   ]
  },
  {
   "cell_type": "code",
   "execution_count": 125,
   "id": "37570f26",
   "metadata": {},
   "outputs": [
    {
     "data": {
      "text/html": [
       "<div>\n",
       "<style scoped>\n",
       "    .dataframe tbody tr th:only-of-type {\n",
       "        vertical-align: middle;\n",
       "    }\n",
       "\n",
       "    .dataframe tbody tr th {\n",
       "        vertical-align: top;\n",
       "    }\n",
       "\n",
       "    .dataframe thead th {\n",
       "        text-align: right;\n",
       "    }\n",
       "</style>\n",
       "<table border=\"1\" class=\"dataframe\">\n",
       "  <thead>\n",
       "    <tr style=\"text-align: right;\">\n",
       "      <th></th>\n",
       "      <th>0</th>\n",
       "      <th>1</th>\n",
       "      <th>2</th>\n",
       "      <th>3</th>\n",
       "      <th>4</th>\n",
       "      <th>5</th>\n",
       "      <th>6</th>\n",
       "      <th>7</th>\n",
       "      <th>8</th>\n",
       "      <th>9</th>\n",
       "      <th>...</th>\n",
       "      <th>42</th>\n",
       "      <th>43</th>\n",
       "      <th>44</th>\n",
       "      <th>45</th>\n",
       "      <th>46</th>\n",
       "      <th>47</th>\n",
       "      <th>48</th>\n",
       "      <th>49</th>\n",
       "      <th>50</th>\n",
       "      <th>51</th>\n",
       "    </tr>\n",
       "  </thead>\n",
       "  <tbody>\n",
       "    <tr>\n",
       "      <th>0</th>\n",
       "      <td>-0.650812</td>\n",
       "      <td>-0.152039</td>\n",
       "      <td>0.076923</td>\n",
       "      <td>0.083333</td>\n",
       "      <td>0.0</td>\n",
       "      <td>5</td>\n",
       "      <td>4000000</td>\n",
       "      <td>Crime|Comedy</td>\n",
       "      <td>tt0113101</td>\n",
       "      <td>en</td>\n",
       "      <td>...</td>\n",
       "      <td>-0.076923</td>\n",
       "      <td>-0.096617</td>\n",
       "      <td>0.076923</td>\n",
       "      <td>0.0</td>\n",
       "      <td>-0.310413</td>\n",
       "      <td>0.083333</td>\n",
       "      <td>0.0</td>\n",
       "      <td>-0.401696</td>\n",
       "      <td>0.111111</td>\n",
       "      <td>0.0</td>\n",
       "    </tr>\n",
       "    <tr>\n",
       "      <th>1</th>\n",
       "      <td>-0.650812</td>\n",
       "      <td>-2.724463</td>\n",
       "      <td>0.0</td>\n",
       "      <td>0.083333</td>\n",
       "      <td>0.0</td>\n",
       "      <td>9</td>\n",
       "      <td>4000000</td>\n",
       "      <td>Drama</td>\n",
       "      <td>tt0425473</td>\n",
       "      <td>de</td>\n",
       "      <td>...</td>\n",
       "      <td>-3.269231</td>\n",
       "      <td>-1.048304</td>\n",
       "      <td>0.0</td>\n",
       "      <td>-1.0</td>\n",
       "      <td>-0.310413</td>\n",
       "      <td>0.083333</td>\n",
       "      <td>0.0</td>\n",
       "      <td>-0.401696</td>\n",
       "      <td>0.111111</td>\n",
       "      <td>0.0</td>\n",
       "    </tr>\n",
       "    <tr>\n",
       "      <th>2</th>\n",
       "      <td>-0.026989</td>\n",
       "      <td>0.560801</td>\n",
       "      <td>0.076923</td>\n",
       "      <td>0.083333</td>\n",
       "      <td>0.0</td>\n",
       "      <td>11</td>\n",
       "      <td>11000000</td>\n",
       "      <td>Adventure|Action|Science Fiction</td>\n",
       "      <td>tt0076759</td>\n",
       "      <td>en</td>\n",
       "      <td>...</td>\n",
       "      <td>0.807692</td>\n",
       "      <td>-0.096617</td>\n",
       "      <td>0.076923</td>\n",
       "      <td>0.0</td>\n",
       "      <td>-0.310413</td>\n",
       "      <td>0.083333</td>\n",
       "      <td>0.0</td>\n",
       "      <td>-0.401696</td>\n",
       "      <td>0.111111</td>\n",
       "      <td>0.0</td>\n",
       "    </tr>\n",
       "    <tr>\n",
       "      <th>3</th>\n",
       "      <td>1.296011</td>\n",
       "      <td>-0.090053</td>\n",
       "      <td>0.038462</td>\n",
       "      <td>0.083333</td>\n",
       "      <td>0.0</td>\n",
       "      <td>12</td>\n",
       "      <td>94000000</td>\n",
       "      <td>Animation|Family</td>\n",
       "      <td>tt0266543</td>\n",
       "      <td>en</td>\n",
       "      <td>...</td>\n",
       "      <td>0.0</td>\n",
       "      <td>-0.57246</td>\n",
       "      <td>0.038462</td>\n",
       "      <td>-0.5</td>\n",
       "      <td>-0.310413</td>\n",
       "      <td>0.083333</td>\n",
       "      <td>0.0</td>\n",
       "      <td>-0.401696</td>\n",
       "      <td>0.111111</td>\n",
       "      <td>0.0</td>\n",
       "    </tr>\n",
       "    <tr>\n",
       "      <th>4</th>\n",
       "      <td>0.9655</td>\n",
       "      <td>1.211656</td>\n",
       "      <td>0.038462</td>\n",
       "      <td>0.083333</td>\n",
       "      <td>0.0</td>\n",
       "      <td>13</td>\n",
       "      <td>55000000</td>\n",
       "      <td>Comedy|Drama|Romance</td>\n",
       "      <td>tt0109830</td>\n",
       "      <td>en</td>\n",
       "      <td>...</td>\n",
       "      <td>1.615385</td>\n",
       "      <td>-0.57246</td>\n",
       "      <td>0.038462</td>\n",
       "      <td>-0.5</td>\n",
       "      <td>-0.310413</td>\n",
       "      <td>0.083333</td>\n",
       "      <td>0.0</td>\n",
       "      <td>-0.401696</td>\n",
       "      <td>0.111111</td>\n",
       "      <td>0.0</td>\n",
       "    </tr>\n",
       "    <tr>\n",
       "      <th>...</th>\n",
       "      <td>...</td>\n",
       "      <td>...</td>\n",
       "      <td>...</td>\n",
       "      <td>...</td>\n",
       "      <td>...</td>\n",
       "      <td>...</td>\n",
       "      <td>...</td>\n",
       "      <td>...</td>\n",
       "      <td>...</td>\n",
       "      <td>...</td>\n",
       "      <td>...</td>\n",
       "      <td>...</td>\n",
       "      <td>...</td>\n",
       "      <td>...</td>\n",
       "      <td>...</td>\n",
       "      <td>...</td>\n",
       "      <td>...</td>\n",
       "      <td>...</td>\n",
       "      <td>...</td>\n",
       "      <td>...</td>\n",
       "      <td>...</td>\n",
       "    </tr>\n",
       "    <tr>\n",
       "      <th>8934</th>\n",
       "      <td>-1.255658</td>\n",
       "      <td>-0.090053</td>\n",
       "      <td>0.0</td>\n",
       "      <td>0.0</td>\n",
       "      <td>-1.0</td>\n",
       "      <td>464068</td>\n",
       "      <td>1500000</td>\n",
       "      <td>NaN</td>\n",
       "      <td>tt5198844</td>\n",
       "      <td>en</td>\n",
       "      <td>...</td>\n",
       "      <td>0.0</td>\n",
       "      <td>-1.048304</td>\n",
       "      <td>0.0</td>\n",
       "      <td>-1.0</td>\n",
       "      <td>-1.620506</td>\n",
       "      <td>0.0</td>\n",
       "      <td>-1.0</td>\n",
       "      <td>-1.566771</td>\n",
       "      <td>0.0</td>\n",
       "      <td>-1.0</td>\n",
       "    </tr>\n",
       "    <tr>\n",
       "      <th>8935</th>\n",
       "      <td>0.400453</td>\n",
       "      <td>-3.189359</td>\n",
       "      <td>0.115385</td>\n",
       "      <td>0.166667</td>\n",
       "      <td>-1.0</td>\n",
       "      <td>467210</td>\n",
       "      <td>22000000</td>\n",
       "      <td>Action|Animation|Adventure|Family|Romance</td>\n",
       "      <td>NaN</td>\n",
       "      <td>es</td>\n",
       "      <td>...</td>\n",
       "      <td>-3.846154</td>\n",
       "      <td>0.379227</td>\n",
       "      <td>0.115385</td>\n",
       "      <td>0.5</td>\n",
       "      <td>0.999681</td>\n",
       "      <td>0.166667</td>\n",
       "      <td>1.0</td>\n",
       "      <td>-1.566771</td>\n",
       "      <td>0.0</td>\n",
       "      <td>-1.0</td>\n",
       "    </tr>\n",
       "    <tr>\n",
       "      <th>8936</th>\n",
       "      <td>-0.215709</td>\n",
       "      <td>1.86251</td>\n",
       "      <td>0.0</td>\n",
       "      <td>0.083333</td>\n",
       "      <td>1.0</td>\n",
       "      <td>467453</td>\n",
       "      <td>8100000</td>\n",
       "      <td>Comedy|Action|Drama</td>\n",
       "      <td>tt5883300</td>\n",
       "      <td>en</td>\n",
       "      <td>...</td>\n",
       "      <td>2.423077</td>\n",
       "      <td>-1.048304</td>\n",
       "      <td>0.0</td>\n",
       "      <td>-1.0</td>\n",
       "      <td>-0.310413</td>\n",
       "      <td>0.083333</td>\n",
       "      <td>0.0</td>\n",
       "      <td>0.763379</td>\n",
       "      <td>0.222222</td>\n",
       "      <td>1.0</td>\n",
       "    </tr>\n",
       "    <tr>\n",
       "      <th>8937</th>\n",
       "      <td>-1.643301</td>\n",
       "      <td>-3.189359</td>\n",
       "      <td>0.0</td>\n",
       "      <td>0.083333</td>\n",
       "      <td>0.0</td>\n",
       "      <td>468654</td>\n",
       "      <td>800000</td>\n",
       "      <td>NaN</td>\n",
       "      <td>NaN</td>\n",
       "      <td>ar</td>\n",
       "      <td>...</td>\n",
       "      <td>-3.846154</td>\n",
       "      <td>-1.048304</td>\n",
       "      <td>0.0</td>\n",
       "      <td>-1.0</td>\n",
       "      <td>-0.310413</td>\n",
       "      <td>0.083333</td>\n",
       "      <td>0.0</td>\n",
       "      <td>-0.401696</td>\n",
       "      <td>0.111111</td>\n",
       "      <td>0.0</td>\n",
       "    </tr>\n",
       "    <tr>\n",
       "      <th>8938</th>\n",
       "      <td>-1.643301</td>\n",
       "      <td>0.126899</td>\n",
       "      <td>0.076923</td>\n",
       "      <td>0.083333</td>\n",
       "      <td>0.0</td>\n",
       "      <td>468938</td>\n",
       "      <td>800000</td>\n",
       "      <td>Romance|Drama</td>\n",
       "      <td>tt5485420</td>\n",
       "      <td>ru</td>\n",
       "      <td>...</td>\n",
       "      <td>0.269231</td>\n",
       "      <td>-0.096617</td>\n",
       "      <td>0.076923</td>\n",
       "      <td>0.0</td>\n",
       "      <td>-0.310413</td>\n",
       "      <td>0.083333</td>\n",
       "      <td>0.0</td>\n",
       "      <td>-0.401696</td>\n",
       "      <td>0.111111</td>\n",
       "      <td>0.0</td>\n",
       "    </tr>\n",
       "  </tbody>\n",
       "</table>\n",
       "<p>8939 rows × 52 columns</p>\n",
       "</div>"
      ],
      "text/plain": [
       "            0         1         2         3    4       5         6   \\\n",
       "0    -0.650812 -0.152039  0.076923  0.083333  0.0       5   4000000   \n",
       "1    -0.650812 -2.724463       0.0  0.083333  0.0       9   4000000   \n",
       "2    -0.026989  0.560801  0.076923  0.083333  0.0      11  11000000   \n",
       "3     1.296011 -0.090053  0.038462  0.083333  0.0      12  94000000   \n",
       "4       0.9655  1.211656  0.038462  0.083333  0.0      13  55000000   \n",
       "...        ...       ...       ...       ...  ...     ...       ...   \n",
       "8934 -1.255658 -0.090053       0.0       0.0 -1.0  464068   1500000   \n",
       "8935  0.400453 -3.189359  0.115385  0.166667 -1.0  467210  22000000   \n",
       "8936 -0.215709   1.86251       0.0  0.083333  1.0  467453   8100000   \n",
       "8937 -1.643301 -3.189359       0.0  0.083333  0.0  468654    800000   \n",
       "8938 -1.643301  0.126899  0.076923  0.083333  0.0  468938    800000   \n",
       "\n",
       "                                             7          8   9   ...        42  \\\n",
       "0                                  Crime|Comedy  tt0113101  en  ... -0.076923   \n",
       "1                                         Drama  tt0425473  de  ... -3.269231   \n",
       "2              Adventure|Action|Science Fiction  tt0076759  en  ...  0.807692   \n",
       "3                              Animation|Family  tt0266543  en  ...       0.0   \n",
       "4                          Comedy|Drama|Romance  tt0109830  en  ...  1.615385   \n",
       "...                                         ...        ...  ..  ...       ...   \n",
       "8934                                        NaN  tt5198844  en  ...       0.0   \n",
       "8935  Action|Animation|Adventure|Family|Romance        NaN  es  ... -3.846154   \n",
       "8936                        Comedy|Action|Drama  tt5883300  en  ...  2.423077   \n",
       "8937                                        NaN        NaN  ar  ... -3.846154   \n",
       "8938                              Romance|Drama  tt5485420  ru  ...  0.269231   \n",
       "\n",
       "            43        44   45        46        47   48        49        50  \\\n",
       "0    -0.096617  0.076923  0.0 -0.310413  0.083333  0.0 -0.401696  0.111111   \n",
       "1    -1.048304       0.0 -1.0 -0.310413  0.083333  0.0 -0.401696  0.111111   \n",
       "2    -0.096617  0.076923  0.0 -0.310413  0.083333  0.0 -0.401696  0.111111   \n",
       "3     -0.57246  0.038462 -0.5 -0.310413  0.083333  0.0 -0.401696  0.111111   \n",
       "4     -0.57246  0.038462 -0.5 -0.310413  0.083333  0.0 -0.401696  0.111111   \n",
       "...        ...       ...  ...       ...       ...  ...       ...       ...   \n",
       "8934 -1.048304       0.0 -1.0 -1.620506       0.0 -1.0 -1.566771       0.0   \n",
       "8935  0.379227  0.115385  0.5  0.999681  0.166667  1.0 -1.566771       0.0   \n",
       "8936 -1.048304       0.0 -1.0 -0.310413  0.083333  0.0  0.763379  0.222222   \n",
       "8937 -1.048304       0.0 -1.0 -0.310413  0.083333  0.0 -0.401696  0.111111   \n",
       "8938 -0.096617  0.076923  0.0 -0.310413  0.083333  0.0 -0.401696  0.111111   \n",
       "\n",
       "       51  \n",
       "0     0.0  \n",
       "1     0.0  \n",
       "2     0.0  \n",
       "3     0.0  \n",
       "4     0.0  \n",
       "...   ...  \n",
       "8934 -1.0  \n",
       "8935 -1.0  \n",
       "8936  1.0  \n",
       "8937  0.0  \n",
       "8938  0.0  \n",
       "\n",
       "[8939 rows x 52 columns]"
      ]
     },
     "execution_count": 125,
     "metadata": {},
     "output_type": "execute_result"
    }
   ],
   "source": [
    "pd.DataFrame(df_transformed)"
   ]
  },
  {
   "cell_type": "code",
   "execution_count": 126,
   "id": "80bc1106",
   "metadata": {},
   "outputs": [
    {
     "data": {
      "text/html": [
       "<div>\n",
       "<style scoped>\n",
       "    .dataframe tbody tr th:only-of-type {\n",
       "        vertical-align: middle;\n",
       "    }\n",
       "\n",
       "    .dataframe tbody tr th {\n",
       "        vertical-align: top;\n",
       "    }\n",
       "\n",
       "    .dataframe thead th {\n",
       "        text-align: right;\n",
       "    }\n",
       "</style>\n",
       "<table border=\"1\" class=\"dataframe\">\n",
       "  <thead>\n",
       "    <tr style=\"text-align: right;\">\n",
       "      <th></th>\n",
       "      <th>Standardization_scaling__budget_log</th>\n",
       "      <th>Standardization_scaling__runtime</th>\n",
       "      <th>MinMax_scaling__production_companies_number</th>\n",
       "      <th>MinMax_scaling__production_countries_number</th>\n",
       "      <th>Robust_scaling__spoken_languages_number</th>\n",
       "      <th>remainder__id</th>\n",
       "      <th>remainder__budget</th>\n",
       "      <th>remainder__genres</th>\n",
       "      <th>remainder__imdb_id</th>\n",
       "      <th>remainder__original_language</th>\n",
       "      <th>...</th>\n",
       "      <th>remainder__runtime_rb_scal</th>\n",
       "      <th>remainder__production_companies_number_sd_scal</th>\n",
       "      <th>remainder__production_companies_number_mm_scal</th>\n",
       "      <th>remainder__production_companies_number_rb_scal</th>\n",
       "      <th>remainder__production_countries_number_sd_scal</th>\n",
       "      <th>remainder__production_countries_number_mm_scal</th>\n",
       "      <th>remainder__production_countries_number_rb_scal</th>\n",
       "      <th>remainder__spoken_languages_number_sd_scal</th>\n",
       "      <th>remainder__spoken_languages_number_mm_scal</th>\n",
       "      <th>remainder__spoken_languages_number_rb_scal</th>\n",
       "    </tr>\n",
       "  </thead>\n",
       "  <tbody>\n",
       "    <tr>\n",
       "      <th>0</th>\n",
       "      <td>-0.650812</td>\n",
       "      <td>-0.152039</td>\n",
       "      <td>0.076923</td>\n",
       "      <td>0.083333</td>\n",
       "      <td>0.0</td>\n",
       "      <td>5</td>\n",
       "      <td>4000000</td>\n",
       "      <td>Crime|Comedy</td>\n",
       "      <td>tt0113101</td>\n",
       "      <td>en</td>\n",
       "      <td>...</td>\n",
       "      <td>-0.076923</td>\n",
       "      <td>-0.096617</td>\n",
       "      <td>0.076923</td>\n",
       "      <td>0.0</td>\n",
       "      <td>-0.310413</td>\n",
       "      <td>0.083333</td>\n",
       "      <td>0.0</td>\n",
       "      <td>-0.401696</td>\n",
       "      <td>0.111111</td>\n",
       "      <td>0.0</td>\n",
       "    </tr>\n",
       "    <tr>\n",
       "      <th>1</th>\n",
       "      <td>-0.650812</td>\n",
       "      <td>-2.724463</td>\n",
       "      <td>0.0</td>\n",
       "      <td>0.083333</td>\n",
       "      <td>0.0</td>\n",
       "      <td>9</td>\n",
       "      <td>4000000</td>\n",
       "      <td>Drama</td>\n",
       "      <td>tt0425473</td>\n",
       "      <td>de</td>\n",
       "      <td>...</td>\n",
       "      <td>-3.269231</td>\n",
       "      <td>-1.048304</td>\n",
       "      <td>0.0</td>\n",
       "      <td>-1.0</td>\n",
       "      <td>-0.310413</td>\n",
       "      <td>0.083333</td>\n",
       "      <td>0.0</td>\n",
       "      <td>-0.401696</td>\n",
       "      <td>0.111111</td>\n",
       "      <td>0.0</td>\n",
       "    </tr>\n",
       "    <tr>\n",
       "      <th>2</th>\n",
       "      <td>-0.026989</td>\n",
       "      <td>0.560801</td>\n",
       "      <td>0.076923</td>\n",
       "      <td>0.083333</td>\n",
       "      <td>0.0</td>\n",
       "      <td>11</td>\n",
       "      <td>11000000</td>\n",
       "      <td>Adventure|Action|Science Fiction</td>\n",
       "      <td>tt0076759</td>\n",
       "      <td>en</td>\n",
       "      <td>...</td>\n",
       "      <td>0.807692</td>\n",
       "      <td>-0.096617</td>\n",
       "      <td>0.076923</td>\n",
       "      <td>0.0</td>\n",
       "      <td>-0.310413</td>\n",
       "      <td>0.083333</td>\n",
       "      <td>0.0</td>\n",
       "      <td>-0.401696</td>\n",
       "      <td>0.111111</td>\n",
       "      <td>0.0</td>\n",
       "    </tr>\n",
       "    <tr>\n",
       "      <th>3</th>\n",
       "      <td>1.296011</td>\n",
       "      <td>-0.090053</td>\n",
       "      <td>0.038462</td>\n",
       "      <td>0.083333</td>\n",
       "      <td>0.0</td>\n",
       "      <td>12</td>\n",
       "      <td>94000000</td>\n",
       "      <td>Animation|Family</td>\n",
       "      <td>tt0266543</td>\n",
       "      <td>en</td>\n",
       "      <td>...</td>\n",
       "      <td>0.0</td>\n",
       "      <td>-0.57246</td>\n",
       "      <td>0.038462</td>\n",
       "      <td>-0.5</td>\n",
       "      <td>-0.310413</td>\n",
       "      <td>0.083333</td>\n",
       "      <td>0.0</td>\n",
       "      <td>-0.401696</td>\n",
       "      <td>0.111111</td>\n",
       "      <td>0.0</td>\n",
       "    </tr>\n",
       "    <tr>\n",
       "      <th>4</th>\n",
       "      <td>0.9655</td>\n",
       "      <td>1.211656</td>\n",
       "      <td>0.038462</td>\n",
       "      <td>0.083333</td>\n",
       "      <td>0.0</td>\n",
       "      <td>13</td>\n",
       "      <td>55000000</td>\n",
       "      <td>Comedy|Drama|Romance</td>\n",
       "      <td>tt0109830</td>\n",
       "      <td>en</td>\n",
       "      <td>...</td>\n",
       "      <td>1.615385</td>\n",
       "      <td>-0.57246</td>\n",
       "      <td>0.038462</td>\n",
       "      <td>-0.5</td>\n",
       "      <td>-0.310413</td>\n",
       "      <td>0.083333</td>\n",
       "      <td>0.0</td>\n",
       "      <td>-0.401696</td>\n",
       "      <td>0.111111</td>\n",
       "      <td>0.0</td>\n",
       "    </tr>\n",
       "  </tbody>\n",
       "</table>\n",
       "<p>5 rows × 52 columns</p>\n",
       "</div>"
      ],
      "text/plain": [
       "  Standardization_scaling__budget_log Standardization_scaling__runtime  \\\n",
       "0                           -0.650812                        -0.152039   \n",
       "1                           -0.650812                        -2.724463   \n",
       "2                           -0.026989                         0.560801   \n",
       "3                            1.296011                        -0.090053   \n",
       "4                              0.9655                         1.211656   \n",
       "\n",
       "  MinMax_scaling__production_companies_number  \\\n",
       "0                                    0.076923   \n",
       "1                                         0.0   \n",
       "2                                    0.076923   \n",
       "3                                    0.038462   \n",
       "4                                    0.038462   \n",
       "\n",
       "  MinMax_scaling__production_countries_number  \\\n",
       "0                                    0.083333   \n",
       "1                                    0.083333   \n",
       "2                                    0.083333   \n",
       "3                                    0.083333   \n",
       "4                                    0.083333   \n",
       "\n",
       "  Robust_scaling__spoken_languages_number remainder__id remainder__budget  \\\n",
       "0                                     0.0             5           4000000   \n",
       "1                                     0.0             9           4000000   \n",
       "2                                     0.0            11          11000000   \n",
       "3                                     0.0            12          94000000   \n",
       "4                                     0.0            13          55000000   \n",
       "\n",
       "                  remainder__genres remainder__imdb_id  \\\n",
       "0                      Crime|Comedy          tt0113101   \n",
       "1                             Drama          tt0425473   \n",
       "2  Adventure|Action|Science Fiction          tt0076759   \n",
       "3                  Animation|Family          tt0266543   \n",
       "4              Comedy|Drama|Romance          tt0109830   \n",
       "\n",
       "  remainder__original_language  ... remainder__runtime_rb_scal  \\\n",
       "0                           en  ...                  -0.076923   \n",
       "1                           de  ...                  -3.269231   \n",
       "2                           en  ...                   0.807692   \n",
       "3                           en  ...                        0.0   \n",
       "4                           en  ...                   1.615385   \n",
       "\n",
       "  remainder__production_companies_number_sd_scal  \\\n",
       "0                                      -0.096617   \n",
       "1                                      -1.048304   \n",
       "2                                      -0.096617   \n",
       "3                                       -0.57246   \n",
       "4                                       -0.57246   \n",
       "\n",
       "  remainder__production_companies_number_mm_scal  \\\n",
       "0                                       0.076923   \n",
       "1                                            0.0   \n",
       "2                                       0.076923   \n",
       "3                                       0.038462   \n",
       "4                                       0.038462   \n",
       "\n",
       "  remainder__production_companies_number_rb_scal  \\\n",
       "0                                            0.0   \n",
       "1                                           -1.0   \n",
       "2                                            0.0   \n",
       "3                                           -0.5   \n",
       "4                                           -0.5   \n",
       "\n",
       "  remainder__production_countries_number_sd_scal  \\\n",
       "0                                      -0.310413   \n",
       "1                                      -0.310413   \n",
       "2                                      -0.310413   \n",
       "3                                      -0.310413   \n",
       "4                                      -0.310413   \n",
       "\n",
       "  remainder__production_countries_number_mm_scal  \\\n",
       "0                                       0.083333   \n",
       "1                                       0.083333   \n",
       "2                                       0.083333   \n",
       "3                                       0.083333   \n",
       "4                                       0.083333   \n",
       "\n",
       "  remainder__production_countries_number_rb_scal  \\\n",
       "0                                            0.0   \n",
       "1                                            0.0   \n",
       "2                                            0.0   \n",
       "3                                            0.0   \n",
       "4                                            0.0   \n",
       "\n",
       "  remainder__spoken_languages_number_sd_scal  \\\n",
       "0                                  -0.401696   \n",
       "1                                  -0.401696   \n",
       "2                                  -0.401696   \n",
       "3                                  -0.401696   \n",
       "4                                  -0.401696   \n",
       "\n",
       "  remainder__spoken_languages_number_mm_scal  \\\n",
       "0                                   0.111111   \n",
       "1                                   0.111111   \n",
       "2                                   0.111111   \n",
       "3                                   0.111111   \n",
       "4                                   0.111111   \n",
       "\n",
       "  remainder__spoken_languages_number_rb_scal  \n",
       "0                                        0.0  \n",
       "1                                        0.0  \n",
       "2                                        0.0  \n",
       "3                                        0.0  \n",
       "4                                        0.0  \n",
       "\n",
       "[5 rows x 52 columns]"
      ]
     },
     "execution_count": 126,
     "metadata": {},
     "output_type": "execute_result"
    }
   ],
   "source": [
    "pd.DataFrame(\n",
    "df_transformed,\n",
    "columns=preprocessor.get_feature_names_out()\n",
    ").head()"
   ]
  },
  {
   "cell_type": "code",
   "execution_count": null,
   "id": "5be5e11f",
   "metadata": {},
   "outputs": [],
   "source": []
  }
 ],
 "metadata": {
  "kernelspec": {
   "display_name": "Python 3 (ipykernel)",
   "language": "python",
   "name": "python3"
  },
  "language_info": {
   "codemirror_mode": {
    "name": "ipython",
    "version": 3
   },
   "file_extension": ".py",
   "mimetype": "text/x-python",
   "name": "python",
   "nbconvert_exporter": "python",
   "pygments_lexer": "ipython3",
   "version": "3.8.12"
  }
 },
 "nbformat": 4,
 "nbformat_minor": 5
}
