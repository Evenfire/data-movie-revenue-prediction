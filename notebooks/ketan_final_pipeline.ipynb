{
 "cells": [
  {
   "cell_type": "code",
   "execution_count": 1,
   "id": "69a8f75c",
   "metadata": {},
   "outputs": [],
   "source": [
    "# Use this cell to regroup all your imports\n",
    "import pandas as pd\n",
    "import numpy as np\n",
    "import matplotlib.pyplot as plt\n",
    "import seaborn as sns\n",
    "import warnings\n",
    "warnings.filterwarnings(\"ignore\")\n",
    "from sklearn import set_config; set_config(display='diagram')\n",
    "from python_files.data import GetData\n",
    "from python_files.basic_preprocessing import BasicPreprocessing\n",
    "from python_files.preprocessing import Advancedprocessing\n",
    "import xgboost as xgb\n",
    "import collections"
   ]
  },
  {
   "cell_type": "markdown",
   "id": "d167cd49",
   "metadata": {},
   "source": [
    "# Load"
   ]
  },
  {
   "cell_type": "code",
   "execution_count": 2,
   "id": "6e2be66a",
   "metadata": {},
   "outputs": [],
   "source": [
    "data = pd.read_csv('../data/AllDataMerged_updated.csv')"
   ]
  },
  {
   "cell_type": "code",
   "execution_count": 3,
   "id": "1ca8aa21",
   "metadata": {},
   "outputs": [
    {
     "name": "stdout",
     "output_type": "stream",
     "text": [
      "<class 'pandas.core.frame.DataFrame'>\n",
      "RangeIndex: 8939 entries, 0 to 8938\n",
      "Data columns (total 35 columns):\n",
      " #   Column                       Non-Null Count  Dtype  \n",
      "---  ------                       --------------  -----  \n",
      " 0   id                           8939 non-null   int64  \n",
      " 1   budget                       8939 non-null   int64  \n",
      " 2   genres                       8693 non-null   object \n",
      " 3   imdb_id                      8712 non-null   object \n",
      " 4   original_language            8938 non-null   object \n",
      " 5   production_companies         8939 non-null   object \n",
      " 6   production_countries         8939 non-null   object \n",
      " 7   release_date                 8918 non-null   object \n",
      " 8   revenue                      8939 non-null   int64  \n",
      " 9   runtime                      8913 non-null   float64\n",
      " 10  spoken_languages             8856 non-null   object \n",
      " 11  status                       8939 non-null   object \n",
      " 12  title                        8939 non-null   object \n",
      " 13  production_companies_number  8939 non-null   int64  \n",
      " 14  production_countries_number  8939 non-null   int64  \n",
      " 15  spoken_languages_number      8939 non-null   int64  \n",
      " 16  belongs_to_collection        1472 non-null   object \n",
      " 17  actor1_name                  8939 non-null   object \n",
      " 18  actor1_gender                8939 non-null   int64  \n",
      " 19  actor2_name                  8939 non-null   object \n",
      " 20  actor2_gender                8939 non-null   float64\n",
      " 21  actor3_name                  8939 non-null   object \n",
      " 22  actor3_gender                8939 non-null   int64  \n",
      " 23  actor4_name                  8939 non-null   object \n",
      " 24  actor4_gender                8939 non-null   int64  \n",
      " 25  actor5_name                  8939 non-null   object \n",
      " 26  actor5_gender                8939 non-null   int64  \n",
      " 27  actor_number                 8939 non-null   int64  \n",
      " 28  director_name                8939 non-null   object \n",
      " 29  director_gender              8939 non-null   float64\n",
      " 30  director_number              8939 non-null   int64  \n",
      " 31  producer_name                8939 non-null   object \n",
      " 32  producer_number              8939 non-null   int64  \n",
      " 33  screeplay_name               8939 non-null   object \n",
      " 34  editor_name                  8939 non-null   object \n",
      "dtypes: float64(3), int64(13), object(19)\n",
      "memory usage: 2.4+ MB\n"
     ]
    }
   ],
   "source": [
    "data.info()"
   ]
  },
  {
   "cell_type": "code",
   "execution_count": 4,
   "id": "5816d15e",
   "metadata": {},
   "outputs": [
    {
     "data": {
      "text/plain": [
       "{'whiskers': [<matplotlib.lines.Line2D at 0x7f4f77574ee0>,\n",
       "  <matplotlib.lines.Line2D at 0x7f4f775161f0>],\n",
       " 'caps': [<matplotlib.lines.Line2D at 0x7f4f77516580>,\n",
       "  <matplotlib.lines.Line2D at 0x7f4f77516790>],\n",
       " 'boxes': [<matplotlib.lines.Line2D at 0x7f4f77574c10>],\n",
       " 'medians': [<matplotlib.lines.Line2D at 0x7f4f77516a60>],\n",
       " 'fliers': [<matplotlib.lines.Line2D at 0x7f4f77516d30>],\n",
       " 'means': []}"
      ]
     },
     "execution_count": 4,
     "metadata": {},
     "output_type": "execute_result"
    },
    {
     "data": {
      "image/png": "[encoded data removed]",
      "text/plain": [
       "<Figure size 432x288 with 1 Axes>"
      ]
     },
     "metadata": {
      "needs_background": "light"
     },
     "output_type": "display_data"
    }
   ],
   "source": [
    "plt.boxplot(np.log(data['revenue']))"
   ]
  },
  {
   "cell_type": "code",
   "execution_count": 5,
   "id": "7260d487",
   "metadata": {},
   "outputs": [
    {
     "data": {
      "text/plain": [
       "id                             0\n",
       "budget                         0\n",
       "genres                         0\n",
       "imdb_id                        0\n",
       "original_language              0\n",
       "production_companies           0\n",
       "production_countries           0\n",
       "release_date                   0\n",
       "revenue                        0\n",
       "runtime                        0\n",
       "spoken_languages               0\n",
       "status                         0\n",
       "title                          0\n",
       "production_companies_number    0\n",
       "production_countries_number    0\n",
       "spoken_languages_number        0\n",
       "belongs_to_collection          0\n",
       "actor1_name                    0\n",
       "actor1_gender                  0\n",
       "actor2_name                    0\n",
       "actor2_gender                  0\n",
       "actor3_name                    0\n",
       "actor3_gender                  0\n",
       "actor4_name                    0\n",
       "actor4_gender                  0\n",
       "actor5_name                    0\n",
       "actor5_gender                  0\n",
       "actor_number                   0\n",
       "director_name                  0\n",
       "director_gender                0\n",
       "director_number                0\n",
       "producer_name                  0\n",
       "producer_number                0\n",
       "screeplay_name                 0\n",
       "editor_name                    0\n",
       "dtype: int64"
      ]
     },
     "execution_count": 5,
     "metadata": {},
     "output_type": "execute_result"
    }
   ],
   "source": [
    "q1= data['revenue'].quantile(0.25)\n",
    "q3= data['revenue'].quantile(0.75)\n",
    "iqr = q3-q1\n",
    "outlier = data[data['revenue']<(q1-1.5*iqr)].count()\n",
    "outlier"
   ]
  },
  {
   "cell_type": "code",
   "execution_count": 6,
   "id": "163a774f",
   "metadata": {},
   "outputs": [],
   "source": [
    "data = data[np.log(data['revenue'])>14]"
   ]
  },
  {
   "cell_type": "code",
   "execution_count": 7,
   "id": "9dc71ad3",
   "metadata": {},
   "outputs": [
    {
     "data": {
      "text/plain": [
       "id                             7958\n",
       "budget                          782\n",
       "genres                         1582\n",
       "imdb_id                        7785\n",
       "original_language                51\n",
       "production_companies           2327\n",
       "production_countries             82\n",
       "release_date                   5255\n",
       "revenue                        5578\n",
       "runtime                         223\n",
       "spoken_languages                 60\n",
       "status                            1\n",
       "title                          7787\n",
       "production_companies_number      22\n",
       "production_countries_number      10\n",
       "spoken_languages_number          10\n",
       "belongs_to_collection           776\n",
       "actor1_name                    3679\n",
       "actor1_gender                     3\n",
       "actor2_name                    4758\n",
       "actor2_gender                     3\n",
       "actor3_name                    5315\n",
       "actor3_gender                     3\n",
       "actor4_name                    5614\n",
       "actor4_gender                     3\n",
       "actor5_name                    5687\n",
       "actor5_gender                     3\n",
       "actor_number                    142\n",
       "director_name                  4036\n",
       "director_gender                   3\n",
       "director_number                  12\n",
       "producer_name                  2991\n",
       "producer_number                  14\n",
       "screeplay_name                 2757\n",
       "editor_name                    1970\n",
       "dtype: int64"
      ]
     },
     "execution_count": 7,
     "metadata": {},
     "output_type": "execute_result"
    }
   ],
   "source": [
    "data.nunique()"
   ]
  },
  {
   "cell_type": "code",
   "execution_count": 8,
   "id": "3e04be9f",
   "metadata": {},
   "outputs": [
    {
     "data": {
      "text/plain": [
       "belongs_to_collection          0.823197\n",
       "genres                         0.025132\n",
       "imdb_id                        0.021739\n",
       "spoken_languages               0.007163\n",
       "release_date                   0.001885\n",
       "runtime                        0.001759\n",
       "director_name                  0.000000\n",
       "actor4_name                    0.000000\n",
       "actor4_gender                  0.000000\n",
       "actor5_name                    0.000000\n",
       "actor5_gender                  0.000000\n",
       "actor_number                   0.000000\n",
       "id                             0.000000\n",
       "director_gender                0.000000\n",
       "actor3_name                    0.000000\n",
       "director_number                0.000000\n",
       "producer_name                  0.000000\n",
       "producer_number                0.000000\n",
       "screeplay_name                 0.000000\n",
       "actor3_gender                  0.000000\n",
       "actor1_name                    0.000000\n",
       "actor2_gender                  0.000000\n",
       "actor2_name                    0.000000\n",
       "actor1_gender                  0.000000\n",
       "budget                         0.000000\n",
       "spoken_languages_number        0.000000\n",
       "production_countries_number    0.000000\n",
       "production_companies_number    0.000000\n",
       "title                          0.000000\n",
       "status                         0.000000\n",
       "revenue                        0.000000\n",
       "production_countries           0.000000\n",
       "production_companies           0.000000\n",
       "original_language              0.000000\n",
       "editor_name                    0.000000\n",
       "dtype: float64"
      ]
     },
     "execution_count": 8,
     "metadata": {},
     "output_type": "execute_result"
    }
   ],
   "source": [
    "data.isnull().sum().sort_values(ascending=False)/len(data)"
   ]
  },
  {
   "cell_type": "code",
   "execution_count": 9,
   "id": "df5cc6ce",
   "metadata": {},
   "outputs": [],
   "source": [
    "data.drop_duplicates(inplace = True)"
   ]
  },
  {
   "cell_type": "code",
   "execution_count": 10,
   "id": "b7506be7",
   "metadata": {},
   "outputs": [],
   "source": [
    "X = data.drop(columns=['revenue'])\n",
    "y = data['revenue']"
   ]
  },
  {
   "cell_type": "code",
   "execution_count": 11,
   "id": "c10b0e8e",
   "metadata": {},
   "outputs": [
    {
     "data": {
      "text/html": [
       "<div>\n",
       "<style scoped>\n",
       "    .dataframe tbody tr th:only-of-type {\n",
       "        vertical-align: middle;\n",
       "    }\n",
       "\n",
       "    .dataframe tbody tr th {\n",
       "        vertical-align: top;\n",
       "    }\n",
       "\n",
       "    .dataframe thead th {\n",
       "        text-align: right;\n",
       "    }\n",
       "</style>\n",
       "<table border=\"1\" class=\"dataframe\">\n",
       "  <thead>\n",
       "    <tr style=\"text-align: right;\">\n",
       "      <th></th>\n",
       "      <th>0</th>\n",
       "      <th>1</th>\n",
       "      <th>2</th>\n",
       "      <th>3</th>\n",
       "      <th>4</th>\n",
       "    </tr>\n",
       "  </thead>\n",
       "  <tbody>\n",
       "    <tr>\n",
       "      <th>id</th>\n",
       "      <td>5</td>\n",
       "      <td>9</td>\n",
       "      <td>11</td>\n",
       "      <td>12</td>\n",
       "      <td>13</td>\n",
       "    </tr>\n",
       "    <tr>\n",
       "      <th>budget</th>\n",
       "      <td>4000000</td>\n",
       "      <td>4000000</td>\n",
       "      <td>11000000</td>\n",
       "      <td>94000000</td>\n",
       "      <td>55000000</td>\n",
       "    </tr>\n",
       "    <tr>\n",
       "      <th>genres</th>\n",
       "      <td>Crime|Comedy</td>\n",
       "      <td>Drama</td>\n",
       "      <td>Adventure|Action|Science Fiction</td>\n",
       "      <td>Animation|Family</td>\n",
       "      <td>Comedy|Drama|Romance</td>\n",
       "    </tr>\n",
       "    <tr>\n",
       "      <th>imdb_id</th>\n",
       "      <td>tt0113101</td>\n",
       "      <td>tt0425473</td>\n",
       "      <td>tt0076759</td>\n",
       "      <td>tt0266543</td>\n",
       "      <td>tt0109830</td>\n",
       "    </tr>\n",
       "    <tr>\n",
       "      <th>original_language</th>\n",
       "      <td>en</td>\n",
       "      <td>de</td>\n",
       "      <td>en</td>\n",
       "      <td>en</td>\n",
       "      <td>en</td>\n",
       "    </tr>\n",
       "    <tr>\n",
       "      <th>production_companies</th>\n",
       "      <td>Miramax Films</td>\n",
       "      <td>none</td>\n",
       "      <td>Lucasfilm</td>\n",
       "      <td>Pixar Animation Studios</td>\n",
       "      <td>Paramount Pictures</td>\n",
       "    </tr>\n",
       "    <tr>\n",
       "      <th>production_countries</th>\n",
       "      <td>United States of America</td>\n",
       "      <td>Germany</td>\n",
       "      <td>United States of America</td>\n",
       "      <td>United States of America</td>\n",
       "      <td>United States of America</td>\n",
       "    </tr>\n",
       "    <tr>\n",
       "      <th>release_date</th>\n",
       "      <td>25-12-1995</td>\n",
       "      <td>02-09-2004</td>\n",
       "      <td>25-05-1977</td>\n",
       "      <td>30-05-2003</td>\n",
       "      <td>06-07-1994</td>\n",
       "    </tr>\n",
       "    <tr>\n",
       "      <th>runtime</th>\n",
       "      <td>98.0</td>\n",
       "      <td>15.0</td>\n",
       "      <td>121.0</td>\n",
       "      <td>100.0</td>\n",
       "      <td>142.0</td>\n",
       "    </tr>\n",
       "    <tr>\n",
       "      <th>spoken_languages</th>\n",
       "      <td>English</td>\n",
       "      <td>Deutsch</td>\n",
       "      <td>English</td>\n",
       "      <td>English</td>\n",
       "      <td>English</td>\n",
       "    </tr>\n",
       "    <tr>\n",
       "      <th>status</th>\n",
       "      <td>Released</td>\n",
       "      <td>Released</td>\n",
       "      <td>Released</td>\n",
       "      <td>Released</td>\n",
       "      <td>Released</td>\n",
       "    </tr>\n",
       "    <tr>\n",
       "      <th>title</th>\n",
       "      <td>Four Rooms</td>\n",
       "      <td>Sunday in August</td>\n",
       "      <td>Star Wars</td>\n",
       "      <td>Finding Nemo</td>\n",
       "      <td>Forrest Gump</td>\n",
       "    </tr>\n",
       "    <tr>\n",
       "      <th>production_companies_number</th>\n",
       "      <td>2</td>\n",
       "      <td>0</td>\n",
       "      <td>2</td>\n",
       "      <td>1</td>\n",
       "      <td>1</td>\n",
       "    </tr>\n",
       "    <tr>\n",
       "      <th>production_countries_number</th>\n",
       "      <td>1</td>\n",
       "      <td>1</td>\n",
       "      <td>1</td>\n",
       "      <td>1</td>\n",
       "      <td>1</td>\n",
       "    </tr>\n",
       "    <tr>\n",
       "      <th>spoken_languages_number</th>\n",
       "      <td>1</td>\n",
       "      <td>1</td>\n",
       "      <td>1</td>\n",
       "      <td>1</td>\n",
       "      <td>1</td>\n",
       "    </tr>\n",
       "    <tr>\n",
       "      <th>belongs_to_collection</th>\n",
       "      <td>NaN</td>\n",
       "      <td>NaN</td>\n",
       "      <td>{'id': 10, 'name': 'Star Wars Collection', 'po...</td>\n",
       "      <td>{'id': 137697, 'name': 'Finding Nemo Collectio...</td>\n",
       "      <td>NaN</td>\n",
       "    </tr>\n",
       "    <tr>\n",
       "      <th>actor1_name</th>\n",
       "      <td>Tim Roth</td>\n",
       "      <td>Rita Lengyel</td>\n",
       "      <td>Mark Hamill</td>\n",
       "      <td>Albert Brooks</td>\n",
       "      <td>Tom Hanks</td>\n",
       "    </tr>\n",
       "    <tr>\n",
       "      <th>actor1_gender</th>\n",
       "      <td>2</td>\n",
       "      <td>1</td>\n",
       "      <td>2</td>\n",
       "      <td>2</td>\n",
       "      <td>2</td>\n",
       "    </tr>\n",
       "    <tr>\n",
       "      <th>actor2_name</th>\n",
       "      <td>Antonio Banderas</td>\n",
       "      <td>Milton Welsh</td>\n",
       "      <td>Harrison Ford</td>\n",
       "      <td>Ellen DeGeneres</td>\n",
       "      <td>Robin Wright</td>\n",
       "    </tr>\n",
       "    <tr>\n",
       "      <th>actor2_gender</th>\n",
       "      <td>2.0</td>\n",
       "      <td>2.0</td>\n",
       "      <td>2.0</td>\n",
       "      <td>1.0</td>\n",
       "      <td>1.0</td>\n",
       "    </tr>\n",
       "    <tr>\n",
       "      <th>actor3_name</th>\n",
       "      <td>Jennifer Beals</td>\n",
       "      <td>none</td>\n",
       "      <td>Carrie Fisher</td>\n",
       "      <td>Alexander Gould</td>\n",
       "      <td>Gary Sinise</td>\n",
       "    </tr>\n",
       "    <tr>\n",
       "      <th>actor3_gender</th>\n",
       "      <td>1</td>\n",
       "      <td>0</td>\n",
       "      <td>1</td>\n",
       "      <td>2</td>\n",
       "      <td>2</td>\n",
       "    </tr>\n",
       "    <tr>\n",
       "      <th>actor4_name</th>\n",
       "      <td>Madonna</td>\n",
       "      <td>none</td>\n",
       "      <td>Peter Cushing</td>\n",
       "      <td>Willem Dafoe</td>\n",
       "      <td>Mykelti Williamson</td>\n",
       "    </tr>\n",
       "    <tr>\n",
       "      <th>actor4_gender</th>\n",
       "      <td>1</td>\n",
       "      <td>0</td>\n",
       "      <td>2</td>\n",
       "      <td>2</td>\n",
       "      <td>2</td>\n",
       "    </tr>\n",
       "    <tr>\n",
       "      <th>actor5_name</th>\n",
       "      <td>Marisa Tomei</td>\n",
       "      <td>none</td>\n",
       "      <td>Alec Guinness</td>\n",
       "      <td>Brad Garrett</td>\n",
       "      <td>Sally Field</td>\n",
       "    </tr>\n",
       "    <tr>\n",
       "      <th>actor5_gender</th>\n",
       "      <td>1</td>\n",
       "      <td>0</td>\n",
       "      <td>2</td>\n",
       "      <td>2</td>\n",
       "      <td>1</td>\n",
       "    </tr>\n",
       "    <tr>\n",
       "      <th>actor_number</th>\n",
       "      <td>24</td>\n",
       "      <td>2</td>\n",
       "      <td>106</td>\n",
       "      <td>24</td>\n",
       "      <td>67</td>\n",
       "    </tr>\n",
       "    <tr>\n",
       "      <th>director_name</th>\n",
       "      <td>Allison Anders</td>\n",
       "      <td>Marc Meyer</td>\n",
       "      <td>George Lucas</td>\n",
       "      <td>Andrew Stanton</td>\n",
       "      <td>Robert Zemeckis</td>\n",
       "    </tr>\n",
       "    <tr>\n",
       "      <th>director_gender</th>\n",
       "      <td>1.0</td>\n",
       "      <td>0.0</td>\n",
       "      <td>2.0</td>\n",
       "      <td>2.0</td>\n",
       "      <td>2.0</td>\n",
       "    </tr>\n",
       "    <tr>\n",
       "      <th>director_number</th>\n",
       "      <td>4</td>\n",
       "      <td>2</td>\n",
       "      <td>1</td>\n",
       "      <td>1</td>\n",
       "      <td>1</td>\n",
       "    </tr>\n",
       "    <tr>\n",
       "      <th>producer_name</th>\n",
       "      <td>Lawrence Bender</td>\n",
       "      <td>Marc Meyer</td>\n",
       "      <td>Gary Kurtz</td>\n",
       "      <td>Graham Walters</td>\n",
       "      <td>Wendy Finerman</td>\n",
       "    </tr>\n",
       "    <tr>\n",
       "      <th>producer_number</th>\n",
       "      <td>1</td>\n",
       "      <td>1</td>\n",
       "      <td>2</td>\n",
       "      <td>1</td>\n",
       "      <td>3</td>\n",
       "    </tr>\n",
       "    <tr>\n",
       "      <th>screeplay_name</th>\n",
       "      <td>none</td>\n",
       "      <td>none</td>\n",
       "      <td>none</td>\n",
       "      <td>Andrew Stanton</td>\n",
       "      <td>Eric Roth</td>\n",
       "    </tr>\n",
       "    <tr>\n",
       "      <th>editor_name</th>\n",
       "      <td>Margaret Goodspeed</td>\n",
       "      <td>Marc Meyer</td>\n",
       "      <td>Marcia Lucas</td>\n",
       "      <td>David Ian Salter</td>\n",
       "      <td>Arthur Schmidt</td>\n",
       "    </tr>\n",
       "  </tbody>\n",
       "</table>\n",
       "</div>"
      ],
      "text/plain": [
       "                                                    0                 1  \\\n",
       "id                                                  5                 9   \n",
       "budget                                        4000000           4000000   \n",
       "genres                                   Crime|Comedy             Drama   \n",
       "imdb_id                                     tt0113101         tt0425473   \n",
       "original_language                                  en                de   \n",
       "production_companies                    Miramax Films              none   \n",
       "production_countries         United States of America           Germany   \n",
       "release_date                               25-12-1995        02-09-2004   \n",
       "runtime                                          98.0              15.0   \n",
       "spoken_languages                              English           Deutsch   \n",
       "status                                       Released          Released   \n",
       "title                                      Four Rooms  Sunday in August   \n",
       "production_companies_number                         2                 0   \n",
       "production_countries_number                         1                 1   \n",
       "spoken_languages_number                             1                 1   \n",
       "belongs_to_collection                             NaN               NaN   \n",
       "actor1_name                                  Tim Roth      Rita Lengyel   \n",
       "actor1_gender                                       2                 1   \n",
       "actor2_name                          Antonio Banderas      Milton Welsh   \n",
       "actor2_gender                                     2.0               2.0   \n",
       "actor3_name                            Jennifer Beals              none   \n",
       "actor3_gender                                       1                 0   \n",
       "actor4_name                                   Madonna              none   \n",
       "actor4_gender                                       1                 0   \n",
       "actor5_name                              Marisa Tomei              none   \n",
       "actor5_gender                                       1                 0   \n",
       "actor_number                                       24                 2   \n",
       "director_name                          Allison Anders        Marc Meyer   \n",
       "director_gender                                   1.0               0.0   \n",
       "director_number                                     4                 2   \n",
       "producer_name                         Lawrence Bender        Marc Meyer   \n",
       "producer_number                                     1                 1   \n",
       "screeplay_name                                   none              none   \n",
       "editor_name                        Margaret Goodspeed        Marc Meyer   \n",
       "\n",
       "                                                                             2  \\\n",
       "id                                                                          11   \n",
       "budget                                                                11000000   \n",
       "genres                                        Adventure|Action|Science Fiction   \n",
       "imdb_id                                                              tt0076759   \n",
       "original_language                                                           en   \n",
       "production_companies                                                 Lucasfilm   \n",
       "production_countries                                  United States of America   \n",
       "release_date                                                        25-05-1977   \n",
       "runtime                                                                  121.0   \n",
       "spoken_languages                                                       English   \n",
       "status                                                                Released   \n",
       "title                                                                Star Wars   \n",
       "production_companies_number                                                  2   \n",
       "production_countries_number                                                  1   \n",
       "spoken_languages_number                                                      1   \n",
       "belongs_to_collection        {'id': 10, 'name': 'Star Wars Collection', 'po...   \n",
       "actor1_name                                                        Mark Hamill   \n",
       "actor1_gender                                                                2   \n",
       "actor2_name                                                      Harrison Ford   \n",
       "actor2_gender                                                              2.0   \n",
       "actor3_name                                                      Carrie Fisher   \n",
       "actor3_gender                                                                1   \n",
       "actor4_name                                                      Peter Cushing   \n",
       "actor4_gender                                                                2   \n",
       "actor5_name                                                      Alec Guinness   \n",
       "actor5_gender                                                                2   \n",
       "actor_number                                                               106   \n",
       "director_name                                                     George Lucas   \n",
       "director_gender                                                            2.0   \n",
       "director_number                                                              1   \n",
       "producer_name                                                       Gary Kurtz   \n",
       "producer_number                                                              2   \n",
       "screeplay_name                                                            none   \n",
       "editor_name                                                       Marcia Lucas   \n",
       "\n",
       "                                                                             3  \\\n",
       "id                                                                          12   \n",
       "budget                                                                94000000   \n",
       "genres                                                        Animation|Family   \n",
       "imdb_id                                                              tt0266543   \n",
       "original_language                                                           en   \n",
       "production_companies                                   Pixar Animation Studios   \n",
       "production_countries                                  United States of America   \n",
       "release_date                                                        30-05-2003   \n",
       "runtime                                                                  100.0   \n",
       "spoken_languages                                                       English   \n",
       "status                                                                Released   \n",
       "title                                                             Finding Nemo   \n",
       "production_companies_number                                                  1   \n",
       "production_countries_number                                                  1   \n",
       "spoken_languages_number                                                      1   \n",
       "belongs_to_collection        {'id': 137697, 'name': 'Finding Nemo Collectio...   \n",
       "actor1_name                                                      Albert Brooks   \n",
       "actor1_gender                                                                2   \n",
       "actor2_name                                                    Ellen DeGeneres   \n",
       "actor2_gender                                                              1.0   \n",
       "actor3_name                                                    Alexander Gould   \n",
       "actor3_gender                                                                2   \n",
       "actor4_name                                                       Willem Dafoe   \n",
       "actor4_gender                                                                2   \n",
       "actor5_name                                                       Brad Garrett   \n",
       "actor5_gender                                                                2   \n",
       "actor_number                                                                24   \n",
       "director_name                                                   Andrew Stanton   \n",
       "director_gender                                                            2.0   \n",
       "director_number                                                              1   \n",
       "producer_name                                                   Graham Walters   \n",
       "producer_number                                                              1   \n",
       "screeplay_name                                                  Andrew Stanton   \n",
       "editor_name                                                   David Ian Salter   \n",
       "\n",
       "                                                    4  \n",
       "id                                                 13  \n",
       "budget                                       55000000  \n",
       "genres                           Comedy|Drama|Romance  \n",
       "imdb_id                                     tt0109830  \n",
       "original_language                                  en  \n",
       "production_companies               Paramount Pictures  \n",
       "production_countries         United States of America  \n",
       "release_date                               06-07-1994  \n",
       "runtime                                         142.0  \n",
       "spoken_languages                              English  \n",
       "status                                       Released  \n",
       "title                                    Forrest Gump  \n",
       "production_companies_number                         1  \n",
       "production_countries_number                         1  \n",
       "spoken_languages_number                             1  \n",
       "belongs_to_collection                             NaN  \n",
       "actor1_name                                 Tom Hanks  \n",
       "actor1_gender                                       2  \n",
       "actor2_name                              Robin Wright  \n",
       "actor2_gender                                     1.0  \n",
       "actor3_name                               Gary Sinise  \n",
       "actor3_gender                                       2  \n",
       "actor4_name                        Mykelti Williamson  \n",
       "actor4_gender                                       2  \n",
       "actor5_name                               Sally Field  \n",
       "actor5_gender                                       1  \n",
       "actor_number                                       67  \n",
       "director_name                         Robert Zemeckis  \n",
       "director_gender                                   2.0  \n",
       "director_number                                     1  \n",
       "producer_name                          Wendy Finerman  \n",
       "producer_number                                     3  \n",
       "screeplay_name                              Eric Roth  \n",
       "editor_name                            Arthur Schmidt  "
      ]
     },
     "execution_count": 11,
     "metadata": {},
     "output_type": "execute_result"
    }
   ],
   "source": [
    "X.head().transpose()"
   ]
  },
  {
   "cell_type": "markdown",
   "id": "a555255b",
   "metadata": {},
   "source": [
    "We know 2 main strategies to reduce the number of categorical features post-preprocessing:\n",
    "- **[Remove](https://scikit-learn.org/stable/modules/classes.html#module-sklearn.feature_selection)** features that bring too little explanation to our model. This may require statistical analysis of feature importance \n",
    "- **[Ordinally encode](https://scikit-learn.org/stable/modules/generated/sklearn.preprocessing.OrdinalEncoder.html)** (instead of one-hot-encode) categorical features into integers. However this forces a notion of \"order\" (1>2>3...) that can be detrimental if not set properly!"
   ]
  },
  {
   "cell_type": "code",
   "execution_count": 12,
   "id": "4d69d84c",
   "metadata": {},
   "outputs": [],
   "source": [
    "from sklearn.model_selection import train_test_split\n",
    "\n",
    "X_train, X_test, y_train, y_test = train_test_split(X, y, test_size = 0.30,random_state=6)\n",
    "X_test, X_val , y_val, y_test = train_test_split(X_test, y_test, test_size = 0.50,random_state=6)"
   ]
  },
  {
   "cell_type": "code",
   "execution_count": 13,
   "id": "03255259",
   "metadata": {},
   "outputs": [
    {
     "data": {
      "text/plain": [
       "1194"
      ]
     },
     "execution_count": 13,
     "metadata": {},
     "output_type": "execute_result"
    }
   ],
   "source": [
    "len(X_val)"
   ]
  },
  {
   "cell_type": "markdown",
   "id": "9b4fbad4",
   "metadata": {},
   "source": [
    "### 1.2 Baseline pipe"
   ]
  },
  {
   "cell_type": "markdown",
   "id": "c15030ad",
   "metadata": {},
   "source": [
    "#### a) Preprocessing"
   ]
  },
  {
   "cell_type": "code",
   "execution_count": 14,
   "id": "c14e40a8",
   "metadata": {},
   "outputs": [],
   "source": [
    "from sklearn.impute import KNNImputer\n",
    "from sklearn.pipeline import Pipeline\n",
    "from sklearn.impute import SimpleImputer\n",
    "from sklearn.preprocessing import FunctionTransformer\n",
    "from sklearn.preprocessing import OneHotEncoder\n",
    "from sklearn.linear_model import LogisticRegression\n",
    "from sklearn.pipeline import make_pipeline\n",
    "from sklearn.pipeline import make_union\n",
    "from sklearn.compose import make_column_transformer\n",
    "from sklearn.preprocessing import StandardScaler\n",
    "from sklearn.preprocessing import RobustScaler\n",
    "from sklearn.preprocessing import MinMaxScaler\n",
    "from sklearn.model_selection import train_test_split\n",
    "from sklearn.compose import make_column_selector\n",
    "from sklearn.compose import ColumnTransformer\n",
    "from sklearn.model_selection import GridSearchCV\n",
    "from sklearn.model_selection import cross_val_score\n",
    "from sklearn.linear_model import Ridge"
   ]
  },
  {
   "cell_type": "code",
   "execution_count": 15,
   "id": "3a955535",
   "metadata": {
    "tags": [
     "challengify"
    ]
   },
   "outputs": [
    {
     "data": {
      "text/html": [
       "<style>#sk-container-id-1 {color: black;background-color: white;}#sk-container-id-1 pre{padding: 0;}#sk-container-id-1 div.sk-toggleable {background-color: white;}#sk-container-id-1 label.sk-toggleable__label {cursor: pointer;display: block;width: 100%;margin-bottom: 0;padding: 0.3em;box-sizing: border-box;text-align: center;}#sk-container-id-1 label.sk-toggleable__label-arrow:before {content: \"▸\";float: left;margin-right: 0.25em;color: #696969;}#sk-container-id-1 label.sk-toggleable__label-arrow:hover:before {color: black;}#sk-container-id-1 div.sk-estimator:hover label.sk-toggleable__label-arrow:before {color: black;}#sk-container-id-1 div.sk-toggleable__content {max-height: 0;max-width: 0;overflow: hidden;text-align: left;background-color: #f0f8ff;}#sk-container-id-1 div.sk-toggleable__content pre {margin: 0.2em;color: black;border-radius: 0.25em;background-color: #f0f8ff;}#sk-container-id-1 input.sk-toggleable__control:checked~div.sk-toggleable__content {max-height: 200px;max-width: 100%;overflow: auto;}#sk-container-id-1 input.sk-toggleable__control:checked~label.sk-toggleable__label-arrow:before {content: \"▾\";}#sk-container-id-1 div.sk-estimator input.sk-toggleable__control:checked~label.sk-toggleable__label {background-color: #d4ebff;}#sk-container-id-1 div.sk-label input.sk-toggleable__control:checked~label.sk-toggleable__label {background-color: #d4ebff;}#sk-container-id-1 input.sk-hidden--visually {border: 0;clip: rect(1px 1px 1px 1px);clip: rect(1px, 1px, 1px, 1px);height: 1px;margin: -1px;overflow: hidden;padding: 0;position: absolute;width: 1px;}#sk-container-id-1 div.sk-estimator {font-family: monospace;background-color: #f0f8ff;border: 1px dotted black;border-radius: 0.25em;box-sizing: border-box;margin-bottom: 0.5em;}#sk-container-id-1 div.sk-estimator:hover {background-color: #d4ebff;}#sk-container-id-1 div.sk-parallel-item::after {content: \"\";width: 100%;border-bottom: 1px solid gray;flex-grow: 1;}#sk-container-id-1 div.sk-label:hover label.sk-toggleable__label {background-color: #d4ebff;}#sk-container-id-1 div.sk-serial::before {content: \"\";position: absolute;border-left: 1px solid gray;box-sizing: border-box;top: 0;bottom: 0;left: 50%;z-index: 0;}#sk-container-id-1 div.sk-serial {display: flex;flex-direction: column;align-items: center;background-color: white;padding-right: 0.2em;padding-left: 0.2em;position: relative;}#sk-container-id-1 div.sk-item {position: relative;z-index: 1;}#sk-container-id-1 div.sk-parallel {display: flex;align-items: stretch;justify-content: center;background-color: white;position: relative;}#sk-container-id-1 div.sk-item::before, #sk-container-id-1 div.sk-parallel-item::before {content: \"\";position: absolute;border-left: 1px solid gray;box-sizing: border-box;top: 0;bottom: 0;left: 50%;z-index: -1;}#sk-container-id-1 div.sk-parallel-item {display: flex;flex-direction: column;z-index: 1;position: relative;background-color: white;}#sk-container-id-1 div.sk-parallel-item:first-child::after {align-self: flex-end;width: 50%;}#sk-container-id-1 div.sk-parallel-item:last-child::after {align-self: flex-start;width: 50%;}#sk-container-id-1 div.sk-parallel-item:only-child::after {width: 0;}#sk-container-id-1 div.sk-dashed-wrapped {border: 1px dashed gray;margin: 0 0.4em 0.5em 0.4em;box-sizing: border-box;padding-bottom: 0.4em;background-color: white;}#sk-container-id-1 div.sk-label label {font-family: monospace;font-weight: bold;display: inline-block;line-height: 1.2em;}#sk-container-id-1 div.sk-label-container {text-align: center;}#sk-container-id-1 div.sk-container {/* jupyter's `normalize.less` sets `[hidden] { display: none; }` but bootstrap.min.css set `[hidden] { display: none !important; }` so we also need the `!important` here to be able to override the default hidden behavior on the sphinx rendered scikit-learn.org. See: https://github.com/scikit-learn/scikit-learn/issues/21755 */display: inline-block !important;position: relative;}#sk-container-id-1 div.sk-text-repr-fallback {display: none;}</style><div id=\"sk-container-id-1\" class=\"sk-top-container\"><div class=\"sk-text-repr-fallback\"><pre>ColumnTransformer(transformers=[(&#x27;pipeline&#x27;,\n",
       "                                 Pipeline(steps=[(&#x27;simpleimputer&#x27;,\n",
       "                                                  SimpleImputer()),\n",
       "                                                 (&#x27;robustscaler&#x27;,\n",
       "                                                  RobustScaler())]),\n",
       "                                 [&#x27;budget&#x27;, &#x27;runtime&#x27;,\n",
       "                                  &#x27;production_companies_number&#x27;,\n",
       "                                  &#x27;production_countries_number&#x27;,\n",
       "                                  &#x27;spoken_languages_number&#x27;])])</pre><b>In a Jupyter environment, please rerun this cell to show the HTML representation or trust the notebook. <br />On GitHub, the HTML representation is unable to render, please try loading this page with nbviewer.org.</b></div><div class=\"sk-container\" hidden><div class=\"sk-item sk-dashed-wrapped\"><div class=\"sk-label-container\"><div class=\"sk-label sk-toggleable\"><input class=\"sk-toggleable__control sk-hidden--visually\" id=\"sk-estimator-id-1\" type=\"checkbox\" ><label for=\"sk-estimator-id-1\" class=\"sk-toggleable__label sk-toggleable__label-arrow\">ColumnTransformer</label><div class=\"sk-toggleable__content\"><pre>ColumnTransformer(transformers=[(&#x27;pipeline&#x27;,\n",
       "                                 Pipeline(steps=[(&#x27;simpleimputer&#x27;,\n",
       "                                                  SimpleImputer()),\n",
       "                                                 (&#x27;robustscaler&#x27;,\n",
       "                                                  RobustScaler())]),\n",
       "                                 [&#x27;budget&#x27;, &#x27;runtime&#x27;,\n",
       "                                  &#x27;production_companies_number&#x27;,\n",
       "                                  &#x27;production_countries_number&#x27;,\n",
       "                                  &#x27;spoken_languages_number&#x27;])])</pre></div></div></div><div class=\"sk-parallel\"><div class=\"sk-parallel-item\"><div class=\"sk-item\"><div class=\"sk-label-container\"><div class=\"sk-label sk-toggleable\"><input class=\"sk-toggleable__control sk-hidden--visually\" id=\"sk-estimator-id-2\" type=\"checkbox\" ><label for=\"sk-estimator-id-2\" class=\"sk-toggleable__label sk-toggleable__label-arrow\">pipeline</label><div class=\"sk-toggleable__content\"><pre>[&#x27;budget&#x27;, &#x27;runtime&#x27;, &#x27;production_companies_number&#x27;, &#x27;production_countries_number&#x27;, &#x27;spoken_languages_number&#x27;]</pre></div></div></div><div class=\"sk-serial\"><div class=\"sk-item\"><div class=\"sk-serial\"><div class=\"sk-item\"><div class=\"sk-estimator sk-toggleable\"><input class=\"sk-toggleable__control sk-hidden--visually\" id=\"sk-estimator-id-3\" type=\"checkbox\" ><label for=\"sk-estimator-id-3\" class=\"sk-toggleable__label sk-toggleable__label-arrow\">SimpleImputer</label><div class=\"sk-toggleable__content\"><pre>SimpleImputer()</pre></div></div></div><div class=\"sk-item\"><div class=\"sk-estimator sk-toggleable\"><input class=\"sk-toggleable__control sk-hidden--visually\" id=\"sk-estimator-id-4\" type=\"checkbox\" ><label for=\"sk-estimator-id-4\" class=\"sk-toggleable__label sk-toggleable__label-arrow\">RobustScaler</label><div class=\"sk-toggleable__content\"><pre>RobustScaler()</pre></div></div></div></div></div></div></div></div></div></div></div></div>"
      ],
      "text/plain": [
       "ColumnTransformer(transformers=[('pipeline',\n",
       "                                 Pipeline(steps=[('simpleimputer',\n",
       "                                                  SimpleImputer()),\n",
       "                                                 ('robustscaler',\n",
       "                                                  RobustScaler())]),\n",
       "                                 ['budget', 'runtime',\n",
       "                                  'production_companies_number',\n",
       "                                  'production_countries_number',\n",
       "                                  'spoken_languages_number'])])"
      ]
     },
     "execution_count": 15,
     "metadata": {},
     "output_type": "execute_result"
    }
   ],
   "source": [
    "num_transformer = make_pipeline(SimpleImputer(strategy='mean'), RobustScaler())\n",
    "\n",
    "preproc_basic = make_column_transformer(\n",
    "    (num_transformer, ['budget','runtime',\n",
    "        'production_companies_number',\n",
    "       'production_countries_number', 'spoken_languages_number']))\n",
    "\n",
    "preproc_basic"
   ]
  },
  {
   "cell_type": "markdown",
   "id": "bdb7da68",
   "metadata": {},
   "source": [
    "#### b) Add estimator"
   ]
  },
  {
   "cell_type": "code",
   "execution_count": 16,
   "id": "00aaa674",
   "metadata": {
    "tags": [
     "challengify"
    ]
   },
   "outputs": [],
   "source": [
    "from sklearn.linear_model import LinearRegression"
   ]
  },
  {
   "cell_type": "code",
   "execution_count": 17,
   "id": "804835b5",
   "metadata": {},
   "outputs": [
    {
     "data": {
      "text/html": [
       "<style>#sk-container-id-2 {color: black;background-color: white;}#sk-container-id-2 pre{padding: 0;}#sk-container-id-2 div.sk-toggleable {background-color: white;}#sk-container-id-2 label.sk-toggleable__label {cursor: pointer;display: block;width: 100%;margin-bottom: 0;padding: 0.3em;box-sizing: border-box;text-align: center;}#sk-container-id-2 label.sk-toggleable__label-arrow:before {content: \"▸\";float: left;margin-right: 0.25em;color: #696969;}#sk-container-id-2 label.sk-toggleable__label-arrow:hover:before {color: black;}#sk-container-id-2 div.sk-estimator:hover label.sk-toggleable__label-arrow:before {color: black;}#sk-container-id-2 div.sk-toggleable__content {max-height: 0;max-width: 0;overflow: hidden;text-align: left;background-color: #f0f8ff;}#sk-container-id-2 div.sk-toggleable__content pre {margin: 0.2em;color: black;border-radius: 0.25em;background-color: #f0f8ff;}#sk-container-id-2 input.sk-toggleable__control:checked~div.sk-toggleable__content {max-height: 200px;max-width: 100%;overflow: auto;}#sk-container-id-2 input.sk-toggleable__control:checked~label.sk-toggleable__label-arrow:before {content: \"▾\";}#sk-container-id-2 div.sk-estimator input.sk-toggleable__control:checked~label.sk-toggleable__label {background-color: #d4ebff;}#sk-container-id-2 div.sk-label input.sk-toggleable__control:checked~label.sk-toggleable__label {background-color: #d4ebff;}#sk-container-id-2 input.sk-hidden--visually {border: 0;clip: rect(1px 1px 1px 1px);clip: rect(1px, 1px, 1px, 1px);height: 1px;margin: -1px;overflow: hidden;padding: 0;position: absolute;width: 1px;}#sk-container-id-2 div.sk-estimator {font-family: monospace;background-color: #f0f8ff;border: 1px dotted black;border-radius: 0.25em;box-sizing: border-box;margin-bottom: 0.5em;}#sk-container-id-2 div.sk-estimator:hover {background-color: #d4ebff;}#sk-container-id-2 div.sk-parallel-item::after {content: \"\";width: 100%;border-bottom: 1px solid gray;flex-grow: 1;}#sk-container-id-2 div.sk-label:hover label.sk-toggleable__label {background-color: #d4ebff;}#sk-container-id-2 div.sk-serial::before {content: \"\";position: absolute;border-left: 1px solid gray;box-sizing: border-box;top: 0;bottom: 0;left: 50%;z-index: 0;}#sk-container-id-2 div.sk-serial {display: flex;flex-direction: column;align-items: center;background-color: white;padding-right: 0.2em;padding-left: 0.2em;position: relative;}#sk-container-id-2 div.sk-item {position: relative;z-index: 1;}#sk-container-id-2 div.sk-parallel {display: flex;align-items: stretch;justify-content: center;background-color: white;position: relative;}#sk-container-id-2 div.sk-item::before, #sk-container-id-2 div.sk-parallel-item::before {content: \"\";position: absolute;border-left: 1px solid gray;box-sizing: border-box;top: 0;bottom: 0;left: 50%;z-index: -1;}#sk-container-id-2 div.sk-parallel-item {display: flex;flex-direction: column;z-index: 1;position: relative;background-color: white;}#sk-container-id-2 div.sk-parallel-item:first-child::after {align-self: flex-end;width: 50%;}#sk-container-id-2 div.sk-parallel-item:last-child::after {align-self: flex-start;width: 50%;}#sk-container-id-2 div.sk-parallel-item:only-child::after {width: 0;}#sk-container-id-2 div.sk-dashed-wrapped {border: 1px dashed gray;margin: 0 0.4em 0.5em 0.4em;box-sizing: border-box;padding-bottom: 0.4em;background-color: white;}#sk-container-id-2 div.sk-label label {font-family: monospace;font-weight: bold;display: inline-block;line-height: 1.2em;}#sk-container-id-2 div.sk-label-container {text-align: center;}#sk-container-id-2 div.sk-container {/* jupyter's `normalize.less` sets `[hidden] { display: none; }` but bootstrap.min.css set `[hidden] { display: none !important; }` so we also need the `!important` here to be able to override the default hidden behavior on the sphinx rendered scikit-learn.org. See: https://github.com/scikit-learn/scikit-learn/issues/21755 */display: inline-block !important;position: relative;}#sk-container-id-2 div.sk-text-repr-fallback {display: none;}</style><div id=\"sk-container-id-2\" class=\"sk-top-container\"><div class=\"sk-text-repr-fallback\"><pre>Pipeline(steps=[(&#x27;columntransformer&#x27;,\n",
       "                 ColumnTransformer(transformers=[(&#x27;pipeline&#x27;,\n",
       "                                                  Pipeline(steps=[(&#x27;simpleimputer&#x27;,\n",
       "                                                                   SimpleImputer()),\n",
       "                                                                  (&#x27;robustscaler&#x27;,\n",
       "                                                                   RobustScaler())]),\n",
       "                                                  [&#x27;budget&#x27;, &#x27;runtime&#x27;,\n",
       "                                                   &#x27;production_companies_number&#x27;,\n",
       "                                                   &#x27;production_countries_number&#x27;,\n",
       "                                                   &#x27;spoken_languages_number&#x27;])])),\n",
       "                (&#x27;linearregression&#x27;, LinearRegression())])</pre><b>In a Jupyter environment, please rerun this cell to show the HTML representation or trust the notebook. <br />On GitHub, the HTML representation is unable to render, please try loading this page with nbviewer.org.</b></div><div class=\"sk-container\" hidden><div class=\"sk-item sk-dashed-wrapped\"><div class=\"sk-label-container\"><div class=\"sk-label sk-toggleable\"><input class=\"sk-toggleable__control sk-hidden--visually\" id=\"sk-estimator-id-5\" type=\"checkbox\" ><label for=\"sk-estimator-id-5\" class=\"sk-toggleable__label sk-toggleable__label-arrow\">Pipeline</label><div class=\"sk-toggleable__content\"><pre>Pipeline(steps=[(&#x27;columntransformer&#x27;,\n",
       "                 ColumnTransformer(transformers=[(&#x27;pipeline&#x27;,\n",
       "                                                  Pipeline(steps=[(&#x27;simpleimputer&#x27;,\n",
       "                                                                   SimpleImputer()),\n",
       "                                                                  (&#x27;robustscaler&#x27;,\n",
       "                                                                   RobustScaler())]),\n",
       "                                                  [&#x27;budget&#x27;, &#x27;runtime&#x27;,\n",
       "                                                   &#x27;production_companies_number&#x27;,\n",
       "                                                   &#x27;production_countries_number&#x27;,\n",
       "                                                   &#x27;spoken_languages_number&#x27;])])),\n",
       "                (&#x27;linearregression&#x27;, LinearRegression())])</pre></div></div></div><div class=\"sk-serial\"><div class=\"sk-item sk-dashed-wrapped\"><div class=\"sk-label-container\"><div class=\"sk-label sk-toggleable\"><input class=\"sk-toggleable__control sk-hidden--visually\" id=\"sk-estimator-id-6\" type=\"checkbox\" ><label for=\"sk-estimator-id-6\" class=\"sk-toggleable__label sk-toggleable__label-arrow\">columntransformer: ColumnTransformer</label><div class=\"sk-toggleable__content\"><pre>ColumnTransformer(transformers=[(&#x27;pipeline&#x27;,\n",
       "                                 Pipeline(steps=[(&#x27;simpleimputer&#x27;,\n",
       "                                                  SimpleImputer()),\n",
       "                                                 (&#x27;robustscaler&#x27;,\n",
       "                                                  RobustScaler())]),\n",
       "                                 [&#x27;budget&#x27;, &#x27;runtime&#x27;,\n",
       "                                  &#x27;production_companies_number&#x27;,\n",
       "                                  &#x27;production_countries_number&#x27;,\n",
       "                                  &#x27;spoken_languages_number&#x27;])])</pre></div></div></div><div class=\"sk-parallel\"><div class=\"sk-parallel-item\"><div class=\"sk-item\"><div class=\"sk-label-container\"><div class=\"sk-label sk-toggleable\"><input class=\"sk-toggleable__control sk-hidden--visually\" id=\"sk-estimator-id-7\" type=\"checkbox\" ><label for=\"sk-estimator-id-7\" class=\"sk-toggleable__label sk-toggleable__label-arrow\">pipeline</label><div class=\"sk-toggleable__content\"><pre>[&#x27;budget&#x27;, &#x27;runtime&#x27;, &#x27;production_companies_number&#x27;, &#x27;production_countries_number&#x27;, &#x27;spoken_languages_number&#x27;]</pre></div></div></div><div class=\"sk-serial\"><div class=\"sk-item\"><div class=\"sk-serial\"><div class=\"sk-item\"><div class=\"sk-estimator sk-toggleable\"><input class=\"sk-toggleable__control sk-hidden--visually\" id=\"sk-estimator-id-8\" type=\"checkbox\" ><label for=\"sk-estimator-id-8\" class=\"sk-toggleable__label sk-toggleable__label-arrow\">SimpleImputer</label><div class=\"sk-toggleable__content\"><pre>SimpleImputer()</pre></div></div></div><div class=\"sk-item\"><div class=\"sk-estimator sk-toggleable\"><input class=\"sk-toggleable__control sk-hidden--visually\" id=\"sk-estimator-id-9\" type=\"checkbox\" ><label for=\"sk-estimator-id-9\" class=\"sk-toggleable__label sk-toggleable__label-arrow\">RobustScaler</label><div class=\"sk-toggleable__content\"><pre>RobustScaler()</pre></div></div></div></div></div></div></div></div></div></div><div class=\"sk-item\"><div class=\"sk-estimator sk-toggleable\"><input class=\"sk-toggleable__control sk-hidden--visually\" id=\"sk-estimator-id-10\" type=\"checkbox\" ><label for=\"sk-estimator-id-10\" class=\"sk-toggleable__label sk-toggleable__label-arrow\">LinearRegression</label><div class=\"sk-toggleable__content\"><pre>LinearRegression()</pre></div></div></div></div></div></div></div>"
      ],
      "text/plain": [
       "Pipeline(steps=[('columntransformer',\n",
       "                 ColumnTransformer(transformers=[('pipeline',\n",
       "                                                  Pipeline(steps=[('simpleimputer',\n",
       "                                                                   SimpleImputer()),\n",
       "                                                                  ('robustscaler',\n",
       "                                                                   RobustScaler())]),\n",
       "                                                  ['budget', 'runtime',\n",
       "                                                   'production_companies_number',\n",
       "                                                   'production_countries_number',\n",
       "                                                   'spoken_languages_number'])])),\n",
       "                ('linearregression', LinearRegression())])"
      ]
     },
     "execution_count": 17,
     "metadata": {},
     "output_type": "execute_result"
    }
   ],
   "source": [
    "pipe_baseline = make_pipeline(preproc_basic, LinearRegression())\n",
    "pipe_baseline"
   ]
  },
  {
   "cell_type": "markdown",
   "id": "645ab2a7",
   "metadata": {},
   "source": [
    "#### c) Cross-Validate"
   ]
  },
  {
   "cell_type": "code",
   "execution_count": 18,
   "id": "ec2aeccd",
   "metadata": {
    "tags": [
     "challengify"
    ]
   },
   "outputs": [
    {
     "data": {
      "text/plain": [
       "0.4921777542405982"
      ]
     },
     "execution_count": 18,
     "metadata": {},
     "output_type": "execute_result"
    }
   ],
   "source": [
    "from sklearn.model_selection import cross_val_score\n",
    "\n",
    "# Cross-validate Pipeline\n",
    "score_baseline = cross_val_score(pipe_baseline, X_train, y_train, cv=5, scoring='r2').mean()\n",
    "score_baseline"
   ]
  },
  {
   "cell_type": "markdown",
   "id": "26396d04",
   "metadata": {},
   "source": [
    "## 🏋️‍♀️ 2. ITERATIONS "
   ]
  },
  {
   "cell_type": "markdown",
   "id": "e6775cb2",
   "metadata": {},
   "source": [
    "**Estimators**\n",
    "\n",
    "- **Tree-based ensembles (must try today)**: Probably the best suited for problems with many categorical features\n",
    "- Stacking !\n",
    "- XGBoost !\n",
    "\n",
    "**Preprocessing** (once your first ensemble model works)\n",
    "\n",
    "- Ordinal Encoding of categorical features with a hidden notion of order in their values (e.g. \"bad\", \"average\", good\")\n",
    "- Statistical Feature Selection to remove useless features (avoid overfitting and reduce train time)\n",
    "- Predict `log(SalePrice)` instead?\n",
    "- ..."
   ]
  },
  {
   "cell_type": "markdown",
   "id": "a556c9a0",
   "metadata": {},
   "source": [
    "### 2.1 Genre Addition ♲ "
   ]
  },
  {
   "cell_type": "code",
   "execution_count": 19,
   "id": "80233b93",
   "metadata": {},
   "outputs": [],
   "source": [
    "from sklearn.base import TransformerMixin, BaseEstimator\n",
    "\n",
    "class GenreTranformer(TransformerMixin, BaseEstimator): \n",
    "    # BaseEstimator generates the get_params() and set_params() methods that all Pipelines require\n",
    "    # TransformerMixin creates the fit_transform() method from fit() and transform()\n",
    "    \n",
    "    def __init__(self):\n",
    "        pass\n",
    "    \n",
    "    def fit(self, X, y=None):\n",
    "        self.unique_genre_list = []\n",
    "        for genres in X:\n",
    "            for genre in genres[0].split('|'):\n",
    "                if genre not in self.unique_genre_list:\n",
    "                    self.unique_genre_list.append(genre)\n",
    "        return self   \n",
    "    \n",
    "    def transform(self, X, y=None):\n",
    "        unique_genre_list = self.unique_genre_list\n",
    "        genre_transformed = [] \n",
    "        for genres in X:\n",
    "            genre_np = np.zeros((len(unique_genre_list),), dtype=int)\n",
    "            for target_genre in genres[0].split('|'):\n",
    "                if target_genre in unique_genre_list:\n",
    "                        index = unique_genre_list.index(target_genre)\n",
    "                        genre_np[index] = 1\n",
    "            genre_transformed.append(list(genre_np))\n",
    "        return np.array(genre_transformed)"
   ]
  },
  {
   "cell_type": "markdown",
   "id": "74933ced",
   "metadata": {},
   "source": [
    "## Cast transformer"
   ]
  },
  {
   "cell_type": "code",
   "execution_count": 20,
   "id": "7c17f29d",
   "metadata": {},
   "outputs": [],
   "source": [
    "class CastTransformer(TransformerMixin, BaseEstimator): \n",
    "    # BaseEstimator generates the get_params() and set_params() methods that all Pipelines require\n",
    "    # TransformerMixin creates the fit_transform() method from fit() and transform()\n",
    "    \n",
    "    def __init__(self):\n",
    "        pass\n",
    "    \n",
    "    def fit(self, X, y=None):\n",
    "#         for feature_number in range(X.shape[1]):\n",
    "#         def top_k(feature, k):\n",
    "#         feature_top_k = np.partition(X[:,0], -k)[-k:]\n",
    "#         self.popular_actor_list = np.sort(feature_top_k)[::-1]\n",
    "        return self   \n",
    "    \n",
    "    def transform(self, X, y=None):\n",
    "        popular_actor_list = ['Nicolas Cage',\n",
    "  'Johnny Depp',\n",
    "  'Ajith Kumar',\n",
    "  'Bruce Willis',\n",
    "  'Tom Cruise',\n",
    "  'Denzel Washington',\n",
    "  'Tom Hanks',\n",
    "  'Adam Sandler',\n",
    "  'Robert De Niro',\n",
    "  'John Travolta',\n",
    "  'Eddie Murphy',\n",
    "  'John Wayne',\n",
    "  'Keanu Reeves',\n",
    "  'Arnold Schwarzenegger',\n",
    "  'Ben Affleck',\n",
    "  'Jeff Bridges',\n",
    "  'George Clooney',\n",
    "  'Harrison Ford',\n",
    "  'Matt Damon',\n",
    "  'Liam Neeson',\n",
    "  'Kevin Costner',\n",
    "  'Mark Wahlberg',\n",
    "  'Clint Eastwood',\n",
    "  'Jason Statham',\n",
    "  'Mel Gibson',\n",
    "  'Jackie Chan',\n",
    "  'Sylvester Stallone',\n",
    "  'Meryl Streep',\n",
    "  'Ben Stiller',\n",
    "  'Christian Bale']\n",
    "        popular_director_list = ['Steven Spielberg',\n",
    "  'Woody Allen',\n",
    "  'Ridley Scott',\n",
    "  'Alfred Hitchcock',\n",
    "  'Clint Eastwood',\n",
    "  'Steven Soderbergh',\n",
    "  'Oliver Stone',\n",
    "  'Martin Scorsese',\n",
    "  'Robert Rodriguez',\n",
    "  'John Carpenter',\n",
    "  'Tim Burton',\n",
    "  'John Ford',\n",
    "  'Wes Craven',\n",
    "  'Francis Ford Coppola',\n",
    "  'Ron Howard',\n",
    "  'Roland Emmerich',\n",
    "  'Robert Zemeckis',\n",
    "  'Michael Bay',\n",
    "  'Billy Wilder',\n",
    "  'Bobby Farrelly',\n",
    "  'Renny Harlin',\n",
    "  'Sam Raimi',\n",
    "  'Peter Jackson',\n",
    "  'Walter Hill',\n",
    "  'Tony Scott',\n",
    "  'Richard Donner',\n",
    "  'Brian De Palma',\n",
    "  'Barry Levinson',\n",
    "  'Spike Lee',\n",
    "  'John Landis']\n",
    "        popular_producer_list = ['Joel Silver',\n",
    "  'Jerry Bruckheimer',\n",
    "  'Brian Grazer',\n",
    "  'Neal H. Moritz',\n",
    "  'Tim Bevan',\n",
    "  'Luc Besson',\n",
    "  'John Davis',\n",
    "  'Michael Bay',\n",
    "  'Scott Rudin',\n",
    "  'Arnon Milchan',\n",
    "  'Danny DeVito',\n",
    "  'Clint Eastwood',\n",
    "  'Roger Birnbaum',\n",
    "  'Ridley Scott',\n",
    "  'Charles Roven',\n",
    "  'Steve Golin',\n",
    "  'Ronnie Screwvala',\n",
    "  'Albert R. Broccoli',\n",
    "  'Lawrence Gordon',\n",
    "  'Walt Disney',\n",
    "  'Tom Rosenberg',\n",
    "  'Gale Anne Hurd',\n",
    "  'Alfred Hitchcock',\n",
    "  'Lawrence Bender',\n",
    "  'Kathleen Kennedy',\n",
    "  'Nick Wechsler',\n",
    "  'Steven Spielberg',\n",
    "  'John Hughes',\n",
    "  'Judd Apatow',\n",
    "  'Robert Rodriguez']\n",
    "        popular_prod_company_list = ['Universal Pictures',\n",
    "  'Paramount Pictures',\n",
    "  'Twentieth Century Fox Film Corporation',\n",
    "  'Columbia Pictures',\n",
    "  'New Line Cinema',\n",
    "  'Walt Disney Pictures',\n",
    "  'Warner Bros.',\n",
    "  'Metro-Goldwyn-Mayer (MGM)',\n",
    "  'United Artists',\n",
    "  'Columbia Pictures Corporation',\n",
    "  'Miramax Films',\n",
    "  'TriStar Pictures',\n",
    "  'Village Roadshow Pictures',\n",
    "  'DreamWorks SKG',\n",
    "  'Fox Searchlight Pictures',\n",
    "  'Summit Entertainment',\n",
    "  'Touchstone Pictures',\n",
    "  'Orion Pictures',\n",
    "  'Lions Gate Films',\n",
    "  'BBC Films',\n",
    "  'Lionsgate',\n",
    "  'Imagine Entertainment',\n",
    "  'The Weinstein Company',\n",
    "  'Regency Enterprises',\n",
    "  'RKO Radio Pictures',\n",
    "  'Hollywood Pictures',\n",
    "  'Lakeshore Entertainment',\n",
    "  'StudioCanal',\n",
    "  'Lucasfilm',\n",
    "  'Dimension Films']\n",
    "        actor_transformed = [] \n",
    "        director_transformed = []\n",
    "        producer_transformed = []\n",
    "        production_company_transformed = []\n",
    "        actor_np = np.zeros((30,), dtype=int)\n",
    "        director_np = np.zeros((30,), dtype=int)\n",
    "        producer_np = np.zeros((30,), dtype=int)\n",
    "        production_company_np = np.zeros((30,), dtype=int)\n",
    "#         for actor in X[:,0]:\n",
    "#             if actor in popular_actor_list:\n",
    "#                         index = popular_actor_list.index(actor)\n",
    "#                         actor_np[index] = 1\n",
    "#             actor_transformed.append(list(actor_np))\n",
    "        for director in X[:,0]:\n",
    "            if director in popular_director_list:\n",
    "                        index = popular_director_list.index(director)\n",
    "                        director_np[index] = 1\n",
    "            director_transformed.append(list(director_np))\n",
    "        for producer in X[:,1]:\n",
    "            if producer in popular_producer_list:\n",
    "                        index = popular_producer_list.index(producer)\n",
    "                        producer_np[index] = 1\n",
    "            producer_transformed.append(list(producer_np))\n",
    "        for pc in X[:,2]:\n",
    "            if pc in popular_prod_company_list:\n",
    "                        index = popular_prod_company_list.index(pc)\n",
    "                        production_company_np[index] = 1\n",
    "            production_company_transformed.append(list(production_company_np))\n",
    "        return np.concatenate((director_transformed,producer_transformed,production_company_transformed),axis = 1)"
   ]
  },
  {
   "cell_type": "code",
   "execution_count": 21,
   "id": "3e4149f4",
   "metadata": {},
   "outputs": [
    {
     "data": {
      "text/plain": [
       "['id',\n",
       " 'budget',\n",
       " 'genres',\n",
       " 'imdb_id',\n",
       " 'original_language',\n",
       " 'production_companies',\n",
       " 'production_countries',\n",
       " 'release_date',\n",
       " 'runtime',\n",
       " 'spoken_languages',\n",
       " 'status',\n",
       " 'title',\n",
       " 'production_companies_number',\n",
       " 'production_countries_number',\n",
       " 'spoken_languages_number',\n",
       " 'belongs_to_collection',\n",
       " 'actor1_name',\n",
       " 'actor1_gender',\n",
       " 'actor2_name',\n",
       " 'actor2_gender',\n",
       " 'actor3_name',\n",
       " 'actor3_gender',\n",
       " 'actor4_name',\n",
       " 'actor4_gender',\n",
       " 'actor5_name',\n",
       " 'actor5_gender',\n",
       " 'actor_number',\n",
       " 'director_name',\n",
       " 'director_gender',\n",
       " 'director_number',\n",
       " 'producer_name',\n",
       " 'producer_number',\n",
       " 'screeplay_name',\n",
       " 'editor_name']"
      ]
     },
     "execution_count": 21,
     "metadata": {},
     "output_type": "execute_result"
    }
   ],
   "source": [
    "list(X_train.columns)"
   ]
  },
  {
   "cell_type": "code",
   "execution_count": 22,
   "id": "c896971d",
   "metadata": {},
   "outputs": [],
   "source": [
    "from sklearn.preprocessing import FunctionTransformer\n",
    "from sklearn.pipeline import FeatureUnion\n",
    "import datetime\n",
    "\n",
    "class DataframeTransformer:\n",
    "    @staticmethod\n",
    "    def names(X):\n",
    "        return list(X_train.columns)\n",
    "        \n",
    "\n",
    "    @staticmethod\n",
    "    def transformer(X):\n",
    "        \n",
    "        X['release_date'] = pd.to_datetime(X['release_date'],infer_datetime_format=True)\n",
    "        \n",
    "        X['belongs_to_collection_updated'] = X['belongs_to_collection'].apply(lambda x: 0 if pd.isnull(x) else 1)\n",
    "        # add weekday\n",
    "        X['release_weekday'] = X['release_date'].dt.day_name()\n",
    "        #Log of budget\n",
    "        X['log_budget'] = np.log(X['budget'])\n",
    "        #find age of movie\n",
    "        now = pd.to_datetime('now')\n",
    "        X['release_age'] = (now - X['release_date']).astype('<m8[Y]')\n",
    "\n",
    "        X['week_sin'] = np.sin(2 * np.pi * X['release_date'].dt.isocalendar().week/52)\n",
    "\n",
    "        X['week_cos'] = np.cos(2 * np.pi * X['release_date'].dt.isocalendar().week/52)\n",
    "        return X"
   ]
  },
  {
   "cell_type": "code",
   "execution_count": 23,
   "id": "bc9750df",
   "metadata": {},
   "outputs": [
    {
     "data": {
      "text/plain": [
       "(5570, 34)"
      ]
     },
     "execution_count": 23,
     "metadata": {},
     "output_type": "execute_result"
    }
   ],
   "source": [
    "X_train.shape"
   ]
  },
  {
   "cell_type": "code",
   "execution_count": 26,
   "id": "2141a6e3",
   "metadata": {},
   "outputs": [
    {
     "data": {
      "text/html": [
       "<style>#sk-container-id-4 {color: black;background-color: white;}#sk-container-id-4 pre{padding: 0;}#sk-container-id-4 div.sk-toggleable {background-color: white;}#sk-container-id-4 label.sk-toggleable__label {cursor: pointer;display: block;width: 100%;margin-bottom: 0;padding: 0.3em;box-sizing: border-box;text-align: center;}#sk-container-id-4 label.sk-toggleable__label-arrow:before {content: \"▸\";float: left;margin-right: 0.25em;color: #696969;}#sk-container-id-4 label.sk-toggleable__label-arrow:hover:before {color: black;}#sk-container-id-4 div.sk-estimator:hover label.sk-toggleable__label-arrow:before {color: black;}#sk-container-id-4 div.sk-toggleable__content {max-height: 0;max-width: 0;overflow: hidden;text-align: left;background-color: #f0f8ff;}#sk-container-id-4 div.sk-toggleable__content pre {margin: 0.2em;color: black;border-radius: 0.25em;background-color: #f0f8ff;}#sk-container-id-4 input.sk-toggleable__control:checked~div.sk-toggleable__content {max-height: 200px;max-width: 100%;overflow: auto;}#sk-container-id-4 input.sk-toggleable__control:checked~label.sk-toggleable__label-arrow:before {content: \"▾\";}#sk-container-id-4 div.sk-estimator input.sk-toggleable__control:checked~label.sk-toggleable__label {background-color: #d4ebff;}#sk-container-id-4 div.sk-label input.sk-toggleable__control:checked~label.sk-toggleable__label {background-color: #d4ebff;}#sk-container-id-4 input.sk-hidden--visually {border: 0;clip: rect(1px 1px 1px 1px);clip: rect(1px, 1px, 1px, 1px);height: 1px;margin: -1px;overflow: hidden;padding: 0;position: absolute;width: 1px;}#sk-container-id-4 div.sk-estimator {font-family: monospace;background-color: #f0f8ff;border: 1px dotted black;border-radius: 0.25em;box-sizing: border-box;margin-bottom: 0.5em;}#sk-container-id-4 div.sk-estimator:hover {background-color: #d4ebff;}#sk-container-id-4 div.sk-parallel-item::after {content: \"\";width: 100%;border-bottom: 1px solid gray;flex-grow: 1;}#sk-container-id-4 div.sk-label:hover label.sk-toggleable__label {background-color: #d4ebff;}#sk-container-id-4 div.sk-serial::before {content: \"\";position: absolute;border-left: 1px solid gray;box-sizing: border-box;top: 0;bottom: 0;left: 50%;z-index: 0;}#sk-container-id-4 div.sk-serial {display: flex;flex-direction: column;align-items: center;background-color: white;padding-right: 0.2em;padding-left: 0.2em;position: relative;}#sk-container-id-4 div.sk-item {position: relative;z-index: 1;}#sk-container-id-4 div.sk-parallel {display: flex;align-items: stretch;justify-content: center;background-color: white;position: relative;}#sk-container-id-4 div.sk-item::before, #sk-container-id-4 div.sk-parallel-item::before {content: \"\";position: absolute;border-left: 1px solid gray;box-sizing: border-box;top: 0;bottom: 0;left: 50%;z-index: -1;}#sk-container-id-4 div.sk-parallel-item {display: flex;flex-direction: column;z-index: 1;position: relative;background-color: white;}#sk-container-id-4 div.sk-parallel-item:first-child::after {align-self: flex-end;width: 50%;}#sk-container-id-4 div.sk-parallel-item:last-child::after {align-self: flex-start;width: 50%;}#sk-container-id-4 div.sk-parallel-item:only-child::after {width: 0;}#sk-container-id-4 div.sk-dashed-wrapped {border: 1px dashed gray;margin: 0 0.4em 0.5em 0.4em;box-sizing: border-box;padding-bottom: 0.4em;background-color: white;}#sk-container-id-4 div.sk-label label {font-family: monospace;font-weight: bold;display: inline-block;line-height: 1.2em;}#sk-container-id-4 div.sk-label-container {text-align: center;}#sk-container-id-4 div.sk-container {/* jupyter's `normalize.less` sets `[hidden] { display: none; }` but bootstrap.min.css set `[hidden] { display: none !important; }` so we also need the `!important` here to be able to override the default hidden behavior on the sphinx rendered scikit-learn.org. See: https://github.com/scikit-learn/scikit-learn/issues/21755 */display: inline-block !important;position: relative;}#sk-container-id-4 div.sk-text-repr-fallback {display: none;}</style><div id=\"sk-container-id-4\" class=\"sk-top-container\"><div class=\"sk-text-repr-fallback\"><pre>Pipeline(steps=[(&#x27;basic_prepoc&#x27;,\n",
       "                 FunctionTransformer(func=&lt;function &lt;lambda&gt; at 0x7f4f771c7d30&gt;)),\n",
       "                (&#x27;processing_pipeline&#x27;,\n",
       "                 ColumnTransformer(transformers=[(&#x27;Numerical Features &#x27;\n",
       "                                                  &#x27;Transformer&#x27;,\n",
       "                                                  Pipeline(steps=[(&#x27;simpleimputer&#x27;,\n",
       "                                                                   SimpleImputer()),\n",
       "                                                                  (&#x27;robustscaler&#x27;,\n",
       "                                                                   RobustScaler())]),\n",
       "                                                  [&#x27;log_budget&#x27;, &#x27;release_age&#x27;,\n",
       "                                                   &#x27;runtime&#x27;,\n",
       "                                                   &#x27;production_companies_number&#x27;,\n",
       "                                                   &#x27;production_cou...\n",
       "                                                 (&#x27;Cyclic Transformer&#x27;,\n",
       "                                                  Pipeline(steps=[(&#x27;simpleimputer&#x27;,\n",
       "                                                                   SimpleImputer())]),\n",
       "                                                  [&#x27;week_cos&#x27;, &#x27;week_sin&#x27;]),\n",
       "                                                 (&#x27;Category_Transformer&#x27;,\n",
       "                                                  Pipeline(steps=[(&#x27;simpleimputer&#x27;,\n",
       "                                                                   SimpleImputer(strategy=&#x27;most_frequent&#x27;)),\n",
       "                                                                  (&#x27;onehotencoder&#x27;,\n",
       "                                                                   OneHotEncoder(handle_unknown=&#x27;ignore&#x27;,\n",
       "                                                                                 sparse=False))]),\n",
       "                                                  [&#x27;production_countries&#x27;,\n",
       "                                                   &#x27;belongs_to_collection_updated&#x27;,\n",
       "                                                   &#x27;actor1_gender&#x27;,\n",
       "                                                   &#x27;editor_name&#x27;])]))])</pre><b>In a Jupyter environment, please rerun this cell to show the HTML representation or trust the notebook. <br />On GitHub, the HTML representation is unable to render, please try loading this page with nbviewer.org.</b></div><div class=\"sk-container\" hidden><div class=\"sk-item sk-dashed-wrapped\"><div class=\"sk-label-container\"><div class=\"sk-label sk-toggleable\"><input class=\"sk-toggleable__control sk-hidden--visually\" id=\"sk-estimator-id-28\" type=\"checkbox\" ><label for=\"sk-estimator-id-28\" class=\"sk-toggleable__label sk-toggleable__label-arrow\">Pipeline</label><div class=\"sk-toggleable__content\"><pre>Pipeline(steps=[(&#x27;basic_prepoc&#x27;,\n",
       "                 FunctionTransformer(func=&lt;function &lt;lambda&gt; at 0x7f4f771c7d30&gt;)),\n",
       "                (&#x27;processing_pipeline&#x27;,\n",
       "                 ColumnTransformer(transformers=[(&#x27;Numerical Features &#x27;\n",
       "                                                  &#x27;Transformer&#x27;,\n",
       "                                                  Pipeline(steps=[(&#x27;simpleimputer&#x27;,\n",
       "                                                                   SimpleImputer()),\n",
       "                                                                  (&#x27;robustscaler&#x27;,\n",
       "                                                                   RobustScaler())]),\n",
       "                                                  [&#x27;log_budget&#x27;, &#x27;release_age&#x27;,\n",
       "                                                   &#x27;runtime&#x27;,\n",
       "                                                   &#x27;production_companies_number&#x27;,\n",
       "                                                   &#x27;production_cou...\n",
       "                                                 (&#x27;Cyclic Transformer&#x27;,\n",
       "                                                  Pipeline(steps=[(&#x27;simpleimputer&#x27;,\n",
       "                                                                   SimpleImputer())]),\n",
       "                                                  [&#x27;week_cos&#x27;, &#x27;week_sin&#x27;]),\n",
       "                                                 (&#x27;Category_Transformer&#x27;,\n",
       "                                                  Pipeline(steps=[(&#x27;simpleimputer&#x27;,\n",
       "                                                                   SimpleImputer(strategy=&#x27;most_frequent&#x27;)),\n",
       "                                                                  (&#x27;onehotencoder&#x27;,\n",
       "                                                                   OneHotEncoder(handle_unknown=&#x27;ignore&#x27;,\n",
       "                                                                                 sparse=False))]),\n",
       "                                                  [&#x27;production_countries&#x27;,\n",
       "                                                   &#x27;belongs_to_collection_updated&#x27;,\n",
       "                                                   &#x27;actor1_gender&#x27;,\n",
       "                                                   &#x27;editor_name&#x27;])]))])</pre></div></div></div><div class=\"sk-serial\"><div class=\"sk-item\"><div class=\"sk-estimator sk-toggleable\"><input class=\"sk-toggleable__control sk-hidden--visually\" id=\"sk-estimator-id-29\" type=\"checkbox\" ><label for=\"sk-estimator-id-29\" class=\"sk-toggleable__label sk-toggleable__label-arrow\">FunctionTransformer</label><div class=\"sk-toggleable__content\"><pre>FunctionTransformer(func=&lt;function &lt;lambda&gt; at 0x7f4f771c7d30&gt;)</pre></div></div></div><div class=\"sk-item sk-dashed-wrapped\"><div class=\"sk-label-container\"><div class=\"sk-label sk-toggleable\"><input class=\"sk-toggleable__control sk-hidden--visually\" id=\"sk-estimator-id-30\" type=\"checkbox\" ><label for=\"sk-estimator-id-30\" class=\"sk-toggleable__label sk-toggleable__label-arrow\">processing_pipeline: ColumnTransformer</label><div class=\"sk-toggleable__content\"><pre>ColumnTransformer(transformers=[(&#x27;Numerical Features Transformer&#x27;,\n",
       "                                 Pipeline(steps=[(&#x27;simpleimputer&#x27;,\n",
       "                                                  SimpleImputer()),\n",
       "                                                 (&#x27;robustscaler&#x27;,\n",
       "                                                  RobustScaler())]),\n",
       "                                 [&#x27;log_budget&#x27;, &#x27;release_age&#x27;, &#x27;runtime&#x27;,\n",
       "                                  &#x27;production_companies_number&#x27;,\n",
       "                                  &#x27;production_countries_number&#x27;, &#x27;actor_number&#x27;,\n",
       "                                  &#x27;producer_number&#x27;, &#x27;director_number&#x27;]),\n",
       "                                (&#x27;Genres Transformer&#x27;,\n",
       "                                 Pipeline(steps=[(&#x27;simpleimpute...\n",
       "                                (&#x27;Cyclic Transformer&#x27;,\n",
       "                                 Pipeline(steps=[(&#x27;simpleimputer&#x27;,\n",
       "                                                  SimpleImputer())]),\n",
       "                                 [&#x27;week_cos&#x27;, &#x27;week_sin&#x27;]),\n",
       "                                (&#x27;Category_Transformer&#x27;,\n",
       "                                 Pipeline(steps=[(&#x27;simpleimputer&#x27;,\n",
       "                                                  SimpleImputer(strategy=&#x27;most_frequent&#x27;)),\n",
       "                                                 (&#x27;onehotencoder&#x27;,\n",
       "                                                  OneHotEncoder(handle_unknown=&#x27;ignore&#x27;,\n",
       "                                                                sparse=False))]),\n",
       "                                 [&#x27;production_countries&#x27;,\n",
       "                                  &#x27;belongs_to_collection_updated&#x27;,\n",
       "                                  &#x27;actor1_gender&#x27;, &#x27;editor_name&#x27;])])</pre></div></div></div><div class=\"sk-parallel\"><div class=\"sk-parallel-item\"><div class=\"sk-item\"><div class=\"sk-label-container\"><div class=\"sk-label sk-toggleable\"><input class=\"sk-toggleable__control sk-hidden--visually\" id=\"sk-estimator-id-31\" type=\"checkbox\" ><label for=\"sk-estimator-id-31\" class=\"sk-toggleable__label sk-toggleable__label-arrow\">Numerical Features Transformer</label><div class=\"sk-toggleable__content\"><pre>[&#x27;log_budget&#x27;, &#x27;release_age&#x27;, &#x27;runtime&#x27;, &#x27;production_companies_number&#x27;, &#x27;production_countries_number&#x27;, &#x27;actor_number&#x27;, &#x27;producer_number&#x27;, &#x27;director_number&#x27;]</pre></div></div></div><div class=\"sk-serial\"><div class=\"sk-item\"><div class=\"sk-serial\"><div class=\"sk-item\"><div class=\"sk-estimator sk-toggleable\"><input class=\"sk-toggleable__control sk-hidden--visually\" id=\"sk-estimator-id-32\" type=\"checkbox\" ><label for=\"sk-estimator-id-32\" class=\"sk-toggleable__label sk-toggleable__label-arrow\">SimpleImputer</label><div class=\"sk-toggleable__content\"><pre>SimpleImputer()</pre></div></div></div><div class=\"sk-item\"><div class=\"sk-estimator sk-toggleable\"><input class=\"sk-toggleable__control sk-hidden--visually\" id=\"sk-estimator-id-33\" type=\"checkbox\" ><label for=\"sk-estimator-id-33\" class=\"sk-toggleable__label sk-toggleable__label-arrow\">RobustScaler</label><div class=\"sk-toggleable__content\"><pre>RobustScaler()</pre></div></div></div></div></div></div></div></div><div class=\"sk-parallel-item\"><div class=\"sk-item\"><div class=\"sk-label-container\"><div class=\"sk-label sk-toggleable\"><input class=\"sk-toggleable__control sk-hidden--visually\" id=\"sk-estimator-id-34\" type=\"checkbox\" ><label for=\"sk-estimator-id-34\" class=\"sk-toggleable__label sk-toggleable__label-arrow\">Genres Transformer</label><div class=\"sk-toggleable__content\"><pre>[&#x27;genres&#x27;]</pre></div></div></div><div class=\"sk-serial\"><div class=\"sk-item\"><div class=\"sk-serial\"><div class=\"sk-item\"><div class=\"sk-estimator sk-toggleable\"><input class=\"sk-toggleable__control sk-hidden--visually\" id=\"sk-estimator-id-35\" type=\"checkbox\" ><label for=\"sk-estimator-id-35\" class=\"sk-toggleable__label sk-toggleable__label-arrow\">SimpleImputer</label><div class=\"sk-toggleable__content\"><pre>SimpleImputer(strategy=&#x27;most_frequent&#x27;)</pre></div></div></div><div class=\"sk-item\"><div class=\"sk-estimator sk-toggleable\"><input class=\"sk-toggleable__control sk-hidden--visually\" id=\"sk-estimator-id-36\" type=\"checkbox\" ><label for=\"sk-estimator-id-36\" class=\"sk-toggleable__label sk-toggleable__label-arrow\">GenreTranformer</label><div class=\"sk-toggleable__content\"><pre>GenreTranformer()</pre></div></div></div></div></div></div></div></div><div class=\"sk-parallel-item\"><div class=\"sk-item\"><div class=\"sk-label-container\"><div class=\"sk-label sk-toggleable\"><input class=\"sk-toggleable__control sk-hidden--visually\" id=\"sk-estimator-id-37\" type=\"checkbox\" ><label for=\"sk-estimator-id-37\" class=\"sk-toggleable__label sk-toggleable__label-arrow\">Cast Transformer</label><div class=\"sk-toggleable__content\"><pre>[&#x27;director_name&#x27;, &#x27;producer_name&#x27;, &#x27;production_companies&#x27;]</pre></div></div></div><div class=\"sk-serial\"><div class=\"sk-item\"><div class=\"sk-serial\"><div class=\"sk-item\"><div class=\"sk-estimator sk-toggleable\"><input class=\"sk-toggleable__control sk-hidden--visually\" id=\"sk-estimator-id-38\" type=\"checkbox\" ><label for=\"sk-estimator-id-38\" class=\"sk-toggleable__label sk-toggleable__label-arrow\">SimpleImputer</label><div class=\"sk-toggleable__content\"><pre>SimpleImputer(strategy=&#x27;most_frequent&#x27;)</pre></div></div></div><div class=\"sk-item\"><div class=\"sk-estimator sk-toggleable\"><input class=\"sk-toggleable__control sk-hidden--visually\" id=\"sk-estimator-id-39\" type=\"checkbox\" ><label for=\"sk-estimator-id-39\" class=\"sk-toggleable__label sk-toggleable__label-arrow\">CastTransformer</label><div class=\"sk-toggleable__content\"><pre>CastTransformer()</pre></div></div></div></div></div></div></div></div><div class=\"sk-parallel-item\"><div class=\"sk-item\"><div class=\"sk-label-container\"><div class=\"sk-label sk-toggleable\"><input class=\"sk-toggleable__control sk-hidden--visually\" id=\"sk-estimator-id-40\" type=\"checkbox\" ><label for=\"sk-estimator-id-40\" class=\"sk-toggleable__label sk-toggleable__label-arrow\">Cyclic Transformer</label><div class=\"sk-toggleable__content\"><pre>[&#x27;week_cos&#x27;, &#x27;week_sin&#x27;]</pre></div></div></div><div class=\"sk-serial\"><div class=\"sk-item\"><div class=\"sk-serial\"><div class=\"sk-item\"><div class=\"sk-estimator sk-toggleable\"><input class=\"sk-toggleable__control sk-hidden--visually\" id=\"sk-estimator-id-41\" type=\"checkbox\" ><label for=\"sk-estimator-id-41\" class=\"sk-toggleable__label sk-toggleable__label-arrow\">SimpleImputer</label><div class=\"sk-toggleable__content\"><pre>SimpleImputer()</pre></div></div></div></div></div></div></div></div><div class=\"sk-parallel-item\"><div class=\"sk-item\"><div class=\"sk-label-container\"><div class=\"sk-label sk-toggleable\"><input class=\"sk-toggleable__control sk-hidden--visually\" id=\"sk-estimator-id-42\" type=\"checkbox\" ><label for=\"sk-estimator-id-42\" class=\"sk-toggleable__label sk-toggleable__label-arrow\">Category_Transformer</label><div class=\"sk-toggleable__content\"><pre>[&#x27;production_countries&#x27;, &#x27;belongs_to_collection_updated&#x27;, &#x27;actor1_gender&#x27;, &#x27;editor_name&#x27;]</pre></div></div></div><div class=\"sk-serial\"><div class=\"sk-item\"><div class=\"sk-serial\"><div class=\"sk-item\"><div class=\"sk-estimator sk-toggleable\"><input class=\"sk-toggleable__control sk-hidden--visually\" id=\"sk-estimator-id-43\" type=\"checkbox\" ><label for=\"sk-estimator-id-43\" class=\"sk-toggleable__label sk-toggleable__label-arrow\">SimpleImputer</label><div class=\"sk-toggleable__content\"><pre>SimpleImputer(strategy=&#x27;most_frequent&#x27;)</pre></div></div></div><div class=\"sk-item\"><div class=\"sk-estimator sk-toggleable\"><input class=\"sk-toggleable__control sk-hidden--visually\" id=\"sk-estimator-id-44\" type=\"checkbox\" ><label for=\"sk-estimator-id-44\" class=\"sk-toggleable__label sk-toggleable__label-arrow\">OneHotEncoder</label><div class=\"sk-toggleable__content\"><pre>OneHotEncoder(handle_unknown=&#x27;ignore&#x27;, sparse=False)</pre></div></div></div></div></div></div></div></div></div></div></div></div></div></div>"
      ],
      "text/plain": [
       "Pipeline(steps=[('basic_prepoc',\n",
       "                 FunctionTransformer(func=<function <lambda> at 0x7f4f771c7d30>)),\n",
       "                ('processing_pipeline',\n",
       "                 ColumnTransformer(transformers=[('Numerical Features '\n",
       "                                                  'Transformer',\n",
       "                                                  Pipeline(steps=[('simpleimputer',\n",
       "                                                                   SimpleImputer()),\n",
       "                                                                  ('robustscaler',\n",
       "                                                                   RobustScaler())]),\n",
       "                                                  ['log_budget', 'release_age',\n",
       "                                                   'runtime',\n",
       "                                                   'production_companies_number',\n",
       "                                                   'production_cou...\n",
       "                                                 ('Cyclic Transformer',\n",
       "                                                  Pipeline(steps=[('simpleimputer',\n",
       "                                                                   SimpleImputer())]),\n",
       "                                                  ['week_cos', 'week_sin']),\n",
       "                                                 ('Category_Transformer',\n",
       "                                                  Pipeline(steps=[('simpleimputer',\n",
       "                                                                   SimpleImputer(strategy='most_frequent')),\n",
       "                                                                  ('onehotencoder',\n",
       "                                                                   OneHotEncoder(handle_unknown='ignore',\n",
       "                                                                                 sparse=False))]),\n",
       "                                                  ['production_countries',\n",
       "                                                   'belongs_to_collection_updated',\n",
       "                                                   'actor1_gender',\n",
       "                                                   'editor_name'])]))])"
      ]
     },
     "execution_count": 26,
     "metadata": {},
     "output_type": "execute_result"
    }
   ],
   "source": [
    "from sklearn.feature_selection import SelectPercentile, mutual_info_regression\n",
    "cast_transformer = make_pipeline(SimpleImputer(strategy='most_frequent'), CastTransformer())\n",
    "cat_transformer = make_pipeline(SimpleImputer(strategy='most_frequent'), OneHotEncoder(handle_unknown='ignore',sparse=False))\n",
    "num_transformer = make_pipeline(SimpleImputer(strategy='mean'), RobustScaler())\n",
    "cyclic_transformer = make_pipeline(SimpleImputer(strategy='mean'))\n",
    "genre_transformer = make_pipeline(SimpleImputer(strategy='most_frequent'), GenreTranformer())\n",
    "\n",
    "basic_prepoc_steps = FunctionTransformer(lambda df: DataframeTransformer.transformer(df))\n",
    "\n",
    "processing_pipeline = ColumnTransformer([\n",
    "    ('Numerical Features Transformer',num_transformer, ['log_budget','release_age','runtime','production_companies_number','production_countries_number','actor_number','producer_number','director_number']),\n",
    "    ('Genres Transformer',genre_transformer,['genres']),\n",
    "    ('Cast Transformer',cast_transformer,['director_name','producer_name','production_companies'] ),\n",
    "    ('Cyclic Transformer',cyclic_transformer,['week_cos','week_sin']),\n",
    "    ('Category_Transformer', cat_transformer, [ 'production_countries','belongs_to_collection_updated','actor1_gender','editor_name'])\n",
    "])\n",
    "feature_selector = SelectPercentile(\n",
    "    mutual_info_regression,\n",
    "    percentile=25, # keep only 25% of all features\n",
    ")\n",
    "\n",
    "\n",
    "union = Pipeline([\n",
    "    ('basic_prepoc',basic_prepoc_steps),\n",
    "    ('processing_pipeline', processing_pipeline),\n",
    "#     ('select percentile',feature_selector)\n",
    "#     ('linear_reg',LinearRegression())\n",
    "])\n",
    "union"
   ]
  },
  {
   "cell_type": "code",
   "execution_count": 28,
   "id": "c4284aec",
   "metadata": {},
   "outputs": [
    {
     "data": {
      "text/html": [
       "<style>#sk-container-id-6 {color: black;background-color: white;}#sk-container-id-6 pre{padding: 0;}#sk-container-id-6 div.sk-toggleable {background-color: white;}#sk-container-id-6 label.sk-toggleable__label {cursor: pointer;display: block;width: 100%;margin-bottom: 0;padding: 0.3em;box-sizing: border-box;text-align: center;}#sk-container-id-6 label.sk-toggleable__label-arrow:before {content: \"▸\";float: left;margin-right: 0.25em;color: #696969;}#sk-container-id-6 label.sk-toggleable__label-arrow:hover:before {color: black;}#sk-container-id-6 div.sk-estimator:hover label.sk-toggleable__label-arrow:before {color: black;}#sk-container-id-6 div.sk-toggleable__content {max-height: 0;max-width: 0;overflow: hidden;text-align: left;background-color: #f0f8ff;}#sk-container-id-6 div.sk-toggleable__content pre {margin: 0.2em;color: black;border-radius: 0.25em;background-color: #f0f8ff;}#sk-container-id-6 input.sk-toggleable__control:checked~div.sk-toggleable__content {max-height: 200px;max-width: 100%;overflow: auto;}#sk-container-id-6 input.sk-toggleable__control:checked~label.sk-toggleable__label-arrow:before {content: \"▾\";}#sk-container-id-6 div.sk-estimator input.sk-toggleable__control:checked~label.sk-toggleable__label {background-color: #d4ebff;}#sk-container-id-6 div.sk-label input.sk-toggleable__control:checked~label.sk-toggleable__label {background-color: #d4ebff;}#sk-container-id-6 input.sk-hidden--visually {border: 0;clip: rect(1px 1px 1px 1px);clip: rect(1px, 1px, 1px, 1px);height: 1px;margin: -1px;overflow: hidden;padding: 0;position: absolute;width: 1px;}#sk-container-id-6 div.sk-estimator {font-family: monospace;background-color: #f0f8ff;border: 1px dotted black;border-radius: 0.25em;box-sizing: border-box;margin-bottom: 0.5em;}#sk-container-id-6 div.sk-estimator:hover {background-color: #d4ebff;}#sk-container-id-6 div.sk-parallel-item::after {content: \"\";width: 100%;border-bottom: 1px solid gray;flex-grow: 1;}#sk-container-id-6 div.sk-label:hover label.sk-toggleable__label {background-color: #d4ebff;}#sk-container-id-6 div.sk-serial::before {content: \"\";position: absolute;border-left: 1px solid gray;box-sizing: border-box;top: 0;bottom: 0;left: 50%;z-index: 0;}#sk-container-id-6 div.sk-serial {display: flex;flex-direction: column;align-items: center;background-color: white;padding-right: 0.2em;padding-left: 0.2em;position: relative;}#sk-container-id-6 div.sk-item {position: relative;z-index: 1;}#sk-container-id-6 div.sk-parallel {display: flex;align-items: stretch;justify-content: center;background-color: white;position: relative;}#sk-container-id-6 div.sk-item::before, #sk-container-id-6 div.sk-parallel-item::before {content: \"\";position: absolute;border-left: 1px solid gray;box-sizing: border-box;top: 0;bottom: 0;left: 50%;z-index: -1;}#sk-container-id-6 div.sk-parallel-item {display: flex;flex-direction: column;z-index: 1;position: relative;background-color: white;}#sk-container-id-6 div.sk-parallel-item:first-child::after {align-self: flex-end;width: 50%;}#sk-container-id-6 div.sk-parallel-item:last-child::after {align-self: flex-start;width: 50%;}#sk-container-id-6 div.sk-parallel-item:only-child::after {width: 0;}#sk-container-id-6 div.sk-dashed-wrapped {border: 1px dashed gray;margin: 0 0.4em 0.5em 0.4em;box-sizing: border-box;padding-bottom: 0.4em;background-color: white;}#sk-container-id-6 div.sk-label label {font-family: monospace;font-weight: bold;display: inline-block;line-height: 1.2em;}#sk-container-id-6 div.sk-label-container {text-align: center;}#sk-container-id-6 div.sk-container {/* jupyter's `normalize.less` sets `[hidden] { display: none; }` but bootstrap.min.css set `[hidden] { display: none !important; }` so we also need the `!important` here to be able to override the default hidden behavior on the sphinx rendered scikit-learn.org. See: https://github.com/scikit-learn/scikit-learn/issues/21755 */display: inline-block !important;position: relative;}#sk-container-id-6 div.sk-text-repr-fallback {display: none;}</style><div id=\"sk-container-id-6\" class=\"sk-top-container\"><div class=\"sk-text-repr-fallback\"><pre>Pipeline(steps=[(&#x27;basic_prepoc&#x27;,\n",
       "                 FunctionTransformer(func=&lt;function &lt;lambda&gt; at 0x7f4f771c7d30&gt;)),\n",
       "                (&#x27;processing_pipeline&#x27;,\n",
       "                 ColumnTransformer(transformers=[(&#x27;Numerical Features &#x27;\n",
       "                                                  &#x27;Transformer&#x27;,\n",
       "                                                  Pipeline(steps=[(&#x27;simpleimputer&#x27;,\n",
       "                                                                   SimpleImputer()),\n",
       "                                                                  (&#x27;robustscaler&#x27;,\n",
       "                                                                   RobustScaler())]),\n",
       "                                                  [&#x27;log_budget&#x27;, &#x27;release_age&#x27;,\n",
       "                                                   &#x27;runtime&#x27;,\n",
       "                                                   &#x27;production_companies_number&#x27;,\n",
       "                                                   &#x27;production_cou...\n",
       "                                                 (&#x27;Cyclic Transformer&#x27;,\n",
       "                                                  Pipeline(steps=[(&#x27;simpleimputer&#x27;,\n",
       "                                                                   SimpleImputer())]),\n",
       "                                                  [&#x27;week_cos&#x27;, &#x27;week_sin&#x27;]),\n",
       "                                                 (&#x27;Category_Transformer&#x27;,\n",
       "                                                  Pipeline(steps=[(&#x27;simpleimputer&#x27;,\n",
       "                                                                   SimpleImputer(strategy=&#x27;most_frequent&#x27;)),\n",
       "                                                                  (&#x27;onehotencoder&#x27;,\n",
       "                                                                   OneHotEncoder(handle_unknown=&#x27;ignore&#x27;,\n",
       "                                                                                 sparse=False))]),\n",
       "                                                  [&#x27;production_countries&#x27;,\n",
       "                                                   &#x27;belongs_to_collection_updated&#x27;,\n",
       "                                                   &#x27;actor1_gender&#x27;,\n",
       "                                                   &#x27;editor_name&#x27;])]))])</pre><b>In a Jupyter environment, please rerun this cell to show the HTML representation or trust the notebook. <br />On GitHub, the HTML representation is unable to render, please try loading this page with nbviewer.org.</b></div><div class=\"sk-container\" hidden><div class=\"sk-item sk-dashed-wrapped\"><div class=\"sk-label-container\"><div class=\"sk-label sk-toggleable\"><input class=\"sk-toggleable__control sk-hidden--visually\" id=\"sk-estimator-id-62\" type=\"checkbox\" ><label for=\"sk-estimator-id-62\" class=\"sk-toggleable__label sk-toggleable__label-arrow\">Pipeline</label><div class=\"sk-toggleable__content\"><pre>Pipeline(steps=[(&#x27;basic_prepoc&#x27;,\n",
       "                 FunctionTransformer(func=&lt;function &lt;lambda&gt; at 0x7f4f771c7d30&gt;)),\n",
       "                (&#x27;processing_pipeline&#x27;,\n",
       "                 ColumnTransformer(transformers=[(&#x27;Numerical Features &#x27;\n",
       "                                                  &#x27;Transformer&#x27;,\n",
       "                                                  Pipeline(steps=[(&#x27;simpleimputer&#x27;,\n",
       "                                                                   SimpleImputer()),\n",
       "                                                                  (&#x27;robustscaler&#x27;,\n",
       "                                                                   RobustScaler())]),\n",
       "                                                  [&#x27;log_budget&#x27;, &#x27;release_age&#x27;,\n",
       "                                                   &#x27;runtime&#x27;,\n",
       "                                                   &#x27;production_companies_number&#x27;,\n",
       "                                                   &#x27;production_cou...\n",
       "                                                 (&#x27;Cyclic Transformer&#x27;,\n",
       "                                                  Pipeline(steps=[(&#x27;simpleimputer&#x27;,\n",
       "                                                                   SimpleImputer())]),\n",
       "                                                  [&#x27;week_cos&#x27;, &#x27;week_sin&#x27;]),\n",
       "                                                 (&#x27;Category_Transformer&#x27;,\n",
       "                                                  Pipeline(steps=[(&#x27;simpleimputer&#x27;,\n",
       "                                                                   SimpleImputer(strategy=&#x27;most_frequent&#x27;)),\n",
       "                                                                  (&#x27;onehotencoder&#x27;,\n",
       "                                                                   OneHotEncoder(handle_unknown=&#x27;ignore&#x27;,\n",
       "                                                                                 sparse=False))]),\n",
       "                                                  [&#x27;production_countries&#x27;,\n",
       "                                                   &#x27;belongs_to_collection_updated&#x27;,\n",
       "                                                   &#x27;actor1_gender&#x27;,\n",
       "                                                   &#x27;editor_name&#x27;])]))])</pre></div></div></div><div class=\"sk-serial\"><div class=\"sk-item\"><div class=\"sk-estimator sk-toggleable\"><input class=\"sk-toggleable__control sk-hidden--visually\" id=\"sk-estimator-id-63\" type=\"checkbox\" ><label for=\"sk-estimator-id-63\" class=\"sk-toggleable__label sk-toggleable__label-arrow\">FunctionTransformer</label><div class=\"sk-toggleable__content\"><pre>FunctionTransformer(func=&lt;function &lt;lambda&gt; at 0x7f4f771c7d30&gt;)</pre></div></div></div><div class=\"sk-item sk-dashed-wrapped\"><div class=\"sk-label-container\"><div class=\"sk-label sk-toggleable\"><input class=\"sk-toggleable__control sk-hidden--visually\" id=\"sk-estimator-id-64\" type=\"checkbox\" ><label for=\"sk-estimator-id-64\" class=\"sk-toggleable__label sk-toggleable__label-arrow\">processing_pipeline: ColumnTransformer</label><div class=\"sk-toggleable__content\"><pre>ColumnTransformer(transformers=[(&#x27;Numerical Features Transformer&#x27;,\n",
       "                                 Pipeline(steps=[(&#x27;simpleimputer&#x27;,\n",
       "                                                  SimpleImputer()),\n",
       "                                                 (&#x27;robustscaler&#x27;,\n",
       "                                                  RobustScaler())]),\n",
       "                                 [&#x27;log_budget&#x27;, &#x27;release_age&#x27;, &#x27;runtime&#x27;,\n",
       "                                  &#x27;production_companies_number&#x27;,\n",
       "                                  &#x27;production_countries_number&#x27;, &#x27;actor_number&#x27;,\n",
       "                                  &#x27;producer_number&#x27;, &#x27;director_number&#x27;]),\n",
       "                                (&#x27;Genres Transformer&#x27;,\n",
       "                                 Pipeline(steps=[(&#x27;simpleimpute...\n",
       "                                (&#x27;Cyclic Transformer&#x27;,\n",
       "                                 Pipeline(steps=[(&#x27;simpleimputer&#x27;,\n",
       "                                                  SimpleImputer())]),\n",
       "                                 [&#x27;week_cos&#x27;, &#x27;week_sin&#x27;]),\n",
       "                                (&#x27;Category_Transformer&#x27;,\n",
       "                                 Pipeline(steps=[(&#x27;simpleimputer&#x27;,\n",
       "                                                  SimpleImputer(strategy=&#x27;most_frequent&#x27;)),\n",
       "                                                 (&#x27;onehotencoder&#x27;,\n",
       "                                                  OneHotEncoder(handle_unknown=&#x27;ignore&#x27;,\n",
       "                                                                sparse=False))]),\n",
       "                                 [&#x27;production_countries&#x27;,\n",
       "                                  &#x27;belongs_to_collection_updated&#x27;,\n",
       "                                  &#x27;actor1_gender&#x27;, &#x27;editor_name&#x27;])])</pre></div></div></div><div class=\"sk-parallel\"><div class=\"sk-parallel-item\"><div class=\"sk-item\"><div class=\"sk-label-container\"><div class=\"sk-label sk-toggleable\"><input class=\"sk-toggleable__control sk-hidden--visually\" id=\"sk-estimator-id-65\" type=\"checkbox\" ><label for=\"sk-estimator-id-65\" class=\"sk-toggleable__label sk-toggleable__label-arrow\">Numerical Features Transformer</label><div class=\"sk-toggleable__content\"><pre>[&#x27;log_budget&#x27;, &#x27;release_age&#x27;, &#x27;runtime&#x27;, &#x27;production_companies_number&#x27;, &#x27;production_countries_number&#x27;, &#x27;actor_number&#x27;, &#x27;producer_number&#x27;, &#x27;director_number&#x27;]</pre></div></div></div><div class=\"sk-serial\"><div class=\"sk-item\"><div class=\"sk-serial\"><div class=\"sk-item\"><div class=\"sk-estimator sk-toggleable\"><input class=\"sk-toggleable__control sk-hidden--visually\" id=\"sk-estimator-id-66\" type=\"checkbox\" ><label for=\"sk-estimator-id-66\" class=\"sk-toggleable__label sk-toggleable__label-arrow\">SimpleImputer</label><div class=\"sk-toggleable__content\"><pre>SimpleImputer()</pre></div></div></div><div class=\"sk-item\"><div class=\"sk-estimator sk-toggleable\"><input class=\"sk-toggleable__control sk-hidden--visually\" id=\"sk-estimator-id-67\" type=\"checkbox\" ><label for=\"sk-estimator-id-67\" class=\"sk-toggleable__label sk-toggleable__label-arrow\">RobustScaler</label><div class=\"sk-toggleable__content\"><pre>RobustScaler()</pre></div></div></div></div></div></div></div></div><div class=\"sk-parallel-item\"><div class=\"sk-item\"><div class=\"sk-label-container\"><div class=\"sk-label sk-toggleable\"><input class=\"sk-toggleable__control sk-hidden--visually\" id=\"sk-estimator-id-68\" type=\"checkbox\" ><label for=\"sk-estimator-id-68\" class=\"sk-toggleable__label sk-toggleable__label-arrow\">Genres Transformer</label><div class=\"sk-toggleable__content\"><pre>[&#x27;genres&#x27;]</pre></div></div></div><div class=\"sk-serial\"><div class=\"sk-item\"><div class=\"sk-serial\"><div class=\"sk-item\"><div class=\"sk-estimator sk-toggleable\"><input class=\"sk-toggleable__control sk-hidden--visually\" id=\"sk-estimator-id-69\" type=\"checkbox\" ><label for=\"sk-estimator-id-69\" class=\"sk-toggleable__label sk-toggleable__label-arrow\">SimpleImputer</label><div class=\"sk-toggleable__content\"><pre>SimpleImputer(strategy=&#x27;most_frequent&#x27;)</pre></div></div></div><div class=\"sk-item\"><div class=\"sk-estimator sk-toggleable\"><input class=\"sk-toggleable__control sk-hidden--visually\" id=\"sk-estimator-id-70\" type=\"checkbox\" ><label for=\"sk-estimator-id-70\" class=\"sk-toggleable__label sk-toggleable__label-arrow\">GenreTranformer</label><div class=\"sk-toggleable__content\"><pre>GenreTranformer()</pre></div></div></div></div></div></div></div></div><div class=\"sk-parallel-item\"><div class=\"sk-item\"><div class=\"sk-label-container\"><div class=\"sk-label sk-toggleable\"><input class=\"sk-toggleable__control sk-hidden--visually\" id=\"sk-estimator-id-71\" type=\"checkbox\" ><label for=\"sk-estimator-id-71\" class=\"sk-toggleable__label sk-toggleable__label-arrow\">Cast Transformer</label><div class=\"sk-toggleable__content\"><pre>[&#x27;director_name&#x27;, &#x27;producer_name&#x27;, &#x27;production_companies&#x27;]</pre></div></div></div><div class=\"sk-serial\"><div class=\"sk-item\"><div class=\"sk-serial\"><div class=\"sk-item\"><div class=\"sk-estimator sk-toggleable\"><input class=\"sk-toggleable__control sk-hidden--visually\" id=\"sk-estimator-id-72\" type=\"checkbox\" ><label for=\"sk-estimator-id-72\" class=\"sk-toggleable__label sk-toggleable__label-arrow\">SimpleImputer</label><div class=\"sk-toggleable__content\"><pre>SimpleImputer(strategy=&#x27;most_frequent&#x27;)</pre></div></div></div><div class=\"sk-item\"><div class=\"sk-estimator sk-toggleable\"><input class=\"sk-toggleable__control sk-hidden--visually\" id=\"sk-estimator-id-73\" type=\"checkbox\" ><label for=\"sk-estimator-id-73\" class=\"sk-toggleable__label sk-toggleable__label-arrow\">CastTransformer</label><div class=\"sk-toggleable__content\"><pre>CastTransformer()</pre></div></div></div></div></div></div></div></div><div class=\"sk-parallel-item\"><div class=\"sk-item\"><div class=\"sk-label-container\"><div class=\"sk-label sk-toggleable\"><input class=\"sk-toggleable__control sk-hidden--visually\" id=\"sk-estimator-id-74\" type=\"checkbox\" ><label for=\"sk-estimator-id-74\" class=\"sk-toggleable__label sk-toggleable__label-arrow\">Cyclic Transformer</label><div class=\"sk-toggleable__content\"><pre>[&#x27;week_cos&#x27;, &#x27;week_sin&#x27;]</pre></div></div></div><div class=\"sk-serial\"><div class=\"sk-item\"><div class=\"sk-serial\"><div class=\"sk-item\"><div class=\"sk-estimator sk-toggleable\"><input class=\"sk-toggleable__control sk-hidden--visually\" id=\"sk-estimator-id-75\" type=\"checkbox\" ><label for=\"sk-estimator-id-75\" class=\"sk-toggleable__label sk-toggleable__label-arrow\">SimpleImputer</label><div class=\"sk-toggleable__content\"><pre>SimpleImputer()</pre></div></div></div></div></div></div></div></div><div class=\"sk-parallel-item\"><div class=\"sk-item\"><div class=\"sk-label-container\"><div class=\"sk-label sk-toggleable\"><input class=\"sk-toggleable__control sk-hidden--visually\" id=\"sk-estimator-id-76\" type=\"checkbox\" ><label for=\"sk-estimator-id-76\" class=\"sk-toggleable__label sk-toggleable__label-arrow\">Category_Transformer</label><div class=\"sk-toggleable__content\"><pre>[&#x27;production_countries&#x27;, &#x27;belongs_to_collection_updated&#x27;, &#x27;actor1_gender&#x27;, &#x27;editor_name&#x27;]</pre></div></div></div><div class=\"sk-serial\"><div class=\"sk-item\"><div class=\"sk-serial\"><div class=\"sk-item\"><div class=\"sk-estimator sk-toggleable\"><input class=\"sk-toggleable__control sk-hidden--visually\" id=\"sk-estimator-id-77\" type=\"checkbox\" ><label for=\"sk-estimator-id-77\" class=\"sk-toggleable__label sk-toggleable__label-arrow\">SimpleImputer</label><div class=\"sk-toggleable__content\"><pre>SimpleImputer(strategy=&#x27;most_frequent&#x27;)</pre></div></div></div><div class=\"sk-item\"><div class=\"sk-estimator sk-toggleable\"><input class=\"sk-toggleable__control sk-hidden--visually\" id=\"sk-estimator-id-78\" type=\"checkbox\" ><label for=\"sk-estimator-id-78\" class=\"sk-toggleable__label sk-toggleable__label-arrow\">OneHotEncoder</label><div class=\"sk-toggleable__content\"><pre>OneHotEncoder(handle_unknown=&#x27;ignore&#x27;, sparse=False)</pre></div></div></div></div></div></div></div></div></div></div></div></div></div></div>"
      ],
      "text/plain": [
       "Pipeline(steps=[('basic_prepoc',\n",
       "                 FunctionTransformer(func=<function <lambda> at 0x7f4f771c7d30>)),\n",
       "                ('processing_pipeline',\n",
       "                 ColumnTransformer(transformers=[('Numerical Features '\n",
       "                                                  'Transformer',\n",
       "                                                  Pipeline(steps=[('simpleimputer',\n",
       "                                                                   SimpleImputer()),\n",
       "                                                                  ('robustscaler',\n",
       "                                                                   RobustScaler())]),\n",
       "                                                  ['log_budget', 'release_age',\n",
       "                                                   'runtime',\n",
       "                                                   'production_companies_number',\n",
       "                                                   'production_cou...\n",
       "                                                 ('Cyclic Transformer',\n",
       "                                                  Pipeline(steps=[('simpleimputer',\n",
       "                                                                   SimpleImputer())]),\n",
       "                                                  ['week_cos', 'week_sin']),\n",
       "                                                 ('Category_Transformer',\n",
       "                                                  Pipeline(steps=[('simpleimputer',\n",
       "                                                                   SimpleImputer(strategy='most_frequent')),\n",
       "                                                                  ('onehotencoder',\n",
       "                                                                   OneHotEncoder(handle_unknown='ignore',\n",
       "                                                                                 sparse=False))]),\n",
       "                                                  ['production_countries',\n",
       "                                                   'belongs_to_collection_updated',\n",
       "                                                   'actor1_gender',\n",
       "                                                   'editor_name'])]))])"
      ]
     },
     "execution_count": 28,
     "metadata": {},
     "output_type": "execute_result"
    }
   ],
   "source": [
    "union.fit(X_train)"
   ]
  },
  {
   "cell_type": "code",
   "execution_count": 29,
   "id": "73fd1ed6",
   "metadata": {},
   "outputs": [],
   "source": [
    "# corr_num = X_train_transformed[['log_budget','release_age','runtime','production_companies_number','production_countries_number', 'spoken_languages_number','actor_number','producer_number','director_number','week_cos','week_sin']].corr()\n",
    "# plt.figure(figsize=(7,5))\n",
    "# sns.heatmap(corr_num, cmap='coolwarm',vmin=-1, vmax=1);\n"
   ]
  },
  {
   "cell_type": "code",
   "execution_count": 30,
   "id": "d587dc88",
   "metadata": {},
   "outputs": [],
   "source": [
    "# # Converting the correlation matrix into a DataFrame\n",
    "# corr_df = corr_num.stack().reset_index()\n",
    "\n",
    "# # Renaming the columns\n",
    "# corr_df.columns = ['feature_1','feature_2', 'correlation']\n",
    "\n",
    "# # Remove \"self correlations\"\n",
    "# no_self_correlation = (corr_df['feature_1'] != corr_df['feature_2'])\n",
    "# corr_df = corr_df[no_self_correlation]\n",
    "# # Computing the absolute correlation\n",
    "# corr_df['absolute_correlation'] = np.abs(corr_df['correlation'])\n",
    "\n",
    "# # Showing the top 5 most correlated pairs of feature\n",
    "# corr_df.sort_values(by=\"absolute_correlation\", ascending=False).head(5*2)"
   ]
  },
  {
   "cell_type": "code",
   "execution_count": 31,
   "id": "0e11c8a9",
   "metadata": {},
   "outputs": [],
   "source": [
    "# union.get_feature_names_out()"
   ]
  },
  {
   "cell_type": "code",
   "execution_count": 32,
   "id": "ca1bd319",
   "metadata": {},
   "outputs": [],
   "source": [
    "X_train_transformed = pd.DataFrame(union.transform(X_train))\n",
    "X_val_transformed = pd.DataFrame(union.transform(X_val))\n",
    "X_test_transformed = pd.DataFrame(union.transform(X_test))"
   ]
  },
  {
   "cell_type": "code",
   "execution_count": 33,
   "id": "4344a4a9",
   "metadata": {},
   "outputs": [
    {
     "data": {
      "text/html": [
       "<div>\n",
       "<style scoped>\n",
       "    .dataframe tbody tr th:only-of-type {\n",
       "        vertical-align: middle;\n",
       "    }\n",
       "\n",
       "    .dataframe tbody tr th {\n",
       "        vertical-align: top;\n",
       "    }\n",
       "\n",
       "    .dataframe thead th {\n",
       "        text-align: right;\n",
       "    }\n",
       "</style>\n",
       "<table border=\"1\" class=\"dataframe\">\n",
       "  <thead>\n",
       "    <tr style=\"text-align: right;\">\n",
       "      <th></th>\n",
       "      <th>0</th>\n",
       "      <th>1</th>\n",
       "      <th>2</th>\n",
       "      <th>3</th>\n",
       "      <th>4</th>\n",
       "      <th>5</th>\n",
       "      <th>6</th>\n",
       "      <th>7</th>\n",
       "      <th>8</th>\n",
       "      <th>9</th>\n",
       "      <th>...</th>\n",
       "      <th>1765</th>\n",
       "      <th>1766</th>\n",
       "      <th>1767</th>\n",
       "      <th>1768</th>\n",
       "      <th>1769</th>\n",
       "      <th>1770</th>\n",
       "      <th>1771</th>\n",
       "      <th>1772</th>\n",
       "      <th>1773</th>\n",
       "      <th>1774</th>\n",
       "    </tr>\n",
       "  </thead>\n",
       "  <tbody>\n",
       "    <tr>\n",
       "      <th>count</th>\n",
       "      <td>5570.000000</td>\n",
       "      <td>5570.000000</td>\n",
       "      <td>5570.000000</td>\n",
       "      <td>5570.000000</td>\n",
       "      <td>5570.000000</td>\n",
       "      <td>5570.000000</td>\n",
       "      <td>5570.000000</td>\n",
       "      <td>5570.000000</td>\n",
       "      <td>5570.000000</td>\n",
       "      <td>5570.00000</td>\n",
       "      <td>...</td>\n",
       "      <td>5570.000000</td>\n",
       "      <td>5570.000000</td>\n",
       "      <td>5570.000000</td>\n",
       "      <td>5570.000000</td>\n",
       "      <td>5570.000000</td>\n",
       "      <td>5570.000000</td>\n",
       "      <td>5570.000000</td>\n",
       "      <td>5570.000000</td>\n",
       "      <td>5570.000000</td>\n",
       "      <td>5570.000000</td>\n",
       "    </tr>\n",
       "    <tr>\n",
       "      <th>mean</th>\n",
       "      <td>-0.108360</td>\n",
       "      <td>0.390965</td>\n",
       "      <td>0.095537</td>\n",
       "      <td>0.126750</td>\n",
       "      <td>0.247935</td>\n",
       "      <td>0.343848</td>\n",
       "      <td>0.212448</td>\n",
       "      <td>0.043806</td>\n",
       "      <td>0.226930</td>\n",
       "      <td>0.14237</td>\n",
       "      <td>...</td>\n",
       "      <td>0.000359</td>\n",
       "      <td>0.000359</td>\n",
       "      <td>0.000718</td>\n",
       "      <td>0.000180</td>\n",
       "      <td>0.000180</td>\n",
       "      <td>0.001077</td>\n",
       "      <td>0.000180</td>\n",
       "      <td>0.373968</td>\n",
       "      <td>0.000180</td>\n",
       "      <td>0.000180</td>\n",
       "    </tr>\n",
       "    <tr>\n",
       "      <th>std</th>\n",
       "      <td>0.786978</td>\n",
       "      <td>1.133851</td>\n",
       "      <td>1.197324</td>\n",
       "      <td>1.038106</td>\n",
       "      <td>0.768920</td>\n",
       "      <td>1.332270</td>\n",
       "      <td>0.542141</td>\n",
       "      <td>0.454287</td>\n",
       "      <td>0.418885</td>\n",
       "      <td>0.34946</td>\n",
       "      <td>...</td>\n",
       "      <td>0.018947</td>\n",
       "      <td>0.018947</td>\n",
       "      <td>0.026791</td>\n",
       "      <td>0.013399</td>\n",
       "      <td>0.013399</td>\n",
       "      <td>0.032806</td>\n",
       "      <td>0.013399</td>\n",
       "      <td>0.483899</td>\n",
       "      <td>0.013399</td>\n",
       "      <td>0.013399</td>\n",
       "    </tr>\n",
       "    <tr>\n",
       "      <th>min</th>\n",
       "      <td>-3.520450</td>\n",
       "      <td>-0.882353</td>\n",
       "      <td>-3.922330</td>\n",
       "      <td>-1.000000</td>\n",
       "      <td>-1.000000</td>\n",
       "      <td>-1.076923</td>\n",
       "      <td>-0.333333</td>\n",
       "      <td>-1.000000</td>\n",
       "      <td>0.000000</td>\n",
       "      <td>0.00000</td>\n",
       "      <td>...</td>\n",
       "      <td>0.000000</td>\n",
       "      <td>0.000000</td>\n",
       "      <td>0.000000</td>\n",
       "      <td>0.000000</td>\n",
       "      <td>0.000000</td>\n",
       "      <td>0.000000</td>\n",
       "      <td>0.000000</td>\n",
       "      <td>0.000000</td>\n",
       "      <td>0.000000</td>\n",
       "      <td>0.000000</td>\n",
       "    </tr>\n",
       "    <tr>\n",
       "      <th>25%</th>\n",
       "      <td>-0.560554</td>\n",
       "      <td>-0.294118</td>\n",
       "      <td>-0.417476</td>\n",
       "      <td>-0.500000</td>\n",
       "      <td>0.000000</td>\n",
       "      <td>-0.384615</td>\n",
       "      <td>-0.333333</td>\n",
       "      <td>0.000000</td>\n",
       "      <td>0.000000</td>\n",
       "      <td>0.00000</td>\n",
       "      <td>...</td>\n",
       "      <td>0.000000</td>\n",
       "      <td>0.000000</td>\n",
       "      <td>0.000000</td>\n",
       "      <td>0.000000</td>\n",
       "      <td>0.000000</td>\n",
       "      <td>0.000000</td>\n",
       "      <td>0.000000</td>\n",
       "      <td>0.000000</td>\n",
       "      <td>0.000000</td>\n",
       "      <td>0.000000</td>\n",
       "    </tr>\n",
       "    <tr>\n",
       "      <th>50%</th>\n",
       "      <td>0.000000</td>\n",
       "      <td>0.000000</td>\n",
       "      <td>0.000000</td>\n",
       "      <td>0.000000</td>\n",
       "      <td>0.000000</td>\n",
       "      <td>0.000000</td>\n",
       "      <td>0.000000</td>\n",
       "      <td>0.000000</td>\n",
       "      <td>0.000000</td>\n",
       "      <td>0.00000</td>\n",
       "      <td>...</td>\n",
       "      <td>0.000000</td>\n",
       "      <td>0.000000</td>\n",
       "      <td>0.000000</td>\n",
       "      <td>0.000000</td>\n",
       "      <td>0.000000</td>\n",
       "      <td>0.000000</td>\n",
       "      <td>0.000000</td>\n",
       "      <td>0.000000</td>\n",
       "      <td>0.000000</td>\n",
       "      <td>0.000000</td>\n",
       "    </tr>\n",
       "    <tr>\n",
       "      <th>75%</th>\n",
       "      <td>0.439446</td>\n",
       "      <td>0.705882</td>\n",
       "      <td>0.582524</td>\n",
       "      <td>0.500000</td>\n",
       "      <td>0.000000</td>\n",
       "      <td>0.615385</td>\n",
       "      <td>0.666667</td>\n",
       "      <td>0.000000</td>\n",
       "      <td>0.000000</td>\n",
       "      <td>0.00000</td>\n",
       "      <td>...</td>\n",
       "      <td>0.000000</td>\n",
       "      <td>0.000000</td>\n",
       "      <td>0.000000</td>\n",
       "      <td>0.000000</td>\n",
       "      <td>0.000000</td>\n",
       "      <td>0.000000</td>\n",
       "      <td>0.000000</td>\n",
       "      <td>1.000000</td>\n",
       "      <td>0.000000</td>\n",
       "      <td>0.000000</td>\n",
       "    </tr>\n",
       "    <tr>\n",
       "      <th>max</th>\n",
       "      <td>1.678409</td>\n",
       "      <td>6.764706</td>\n",
       "      <td>17.514563</td>\n",
       "      <td>10.000000</td>\n",
       "      <td>8.000000</td>\n",
       "      <td>15.307692</td>\n",
       "      <td>3.333333</td>\n",
       "      <td>11.000000</td>\n",
       "      <td>1.000000</td>\n",
       "      <td>1.00000</td>\n",
       "      <td>...</td>\n",
       "      <td>1.000000</td>\n",
       "      <td>1.000000</td>\n",
       "      <td>1.000000</td>\n",
       "      <td>1.000000</td>\n",
       "      <td>1.000000</td>\n",
       "      <td>1.000000</td>\n",
       "      <td>1.000000</td>\n",
       "      <td>1.000000</td>\n",
       "      <td>1.000000</td>\n",
       "      <td>1.000000</td>\n",
       "    </tr>\n",
       "  </tbody>\n",
       "</table>\n",
       "<p>8 rows × 1775 columns</p>\n",
       "</div>"
      ],
      "text/plain": [
       "              0            1            2            3            4     \\\n",
       "count  5570.000000  5570.000000  5570.000000  5570.000000  5570.000000   \n",
       "mean     -0.108360     0.390965     0.095537     0.126750     0.247935   \n",
       "std       0.786978     1.133851     1.197324     1.038106     0.768920   \n",
       "min      -3.520450    -0.882353    -3.922330    -1.000000    -1.000000   \n",
       "25%      -0.560554    -0.294118    -0.417476    -0.500000     0.000000   \n",
       "50%       0.000000     0.000000     0.000000     0.000000     0.000000   \n",
       "75%       0.439446     0.705882     0.582524     0.500000     0.000000   \n",
       "max       1.678409     6.764706    17.514563    10.000000     8.000000   \n",
       "\n",
       "              5            6            7            8           9     ...  \\\n",
       "count  5570.000000  5570.000000  5570.000000  5570.000000  5570.00000  ...   \n",
       "mean      0.343848     0.212448     0.043806     0.226930     0.14237  ...   \n",
       "std       1.332270     0.542141     0.454287     0.418885     0.34946  ...   \n",
       "min      -1.076923    -0.333333    -1.000000     0.000000     0.00000  ...   \n",
       "25%      -0.384615    -0.333333     0.000000     0.000000     0.00000  ...   \n",
       "50%       0.000000     0.000000     0.000000     0.000000     0.00000  ...   \n",
       "75%       0.615385     0.666667     0.000000     0.000000     0.00000  ...   \n",
       "max      15.307692     3.333333    11.000000     1.000000     1.00000  ...   \n",
       "\n",
       "              1765         1766         1767         1768         1769  \\\n",
       "count  5570.000000  5570.000000  5570.000000  5570.000000  5570.000000   \n",
       "mean      0.000359     0.000359     0.000718     0.000180     0.000180   \n",
       "std       0.018947     0.018947     0.026791     0.013399     0.013399   \n",
       "min       0.000000     0.000000     0.000000     0.000000     0.000000   \n",
       "25%       0.000000     0.000000     0.000000     0.000000     0.000000   \n",
       "50%       0.000000     0.000000     0.000000     0.000000     0.000000   \n",
       "75%       0.000000     0.000000     0.000000     0.000000     0.000000   \n",
       "max       1.000000     1.000000     1.000000     1.000000     1.000000   \n",
       "\n",
       "              1770         1771         1772         1773         1774  \n",
       "count  5570.000000  5570.000000  5570.000000  5570.000000  5570.000000  \n",
       "mean      0.001077     0.000180     0.373968     0.000180     0.000180  \n",
       "std       0.032806     0.013399     0.483899     0.013399     0.013399  \n",
       "min       0.000000     0.000000     0.000000     0.000000     0.000000  \n",
       "25%       0.000000     0.000000     0.000000     0.000000     0.000000  \n",
       "50%       0.000000     0.000000     0.000000     0.000000     0.000000  \n",
       "75%       0.000000     0.000000     1.000000     0.000000     0.000000  \n",
       "max       1.000000     1.000000     1.000000     1.000000     1.000000  \n",
       "\n",
       "[8 rows x 1775 columns]"
      ]
     },
     "execution_count": 33,
     "metadata": {},
     "output_type": "execute_result"
    }
   ],
   "source": [
    "X_train_transformed.describe()"
   ]
  },
  {
   "cell_type": "code",
   "execution_count": 34,
   "id": "a1c7a63c",
   "metadata": {},
   "outputs": [
    {
     "data": {
      "text/plain": [
       "array([0.16126931, 0.15353944, 0.0815281 , 0.06893329, 0.05574357,\n",
       "       0.04457494, 0.03300543, 0.03083085, 0.02726123, 0.02582376,\n",
       "       0.02175353, 0.0197874 , 0.01846617, 0.01741946, 0.0169199 ,\n",
       "       0.01261128, 0.01202682, 0.01169372, 0.01118025, 0.00936824])"
      ]
     },
     "execution_count": 34,
     "metadata": {},
     "output_type": "execute_result"
    }
   ],
   "source": [
    "from sklearn.decomposition import PCA\n",
    "pca = PCA(n_components=20)\n",
    "pca_x_train = pca.fit_transform(X_train_transformed)\n",
    "pca_x_val = pca.transform(X_val_transformed)\n",
    "pca_x_test = pca.transform(X_test_transformed)\n",
    "pca.explained_variance_ratio_"
   ]
  },
  {
   "cell_type": "code",
   "execution_count": 35,
   "id": "a451242b",
   "metadata": {},
   "outputs": [],
   "source": [
    "y_train_transformed = y_train.apply(lambda x: np.log(1+x))\n",
    "y_val_transformed = y_val.apply(lambda x: np.log(1+x))\n",
    "y_test_transformed = y_test.apply(lambda x: np.log(1+x))"
   ]
  },
  {
   "cell_type": "markdown",
   "id": "f427a6a6",
   "metadata": {},
   "source": [
    "## Models"
   ]
  },
  {
   "cell_type": "markdown",
   "id": "8e409511",
   "metadata": {},
   "source": [
    "**XGB Regresssor**"
   ]
  },
  {
   "cell_type": "code",
   "execution_count": 36,
   "id": "29caaa7e",
   "metadata": {},
   "outputs": [],
   "source": [
    "from xgboost import XGBRegressor"
   ]
  },
  {
   "cell_type": "code",
   "execution_count": 37,
   "id": "62df597a",
   "metadata": {},
   "outputs": [],
   "source": [
    "model_xgb = XGBRegressor(max_depth=6, n_estimators=2000, learning_rate=0.003)"
   ]
  },
  {
   "cell_type": "code",
   "execution_count": 38,
   "id": "fa009d9b",
   "metadata": {},
   "outputs": [
    {
     "data": {
      "text/html": [
       "<style>#sk-container-id-7 {color: black;background-color: white;}#sk-container-id-7 pre{padding: 0;}#sk-container-id-7 div.sk-toggleable {background-color: white;}#sk-container-id-7 label.sk-toggleable__label {cursor: pointer;display: block;width: 100%;margin-bottom: 0;padding: 0.3em;box-sizing: border-box;text-align: center;}#sk-container-id-7 label.sk-toggleable__label-arrow:before {content: \"▸\";float: left;margin-right: 0.25em;color: #696969;}#sk-container-id-7 label.sk-toggleable__label-arrow:hover:before {color: black;}#sk-container-id-7 div.sk-estimator:hover label.sk-toggleable__label-arrow:before {color: black;}#sk-container-id-7 div.sk-toggleable__content {max-height: 0;max-width: 0;overflow: hidden;text-align: left;background-color: #f0f8ff;}#sk-container-id-7 div.sk-toggleable__content pre {margin: 0.2em;color: black;border-radius: 0.25em;background-color: #f0f8ff;}#sk-container-id-7 input.sk-toggleable__control:checked~div.sk-toggleable__content {max-height: 200px;max-width: 100%;overflow: auto;}#sk-container-id-7 input.sk-toggleable__control:checked~label.sk-toggleable__label-arrow:before {content: \"▾\";}#sk-container-id-7 div.sk-estimator input.sk-toggleable__control:checked~label.sk-toggleable__label {background-color: #d4ebff;}#sk-container-id-7 div.sk-label input.sk-toggleable__control:checked~label.sk-toggleable__label {background-color: #d4ebff;}#sk-container-id-7 input.sk-hidden--visually {border: 0;clip: rect(1px 1px 1px 1px);clip: rect(1px, 1px, 1px, 1px);height: 1px;margin: -1px;overflow: hidden;padding: 0;position: absolute;width: 1px;}#sk-container-id-7 div.sk-estimator {font-family: monospace;background-color: #f0f8ff;border: 1px dotted black;border-radius: 0.25em;box-sizing: border-box;margin-bottom: 0.5em;}#sk-container-id-7 div.sk-estimator:hover {background-color: #d4ebff;}#sk-container-id-7 div.sk-parallel-item::after {content: \"\";width: 100%;border-bottom: 1px solid gray;flex-grow: 1;}#sk-container-id-7 div.sk-label:hover label.sk-toggleable__label {background-color: #d4ebff;}#sk-container-id-7 div.sk-serial::before {content: \"\";position: absolute;border-left: 1px solid gray;box-sizing: border-box;top: 0;bottom: 0;left: 50%;z-index: 0;}#sk-container-id-7 div.sk-serial {display: flex;flex-direction: column;align-items: center;background-color: white;padding-right: 0.2em;padding-left: 0.2em;position: relative;}#sk-container-id-7 div.sk-item {position: relative;z-index: 1;}#sk-container-id-7 div.sk-parallel {display: flex;align-items: stretch;justify-content: center;background-color: white;position: relative;}#sk-container-id-7 div.sk-item::before, #sk-container-id-7 div.sk-parallel-item::before {content: \"\";position: absolute;border-left: 1px solid gray;box-sizing: border-box;top: 0;bottom: 0;left: 50%;z-index: -1;}#sk-container-id-7 div.sk-parallel-item {display: flex;flex-direction: column;z-index: 1;position: relative;background-color: white;}#sk-container-id-7 div.sk-parallel-item:first-child::after {align-self: flex-end;width: 50%;}#sk-container-id-7 div.sk-parallel-item:last-child::after {align-self: flex-start;width: 50%;}#sk-container-id-7 div.sk-parallel-item:only-child::after {width: 0;}#sk-container-id-7 div.sk-dashed-wrapped {border: 1px dashed gray;margin: 0 0.4em 0.5em 0.4em;box-sizing: border-box;padding-bottom: 0.4em;background-color: white;}#sk-container-id-7 div.sk-label label {font-family: monospace;font-weight: bold;display: inline-block;line-height: 1.2em;}#sk-container-id-7 div.sk-label-container {text-align: center;}#sk-container-id-7 div.sk-container {/* jupyter's `normalize.less` sets `[hidden] { display: none; }` but bootstrap.min.css set `[hidden] { display: none !important; }` so we also need the `!important` here to be able to override the default hidden behavior on the sphinx rendered scikit-learn.org. See: https://github.com/scikit-learn/scikit-learn/issues/21755 */display: inline-block !important;position: relative;}#sk-container-id-7 div.sk-text-repr-fallback {display: none;}</style><div id=\"sk-container-id-7\" class=\"sk-top-container\"><div class=\"sk-text-repr-fallback\"><pre>Pipeline(steps=[(&#x27;pipeline&#x27;,\n",
       "                 Pipeline(steps=[(&#x27;basic_prepoc&#x27;,\n",
       "                                  FunctionTransformer(func=&lt;function &lt;lambda&gt; at 0x7f4f771c7d30&gt;)),\n",
       "                                 (&#x27;processing_pipeline&#x27;,\n",
       "                                  ColumnTransformer(transformers=[(&#x27;Numerical &#x27;\n",
       "                                                                   &#x27;Features &#x27;\n",
       "                                                                   &#x27;Transformer&#x27;,\n",
       "                                                                   Pipeline(steps=[(&#x27;simpleimputer&#x27;,\n",
       "                                                                                    SimpleImputer()),\n",
       "                                                                                   (&#x27;robustscaler&#x27;,\n",
       "                                                                                    RobustScaler())]),\n",
       "                                                                   [&#x27;log_budget&#x27;,\n",
       "                                                                    &#x27;release_age&#x27;,\n",
       "                                                                    &#x27;runtime&#x27;,\n",
       "                                                                    &#x27;production_com...\n",
       "                              interaction_constraints=None, learning_rate=0.003,\n",
       "                              max_delta_step=None, max_depth=6,\n",
       "                              min_child_weight=None, missing=nan,\n",
       "                              monotone_constraints=None, n_estimators=2000,\n",
       "                              n_jobs=None, num_parallel_tree=None,\n",
       "                              predictor=None, random_state=None, reg_alpha=None,\n",
       "                              reg_lambda=None, scale_pos_weight=None,\n",
       "                              subsample=None, tree_method=None,\n",
       "                              validate_parameters=None, verbosity=None))])</pre><b>In a Jupyter environment, please rerun this cell to show the HTML representation or trust the notebook. <br />On GitHub, the HTML representation is unable to render, please try loading this page with nbviewer.org.</b></div><div class=\"sk-container\" hidden><div class=\"sk-item sk-dashed-wrapped\"><div class=\"sk-label-container\"><div class=\"sk-label sk-toggleable\"><input class=\"sk-toggleable__control sk-hidden--visually\" id=\"sk-estimator-id-79\" type=\"checkbox\" ><label for=\"sk-estimator-id-79\" class=\"sk-toggleable__label sk-toggleable__label-arrow\">Pipeline</label><div class=\"sk-toggleable__content\"><pre>Pipeline(steps=[(&#x27;pipeline&#x27;,\n",
       "                 Pipeline(steps=[(&#x27;basic_prepoc&#x27;,\n",
       "                                  FunctionTransformer(func=&lt;function &lt;lambda&gt; at 0x7f4f771c7d30&gt;)),\n",
       "                                 (&#x27;processing_pipeline&#x27;,\n",
       "                                  ColumnTransformer(transformers=[(&#x27;Numerical &#x27;\n",
       "                                                                   &#x27;Features &#x27;\n",
       "                                                                   &#x27;Transformer&#x27;,\n",
       "                                                                   Pipeline(steps=[(&#x27;simpleimputer&#x27;,\n",
       "                                                                                    SimpleImputer()),\n",
       "                                                                                   (&#x27;robustscaler&#x27;,\n",
       "                                                                                    RobustScaler())]),\n",
       "                                                                   [&#x27;log_budget&#x27;,\n",
       "                                                                    &#x27;release_age&#x27;,\n",
       "                                                                    &#x27;runtime&#x27;,\n",
       "                                                                    &#x27;production_com...\n",
       "                              interaction_constraints=None, learning_rate=0.003,\n",
       "                              max_delta_step=None, max_depth=6,\n",
       "                              min_child_weight=None, missing=nan,\n",
       "                              monotone_constraints=None, n_estimators=2000,\n",
       "                              n_jobs=None, num_parallel_tree=None,\n",
       "                              predictor=None, random_state=None, reg_alpha=None,\n",
       "                              reg_lambda=None, scale_pos_weight=None,\n",
       "                              subsample=None, tree_method=None,\n",
       "                              validate_parameters=None, verbosity=None))])</pre></div></div></div><div class=\"sk-serial\"><div class=\"sk-item\"><div class=\"sk-label-container\"><div class=\"sk-label sk-toggleable\"><input class=\"sk-toggleable__control sk-hidden--visually\" id=\"sk-estimator-id-80\" type=\"checkbox\" ><label for=\"sk-estimator-id-80\" class=\"sk-toggleable__label sk-toggleable__label-arrow\">pipeline: Pipeline</label><div class=\"sk-toggleable__content\"><pre>Pipeline(steps=[(&#x27;basic_prepoc&#x27;,\n",
       "                 FunctionTransformer(func=&lt;function &lt;lambda&gt; at 0x7f4f771c7d30&gt;)),\n",
       "                (&#x27;processing_pipeline&#x27;,\n",
       "                 ColumnTransformer(transformers=[(&#x27;Numerical Features &#x27;\n",
       "                                                  &#x27;Transformer&#x27;,\n",
       "                                                  Pipeline(steps=[(&#x27;simpleimputer&#x27;,\n",
       "                                                                   SimpleImputer()),\n",
       "                                                                  (&#x27;robustscaler&#x27;,\n",
       "                                                                   RobustScaler())]),\n",
       "                                                  [&#x27;log_budget&#x27;, &#x27;release_age&#x27;,\n",
       "                                                   &#x27;runtime&#x27;,\n",
       "                                                   &#x27;production_companies_number&#x27;,\n",
       "                                                   &#x27;production_cou...\n",
       "                                                 (&#x27;Cyclic Transformer&#x27;,\n",
       "                                                  Pipeline(steps=[(&#x27;simpleimputer&#x27;,\n",
       "                                                                   SimpleImputer())]),\n",
       "                                                  [&#x27;week_cos&#x27;, &#x27;week_sin&#x27;]),\n",
       "                                                 (&#x27;Category_Transformer&#x27;,\n",
       "                                                  Pipeline(steps=[(&#x27;simpleimputer&#x27;,\n",
       "                                                                   SimpleImputer(strategy=&#x27;most_frequent&#x27;)),\n",
       "                                                                  (&#x27;onehotencoder&#x27;,\n",
       "                                                                   OneHotEncoder(handle_unknown=&#x27;ignore&#x27;,\n",
       "                                                                                 sparse=False))]),\n",
       "                                                  [&#x27;production_countries&#x27;,\n",
       "                                                   &#x27;belongs_to_collection_updated&#x27;,\n",
       "                                                   &#x27;actor1_gender&#x27;,\n",
       "                                                   &#x27;editor_name&#x27;])]))])</pre></div></div></div><div class=\"sk-serial\"><div class=\"sk-item\"><div class=\"sk-estimator sk-toggleable\"><input class=\"sk-toggleable__control sk-hidden--visually\" id=\"sk-estimator-id-81\" type=\"checkbox\" ><label for=\"sk-estimator-id-81\" class=\"sk-toggleable__label sk-toggleable__label-arrow\">FunctionTransformer</label><div class=\"sk-toggleable__content\"><pre>FunctionTransformer(func=&lt;function &lt;lambda&gt; at 0x7f4f771c7d30&gt;)</pre></div></div></div><div class=\"sk-item sk-dashed-wrapped\"><div class=\"sk-label-container\"><div class=\"sk-label sk-toggleable\"><input class=\"sk-toggleable__control sk-hidden--visually\" id=\"sk-estimator-id-82\" type=\"checkbox\" ><label for=\"sk-estimator-id-82\" class=\"sk-toggleable__label sk-toggleable__label-arrow\">processing_pipeline: ColumnTransformer</label><div class=\"sk-toggleable__content\"><pre>ColumnTransformer(transformers=[(&#x27;Numerical Features Transformer&#x27;,\n",
       "                                 Pipeline(steps=[(&#x27;simpleimputer&#x27;,\n",
       "                                                  SimpleImputer()),\n",
       "                                                 (&#x27;robustscaler&#x27;,\n",
       "                                                  RobustScaler())]),\n",
       "                                 [&#x27;log_budget&#x27;, &#x27;release_age&#x27;, &#x27;runtime&#x27;,\n",
       "                                  &#x27;production_companies_number&#x27;,\n",
       "                                  &#x27;production_countries_number&#x27;, &#x27;actor_number&#x27;,\n",
       "                                  &#x27;producer_number&#x27;, &#x27;director_number&#x27;]),\n",
       "                                (&#x27;Genres Transformer&#x27;,\n",
       "                                 Pipeline(steps=[(&#x27;simpleimpute...\n",
       "                                (&#x27;Cyclic Transformer&#x27;,\n",
       "                                 Pipeline(steps=[(&#x27;simpleimputer&#x27;,\n",
       "                                                  SimpleImputer())]),\n",
       "                                 [&#x27;week_cos&#x27;, &#x27;week_sin&#x27;]),\n",
       "                                (&#x27;Category_Transformer&#x27;,\n",
       "                                 Pipeline(steps=[(&#x27;simpleimputer&#x27;,\n",
       "                                                  SimpleImputer(strategy=&#x27;most_frequent&#x27;)),\n",
       "                                                 (&#x27;onehotencoder&#x27;,\n",
       "                                                  OneHotEncoder(handle_unknown=&#x27;ignore&#x27;,\n",
       "                                                                sparse=False))]),\n",
       "                                 [&#x27;production_countries&#x27;,\n",
       "                                  &#x27;belongs_to_collection_updated&#x27;,\n",
       "                                  &#x27;actor1_gender&#x27;, &#x27;editor_name&#x27;])])</pre></div></div></div><div class=\"sk-parallel\"><div class=\"sk-parallel-item\"><div class=\"sk-item\"><div class=\"sk-label-container\"><div class=\"sk-label sk-toggleable\"><input class=\"sk-toggleable__control sk-hidden--visually\" id=\"sk-estimator-id-83\" type=\"checkbox\" ><label for=\"sk-estimator-id-83\" class=\"sk-toggleable__label sk-toggleable__label-arrow\">Numerical Features Transformer</label><div class=\"sk-toggleable__content\"><pre>[&#x27;log_budget&#x27;, &#x27;release_age&#x27;, &#x27;runtime&#x27;, &#x27;production_companies_number&#x27;, &#x27;production_countries_number&#x27;, &#x27;actor_number&#x27;, &#x27;producer_number&#x27;, &#x27;director_number&#x27;]</pre></div></div></div><div class=\"sk-serial\"><div class=\"sk-item\"><div class=\"sk-serial\"><div class=\"sk-item\"><div class=\"sk-estimator sk-toggleable\"><input class=\"sk-toggleable__control sk-hidden--visually\" id=\"sk-estimator-id-84\" type=\"checkbox\" ><label for=\"sk-estimator-id-84\" class=\"sk-toggleable__label sk-toggleable__label-arrow\">SimpleImputer</label><div class=\"sk-toggleable__content\"><pre>SimpleImputer()</pre></div></div></div><div class=\"sk-item\"><div class=\"sk-estimator sk-toggleable\"><input class=\"sk-toggleable__control sk-hidden--visually\" id=\"sk-estimator-id-85\" type=\"checkbox\" ><label for=\"sk-estimator-id-85\" class=\"sk-toggleable__label sk-toggleable__label-arrow\">RobustScaler</label><div class=\"sk-toggleable__content\"><pre>RobustScaler()</pre></div></div></div></div></div></div></div></div><div class=\"sk-parallel-item\"><div class=\"sk-item\"><div class=\"sk-label-container\"><div class=\"sk-label sk-toggleable\"><input class=\"sk-toggleable__control sk-hidden--visually\" id=\"sk-estimator-id-86\" type=\"checkbox\" ><label for=\"sk-estimator-id-86\" class=\"sk-toggleable__label sk-toggleable__label-arrow\">Genres Transformer</label><div class=\"sk-toggleable__content\"><pre>[&#x27;genres&#x27;]</pre></div></div></div><div class=\"sk-serial\"><div class=\"sk-item\"><div class=\"sk-serial\"><div class=\"sk-item\"><div class=\"sk-estimator sk-toggleable\"><input class=\"sk-toggleable__control sk-hidden--visually\" id=\"sk-estimator-id-87\" type=\"checkbox\" ><label for=\"sk-estimator-id-87\" class=\"sk-toggleable__label sk-toggleable__label-arrow\">SimpleImputer</label><div class=\"sk-toggleable__content\"><pre>SimpleImputer(strategy=&#x27;most_frequent&#x27;)</pre></div></div></div><div class=\"sk-item\"><div class=\"sk-estimator sk-toggleable\"><input class=\"sk-toggleable__control sk-hidden--visually\" id=\"sk-estimator-id-88\" type=\"checkbox\" ><label for=\"sk-estimator-id-88\" class=\"sk-toggleable__label sk-toggleable__label-arrow\">GenreTranformer</label><div class=\"sk-toggleable__content\"><pre>GenreTranformer()</pre></div></div></div></div></div></div></div></div><div class=\"sk-parallel-item\"><div class=\"sk-item\"><div class=\"sk-label-container\"><div class=\"sk-label sk-toggleable\"><input class=\"sk-toggleable__control sk-hidden--visually\" id=\"sk-estimator-id-89\" type=\"checkbox\" ><label for=\"sk-estimator-id-89\" class=\"sk-toggleable__label sk-toggleable__label-arrow\">Cast Transformer</label><div class=\"sk-toggleable__content\"><pre>[&#x27;director_name&#x27;, &#x27;producer_name&#x27;, &#x27;production_companies&#x27;]</pre></div></div></div><div class=\"sk-serial\"><div class=\"sk-item\"><div class=\"sk-serial\"><div class=\"sk-item\"><div class=\"sk-estimator sk-toggleable\"><input class=\"sk-toggleable__control sk-hidden--visually\" id=\"sk-estimator-id-90\" type=\"checkbox\" ><label for=\"sk-estimator-id-90\" class=\"sk-toggleable__label sk-toggleable__label-arrow\">SimpleImputer</label><div class=\"sk-toggleable__content\"><pre>SimpleImputer(strategy=&#x27;most_frequent&#x27;)</pre></div></div></div><div class=\"sk-item\"><div class=\"sk-estimator sk-toggleable\"><input class=\"sk-toggleable__control sk-hidden--visually\" id=\"sk-estimator-id-91\" type=\"checkbox\" ><label for=\"sk-estimator-id-91\" class=\"sk-toggleable__label sk-toggleable__label-arrow\">CastTransformer</label><div class=\"sk-toggleable__content\"><pre>CastTransformer()</pre></div></div></div></div></div></div></div></div><div class=\"sk-parallel-item\"><div class=\"sk-item\"><div class=\"sk-label-container\"><div class=\"sk-label sk-toggleable\"><input class=\"sk-toggleable__control sk-hidden--visually\" id=\"sk-estimator-id-92\" type=\"checkbox\" ><label for=\"sk-estimator-id-92\" class=\"sk-toggleable__label sk-toggleable__label-arrow\">Cyclic Transformer</label><div class=\"sk-toggleable__content\"><pre>[&#x27;week_cos&#x27;, &#x27;week_sin&#x27;]</pre></div></div></div><div class=\"sk-serial\"><div class=\"sk-item\"><div class=\"sk-serial\"><div class=\"sk-item\"><div class=\"sk-estimator sk-toggleable\"><input class=\"sk-toggleable__control sk-hidden--visually\" id=\"sk-estimator-id-93\" type=\"checkbox\" ><label for=\"sk-estimator-id-93\" class=\"sk-toggleable__label sk-toggleable__label-arrow\">SimpleImputer</label><div class=\"sk-toggleable__content\"><pre>SimpleImputer()</pre></div></div></div></div></div></div></div></div><div class=\"sk-parallel-item\"><div class=\"sk-item\"><div class=\"sk-label-container\"><div class=\"sk-label sk-toggleable\"><input class=\"sk-toggleable__control sk-hidden--visually\" id=\"sk-estimator-id-94\" type=\"checkbox\" ><label for=\"sk-estimator-id-94\" class=\"sk-toggleable__label sk-toggleable__label-arrow\">Category_Transformer</label><div class=\"sk-toggleable__content\"><pre>[&#x27;production_countries&#x27;, &#x27;belongs_to_collection_updated&#x27;, &#x27;actor1_gender&#x27;, &#x27;editor_name&#x27;]</pre></div></div></div><div class=\"sk-serial\"><div class=\"sk-item\"><div class=\"sk-serial\"><div class=\"sk-item\"><div class=\"sk-estimator sk-toggleable\"><input class=\"sk-toggleable__control sk-hidden--visually\" id=\"sk-estimator-id-95\" type=\"checkbox\" ><label for=\"sk-estimator-id-95\" class=\"sk-toggleable__label sk-toggleable__label-arrow\">SimpleImputer</label><div class=\"sk-toggleable__content\"><pre>SimpleImputer(strategy=&#x27;most_frequent&#x27;)</pre></div></div></div><div class=\"sk-item\"><div class=\"sk-estimator sk-toggleable\"><input class=\"sk-toggleable__control sk-hidden--visually\" id=\"sk-estimator-id-96\" type=\"checkbox\" ><label for=\"sk-estimator-id-96\" class=\"sk-toggleable__label sk-toggleable__label-arrow\">OneHotEncoder</label><div class=\"sk-toggleable__content\"><pre>OneHotEncoder(handle_unknown=&#x27;ignore&#x27;, sparse=False)</pre></div></div></div></div></div></div></div></div></div></div></div></div><div class=\"sk-item\"><div class=\"sk-estimator sk-toggleable\"><input class=\"sk-toggleable__control sk-hidden--visually\" id=\"sk-estimator-id-97\" type=\"checkbox\" ><label for=\"sk-estimator-id-97\" class=\"sk-toggleable__label sk-toggleable__label-arrow\">XGBRegressor</label><div class=\"sk-toggleable__content\"><pre>XGBRegressor(base_score=None, booster=None, colsample_bylevel=None,\n",
       "             colsample_bynode=None, colsample_bytree=None,\n",
       "             enable_categorical=False, gamma=None, gpu_id=None,\n",
       "             importance_type=None, interaction_constraints=None,\n",
       "             learning_rate=0.003, max_delta_step=None, max_depth=6,\n",
       "             min_child_weight=None, missing=nan, monotone_constraints=None,\n",
       "             n_estimators=2000, n_jobs=None, num_parallel_tree=None,\n",
       "             predictor=None, random_state=None, reg_alpha=None, reg_lambda=None,\n",
       "             scale_pos_weight=None, subsample=None, tree_method=None,\n",
       "             validate_parameters=None, verbosity=None)</pre></div></div></div></div></div></div></div>"
      ],
      "text/plain": [
       "Pipeline(steps=[('pipeline',\n",
       "                 Pipeline(steps=[('basic_prepoc',\n",
       "                                  FunctionTransformer(func=<function <lambda> at 0x7f4f771c7d30>)),\n",
       "                                 ('processing_pipeline',\n",
       "                                  ColumnTransformer(transformers=[('Numerical '\n",
       "                                                                   'Features '\n",
       "                                                                   'Transformer',\n",
       "                                                                   Pipeline(steps=[('simpleimputer',\n",
       "                                                                                    SimpleImputer()),\n",
       "                                                                                   ('robustscaler',\n",
       "                                                                                    RobustScaler())]),\n",
       "                                                                   ['log_budget',\n",
       "                                                                    'release_age',\n",
       "                                                                    'runtime',\n",
       "                                                                    'production_com...\n",
       "                              interaction_constraints=None, learning_rate=0.003,\n",
       "                              max_delta_step=None, max_depth=6,\n",
       "                              min_child_weight=None, missing=nan,\n",
       "                              monotone_constraints=None, n_estimators=2000,\n",
       "                              n_jobs=None, num_parallel_tree=None,\n",
       "                              predictor=None, random_state=None, reg_alpha=None,\n",
       "                              reg_lambda=None, scale_pos_weight=None,\n",
       "                              subsample=None, tree_method=None,\n",
       "                              validate_parameters=None, verbosity=None))])"
      ]
     },
     "execution_count": 38,
     "metadata": {},
     "output_type": "execute_result"
    }
   ],
   "source": [
    "pipe_xgb = make_pipeline(union, model_xgb)\n",
    "pipe_xgb"
   ]
  },
  {
   "cell_type": "code",
   "execution_count": 39,
   "id": "2898ecd2",
   "metadata": {
    "scrolled": true
   },
   "outputs": [],
   "source": [
    "# from sklearn.metrics import mean_squared_error, r2_score, make_scorer\n",
    "# cross_val_score(model_xgb,X_train_transformed,y_train_transformed,cv=5,scoring=make_scorer(mean_squared_error),n_jobs=-1).mean()"
   ]
  },
  {
   "cell_type": "code",
   "execution_count": 40,
   "id": "19b60ac9",
   "metadata": {},
   "outputs": [
    {
     "name": "stdout",
     "output_type": "stream",
     "text": [
      "Best Validation Score 1.871077\n"
     ]
    },
    {
     "data": {
      "image/png": "[encoded data removed]",
      "text/plain": [
       "<Figure size 432x288 with 1 Axes>"
      ]
     },
     "metadata": {
      "needs_background": "light"
     },
     "output_type": "display_data"
    }
   ],
   "source": [
    "# Option 2: Use XGBoost Library to fit it\n",
    "# It allows you to use an `early_stopping` criteria with a Train/Val slit\n",
    "# X_train_preproc = preproc.fit_transform(X_train, y_train_log)\n",
    "# X_eval_preproc = preproc.transform(X_eval)\n",
    "\n",
    "model_xgb.fit(X_train_transformed, y_train_transformed,\n",
    "        verbose=False,\n",
    "        eval_set=[(X_train_transformed, y_train_transformed), (X_val_transformed, y_val_transformed)],\n",
    "        eval_metric=[\"rmse\"],\n",
    "        early_stopping_rounds=10)\n",
    "\n",
    "# retrieve performance metrics\n",
    "results = model_xgb.evals_result()\n",
    "epochs = len(results['validation_0'][\"rmse\"])\n",
    "x_axis = range(0, epochs)\n",
    "\n",
    "# plot rmsle loss\n",
    "fig, ax = plt.subplots()\n",
    "ax.plot(x_axis, results['validation_0']['rmse'], label='Train')\n",
    "ax.plot(x_axis, results['validation_1']['rmse'], label='Val')\n",
    "ax.legend(); plt.ylabel('RMSE (of log)'); plt.title('XGBoost Log Loss')\n",
    "\n",
    "print(\"Best Validation Score\", min(results['validation_1']['rmse']))"
   ]
  },
  {
   "cell_type": "code",
   "execution_count": 41,
   "id": "44489541",
   "metadata": {},
   "outputs": [],
   "source": [
    "y_pred = model_xgb.predict(X_test_transformed)"
   ]
  },
  {
   "cell_type": "code",
   "execution_count": 42,
   "id": "52922ed3",
   "metadata": {},
   "outputs": [
    {
     "data": {
      "text/plain": [
       "array([17.45587 , 18.659357, 16.084436, ..., 19.127285, 16.923765,\n",
       "       15.470709], dtype=float32)"
      ]
     },
     "execution_count": 42,
     "metadata": {},
     "output_type": "execute_result"
    }
   ],
   "source": [
    "y_pred"
   ]
  },
  {
   "cell_type": "code",
   "execution_count": 43,
   "id": "cee98e88",
   "metadata": {},
   "outputs": [
    {
     "name": "stdout",
     "output_type": "stream",
     "text": [
      "MSE = 3.4\n",
      "RMSE = 1.84\n",
      "MAE = 1.49\n",
      "R2 = -0.6\n",
      "Max Error = 5.06\n"
     ]
    }
   ],
   "source": [
    "# Regression metrics\n",
    "from sklearn.metrics import mean_squared_error, mean_absolute_error, r2_score, max_error\n",
    "import math\n",
    "mse = mean_squared_error(y_test_transformed, y_pred)\n",
    "rmse = math.sqrt(mse)\n",
    "mae = mean_absolute_error(y_test_transformed, y_pred)\n",
    "rsquared = r2_score(y_test_transformed, y_pred)\n",
    "max_error = max_error(y_test_transformed, y_pred)\n",
    "print('MSE =', round(mse, 2))\n",
    "print('RMSE =', round(rmse, 2))\n",
    "print('MAE =', round(mae, 2))\n",
    "print('R2 =', round(rsquared, 2))\n",
    "print('Max Error =', round(max_error, 2))"
   ]
  },
  {
   "cell_type": "code",
   "execution_count": 44,
   "id": "6cd5979b",
   "metadata": {},
   "outputs": [
    {
     "data": {
      "text/plain": [
       "<matplotlib.legend.Legend at 0x7f5024240040>"
      ]
     },
     "execution_count": 44,
     "metadata": {},
     "output_type": "execute_result"
    },
    {
     "data": {
      "image/png": "[encoded data removed]",
      "text/plain": [
       "<Figure size 432x288 with 1 Axes>"
      ]
     },
     "metadata": {
      "needs_background": "light"
     },
     "output_type": "display_data"
    }
   ],
   "source": [
    "from sklearn.model_selection import learning_curve\n",
    "# Set training size\n",
    "train_sizes = [250,500,750,1000,1250,1500,1750,2000,2250,2500,3000,4456]\n",
    "# Get train scores(R2), train sizes and validation scores using 'Learning curve'\n",
    "train_sizes, train_scores, test_scores = learning_curve(\n",
    "estimator=xgb.XGBRegressor(objective ='reg:squarederror',\n",
    "                  n_estimators = 15, seed = 50), X=X_train_transformed, y=y_train_transformed, train_sizes=train_sizes, cv=5)\n",
    "# Take the mean of corss-validated train scores and test scores\n",
    "train_scores_mean = np.mean(train_scores, axis=1)\n",
    "test_scores_mean = np.mean(test_scores, axis=1)\n",
    "# Plot scores\n",
    "plt.plot(train_sizes, train_scores_mean, label = 'Training score')\n",
    "plt.plot(train_sizes, test_scores_mean, label = 'Test score')\n",
    "plt.ylabel('r2 score', fontsize = 14)\n",
    "plt.xlabel('Training set size', fontsize = 14)\n",
    "plt.title('Learning curves', fontsize = 18, y = 1.03)\n",
    "plt.legend()"
   ]
  },
  {
   "cell_type": "code",
   "execution_count": 45,
   "id": "b22aa30c",
   "metadata": {},
   "outputs": [
    {
     "data": {
      "text/html": [
       "<div>\n",
       "<style scoped>\n",
       "    .dataframe tbody tr th:only-of-type {\n",
       "        vertical-align: middle;\n",
       "    }\n",
       "\n",
       "    .dataframe tbody tr th {\n",
       "        vertical-align: top;\n",
       "    }\n",
       "\n",
       "    .dataframe thead th {\n",
       "        text-align: right;\n",
       "    }\n",
       "</style>\n",
       "<table border=\"1\" class=\"dataframe\">\n",
       "  <thead>\n",
       "    <tr style=\"text-align: right;\">\n",
       "      <th></th>\n",
       "      <th>actual</th>\n",
       "      <th>predictions</th>\n",
       "      <th>difference</th>\n",
       "      <th>percent_diff</th>\n",
       "      <th>okay</th>\n",
       "    </tr>\n",
       "  </thead>\n",
       "  <tbody>\n",
       "    <tr>\n",
       "      <th>7332</th>\n",
       "      <td>301000000.0</td>\n",
       "      <td>38105516.0</td>\n",
       "      <td>-262894484.0</td>\n",
       "      <td>87.340360</td>\n",
       "      <td>bad</td>\n",
       "    </tr>\n",
       "    <tr>\n",
       "      <th>8283</th>\n",
       "      <td>311594032.0</td>\n",
       "      <td>126956752.0</td>\n",
       "      <td>-184637280.0</td>\n",
       "      <td>59.255718</td>\n",
       "      <td>bad</td>\n",
       "    </tr>\n",
       "    <tr>\n",
       "      <th>7131</th>\n",
       "      <td>28931401.0</td>\n",
       "      <td>9669008.0</td>\n",
       "      <td>-19262393.0</td>\n",
       "      <td>66.579538</td>\n",
       "      <td>bad</td>\n",
       "    </tr>\n",
       "    <tr>\n",
       "      <th>380</th>\n",
       "      <td>51881013.0</td>\n",
       "      <td>54713404.0</td>\n",
       "      <td>2832391.0</td>\n",
       "      <td>5.459398</td>\n",
       "      <td>okay</td>\n",
       "    </tr>\n",
       "    <tr>\n",
       "      <th>4222</th>\n",
       "      <td>18671317.0</td>\n",
       "      <td>7076892.0</td>\n",
       "      <td>-11594425.0</td>\n",
       "      <td>62.097521</td>\n",
       "      <td>bad</td>\n",
       "    </tr>\n",
       "    <tr>\n",
       "      <th>...</th>\n",
       "      <td>...</td>\n",
       "      <td>...</td>\n",
       "      <td>...</td>\n",
       "      <td>...</td>\n",
       "      <td>...</td>\n",
       "    </tr>\n",
       "    <tr>\n",
       "      <th>412</th>\n",
       "      <td>611899420.0</td>\n",
       "      <td>18392984.0</td>\n",
       "      <td>-593506436.0</td>\n",
       "      <td>96.994116</td>\n",
       "      <td>bad</td>\n",
       "    </tr>\n",
       "    <tr>\n",
       "      <th>5195</th>\n",
       "      <td>5555305.0</td>\n",
       "      <td>54764144.0</td>\n",
       "      <td>49208839.0</td>\n",
       "      <td>885.799052</td>\n",
       "      <td>bad</td>\n",
       "    </tr>\n",
       "    <tr>\n",
       "      <th>622</th>\n",
       "      <td>13760640.0</td>\n",
       "      <td>202709600.0</td>\n",
       "      <td>188948960.0</td>\n",
       "      <td>1373.111716</td>\n",
       "      <td>bad</td>\n",
       "    </tr>\n",
       "    <tr>\n",
       "      <th>4569</th>\n",
       "      <td>8279017.0</td>\n",
       "      <td>22381944.0</td>\n",
       "      <td>14102927.0</td>\n",
       "      <td>170.345429</td>\n",
       "      <td>bad</td>\n",
       "    </tr>\n",
       "    <tr>\n",
       "      <th>6538</th>\n",
       "      <td>2300000.0</td>\n",
       "      <td>5234116.5</td>\n",
       "      <td>2934116.5</td>\n",
       "      <td>127.570283</td>\n",
       "      <td>bad</td>\n",
       "    </tr>\n",
       "  </tbody>\n",
       "</table>\n",
       "<p>1194 rows × 5 columns</p>\n",
       "</div>"
      ],
      "text/plain": [
       "           actual  predictions   difference  percent_diff  okay\n",
       "7332  301000000.0   38105516.0 -262894484.0     87.340360   bad\n",
       "8283  311594032.0  126956752.0 -184637280.0     59.255718   bad\n",
       "7131   28931401.0    9669008.0  -19262393.0     66.579538   bad\n",
       "380    51881013.0   54713404.0    2832391.0      5.459398  okay\n",
       "4222   18671317.0    7076892.0  -11594425.0     62.097521   bad\n",
       "...           ...          ...          ...           ...   ...\n",
       "412   611899420.0   18392984.0 -593506436.0     96.994116   bad\n",
       "5195    5555305.0   54764144.0   49208839.0    885.799052   bad\n",
       "622    13760640.0  202709600.0  188948960.0   1373.111716   bad\n",
       "4569    8279017.0   22381944.0   14102927.0    170.345429   bad\n",
       "6538    2300000.0    5234116.5    2934116.5    127.570283   bad\n",
       "\n",
       "[1194 rows x 5 columns]"
      ]
     },
     "execution_count": 45,
     "metadata": {},
     "output_type": "execute_result"
    }
   ],
   "source": [
    "comp_df = pd.DataFrame({\"actual\": np.expm1(y_test_transformed), \"predictions\": np.expm1(y_pred)})\n",
    "# Add actual values to dataframe\n",
    "# comp_df['actual'] = np.expm1(y_cross)\n",
    "# Add column with difference of the two values\n",
    "comp_df['difference'] = comp_df['predictions'] - comp_df['actual']\n",
    "# Add column that shows the percent difference between predicted and actual value\n",
    "comp_df['percent_diff'] = abs(abs(comp_df['predictions'] / (comp_df['actual'])) - 1) * 100\n",
    "# Add column that designates a difference of less than 20% as 'okay' and 20% or more as 'bad'\n",
    "comp_df['okay'] = comp_df['percent_diff'].apply(lambda x: 'okay' if x < 20 else 'bad')\n",
    "comp_df"
   ]
  },
  {
   "cell_type": "code",
   "execution_count": 46,
   "id": "0c363ecd",
   "metadata": {},
   "outputs": [
    {
     "data": {
      "text/html": [
       "<div>\n",
       "<style scoped>\n",
       "    .dataframe tbody tr th:only-of-type {\n",
       "        vertical-align: middle;\n",
       "    }\n",
       "\n",
       "    .dataframe tbody tr th {\n",
       "        vertical-align: top;\n",
       "    }\n",
       "\n",
       "    .dataframe thead th {\n",
       "        text-align: right;\n",
       "    }\n",
       "</style>\n",
       "<table border=\"1\" class=\"dataframe\">\n",
       "  <thead>\n",
       "    <tr style=\"text-align: right;\">\n",
       "      <th></th>\n",
       "      <th>actual</th>\n",
       "      <th>predictions</th>\n",
       "      <th>difference</th>\n",
       "      <th>percent_diff</th>\n",
       "      <th>okay</th>\n",
       "    </tr>\n",
       "  </thead>\n",
       "  <tbody>\n",
       "    <tr>\n",
       "      <th>380</th>\n",
       "      <td>51881013.0</td>\n",
       "      <td>54713404.0</td>\n",
       "      <td>2832391.0</td>\n",
       "      <td>5.459398</td>\n",
       "      <td>okay</td>\n",
       "    </tr>\n",
       "    <tr>\n",
       "      <th>4620</th>\n",
       "      <td>126737428.0</td>\n",
       "      <td>135457792.0</td>\n",
       "      <td>8720364.0</td>\n",
       "      <td>6.880654</td>\n",
       "      <td>okay</td>\n",
       "    </tr>\n",
       "    <tr>\n",
       "      <th>3319</th>\n",
       "      <td>22211426.0</td>\n",
       "      <td>23320776.0</td>\n",
       "      <td>1109350.0</td>\n",
       "      <td>4.994501</td>\n",
       "      <td>okay</td>\n",
       "    </tr>\n",
       "    <tr>\n",
       "      <th>4189</th>\n",
       "      <td>21300000.0</td>\n",
       "      <td>18105894.0</td>\n",
       "      <td>-3194106.0</td>\n",
       "      <td>14.995803</td>\n",
       "      <td>okay</td>\n",
       "    </tr>\n",
       "    <tr>\n",
       "      <th>5662</th>\n",
       "      <td>75597042.0</td>\n",
       "      <td>83841136.0</td>\n",
       "      <td>8244094.0</td>\n",
       "      <td>10.905313</td>\n",
       "      <td>okay</td>\n",
       "    </tr>\n",
       "    <tr>\n",
       "      <th>...</th>\n",
       "      <td>...</td>\n",
       "      <td>...</td>\n",
       "      <td>...</td>\n",
       "      <td>...</td>\n",
       "      <td>...</td>\n",
       "    </tr>\n",
       "    <tr>\n",
       "      <th>2419</th>\n",
       "      <td>84146832.0</td>\n",
       "      <td>92807752.0</td>\n",
       "      <td>8660920.0</td>\n",
       "      <td>10.292628</td>\n",
       "      <td>okay</td>\n",
       "    </tr>\n",
       "    <tr>\n",
       "      <th>2724</th>\n",
       "      <td>25819961.0</td>\n",
       "      <td>20942920.0</td>\n",
       "      <td>-4877041.0</td>\n",
       "      <td>18.888646</td>\n",
       "      <td>okay</td>\n",
       "    </tr>\n",
       "    <tr>\n",
       "      <th>4324</th>\n",
       "      <td>36359037.0</td>\n",
       "      <td>29344294.0</td>\n",
       "      <td>-7014743.0</td>\n",
       "      <td>19.292983</td>\n",
       "      <td>okay</td>\n",
       "    </tr>\n",
       "    <tr>\n",
       "      <th>6708</th>\n",
       "      <td>7385434.0</td>\n",
       "      <td>7063777.5</td>\n",
       "      <td>-321656.5</td>\n",
       "      <td>4.355282</td>\n",
       "      <td>okay</td>\n",
       "    </tr>\n",
       "    <tr>\n",
       "      <th>1410</th>\n",
       "      <td>23619609.0</td>\n",
       "      <td>23185546.0</td>\n",
       "      <td>-434063.0</td>\n",
       "      <td>1.837723</td>\n",
       "      <td>okay</td>\n",
       "    </tr>\n",
       "  </tbody>\n",
       "</table>\n",
       "<p>107 rows × 5 columns</p>\n",
       "</div>"
      ],
      "text/plain": [
       "           actual  predictions  difference  percent_diff  okay\n",
       "380    51881013.0   54713404.0   2832391.0      5.459398  okay\n",
       "4620  126737428.0  135457792.0   8720364.0      6.880654  okay\n",
       "3319   22211426.0   23320776.0   1109350.0      4.994501  okay\n",
       "4189   21300000.0   18105894.0  -3194106.0     14.995803  okay\n",
       "5662   75597042.0   83841136.0   8244094.0     10.905313  okay\n",
       "...           ...          ...         ...           ...   ...\n",
       "2419   84146832.0   92807752.0   8660920.0     10.292628  okay\n",
       "2724   25819961.0   20942920.0  -4877041.0     18.888646  okay\n",
       "4324   36359037.0   29344294.0  -7014743.0     19.292983  okay\n",
       "6708    7385434.0    7063777.5   -321656.5      4.355282  okay\n",
       "1410   23619609.0   23185546.0   -434063.0      1.837723  okay\n",
       "\n",
       "[107 rows x 5 columns]"
      ]
     },
     "execution_count": 46,
     "metadata": {},
     "output_type": "execute_result"
    }
   ],
   "source": [
    "comp_df[comp_df['okay']=='okay']"
   ]
  },
  {
   "cell_type": "code",
   "execution_count": 47,
   "id": "b7959ea8",
   "metadata": {},
   "outputs": [
    {
     "data": {
      "text/plain": [
       "count     1194.000000\n",
       "mean       477.907682\n",
       "std       1269.583281\n",
       "min          0.087557\n",
       "25%         53.733103\n",
       "50%         87.769284\n",
       "75%        274.030713\n",
       "max      15585.529580\n",
       "Name: percent_diff, dtype: float64"
      ]
     },
     "execution_count": 47,
     "metadata": {},
     "output_type": "execute_result"
    }
   ],
   "source": [
    "comp_df['percent_diff'].describe()"
   ]
  },
  {
   "cell_type": "code",
   "execution_count": 48,
   "id": "22222ed5",
   "metadata": {},
   "outputs": [
    {
     "data": {
      "image/png": "[encoded data removed]",
      "text/plain": [
       "<Figure size 1440x1080 with 1 Axes>"
      ]
     },
     "metadata": {
      "needs_background": "light"
     },
     "output_type": "display_data"
    }
   ],
   "source": [
    "# Plot feature importance\n",
    "fig, ax = plt.subplots(figsize=(20, 15))\n",
    "xgb.plot_importance(model_xgb, max_num_features=50, importance_type='weight', ax=ax);"
   ]
  },
  {
   "cell_type": "code",
   "execution_count": 49,
   "id": "d9c43e26",
   "metadata": {},
   "outputs": [
    {
     "data": {
      "text/plain": [
       "<AxesSubplot:ylabel='actual'>"
      ]
     },
     "execution_count": 49,
     "metadata": {},
     "output_type": "execute_result"
    },
    {
     "data": {
      "image/png": "[encoded data removed]",
      "text/plain": [
       "<Figure size 1440x720 with 1 Axes>"
      ]
     },
     "metadata": {
      "needs_background": "light"
     },
     "output_type": "display_data"
    }
   ],
   "source": [
    "plt.figure(figsize=(20, 10))\n",
    "sns.lineplot(y=np.log10(comp_df['actual']), x=range(len(comp_df)))\n",
    "sns.lineplot(y=np.log10(comp_df['predictions']), x=range(len(comp_df)))"
   ]
  },
  {
   "cell_type": "code",
   "execution_count": null,
   "id": "d4e5a748",
   "metadata": {},
   "outputs": [],
   "source": []
  },
  {
   "cell_type": "code",
   "execution_count": 50,
   "id": "e544c991",
   "metadata": {},
   "outputs": [
    {
     "data": {
      "image/png": "[encoded data removed]",
      "text/plain": [
       "<Figure size 432x288 with 1 Axes>"
      ]
     },
     "metadata": {
      "needs_background": "light"
     },
     "output_type": "display_data"
    }
   ],
   "source": [
    "_ = plt.hist(np.log10(comp_df['percent_diff']+1),bins = 30)"
   ]
  },
  {
   "cell_type": "markdown",
   "id": "86b8d028",
   "metadata": {},
   "source": [
    "### **PCA**"
   ]
  },
  {
   "cell_type": "code",
   "execution_count": 51,
   "id": "66f9bb4b",
   "metadata": {},
   "outputs": [],
   "source": [
    "from sklearn.decomposition import TruncatedSVD\n",
    "\n",
    "# Apply SVD\n",
    "svd = TruncatedSVD(n_components=201)\n",
    "latent_df = svd.fit_transform(X_train_transformed)"
   ]
  },
  {
   "cell_type": "code",
   "execution_count": 52,
   "id": "b407ceed",
   "metadata": {},
   "outputs": [
    {
     "data": {
      "image/png": "[encoded data removed]",
      "text/plain": [
       "<Figure size 432x288 with 1 Axes>"
      ]
     },
     "metadata": {
      "needs_background": "light"
     },
     "output_type": "display_data"
    }
   ],
   "source": [
    "plt.show()\n",
    "# Plot variance as a function of the number of components.\n",
    "plt.plot(svd.explained_variance_ratio_.cumsum())\n",
    "plt.xlabel('number of singular value components')\n",
    "plt.ylabel('Cumulative percent of variance')   \n",
    "plt.grid()\n",
    "plt.show()"
   ]
  },
  {
   "cell_type": "code",
   "execution_count": 53,
   "id": "03b53019",
   "metadata": {},
   "outputs": [
    {
     "data": {
      "text/html": [
       "<style>#sk-container-id-8 {color: black;background-color: white;}#sk-container-id-8 pre{padding: 0;}#sk-container-id-8 div.sk-toggleable {background-color: white;}#sk-container-id-8 label.sk-toggleable__label {cursor: pointer;display: block;width: 100%;margin-bottom: 0;padding: 0.3em;box-sizing: border-box;text-align: center;}#sk-container-id-8 label.sk-toggleable__label-arrow:before {content: \"▸\";float: left;margin-right: 0.25em;color: #696969;}#sk-container-id-8 label.sk-toggleable__label-arrow:hover:before {color: black;}#sk-container-id-8 div.sk-estimator:hover label.sk-toggleable__label-arrow:before {color: black;}#sk-container-id-8 div.sk-toggleable__content {max-height: 0;max-width: 0;overflow: hidden;text-align: left;background-color: #f0f8ff;}#sk-container-id-8 div.sk-toggleable__content pre {margin: 0.2em;color: black;border-radius: 0.25em;background-color: #f0f8ff;}#sk-container-id-8 input.sk-toggleable__control:checked~div.sk-toggleable__content {max-height: 200px;max-width: 100%;overflow: auto;}#sk-container-id-8 input.sk-toggleable__control:checked~label.sk-toggleable__label-arrow:before {content: \"▾\";}#sk-container-id-8 div.sk-estimator input.sk-toggleable__control:checked~label.sk-toggleable__label {background-color: #d4ebff;}#sk-container-id-8 div.sk-label input.sk-toggleable__control:checked~label.sk-toggleable__label {background-color: #d4ebff;}#sk-container-id-8 input.sk-hidden--visually {border: 0;clip: rect(1px 1px 1px 1px);clip: rect(1px, 1px, 1px, 1px);height: 1px;margin: -1px;overflow: hidden;padding: 0;position: absolute;width: 1px;}#sk-container-id-8 div.sk-estimator {font-family: monospace;background-color: #f0f8ff;border: 1px dotted black;border-radius: 0.25em;box-sizing: border-box;margin-bottom: 0.5em;}#sk-container-id-8 div.sk-estimator:hover {background-color: #d4ebff;}#sk-container-id-8 div.sk-parallel-item::after {content: \"\";width: 100%;border-bottom: 1px solid gray;flex-grow: 1;}#sk-container-id-8 div.sk-label:hover label.sk-toggleable__label {background-color: #d4ebff;}#sk-container-id-8 div.sk-serial::before {content: \"\";position: absolute;border-left: 1px solid gray;box-sizing: border-box;top: 0;bottom: 0;left: 50%;z-index: 0;}#sk-container-id-8 div.sk-serial {display: flex;flex-direction: column;align-items: center;background-color: white;padding-right: 0.2em;padding-left: 0.2em;position: relative;}#sk-container-id-8 div.sk-item {position: relative;z-index: 1;}#sk-container-id-8 div.sk-parallel {display: flex;align-items: stretch;justify-content: center;background-color: white;position: relative;}#sk-container-id-8 div.sk-item::before, #sk-container-id-8 div.sk-parallel-item::before {content: \"\";position: absolute;border-left: 1px solid gray;box-sizing: border-box;top: 0;bottom: 0;left: 50%;z-index: -1;}#sk-container-id-8 div.sk-parallel-item {display: flex;flex-direction: column;z-index: 1;position: relative;background-color: white;}#sk-container-id-8 div.sk-parallel-item:first-child::after {align-self: flex-end;width: 50%;}#sk-container-id-8 div.sk-parallel-item:last-child::after {align-self: flex-start;width: 50%;}#sk-container-id-8 div.sk-parallel-item:only-child::after {width: 0;}#sk-container-id-8 div.sk-dashed-wrapped {border: 1px dashed gray;margin: 0 0.4em 0.5em 0.4em;box-sizing: border-box;padding-bottom: 0.4em;background-color: white;}#sk-container-id-8 div.sk-label label {font-family: monospace;font-weight: bold;display: inline-block;line-height: 1.2em;}#sk-container-id-8 div.sk-label-container {text-align: center;}#sk-container-id-8 div.sk-container {/* jupyter's `normalize.less` sets `[hidden] { display: none; }` but bootstrap.min.css set `[hidden] { display: none !important; }` so we also need the `!important` here to be able to override the default hidden behavior on the sphinx rendered scikit-learn.org. See: https://github.com/scikit-learn/scikit-learn/issues/21755 */display: inline-block !important;position: relative;}#sk-container-id-8 div.sk-text-repr-fallback {display: none;}</style><div id=\"sk-container-id-8\" class=\"sk-top-container\"><div class=\"sk-text-repr-fallback\"><pre>PCA(n_components=50)</pre><b>In a Jupyter environment, please rerun this cell to show the HTML representation or trust the notebook. <br />On GitHub, the HTML representation is unable to render, please try loading this page with nbviewer.org.</b></div><div class=\"sk-container\" hidden><div class=\"sk-item\"><div class=\"sk-estimator sk-toggleable\"><input class=\"sk-toggleable__control sk-hidden--visually\" id=\"sk-estimator-id-98\" type=\"checkbox\" checked><label for=\"sk-estimator-id-98\" class=\"sk-toggleable__label sk-toggleable__label-arrow\">PCA</label><div class=\"sk-toggleable__content\"><pre>PCA(n_components=50)</pre></div></div></div></div></div>"
      ],
      "text/plain": [
       "PCA(n_components=50)"
      ]
     },
     "execution_count": 53,
     "metadata": {},
     "output_type": "execute_result"
    }
   ],
   "source": [
    "from sklearn.decomposition import PCA\n",
    "pca = PCA(n_components=50)\n",
    "pca.fit(X_train_transformed)"
   ]
  },
  {
   "cell_type": "code",
   "execution_count": 54,
   "id": "14f16d17",
   "metadata": {},
   "outputs": [
    {
     "data": {
      "text/plain": [
       "(5570, 1775)"
      ]
     },
     "execution_count": 54,
     "metadata": {},
     "output_type": "execute_result"
    }
   ],
   "source": [
    "X_train_transformed.shape"
   ]
  },
  {
   "cell_type": "code",
   "execution_count": 56,
   "id": "e976913c",
   "metadata": {},
   "outputs": [
    {
     "data": {
      "text/plain": [
       "array([[ 4.95704364e+00,  6.12213092e+00,  2.11302915e+00, ...,\n",
       "        -3.95922530e-02, -7.29452313e-02,  2.32395273e-01],\n",
       "       [ 5.31816008e+00,  5.06107341e+00,  1.49880049e+00, ...,\n",
       "         2.06531689e-01,  1.45163125e-02,  2.61527643e-01],\n",
       "       [ 5.95221783e+00,  3.43865047e+00,  3.42414225e-01, ...,\n",
       "        -4.38636692e-02, -8.01865156e-02,  2.32803717e-01],\n",
       "       ...,\n",
       "       [-1.20698004e+00,  8.31733372e-01, -7.13141759e-02, ...,\n",
       "         1.13436954e-02, -4.89612192e-03,  4.67211435e-02],\n",
       "       [-9.92142926e-01,  2.42042715e-01,  2.34710027e-02, ...,\n",
       "        -1.81890363e-02, -1.96940179e-02, -8.03885628e-03],\n",
       "       [-1.33153036e+00,  1.21548181e+00, -1.89536861e+00, ...,\n",
       "        -3.59835137e-02,  1.43827981e-01, -4.87984704e-02]])"
      ]
     },
     "execution_count": 56,
     "metadata": {},
     "output_type": "execute_result"
    }
   ],
   "source": [
    "X_proj = pca.transform(X_train_transformed)\n",
    "# X_proj = pd.DataFrame(X_proj, columns=[f'PC{i}' for i in range(1, 51)])\n",
    "X_proj\n",
    "# pca_x_test = pca.transform(X_test_transformed)\n",
    "# pca.explained_variance_ratio_"
   ]
  },
  {
   "cell_type": "code",
   "execution_count": 57,
   "id": "00b5ac9a",
   "metadata": {},
   "outputs": [],
   "source": [
    "X_val_proj = pca.transform(X_val_transformed)\n",
    "X_test_proj = pca.transform(X_test_transformed)"
   ]
  },
  {
   "cell_type": "code",
   "execution_count": 58,
   "id": "31af3322",
   "metadata": {},
   "outputs": [
    {
     "data": {
      "image/png": "[encoded data removed]",
      "text/plain": [
       "<Figure size 432x288 with 1 Axes>"
      ]
     },
     "metadata": {
      "needs_background": "light"
     },
     "output_type": "display_data"
    }
   ],
   "source": [
    "plt.plot(np.cumsum(pca.explained_variance_ratio_))\n",
    "plt.ylim(ymin=0)\n",
    "plt.title('cumulated share of explained variance')\n",
    "plt.xlabel('# of principal component used');"
   ]
  },
  {
   "cell_type": "code",
   "execution_count": 59,
   "id": "9c36ab6f",
   "metadata": {},
   "outputs": [
    {
     "name": "stdout",
     "output_type": "stream",
     "text": [
      "Best Validation Score 1.827578\n"
     ]
    },
    {
     "data": {
      "image/png": "[encoded data removed]",
      "text/plain": [
       "<Figure size 432x288 with 1 Axes>"
      ]
     },
     "metadata": {
      "needs_background": "light"
     },
     "output_type": "display_data"
    }
   ],
   "source": [
    "# Option 2: Use XGBoost Library to fit it\n",
    "# It allows you to use an `early_stopping` criteria with a Train/Val slit\n",
    "# X_train_preproc = preproc.fit_transform(X_train, y_train_log)\n",
    "# X_eval_preproc = preproc.transform(X_eval)\n",
    "\n",
    "model_xgb.fit(X_proj, y_train_transformed,\n",
    "        verbose=False,\n",
    "        eval_set=[(X_proj, y_train_transformed), (X_val_proj, y_val_transformed)],\n",
    "        eval_metric=[\"rmse\"],\n",
    "        early_stopping_rounds=10)\n",
    "\n",
    "# retrieve performance metrics\n",
    "results = model_xgb.evals_result()\n",
    "epochs = len(results['validation_0'][\"rmse\"])\n",
    "x_axis = range(0, epochs)\n",
    "\n",
    "# plot rmsle loss\n",
    "fig, ax = plt.subplots()\n",
    "ax.plot(x_axis, results['validation_0']['rmse'], label='Train')\n",
    "ax.plot(x_axis, results['validation_1']['rmse'], label='Val')\n",
    "ax.legend(); plt.ylabel('RMSE (of log)'); plt.title('XGBoost Log Loss')\n",
    "\n",
    "print(\"Best Validation Score\", min(results['validation_1']['rmse']))"
   ]
  },
  {
   "cell_type": "code",
   "execution_count": 60,
   "id": "716c310b",
   "metadata": {},
   "outputs": [],
   "source": [
    "y_pred = model_xgb.predict(X_test_proj)"
   ]
  },
  {
   "cell_type": "code",
   "execution_count": 61,
   "id": "783e2da4",
   "metadata": {},
   "outputs": [
    {
     "data": {
      "text/plain": [
       "(1194,)"
      ]
     },
     "execution_count": 61,
     "metadata": {},
     "output_type": "execute_result"
    }
   ],
   "source": [
    "y_pred.shape"
   ]
  },
  {
   "cell_type": "code",
   "execution_count": 62,
   "id": "b6261e5d",
   "metadata": {},
   "outputs": [
    {
     "name": "stdout",
     "output_type": "stream",
     "text": [
      "MSE = 3.14\n",
      "RMSE = 1.77\n",
      "MAE = 1.44\n",
      "R2 = -0.48\n",
      "Max Error = 5.2\n"
     ]
    }
   ],
   "source": [
    "# Regression metrics\n",
    "from sklearn.metrics import mean_squared_error, mean_absolute_error, r2_score, max_error\n",
    "import math\n",
    "mse = mean_squared_error(y_test_transformed, y_pred)\n",
    "rmse = math.sqrt(mse)\n",
    "mae = mean_absolute_error(y_test_transformed, y_pred)\n",
    "rsquared = r2_score(y_test_transformed, y_pred)\n",
    "max_error = max_error(y_test_transformed, y_pred)\n",
    "print('MSE =', round(mse, 2))\n",
    "print('RMSE =', round(rmse, 2))\n",
    "print('MAE =', round(mae, 2))\n",
    "print('R2 =', round(rsquared, 2))\n",
    "print('Max Error =', round(max_error, 2))"
   ]
  },
  {
   "cell_type": "code",
   "execution_count": 63,
   "id": "c9fc3dac",
   "metadata": {},
   "outputs": [
    {
     "data": {
      "text/plain": [
       "<matplotlib.legend.Legend at 0x7f4f77053bb0>"
      ]
     },
     "execution_count": 63,
     "metadata": {},
     "output_type": "execute_result"
    },
    {
     "data": {
      "image/png": "[encoded data removed]",
      "text/plain": [
       "<Figure size 432x288 with 1 Axes>"
      ]
     },
     "metadata": {
      "needs_background": "light"
     },
     "output_type": "display_data"
    }
   ],
   "source": [
    "from sklearn.model_selection import learning_curve\n",
    "# Set training size\n",
    "train_sizes = [250,500,750,1000,1250,1500,1750,2000,2250,2500,3000,4456]\n",
    "# Get train scores(R2), train sizes and validation scores using 'Learning curve'\n",
    "train_sizes, train_scores, test_scores = learning_curve(\n",
    "estimator=xgb.XGBRegressor(objective ='reg:squarederror',\n",
    "                  n_estimators = 15, seed = 50), X=X_proj, y=y_train_transformed, train_sizes=train_sizes, cv=5)\n",
    "# Take the mean of corss-validated train scores and test scores\n",
    "train_scores_mean = np.mean(train_scores, axis=1)\n",
    "test_scores_mean = np.mean(test_scores, axis=1)\n",
    "# Plot scores\n",
    "plt.plot(train_sizes, train_scores_mean, label = 'Training score')\n",
    "plt.plot(train_sizes, test_scores_mean, label = 'Test score')\n",
    "plt.ylabel('r2 score', fontsize = 14)\n",
    "plt.xlabel('Training set size', fontsize = 14)\n",
    "plt.title('Learning curves', fontsize = 18, y = 1.03)\n",
    "plt.legend()"
   ]
  },
  {
   "cell_type": "code",
   "execution_count": 64,
   "id": "8ff3eb7a",
   "metadata": {},
   "outputs": [
    {
     "data": {
      "text/html": [
       "<div>\n",
       "<style scoped>\n",
       "    .dataframe tbody tr th:only-of-type {\n",
       "        vertical-align: middle;\n",
       "    }\n",
       "\n",
       "    .dataframe tbody tr th {\n",
       "        vertical-align: top;\n",
       "    }\n",
       "\n",
       "    .dataframe thead th {\n",
       "        text-align: right;\n",
       "    }\n",
       "</style>\n",
       "<table border=\"1\" class=\"dataframe\">\n",
       "  <thead>\n",
       "    <tr style=\"text-align: right;\">\n",
       "      <th></th>\n",
       "      <th>actual</th>\n",
       "      <th>predictions</th>\n",
       "      <th>difference</th>\n",
       "      <th>percent_diff</th>\n",
       "      <th>okay</th>\n",
       "    </tr>\n",
       "  </thead>\n",
       "  <tbody>\n",
       "    <tr>\n",
       "      <th>7332</th>\n",
       "      <td>301000000.0</td>\n",
       "      <td>29910504.0</td>\n",
       "      <td>-271089496.0</td>\n",
       "      <td>90.062955</td>\n",
       "      <td>bad</td>\n",
       "    </tr>\n",
       "    <tr>\n",
       "      <th>8283</th>\n",
       "      <td>311594032.0</td>\n",
       "      <td>112178576.0</td>\n",
       "      <td>-199415456.0</td>\n",
       "      <td>63.998484</td>\n",
       "      <td>bad</td>\n",
       "    </tr>\n",
       "    <tr>\n",
       "      <th>7131</th>\n",
       "      <td>28931401.0</td>\n",
       "      <td>8680619.0</td>\n",
       "      <td>-20250782.0</td>\n",
       "      <td>69.995857</td>\n",
       "      <td>bad</td>\n",
       "    </tr>\n",
       "    <tr>\n",
       "      <th>380</th>\n",
       "      <td>51881013.0</td>\n",
       "      <td>28221100.0</td>\n",
       "      <td>-23659913.0</td>\n",
       "      <td>45.604185</td>\n",
       "      <td>bad</td>\n",
       "    </tr>\n",
       "    <tr>\n",
       "      <th>4222</th>\n",
       "      <td>18671317.0</td>\n",
       "      <td>7387668.5</td>\n",
       "      <td>-11283648.5</td>\n",
       "      <td>60.433062</td>\n",
       "      <td>bad</td>\n",
       "    </tr>\n",
       "    <tr>\n",
       "      <th>...</th>\n",
       "      <td>...</td>\n",
       "      <td>...</td>\n",
       "      <td>...</td>\n",
       "      <td>...</td>\n",
       "      <td>...</td>\n",
       "    </tr>\n",
       "    <tr>\n",
       "      <th>412</th>\n",
       "      <td>611899420.0</td>\n",
       "      <td>11340735.0</td>\n",
       "      <td>-600558685.0</td>\n",
       "      <td>98.146634</td>\n",
       "      <td>bad</td>\n",
       "    </tr>\n",
       "    <tr>\n",
       "      <th>5195</th>\n",
       "      <td>5555305.0</td>\n",
       "      <td>60269868.0</td>\n",
       "      <td>54714563.0</td>\n",
       "      <td>984.906553</td>\n",
       "      <td>bad</td>\n",
       "    </tr>\n",
       "    <tr>\n",
       "      <th>622</th>\n",
       "      <td>13760640.0</td>\n",
       "      <td>59707388.0</td>\n",
       "      <td>45946748.0</td>\n",
       "      <td>333.899790</td>\n",
       "      <td>bad</td>\n",
       "    </tr>\n",
       "    <tr>\n",
       "      <th>4569</th>\n",
       "      <td>8279017.0</td>\n",
       "      <td>17229410.0</td>\n",
       "      <td>8950393.0</td>\n",
       "      <td>108.109369</td>\n",
       "      <td>bad</td>\n",
       "    </tr>\n",
       "    <tr>\n",
       "      <th>6538</th>\n",
       "      <td>2300000.0</td>\n",
       "      <td>4480796.0</td>\n",
       "      <td>2180796.0</td>\n",
       "      <td>94.817217</td>\n",
       "      <td>bad</td>\n",
       "    </tr>\n",
       "  </tbody>\n",
       "</table>\n",
       "<p>1194 rows × 5 columns</p>\n",
       "</div>"
      ],
      "text/plain": [
       "           actual  predictions   difference  percent_diff okay\n",
       "7332  301000000.0   29910504.0 -271089496.0     90.062955  bad\n",
       "8283  311594032.0  112178576.0 -199415456.0     63.998484  bad\n",
       "7131   28931401.0    8680619.0  -20250782.0     69.995857  bad\n",
       "380    51881013.0   28221100.0  -23659913.0     45.604185  bad\n",
       "4222   18671317.0    7387668.5  -11283648.5     60.433062  bad\n",
       "...           ...          ...          ...           ...  ...\n",
       "412   611899420.0   11340735.0 -600558685.0     98.146634  bad\n",
       "5195    5555305.0   60269868.0   54714563.0    984.906553  bad\n",
       "622    13760640.0   59707388.0   45946748.0    333.899790  bad\n",
       "4569    8279017.0   17229410.0    8950393.0    108.109369  bad\n",
       "6538    2300000.0    4480796.0    2180796.0     94.817217  bad\n",
       "\n",
       "[1194 rows x 5 columns]"
      ]
     },
     "execution_count": 64,
     "metadata": {},
     "output_type": "execute_result"
    }
   ],
   "source": [
    "comp_df = pd.DataFrame({\"actual\": np.expm1(y_test_transformed), \"predictions\": np.expm1(y_pred)})\n",
    "# Add actual values to dataframe\n",
    "# comp_df['actual'] = np.expm1(y_cross)\n",
    "# Add column with difference of the two values\n",
    "comp_df['difference'] = comp_df['predictions'] - comp_df['actual']\n",
    "# Add column that shows the percent difference between predicted and actual value\n",
    "comp_df['percent_diff'] = abs(abs(comp_df['predictions'] / (comp_df['actual'])) - 1) * 100\n",
    "# Add column that designates a difference of less than 20% as 'okay' and 20% or more as 'bad'\n",
    "comp_df['okay'] = comp_df['percent_diff'].apply(lambda x: 'okay' if x < 20 else 'bad')\n",
    "comp_df"
   ]
  },
  {
   "cell_type": "code",
   "execution_count": 68,
   "id": "61ab4a26",
   "metadata": {},
   "outputs": [
    {
     "data": {
      "text/html": [
       "<div>\n",
       "<style scoped>\n",
       "    .dataframe tbody tr th:only-of-type {\n",
       "        vertical-align: middle;\n",
       "    }\n",
       "\n",
       "    .dataframe tbody tr th {\n",
       "        vertical-align: top;\n",
       "    }\n",
       "\n",
       "    .dataframe thead th {\n",
       "        text-align: right;\n",
       "    }\n",
       "</style>\n",
       "<table border=\"1\" class=\"dataframe\">\n",
       "  <thead>\n",
       "    <tr style=\"text-align: right;\">\n",
       "      <th></th>\n",
       "      <th>actual</th>\n",
       "      <th>predictions</th>\n",
       "      <th>difference</th>\n",
       "      <th>percent_diff</th>\n",
       "      <th>okay</th>\n",
       "    </tr>\n",
       "  </thead>\n",
       "  <tbody>\n",
       "    <tr>\n",
       "      <th>5662</th>\n",
       "      <td>75597042.0</td>\n",
       "      <td>68200728.0</td>\n",
       "      <td>-7396314.0</td>\n",
       "      <td>9.783867</td>\n",
       "      <td>okay</td>\n",
       "    </tr>\n",
       "    <tr>\n",
       "      <th>873</th>\n",
       "      <td>127392239.0</td>\n",
       "      <td>122467920.0</td>\n",
       "      <td>-4924319.0</td>\n",
       "      <td>3.865478</td>\n",
       "      <td>okay</td>\n",
       "    </tr>\n",
       "    <tr>\n",
       "      <th>5020</th>\n",
       "      <td>45479110.0</td>\n",
       "      <td>51859248.0</td>\n",
       "      <td>6380138.0</td>\n",
       "      <td>14.028722</td>\n",
       "      <td>okay</td>\n",
       "    </tr>\n",
       "    <tr>\n",
       "      <th>2649</th>\n",
       "      <td>68106245.0</td>\n",
       "      <td>58948892.0</td>\n",
       "      <td>-9157353.0</td>\n",
       "      <td>13.445688</td>\n",
       "      <td>okay</td>\n",
       "    </tr>\n",
       "    <tr>\n",
       "      <th>3735</th>\n",
       "      <td>51842679.0</td>\n",
       "      <td>60984732.0</td>\n",
       "      <td>9142053.0</td>\n",
       "      <td>17.634222</td>\n",
       "      <td>okay</td>\n",
       "    </tr>\n",
       "    <tr>\n",
       "      <th>...</th>\n",
       "      <td>...</td>\n",
       "      <td>...</td>\n",
       "      <td>...</td>\n",
       "      <td>...</td>\n",
       "      <td>...</td>\n",
       "    </tr>\n",
       "    <tr>\n",
       "      <th>6300</th>\n",
       "      <td>8100000.0</td>\n",
       "      <td>7998677.0</td>\n",
       "      <td>-101323.0</td>\n",
       "      <td>1.250901</td>\n",
       "      <td>okay</td>\n",
       "    </tr>\n",
       "    <tr>\n",
       "      <th>4938</th>\n",
       "      <td>26381221.0</td>\n",
       "      <td>30826844.0</td>\n",
       "      <td>4445623.0</td>\n",
       "      <td>16.851468</td>\n",
       "      <td>okay</td>\n",
       "    </tr>\n",
       "    <tr>\n",
       "      <th>2855</th>\n",
       "      <td>43545364.0</td>\n",
       "      <td>39414828.0</td>\n",
       "      <td>-4130536.0</td>\n",
       "      <td>9.485593</td>\n",
       "      <td>okay</td>\n",
       "    </tr>\n",
       "    <tr>\n",
       "      <th>2949</th>\n",
       "      <td>22400154.0</td>\n",
       "      <td>21639064.0</td>\n",
       "      <td>-761090.0</td>\n",
       "      <td>3.397700</td>\n",
       "      <td>okay</td>\n",
       "    </tr>\n",
       "    <tr>\n",
       "      <th>6874</th>\n",
       "      <td>29456000.0</td>\n",
       "      <td>33598252.0</td>\n",
       "      <td>4142252.0</td>\n",
       "      <td>14.062507</td>\n",
       "      <td>okay</td>\n",
       "    </tr>\n",
       "  </tbody>\n",
       "</table>\n",
       "<p>109 rows × 5 columns</p>\n",
       "</div>"
      ],
      "text/plain": [
       "           actual  predictions  difference  percent_diff  okay\n",
       "5662   75597042.0   68200728.0  -7396314.0      9.783867  okay\n",
       "873   127392239.0  122467920.0  -4924319.0      3.865478  okay\n",
       "5020   45479110.0   51859248.0   6380138.0     14.028722  okay\n",
       "2649   68106245.0   58948892.0  -9157353.0     13.445688  okay\n",
       "3735   51842679.0   60984732.0   9142053.0     17.634222  okay\n",
       "...           ...          ...         ...           ...   ...\n",
       "6300    8100000.0    7998677.0   -101323.0      1.250901  okay\n",
       "4938   26381221.0   30826844.0   4445623.0     16.851468  okay\n",
       "2855   43545364.0   39414828.0  -4130536.0      9.485593  okay\n",
       "2949   22400154.0   21639064.0   -761090.0      3.397700  okay\n",
       "6874   29456000.0   33598252.0   4142252.0     14.062507  okay\n",
       "\n",
       "[109 rows x 5 columns]"
      ]
     },
     "execution_count": 68,
     "metadata": {},
     "output_type": "execute_result"
    }
   ],
   "source": [
    "comp_df[comp_df['percent_diff']<20]"
   ]
  },
  {
   "cell_type": "code",
   "execution_count": 66,
   "id": "b904af8e",
   "metadata": {},
   "outputs": [
    {
     "data": {
      "text/plain": [
       "[<matplotlib.lines.Line2D at 0x7f4f76eca700>]"
      ]
     },
     "execution_count": 66,
     "metadata": {},
     "output_type": "execute_result"
    },
    {
     "data": {
      "image/png": "[encoded data removed]",
      "text/plain": [
       "<Figure size 432x288 with 1 Axes>"
      ]
     },
     "metadata": {
      "needs_background": "light"
     },
     "output_type": "display_data"
    }
   ],
   "source": [
    "plt.plot(comp_df['percent_diff'].sort_index())"
   ]
  },
  {
   "cell_type": "code",
   "execution_count": 67,
   "id": "658b06b0",
   "metadata": {},
   "outputs": [
    {
     "data": {
      "text/html": [
       "<div>\n",
       "<style scoped>\n",
       "    .dataframe tbody tr th:only-of-type {\n",
       "        vertical-align: middle;\n",
       "    }\n",
       "\n",
       "    .dataframe tbody tr th {\n",
       "        vertical-align: top;\n",
       "    }\n",
       "\n",
       "    .dataframe thead th {\n",
       "        text-align: right;\n",
       "    }\n",
       "</style>\n",
       "<table border=\"1\" class=\"dataframe\">\n",
       "  <thead>\n",
       "    <tr style=\"text-align: right;\">\n",
       "      <th></th>\n",
       "      <th>actual</th>\n",
       "      <th>predictions</th>\n",
       "      <th>difference</th>\n",
       "      <th>percent_diff</th>\n",
       "      <th>okay</th>\n",
       "    </tr>\n",
       "  </thead>\n",
       "  <tbody>\n",
       "    <tr>\n",
       "      <th>5662</th>\n",
       "      <td>75597042.0</td>\n",
       "      <td>68200728.0</td>\n",
       "      <td>-7396314.0</td>\n",
       "      <td>9.783867</td>\n",
       "      <td>okay</td>\n",
       "    </tr>\n",
       "    <tr>\n",
       "      <th>873</th>\n",
       "      <td>127392239.0</td>\n",
       "      <td>122467920.0</td>\n",
       "      <td>-4924319.0</td>\n",
       "      <td>3.865478</td>\n",
       "      <td>okay</td>\n",
       "    </tr>\n",
       "    <tr>\n",
       "      <th>5020</th>\n",
       "      <td>45479110.0</td>\n",
       "      <td>51859248.0</td>\n",
       "      <td>6380138.0</td>\n",
       "      <td>14.028722</td>\n",
       "      <td>okay</td>\n",
       "    </tr>\n",
       "    <tr>\n",
       "      <th>2649</th>\n",
       "      <td>68106245.0</td>\n",
       "      <td>58948892.0</td>\n",
       "      <td>-9157353.0</td>\n",
       "      <td>13.445688</td>\n",
       "      <td>okay</td>\n",
       "    </tr>\n",
       "    <tr>\n",
       "      <th>3735</th>\n",
       "      <td>51842679.0</td>\n",
       "      <td>60984732.0</td>\n",
       "      <td>9142053.0</td>\n",
       "      <td>17.634222</td>\n",
       "      <td>okay</td>\n",
       "    </tr>\n",
       "    <tr>\n",
       "      <th>...</th>\n",
       "      <td>...</td>\n",
       "      <td>...</td>\n",
       "      <td>...</td>\n",
       "      <td>...</td>\n",
       "      <td>...</td>\n",
       "    </tr>\n",
       "    <tr>\n",
       "      <th>6300</th>\n",
       "      <td>8100000.0</td>\n",
       "      <td>7998677.0</td>\n",
       "      <td>-101323.0</td>\n",
       "      <td>1.250901</td>\n",
       "      <td>okay</td>\n",
       "    </tr>\n",
       "    <tr>\n",
       "      <th>4938</th>\n",
       "      <td>26381221.0</td>\n",
       "      <td>30826844.0</td>\n",
       "      <td>4445623.0</td>\n",
       "      <td>16.851468</td>\n",
       "      <td>okay</td>\n",
       "    </tr>\n",
       "    <tr>\n",
       "      <th>2855</th>\n",
       "      <td>43545364.0</td>\n",
       "      <td>39414828.0</td>\n",
       "      <td>-4130536.0</td>\n",
       "      <td>9.485593</td>\n",
       "      <td>okay</td>\n",
       "    </tr>\n",
       "    <tr>\n",
       "      <th>2949</th>\n",
       "      <td>22400154.0</td>\n",
       "      <td>21639064.0</td>\n",
       "      <td>-761090.0</td>\n",
       "      <td>3.397700</td>\n",
       "      <td>okay</td>\n",
       "    </tr>\n",
       "    <tr>\n",
       "      <th>6874</th>\n",
       "      <td>29456000.0</td>\n",
       "      <td>33598252.0</td>\n",
       "      <td>4142252.0</td>\n",
       "      <td>14.062507</td>\n",
       "      <td>okay</td>\n",
       "    </tr>\n",
       "  </tbody>\n",
       "</table>\n",
       "<p>109 rows × 5 columns</p>\n",
       "</div>"
      ],
      "text/plain": [
       "           actual  predictions  difference  percent_diff  okay\n",
       "5662   75597042.0   68200728.0  -7396314.0      9.783867  okay\n",
       "873   127392239.0  122467920.0  -4924319.0      3.865478  okay\n",
       "5020   45479110.0   51859248.0   6380138.0     14.028722  okay\n",
       "2649   68106245.0   58948892.0  -9157353.0     13.445688  okay\n",
       "3735   51842679.0   60984732.0   9142053.0     17.634222  okay\n",
       "...           ...          ...         ...           ...   ...\n",
       "6300    8100000.0    7998677.0   -101323.0      1.250901  okay\n",
       "4938   26381221.0   30826844.0   4445623.0     16.851468  okay\n",
       "2855   43545364.0   39414828.0  -4130536.0      9.485593  okay\n",
       "2949   22400154.0   21639064.0   -761090.0      3.397700  okay\n",
       "6874   29456000.0   33598252.0   4142252.0     14.062507  okay\n",
       "\n",
       "[109 rows x 5 columns]"
      ]
     },
     "execution_count": 67,
     "metadata": {},
     "output_type": "execute_result"
    }
   ],
   "source": [
    "comp_df[comp_df['okay']=='okay']"
   ]
  },
  {
   "cell_type": "code",
   "execution_count": null,
   "id": "4deea664",
   "metadata": {},
   "outputs": [],
   "source": []
  },
  {
   "cell_type": "markdown",
   "id": "1fa1b59b",
   "metadata": {},
   "source": [
    "#### XGBoost"
   ]
  },
  {
   "cell_type": "code",
   "execution_count": null,
   "id": "0a0dd416",
   "metadata": {},
   "outputs": [],
   "source": [
    "# Create DMatrix for train set, cross-validation set and test set (which is X_cross)\n",
    "train_set = xgb.DMatrix(X_train_transformed, label=y_train_transformed)\n",
    "val_set = xgb.DMatrix(X_val_transformed, label=y_val_transformed)\n",
    "test_set = xgb.DMatrix(X_test_transformed, label=y_test_transformed)\n",
    "\n",
    "# Define the initial parameters to use (default values)\n",
    "parameters_xgb = {'learning_rate': 0.3, \n",
    "                  'max_depth': 6, \n",
    "                  'alpha': 0, \n",
    "                  'subsample': 1,\n",
    "                  'min_child_weight': 1, \n",
    "                  'colsample_bytree': 1} \n",
    "\n",
    "# Define the variations of each parameter to be checked\n",
    "learning_rate = [0.3, 0.1, 0.01]\n",
    "max_depth = [6, 8, 10]\n",
    "alpha = [0, 5, 10]\n",
    "subsample = [0.5, 0.7, 1]\n",
    "min_child_weight = [1, 3, 6]\n",
    "colsample_bytree = [0.5, 0.7, 1]"
   ]
  },
  {
   "cell_type": "code",
   "execution_count": null,
   "id": "97040d35",
   "metadata": {},
   "outputs": [],
   "source": [
    "# This code was adapted from https://blog.cambridgespark.com/hyperparameter-tuning-in-xgboost-4ff9100a3b2f\n",
    "def grid_search_xgb(param1, param2, param1_vals, param2_vals):\n",
    "    '''\n",
    "    Function to simulate gridsearch on XGBoost model testing two different values at a time\n",
    "    Args: param1 = string; name of first parameter\n",
    "          param2 = string; name of second parameter\n",
    "          param1_vals = list; values to be checked\n",
    "          param2_vals = list; values to be checked\n",
    "    Returns: None\n",
    "    '''\n",
    "    \n",
    "    min_rmse = float(\"Inf\")\n",
    "    best_parameters = None\n",
    "    overall_best = collections.defaultdict()\n",
    "\n",
    "    for val1 in param1_vals:\n",
    "        for val2 in param2_vals:\n",
    "            parameters_xgb[param1] = val1\n",
    "            parameters_xgb[param2] = val2\n",
    "            cv_results_xgb = xgb.cv(params = parameters_xgb,\n",
    "                                dtrain=train_set,\n",
    "                                num_boost_round=1000,\n",
    "                                seed=42,\n",
    "                                nfold=5,\n",
    "                                metrics={'rmse'},\n",
    "                                early_stopping_rounds=15)\n",
    "\n",
    "            best_rmse = cv_results_xgb['test-rmse-mean'].min() \n",
    "            boost_rounds = cv_results_xgb['test-rmse-mean'].idxmin()\n",
    "            print('{}: {}, {}: {}'.format(param1, val1, param2, val2))\n",
    "            print('\\tRSME {} for {} rounds'.format(best_rmse, boost_rounds))\n",
    "            \n",
    "            if best_rmse < min_rmse:\n",
    "                min_rmse = best_rmse\n",
    "                best_parameters = (val1, val2)\n",
    "        \n",
    "        print('Best params: {} of {}, {} of {}, RMSE: {}'.format(param1, \n",
    "                                                                 best_parameters[0], \n",
    "                                                                 param2, \n",
    "                                                                 best_parameters[1], \n",
    "                                                                 min_rmse))"
   ]
  },
  {
   "cell_type": "code",
   "execution_count": null,
   "id": "39656d7a",
   "metadata": {},
   "outputs": [],
   "source": [
    "# Gridsearch through learning_rate and max_depth values for XGBoost model\n",
    "# grid_search_xgb('learning_rate', 'max_depth', learning_rate, max_depth)"
   ]
  },
  {
   "cell_type": "code",
   "execution_count": null,
   "id": "c32f1a7b",
   "metadata": {},
   "outputs": [],
   "source": [
    "parameters_xgb = {'learning_rate': 0.01, \n",
    "                  'max_depth': 6, \n",
    "                  'alpha': 0, \n",
    "                  'subsample': 0.7,\n",
    "                  'min_child_weight': 3, \n",
    "                  'colsample_bytree': 0.7} "
   ]
  },
  {
   "cell_type": "code",
   "execution_count": null,
   "id": "220be9ac",
   "metadata": {},
   "outputs": [],
   "source": [
    "# Predicting values\n",
    "val_set = xgb.DMatrix(X_val_transformed, label=y_val_transformed)\n",
    "test_set = xgb.DMatrix(X_test_transformed, label=y_test_transformed)\n",
    "\n",
    "clf_xgb = xgb.train(params = parameters_xgb,\n",
    "                  dtrain = train_set,\n",
    "                  num_boost_round=1000,\n",
    "                  evals=[(val_set, \"Test\")],\n",
    "                  early_stopping_rounds=100)\n",
    "\n",
    "y_pred_xgb = clf_xgb.predict(test_set)"
   ]
  },
  {
   "cell_type": "code",
   "execution_count": null,
   "id": "e03f0fee",
   "metadata": {},
   "outputs": [],
   "source": [
    "comp_df = pd.DataFrame({\"actual\": np.expm1(y_test_transformed), \"predictions\": np.expm1(clf_xgb.predict(test_set))})\n",
    "# Add actual values to dataframe\n",
    "# comp_df['actual'] = np.expm1(y_cross)\n",
    "# Add column with difference of the two values\n",
    "comp_df['difference'] = comp_df['predictions'] - comp_df['actual']\n",
    "# Add column that shows the percent difference between predicted and actual value\n",
    "comp_df['percent_diff'] = abs(abs(comp_df['predictions'] / (comp_df['actual'])) - 1) * 100\n",
    "# Add column that designates a difference of less than 20% as 'okay' and 20% or more as 'bad'\n",
    "comp_df['okay'] = comp_df['percent_diff'].apply(lambda x: 'okay' if x < 20 else 'bad')\n",
    "comp_df"
   ]
  },
  {
   "cell_type": "code",
   "execution_count": null,
   "id": "54c5ea90",
   "metadata": {},
   "outputs": [],
   "source": [
    "comp_df['percent_diff'].describe()"
   ]
  },
  {
   "cell_type": "code",
   "execution_count": null,
   "id": "6d1f56c6",
   "metadata": {},
   "outputs": [],
   "source": [
    "plt.hist(comp_df['percent_diff'],bins = 20)"
   ]
  },
  {
   "cell_type": "code",
   "execution_count": null,
   "id": "fad27515",
   "metadata": {},
   "outputs": [],
   "source": [
    "# Which movies had a difference of less than 20% in the predicted vs. the actual revenue value\n",
    "comp_df[comp_df['okay'] == 'okay'].sort_values('percent_diff').reset_index()"
   ]
  },
  {
   "cell_type": "code",
   "execution_count": null,
   "id": "a93ade7e",
   "metadata": {},
   "outputs": [],
   "source": [
    "# final_model = Pipeline([('processing_final', union),\n",
    "#                          ('xgb_model', clf_xgb)])"
   ]
  },
  {
   "cell_type": "code",
   "execution_count": null,
   "id": "6ff6b341",
   "metadata": {},
   "outputs": [],
   "source": [
    "# # Saving the best XGBoost model\n",
    "# pickle.dump(clf_xgb, open('xgboost.sav', 'wb'))"
   ]
  },
  {
   "cell_type": "code",
   "execution_count": null,
   "id": "faf59c14",
   "metadata": {},
   "outputs": [],
   "source": []
  },
  {
   "cell_type": "code",
   "execution_count": null,
   "id": "d7193a16",
   "metadata": {},
   "outputs": [],
   "source": [
    "# from sklearn.model_selection import GridSearchCV\n",
    "# grid_search = GridSearchCV(\n",
    "#     pipe_baseline, \n",
    "#     tree_para = {'criterion':['gini','entropy', 'log_loss'],'max_depth':[4,5,6,7,8,9,10,11,12,15,20,30,40,50,70,90,120,150]},\n",
    "#     cv=5,\n",
    "#     scoring=\"rmsle_neg\")\n",
    "\n",
    "# grid_search.fit(X, y)X_train_transformed = pd.DataFrame(union.transform(X_train))\n",
    "X_test_transformed = pd.DataFrame(union.transform(X_test))\n",
    "\n",
    "y_train_transformed = y_train.apply(lambda x: np.log(1+x))\n",
    "y_test_transformed = y_test.apply(lambda x: np.log(1+x))\n",
    "\n",
    "## Models\n",
    "\n",
    "X_cross = X_test_transformed\n",
    "y_cross = y_test_transformed\n",
    "\n",
    "# Create validation sets\n",
    "X_train_part, X_val, y_train_part, y_val = train_test_split(X_train_transformed, \n",
    "                                                              y_train_transformed, \n",
    "                                                              test_size = 0.2,\n",
    "                                                              random_state = 42)\n",
    "\n",
    "# Print split result\n",
    "print(X_train_part.shape)\n",
    "print(X_val.shape)\n",
    "print(y_train_part.shape)\n",
    "print(y_val.shape)\n",
    "\n",
    "#### XGBoost\n",
    "\n",
    "# Create DMatrix for train set, cross-validation set and test set (which is X_cross)\n",
    "train_set = xgb.DMatrix(X_train_part, label=y_train_part)\n",
    "test_set = xgb.DMatrix(X_val, label=y_val)\n",
    "cross_set = xgb.DMatrix(X_cross, label=y_cross)\n",
    "\n",
    "# Define the initial parameters to use (default values)\n",
    "parameters_xgb = {'learning_rate': 0.3, \n",
    "                  'max_depth': 6, \n",
    "                  'alpha': 0, \n",
    "                  'subsample': 1,\n",
    "                  'min_child_weight': 1, \n",
    "                  'colsample_bytree': 1} \n",
    "\n",
    "# Define the variations of each parameter to be checked\n",
    "learning_rate = [0.3, 0.1, 0.01]\n",
    "max_depth = [6, 8, 10]\n",
    "alpha = [0, 5, 10]\n",
    "subsample = [0.5, 0.7, 1]\n",
    "min_child_weight = [1, 3, 6]\n",
    "colsample_bytree = [0.5, 0.7, 1]\n",
    "\n",
    "# This code was adapted from https://blog.cambridgespark.com/hyperparameter-tuning-in-xgboost-4ff9100a3b2f\n",
    "def grid_search_xgb(param1, param2, param1_vals, param2_vals):\n",
    "    '''\n",
    "    Function to simulate gridsearch on XGBoost model testing two different values at a time\n",
    "    Args: param1 = string; name of first parameter\n",
    "          param2 = string; name of second parameter\n",
    "          param1_vals = list; values to be checked\n",
    "          param2_vals = list; values to be checked\n",
    "    Returns: None\n",
    "    '''\n",
    "    \n",
    "    min_rmse = float(\"Inf\")\n",
    "    best_parameters = None\n",
    "    overall_best = collections.defaultdict()\n",
    "\n",
    "    for val1 in param1_vals:\n",
    "        for val2 in param2_vals:\n",
    "            parameters_xgb[param1] = val1\n",
    "            parameters_xgb[param2] = val2\n",
    "            cv_results_xgb = xgb.cv(params = parameters_xgb,\n",
    "                                dtrain=train_set,\n",
    "                                num_boost_round=1000,\n",
    "                                seed=42,\n",
    "                                nfold=5,\n",
    "                                metrics={'rmse'},\n",
    "                                early_stopping_rounds=15)\n",
    "\n",
    "            best_rmse = cv_results_xgb['test-rmse-mean'].min() \n",
    "            boost_rounds = cv_results_xgb['test-rmse-mean'].idxmin()\n",
    "            print('{}: {}, {}: {}'.format(param1, val1, param2, val2))\n",
    "            print('\\tRSME {} for {} rounds'.format(best_rmse, boost_rounds))\n",
    "            \n",
    "            if best_rmse < min_rmse:\n",
    "                min_rmse = best_rmse\n",
    "                best_parameters = (val1, val2)\n",
    "        \n",
    "        print('Best params: {} of {}, {} of {}, RMSE: {}'.format(param1, \n",
    "                                                                 best_parameters[0], \n",
    "                                                                 param2, \n",
    "                                                                 best_parameters[1], \n",
    "                                                                 min_rmse))\n",
    "\n",
    "# Gridsearch through learning_rate and max_depth values for XGBoost model\n",
    "grid_search_xgb('learning_rate', 'max_depth', learning_rate, max_depth)\n",
    "\n",
    "parameters_xgb = {'learning_rate': 0.01, \n",
    "                  'max_depth': 6, \n",
    "                  'alpha': 0, \n",
    "                  'subsample': 0.7,\n",
    "                  'min_child_weight': 3, \n",
    "                  'colsample_bytree': 0.7} \n",
    "\n",
    "# Predicting values\n",
    "# train_set = xgb.DMatrix(X_train_part, label=y_train_part)\n",
    "test_set = xgb.DMatrix(X_val, label=y_val)\n",
    "cross_set = xgb.DMatrix(X_test_transformed, label=y_test)\n",
    "\n",
    "clf_xgb = xgb.train(params = parameters_xgb,\n",
    "                  dtrain = train_set,\n",
    "                  num_boost_round=1000,\n",
    "                  evals=[(test_set, \"Test\")],\n",
    "                  early_stopping_rounds=100)\n",
    "\n",
    "y_pred_xgb = clf_xgb.predict(cross_set)\n",
    "\n",
    "# final_model = Pipeline([('processing_final', union),\n",
    "#                          ('xgb_model', clf_xgb)])\n",
    "\n",
    "# # Saving the best XGBoost model\n",
    "# pickle.dump(clf_xgb, open('xgboost.sav', 'wb'))\n",
    "\n",
    "\n",
    "\n",
    "# grid_search.best_params_"
   ]
  },
  {
   "cell_type": "markdown",
   "id": "661f39bf",
   "metadata": {},
   "source": [
    "Our goal is to remove the least interesting features, to limit overfitting and shorten training time.  \n",
    "\n",
    "🔥 We will make use of sklearn's [feature selection](https://scikit-learn.org/stable/modules/classes.html#module-sklearn.feature_selection) transformers directly in your pipeline!\n",
    "\n",
    "❗️ We recommend you to **try only Option 1 today to start with**. Option 2 and 3 will be corrected in Recap"
   ]
  },
  {
   "cell_type": "markdown",
   "id": "1f3ef455",
   "metadata": {},
   "source": [
    "##### (Option 1 - recommended) <font color=green>Univariate</font> feature selection based on their mutual information with target `y`"
   ]
  },
  {
   "cell_type": "markdown",
   "id": "d36b5b9e",
   "metadata": {},
   "source": [
    "- Feel free to add a `SelectPercentile` filter at the end of your `preproc` pipeline.\n",
    "- This will filter-out features that, - taken individually - least explain your target!\n",
    "- The statistical test we recommend to pass to SelectPercentile is the `mutual_info_regression`\n",
    "\n",
    "<details>\n",
    "    <summary markdown='span'>🤔 What is mutual information? Click here!</summary>\n",
    "\n",
    "- Mutual information is a *statistical* distance between two probability distributions.\n",
    "- Correlation is a *linear* distance between two random variables.\n",
    "- Mutual information is more general and measures the reduction of uncertainty in Y after observing X.\n",
    "- On the other hand, if you already know you are working with variables that are smooth (like continuous numerical variables), sometimes correlation may tell you more about them, for instance if their relationship is monotonic.\n",
    "\n",
    "See [animation](https://twitter.com/ari_seff/status/1409296508634152964)\n",
    "</details>"
   ]
  },
  {
   "cell_type": "code",
   "execution_count": null,
   "id": "310532ca",
   "metadata": {
    "tags": [
     "challengify"
    ]
   },
   "outputs": [],
   "source": [
    "from sklearn.feature_selection import mutual_info_regression\n",
    "# test_feature = mutual_info_regression(X.select_dtypes(include=['float64','int64']), y)\n",
    "test_feature = mutual_info_regression(X[['MasVnrArea']], y)\n",
    "test_feature"
   ]
  },
  {
   "cell_type": "markdown",
   "id": "1964bccf",
   "metadata": {},
   "source": [
    "##### (option 2) <font color=green>Multivariate</font> feature selection based their combined relationship with target `y`"
   ]
  },
  {
   "cell_type": "markdown",
   "id": "8f82b93c",
   "metadata": {},
   "source": [
    "🤔 We want to remove features that, when in combination with all the others, do not really help predict our target.\n",
    "\n",
    "1️⃣ To do so, remember that we can use feature [`permutation_importance`](https://scikit-learn.org/stable/modules/permutation_importance.html) metric in combination with an estimator! It trains one pipe per feature, so as to estimate which feature makes our performance score *decrease* the most when shuffling it randomly. These would be our most important features, which we don't want to remove. \n",
    "\n",
    "The best thing is, scikit-learn allows you to integrate this methodology directly into your `preproc` pipeline thanks to the [`SequentialFeatureSelector`](https://scikit-learn.org/stable/modules/generated/sklearn.feature_selection.SequentialFeatureSelector.html) transformer: this will recursively remove least important features according to the `cross_val_score`.\n",
    "\n",
    "However, this process can take extremely long to train when you have many features.\n",
    "\n",
    "2️⃣ Alternatively, a faster way would be to make use of models that already output some measure of feature_importance when fitting them. For instance, Trees with gini-based `feature_importance_`, or Lasso regressions with L1 `coef_`. Again here, scikit-learn already has the [`SelectFromModel`](https://scikit-learn.org/stable/modules/generated/sklearn.feature_selection.SelectFromModel.html) transformer to do just that."
   ]
  },
  {
   "cell_type": "code",
   "execution_count": null,
   "id": "361b85c8",
   "metadata": {
    "tags": [
     "challengify"
    ]
   },
   "outputs": [],
   "source": [
    "# YOUR CODE HERE"
   ]
  },
  {
   "cell_type": "markdown",
   "id": "08a53aca",
   "metadata": {},
   "source": [
    "##### (option 3) <font color=green>Unsupervised</font> selection: Filter based only on the properties of `X`? "
   ]
  },
  {
   "cell_type": "markdown",
   "id": "8384722b",
   "metadata": {},
   "source": [
    "❓ A quick win is to remove features with the lowest variance. Think about it: a feature which only has one value is useless (and has a variance of 0).  \n",
    "- Feel free to add a [`VarianceThreshold`](https://scikit-learn.org/stable/modules/generated/sklearn.feature_selection.VarianceThreshold.html) to the end of your pipeline"
   ]
  },
  {
   "cell_type": "code",
   "execution_count": null,
   "id": "c42ef38b",
   "metadata": {
    "tags": [
     "challengify"
    ]
   },
   "outputs": [],
   "source": [
    "# YOUR CODE HERE"
   ]
  },
  {
   "cell_type": "markdown",
   "id": "c2bb5db6",
   "metadata": {},
   "source": [
    "❓ Additionally, we can check for correlation between our **numerical features** only\n",
    "\n",
    "- Use [Pearson's correlation](https://en.wikipedia.org/wiki/Pearson_correlation_coefficient) combined with a heatmap to check visually whether some **numerical** features almost entirely correlate with others. \n",
    "- Use `VIF` from statsmodels to check for features that have the highest multicollinearity"
   ]
  },
  {
   "cell_type": "code",
   "execution_count": null,
   "id": "fcaf55fa",
   "metadata": {
    "tags": [
     "challengify"
    ]
   },
   "outputs": [],
   "source": [
    "# YOUR CODE HERE"
   ]
  },
  {
   "cell_type": "markdown",
   "id": "7274c55a",
   "metadata": {},
   "source": [
    "❓ For **ordinal features**, we can use [Spearman's rank correlation](https://en.wikipedia.org/wiki/Spearman%27s_rank_correlation_coefficient) instead to check whether some **ordinally encoded** features are almost entirely \"ordered\" similarly to others. Feel free to plot a heatmap again"
   ]
  },
  {
   "cell_type": "code",
   "execution_count": null,
   "id": "733a7f87",
   "metadata": {
    "tags": [
     "challengify"
    ]
   },
   "outputs": [],
   "source": [
    "# YOUR CODE HERE"
   ]
  },
  {
   "cell_type": "markdown",
   "id": "c434d247",
   "metadata": {},
   "source": [
    "❓ Now, feel free to create a \"filter\" in your pipeline that removes any feature you want beyond a given (Spearman + Pearson) correlation threshold. You'll need a custom transformer class"
   ]
  },
  {
   "cell_type": "code",
   "execution_count": null,
   "id": "ddbaa7c5",
   "metadata": {
    "tags": [
     "challengify"
    ]
   },
   "outputs": [],
   "source": [
    "# YOUR CODE HERE"
   ]
  },
  {
   "cell_type": "markdown",
   "id": "427176d9",
   "metadata": {},
   "source": [
    "#### e) Target engineering (15 min)"
   ]
  },
  {
   "cell_type": "markdown",
   "id": "7205ab60",
   "metadata": {},
   "source": [
    "❓ We are asked to minimize the RMS**L**E. Why don't we transform our target to directly predict its `log`?\n",
    "- Check out the histogram of the target `y`.\n",
    "- Normally distributed variables should be easier to predict with linear or parametric models. \n",
    "- Create `y_log` and your new performance metrics\n",
    "- Don't forget to take the exponent of your predictions at the end!"
   ]
  },
  {
   "cell_type": "code",
   "execution_count": null,
   "id": "2c54b974",
   "metadata": {
    "tags": [
     "challengify"
    ]
   },
   "outputs": [],
   "source": [
    "y_transform = np.log2(y)\n",
    "y_transform"
   ]
  },
  {
   "cell_type": "markdown",
   "id": "682f08a6",
   "metadata": {},
   "source": [
    "### 2.2 Model Iteration ♻"
   ]
  },
  {
   "cell_type": "markdown",
   "id": "b122b687",
   "metadata": {},
   "source": [
    "#### a ) Final version of the preproc pipeline\n",
    "❓ We advise you to start with a fresh definition below so you can quickly update it as need be."
   ]
  },
  {
   "cell_type": "code",
   "execution_count": null,
   "id": "1aa2a26b",
   "metadata": {
    "tags": [
     "challengify"
    ]
   },
   "outputs": [],
   "source": [
    "from xgboost import XGBRegressor\n",
    "xgb_reg = XGBRegressor(max_depth=6, n_estimators=300, learning_rate=0.05)\n",
    "\n",
    "pipe_updated = make_pipeline(preproc_combined, xgb_reg)\n",
    "pipe_updated"
   ]
  },
  {
   "cell_type": "code",
   "execution_count": null,
   "id": "79f80263",
   "metadata": {},
   "outputs": [],
   "source": [
    "cv_score = cross_val_score(pipe_updated, X, data['SalePrice'], cv=5, scoring=rmsle)\n",
    "score_updated = cv_score.mean()\n",
    "score_updated"
   ]
  },
  {
   "cell_type": "code",
   "execution_count": null,
   "id": "f03e83cc",
   "metadata": {},
   "outputs": [],
   "source": []
  },
  {
   "cell_type": "code",
   "execution_count": null,
   "id": "4aa9a863",
   "metadata": {},
   "outputs": [],
   "source": [
    "y_pred_final=pipe_updated.fit(X,data['SalePrice']).predict(test_data.drop(columns=\"Id\"))\n",
    "\n",
    "y_pred_final"
   ]
  },
  {
   "cell_type": "code",
   "execution_count": null,
   "id": "81329596",
   "metadata": {},
   "outputs": [],
   "source": [
    "data_to_df_final = [test_data['Id'],y_pred_final]"
   ]
  },
  {
   "cell_type": "code",
   "execution_count": null,
   "id": "212327d6",
   "metadata": {},
   "outputs": [],
   "source": [
    "pd.DataFrame({\"Id\":test_data.Id,\"SalePrice\":y_pred_final}).to_csv('./data/submission_final_new1.csv',index=False)"
   ]
  },
  {
   "cell_type": "code",
   "execution_count": null,
   "id": "91b2a5ea",
   "metadata": {},
   "outputs": [],
   "source": []
  },
  {
   "cell_type": "code",
   "execution_count": null,
   "id": "4633a58f",
   "metadata": {},
   "outputs": [],
   "source": []
  },
  {
   "cell_type": "markdown",
   "id": "b7ff778b",
   "metadata": {},
   "source": [
    "# 🏅FINAL SUBMISSION (submit at least 30 min before Recap)"
   ]
  },
  {
   "cell_type": "markdown",
   "id": "b2603aec",
   "metadata": {},
   "source": [
    "Discover your real test score by submitting on Kaggle! \n",
    "\n",
    "👉 Write down your test score on the [result spreadsheet here](https://docs.google.com/spreadsheets/d/1ZEBKwa_k1Ytb0WCOh-Nopq3eaezwBNu1SAqKXEXRguc/edit#gid=0) (pick the correct batch!)"
   ]
  },
  {
   "cell_type": "code",
   "execution_count": null,
   "id": "f5e9dcee",
   "metadata": {
    "tags": [
     "challengify"
    ]
   },
   "outputs": [],
   "source": [
    "# YOUR CODE HERE"
   ]
  },
  {
   "cell_type": "code",
   "execution_count": null,
   "id": "38cbd993",
   "metadata": {},
   "outputs": [],
   "source": []
  }
 ],
 "metadata": {
  "kernelspec": {
   "display_name": "Python 3 (ipykernel)",
   "language": "python",
   "name": "python3"
  },
  "language_info": {
   "codemirror_mode": {
    "name": "ipython",
    "version": 3
   },
   "file_extension": ".py",
   "mimetype": "text/x-python",
   "name": "python",
   "nbconvert_exporter": "python",
   "pygments_lexer": "ipython3",
   "version": "3.8.12"
  },
  "toc": {
   "base_numbering": 1,
   "nav_menu": {},
   "number_sections": true,
   "sideBar": true,
   "skip_h1_title": false,
   "title_cell": "Table of Contents",
   "title_sidebar": "Contents",
   "toc_cell": false,
   "toc_position": {},
   "toc_section_display": true,
   "toc_window_display": false
  }
 },
 "nbformat": 4,
 "nbformat_minor": 5
}
