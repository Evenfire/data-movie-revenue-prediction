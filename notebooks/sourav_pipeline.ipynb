{
 "cells": [
  {
   "cell_type": "markdown",
   "id": "9981ca7f",
   "metadata": {},
   "source": [
    "## Import Module"
   ]
  },
  {
   "cell_type": "code",
   "execution_count": 1,
   "id": "46542aa5",
   "metadata": {},
   "outputs": [],
   "source": [
    "%load_ext autoreload\n",
    "%autoreload 2"
   ]
  },
  {
   "cell_type": "code",
   "execution_count": 41,
   "id": "70787033",
   "metadata": {},
   "outputs": [],
   "source": [
    "from sklearn.pipeline import Pipeline\n",
    "import pandas as pd\n",
    "import matplotlib.pyplot as plt\n",
    "import numpy as np\n",
    "from sklearn.model_selection import train_test_split\n",
    "from python_files.fetch_missing_data import fetch_missing_data\n",
    "from sklearn.preprocessing import StandardScaler\n",
    "from sklearn.impute import SimpleImputer\n",
    "from sklearn.dummy import DummyRegressor\n",
    "from python_files.data import GetData\n",
    "from python_files.basic_preprocessing import BasicPreprocessing\n",
    "from sklearn.preprocessing import OneHotEncoder\n",
    "from sklearn.compose import ColumnTransformer"
   ]
  },
  {
   "cell_type": "markdown",
   "id": "3755f1b2",
   "metadata": {},
   "source": [
    "## Clean the data"
   ]
  },
  {
   "cell_type": "code",
   "execution_count": 28,
   "id": "3b11be2f",
   "metadata": {},
   "outputs": [
    {
     "data": {
      "text/html": [
       "<div>\n",
       "<style scoped>\n",
       "    .dataframe tbody tr th:only-of-type {\n",
       "        vertical-align: middle;\n",
       "    }\n",
       "\n",
       "    .dataframe tbody tr th {\n",
       "        vertical-align: top;\n",
       "    }\n",
       "\n",
       "    .dataframe thead th {\n",
       "        text-align: right;\n",
       "    }\n",
       "</style>\n",
       "<table border=\"1\" class=\"dataframe\">\n",
       "  <thead>\n",
       "    <tr style=\"text-align: right;\">\n",
       "      <th></th>\n",
       "      <th>id</th>\n",
       "      <th>budget</th>\n",
       "      <th>genres</th>\n",
       "      <th>imdb_id</th>\n",
       "      <th>original_language</th>\n",
       "      <th>original_title</th>\n",
       "      <th>overview</th>\n",
       "      <th>popularity</th>\n",
       "      <th>production_companies</th>\n",
       "      <th>production_countries</th>\n",
       "      <th>...</th>\n",
       "      <th>production_companies_number</th>\n",
       "      <th>production_countries_number</th>\n",
       "      <th>spoken_languages_number</th>\n",
       "      <th>budget_new</th>\n",
       "      <th>revenue_new</th>\n",
       "      <th>popularity_new</th>\n",
       "      <th>vote_average_new</th>\n",
       "      <th>vote_count_new</th>\n",
       "      <th>belongs_to_collection_x</th>\n",
       "      <th>belongs_to_collection</th>\n",
       "    </tr>\n",
       "  </thead>\n",
       "  <tbody>\n",
       "    <tr>\n",
       "      <th>0</th>\n",
       "      <td>2</td>\n",
       "      <td>0</td>\n",
       "      <td>Drama|Crime</td>\n",
       "      <td>tt0094675</td>\n",
       "      <td>fi</td>\n",
       "      <td>Ariel</td>\n",
       "      <td>Taisto Kasurinen is a Finnish coal miner whose...</td>\n",
       "      <td>NaN</td>\n",
       "      <td>Villealfa Filmproduction Oy</td>\n",
       "      <td>Finland</td>\n",
       "      <td>...</td>\n",
       "      <td>2</td>\n",
       "      <td>1</td>\n",
       "      <td>2</td>\n",
       "      <td>NaN</td>\n",
       "      <td>NaN</td>\n",
       "      <td>NaN</td>\n",
       "      <td>NaN</td>\n",
       "      <td>NaN</td>\n",
       "      <td>NaN</td>\n",
       "      <td>NaN</td>\n",
       "    </tr>\n",
       "    <tr>\n",
       "      <th>1</th>\n",
       "      <td>3</td>\n",
       "      <td>0</td>\n",
       "      <td>Drama|Comedy</td>\n",
       "      <td>tt0092149</td>\n",
       "      <td>fi</td>\n",
       "      <td>Varjoja paratiisissa</td>\n",
       "      <td>An episode in the life of Nikander, a garbage ...</td>\n",
       "      <td>NaN</td>\n",
       "      <td>Villealfa Filmproduction Oy</td>\n",
       "      <td>Finland</td>\n",
       "      <td>...</td>\n",
       "      <td>1</td>\n",
       "      <td>1</td>\n",
       "      <td>3</td>\n",
       "      <td>NaN</td>\n",
       "      <td>NaN</td>\n",
       "      <td>NaN</td>\n",
       "      <td>NaN</td>\n",
       "      <td>NaN</td>\n",
       "      <td>NaN</td>\n",
       "      <td>NaN</td>\n",
       "    </tr>\n",
       "    <tr>\n",
       "      <th>2</th>\n",
       "      <td>5</td>\n",
       "      <td>4000000</td>\n",
       "      <td>Crime|Comedy</td>\n",
       "      <td>tt0113101</td>\n",
       "      <td>en</td>\n",
       "      <td>Four Rooms</td>\n",
       "      <td>It's Ted the Bellhop's first night on the job....</td>\n",
       "      <td>NaN</td>\n",
       "      <td>Miramax Films</td>\n",
       "      <td>United States of America</td>\n",
       "      <td>...</td>\n",
       "      <td>2</td>\n",
       "      <td>1</td>\n",
       "      <td>1</td>\n",
       "      <td>NaN</td>\n",
       "      <td>NaN</td>\n",
       "      <td>NaN</td>\n",
       "      <td>NaN</td>\n",
       "      <td>NaN</td>\n",
       "      <td>NaN</td>\n",
       "      <td>NaN</td>\n",
       "    </tr>\n",
       "    <tr>\n",
       "      <th>3</th>\n",
       "      <td>6</td>\n",
       "      <td>0</td>\n",
       "      <td>Action|Thriller|Crime</td>\n",
       "      <td>tt0107286</td>\n",
       "      <td>en</td>\n",
       "      <td>Judgment Night</td>\n",
       "      <td>While racing to a boxing match, Frank, Mike, J...</td>\n",
       "      <td>NaN</td>\n",
       "      <td>Universal Pictures</td>\n",
       "      <td>Japan</td>\n",
       "      <td>...</td>\n",
       "      <td>3</td>\n",
       "      <td>2</td>\n",
       "      <td>1</td>\n",
       "      <td>NaN</td>\n",
       "      <td>NaN</td>\n",
       "      <td>NaN</td>\n",
       "      <td>NaN</td>\n",
       "      <td>NaN</td>\n",
       "      <td>NaN</td>\n",
       "      <td>NaN</td>\n",
       "    </tr>\n",
       "    <tr>\n",
       "      <th>4</th>\n",
       "      <td>8</td>\n",
       "      <td>42000</td>\n",
       "      <td>Documentary</td>\n",
       "      <td>tt0825671</td>\n",
       "      <td>en</td>\n",
       "      <td>Life in Loops (A Megacities RMX)</td>\n",
       "      <td>Timo Novotny labels his new project an experim...</td>\n",
       "      <td>NaN</td>\n",
       "      <td>inLoops</td>\n",
       "      <td>Austria</td>\n",
       "      <td>...</td>\n",
       "      <td>1</td>\n",
       "      <td>1</td>\n",
       "      <td>5</td>\n",
       "      <td>NaN</td>\n",
       "      <td>NaN</td>\n",
       "      <td>NaN</td>\n",
       "      <td>NaN</td>\n",
       "      <td>NaN</td>\n",
       "      <td>NaN</td>\n",
       "      <td>NaN</td>\n",
       "    </tr>\n",
       "  </tbody>\n",
       "</table>\n",
       "<p>5 rows × 29 columns</p>\n",
       "</div>"
      ],
      "text/plain": [
       "   id   budget                 genres    imdb_id original_language  \\\n",
       "0   2        0            Drama|Crime  tt0094675                fi   \n",
       "1   3        0           Drama|Comedy  tt0092149                fi   \n",
       "2   5  4000000           Crime|Comedy  tt0113101                en   \n",
       "3   6        0  Action|Thriller|Crime  tt0107286                en   \n",
       "4   8    42000            Documentary  tt0825671                en   \n",
       "\n",
       "                     original_title  \\\n",
       "0                             Ariel   \n",
       "1              Varjoja paratiisissa   \n",
       "2                        Four Rooms   \n",
       "3                    Judgment Night   \n",
       "4  Life in Loops (A Megacities RMX)   \n",
       "\n",
       "                                            overview  popularity  \\\n",
       "0  Taisto Kasurinen is a Finnish coal miner whose...         NaN   \n",
       "1  An episode in the life of Nikander, a garbage ...         NaN   \n",
       "2  It's Ted the Bellhop's first night on the job....         NaN   \n",
       "3  While racing to a boxing match, Frank, Mike, J...         NaN   \n",
       "4  Timo Novotny labels his new project an experim...         NaN   \n",
       "\n",
       "          production_companies      production_countries  ...  \\\n",
       "0  Villealfa Filmproduction Oy                   Finland  ...   \n",
       "1  Villealfa Filmproduction Oy                   Finland  ...   \n",
       "2                Miramax Films  United States of America  ...   \n",
       "3           Universal Pictures                     Japan  ...   \n",
       "4                      inLoops                   Austria  ...   \n",
       "\n",
       "  production_companies_number  production_countries_number  \\\n",
       "0                           2                            1   \n",
       "1                           1                            1   \n",
       "2                           2                            1   \n",
       "3                           3                            2   \n",
       "4                           1                            1   \n",
       "\n",
       "   spoken_languages_number budget_new revenue_new popularity_new  \\\n",
       "0                        2        NaN         NaN            NaN   \n",
       "1                        3        NaN         NaN            NaN   \n",
       "2                        1        NaN         NaN            NaN   \n",
       "3                        1        NaN         NaN            NaN   \n",
       "4                        5        NaN         NaN            NaN   \n",
       "\n",
       "  vote_average_new  vote_count_new  belongs_to_collection_x  \\\n",
       "0              NaN             NaN                      NaN   \n",
       "1              NaN             NaN                      NaN   \n",
       "2              NaN             NaN                      NaN   \n",
       "3              NaN             NaN                      NaN   \n",
       "4              NaN             NaN                      NaN   \n",
       "\n",
       "   belongs_to_collection  \n",
       "0                    NaN  \n",
       "1                    NaN  \n",
       "2                    NaN  \n",
       "3                    NaN  \n",
       "4                    NaN  \n",
       "\n",
       "[5 rows x 29 columns]"
      ]
     },
     "execution_count": 28,
     "metadata": {},
     "output_type": "execute_result"
    }
   ],
   "source": [
    "data = GetData().get_data()['AllMoviesDetailsCleaned']\n",
    "data.head()"
   ]
  },
  {
   "cell_type": "code",
   "execution_count": 29,
   "id": "a512d17f",
   "metadata": {},
   "outputs": [
    {
     "data": {
      "text/plain": [
       "(329074, 29)"
      ]
     },
     "execution_count": 29,
     "metadata": {},
     "output_type": "execute_result"
    }
   ],
   "source": [
    "data.shape"
   ]
  },
  {
   "cell_type": "markdown",
   "id": "d95eeffb",
   "metadata": {},
   "source": [
    "### Apply basic preprocessing"
   ]
  },
  {
   "cell_type": "code",
   "execution_count": 35,
   "id": "24658d8b",
   "metadata": {
    "scrolled": true
   },
   "outputs": [
    {
     "data": {
      "text/html": [
       "<div>\n",
       "<style scoped>\n",
       "    .dataframe tbody tr th:only-of-type {\n",
       "        vertical-align: middle;\n",
       "    }\n",
       "\n",
       "    .dataframe tbody tr th {\n",
       "        vertical-align: top;\n",
       "    }\n",
       "\n",
       "    .dataframe thead th {\n",
       "        text-align: right;\n",
       "    }\n",
       "</style>\n",
       "<table border=\"1\" class=\"dataframe\">\n",
       "  <thead>\n",
       "    <tr style=\"text-align: right;\">\n",
       "      <th></th>\n",
       "      <th>id</th>\n",
       "      <th>budget</th>\n",
       "      <th>genres</th>\n",
       "      <th>original_language</th>\n",
       "      <th>original_title</th>\n",
       "      <th>production_companies</th>\n",
       "      <th>production_countries</th>\n",
       "      <th>release_date</th>\n",
       "      <th>revenue</th>\n",
       "      <th>runtime</th>\n",
       "      <th>...</th>\n",
       "      <th>production_companies_number</th>\n",
       "      <th>production_countries_number</th>\n",
       "      <th>spoken_languages_number</th>\n",
       "      <th>budget_new</th>\n",
       "      <th>revenue_new</th>\n",
       "      <th>popularity_new</th>\n",
       "      <th>vote_average_new</th>\n",
       "      <th>vote_count_new</th>\n",
       "      <th>belongs_to_collection_x</th>\n",
       "      <th>collection</th>\n",
       "    </tr>\n",
       "  </thead>\n",
       "  <tbody>\n",
       "    <tr>\n",
       "      <th>2</th>\n",
       "      <td>5</td>\n",
       "      <td>4000000</td>\n",
       "      <td>Crime|Comedy</td>\n",
       "      <td>en</td>\n",
       "      <td>Four Rooms</td>\n",
       "      <td>Miramax Films</td>\n",
       "      <td>United States of America</td>\n",
       "      <td>25/12/1995</td>\n",
       "      <td>4300000</td>\n",
       "      <td>98.0</td>\n",
       "      <td>...</td>\n",
       "      <td>2</td>\n",
       "      <td>1</td>\n",
       "      <td>1</td>\n",
       "      <td>NaN</td>\n",
       "      <td>NaN</td>\n",
       "      <td>NaN</td>\n",
       "      <td>NaN</td>\n",
       "      <td>NaN</td>\n",
       "      <td>NaN</td>\n",
       "      <td>1</td>\n",
       "    </tr>\n",
       "    <tr>\n",
       "      <th>5</th>\n",
       "      <td>9</td>\n",
       "      <td>4000000</td>\n",
       "      <td>Drama</td>\n",
       "      <td>de</td>\n",
       "      <td>Sonntag im August</td>\n",
       "      <td>none</td>\n",
       "      <td>Germany</td>\n",
       "      <td>2/9/2004</td>\n",
       "      <td>4257354</td>\n",
       "      <td>15.0</td>\n",
       "      <td>...</td>\n",
       "      <td>0</td>\n",
       "      <td>1</td>\n",
       "      <td>1</td>\n",
       "      <td>4000000.0</td>\n",
       "      <td>4257354.0</td>\n",
       "      <td>22.475</td>\n",
       "      <td>5.7</td>\n",
       "      <td>2256.0</td>\n",
       "      <td>NaN</td>\n",
       "      <td>1</td>\n",
       "    </tr>\n",
       "    <tr>\n",
       "      <th>6</th>\n",
       "      <td>11</td>\n",
       "      <td>11000000</td>\n",
       "      <td>Adventure|Action|Science Fiction</td>\n",
       "      <td>en</td>\n",
       "      <td>Star Wars</td>\n",
       "      <td>Lucasfilm</td>\n",
       "      <td>United States of America</td>\n",
       "      <td>25/05/1977</td>\n",
       "      <td>775398007</td>\n",
       "      <td>121.0</td>\n",
       "      <td>...</td>\n",
       "      <td>2</td>\n",
       "      <td>1</td>\n",
       "      <td>1</td>\n",
       "      <td>NaN</td>\n",
       "      <td>NaN</td>\n",
       "      <td>NaN</td>\n",
       "      <td>NaN</td>\n",
       "      <td>NaN</td>\n",
       "      <td>NaN</td>\n",
       "      <td>1</td>\n",
       "    </tr>\n",
       "    <tr>\n",
       "      <th>7</th>\n",
       "      <td>12</td>\n",
       "      <td>94000000</td>\n",
       "      <td>Animation|Family</td>\n",
       "      <td>en</td>\n",
       "      <td>Finding Nemo</td>\n",
       "      <td>Pixar Animation Studios</td>\n",
       "      <td>United States of America</td>\n",
       "      <td>30/05/2003</td>\n",
       "      <td>940335536</td>\n",
       "      <td>100.0</td>\n",
       "      <td>...</td>\n",
       "      <td>1</td>\n",
       "      <td>1</td>\n",
       "      <td>1</td>\n",
       "      <td>NaN</td>\n",
       "      <td>NaN</td>\n",
       "      <td>NaN</td>\n",
       "      <td>NaN</td>\n",
       "      <td>NaN</td>\n",
       "      <td>NaN</td>\n",
       "      <td>1</td>\n",
       "    </tr>\n",
       "    <tr>\n",
       "      <th>8</th>\n",
       "      <td>13</td>\n",
       "      <td>55000000</td>\n",
       "      <td>Comedy|Drama|Romance</td>\n",
       "      <td>en</td>\n",
       "      <td>Forrest Gump</td>\n",
       "      <td>Paramount Pictures</td>\n",
       "      <td>United States of America</td>\n",
       "      <td>6/7/1994</td>\n",
       "      <td>677945399</td>\n",
       "      <td>142.0</td>\n",
       "      <td>...</td>\n",
       "      <td>1</td>\n",
       "      <td>1</td>\n",
       "      <td>1</td>\n",
       "      <td>NaN</td>\n",
       "      <td>NaN</td>\n",
       "      <td>NaN</td>\n",
       "      <td>NaN</td>\n",
       "      <td>NaN</td>\n",
       "      <td>NaN</td>\n",
       "      <td>1</td>\n",
       "    </tr>\n",
       "  </tbody>\n",
       "</table>\n",
       "<p>5 rows × 24 columns</p>\n",
       "</div>"
      ],
      "text/plain": [
       "   id    budget                            genres original_language  \\\n",
       "2   5   4000000                      Crime|Comedy                en   \n",
       "5   9   4000000                             Drama                de   \n",
       "6  11  11000000  Adventure|Action|Science Fiction                en   \n",
       "7  12  94000000                  Animation|Family                en   \n",
       "8  13  55000000              Comedy|Drama|Romance                en   \n",
       "\n",
       "      original_title     production_companies      production_countries  \\\n",
       "2         Four Rooms            Miramax Films  United States of America   \n",
       "5  Sonntag im August                     none                   Germany   \n",
       "6          Star Wars                Lucasfilm  United States of America   \n",
       "7       Finding Nemo  Pixar Animation Studios  United States of America   \n",
       "8       Forrest Gump       Paramount Pictures  United States of America   \n",
       "\n",
       "  release_date    revenue  runtime  ... production_companies_number  \\\n",
       "2   25/12/1995    4300000     98.0  ...                           2   \n",
       "5     2/9/2004    4257354     15.0  ...                           0   \n",
       "6   25/05/1977  775398007    121.0  ...                           2   \n",
       "7   30/05/2003  940335536    100.0  ...                           1   \n",
       "8     6/7/1994  677945399    142.0  ...                           1   \n",
       "\n",
       "  production_countries_number  spoken_languages_number  budget_new  \\\n",
       "2                           1                        1         NaN   \n",
       "5                           1                        1   4000000.0   \n",
       "6                           1                        1         NaN   \n",
       "7                           1                        1         NaN   \n",
       "8                           1                        1         NaN   \n",
       "\n",
       "   revenue_new  popularity_new  vote_average_new  vote_count_new  \\\n",
       "2          NaN             NaN               NaN             NaN   \n",
       "5    4257354.0          22.475               5.7          2256.0   \n",
       "6          NaN             NaN               NaN             NaN   \n",
       "7          NaN             NaN               NaN             NaN   \n",
       "8          NaN             NaN               NaN             NaN   \n",
       "\n",
       "   belongs_to_collection_x  collection  \n",
       "2                      NaN           1  \n",
       "5                      NaN           1  \n",
       "6                      NaN           1  \n",
       "7                      NaN           1  \n",
       "8                      NaN           1  \n",
       "\n",
       "[5 rows x 24 columns]"
      ]
     },
     "execution_count": 35,
     "metadata": {},
     "output_type": "execute_result"
    }
   ],
   "source": [
    "df = BasicPreprocessing.apply(data)\n",
    "df.head()"
   ]
  },
  {
   "cell_type": "code",
   "execution_count": 36,
   "id": "ed731631",
   "metadata": {},
   "outputs": [],
   "source": [
    "df.drop(columns = ['budget_new',\n",
    "       'revenue_new', 'popularity_new', 'vote_average_new', 'vote_count_new', 'belongs_to_collection_x'], inplace = True)"
   ]
  },
  {
   "cell_type": "code",
   "execution_count": 37,
   "id": "16502406",
   "metadata": {},
   "outputs": [
    {
     "data": {
      "text/plain": [
       "Index(['id', 'budget', 'genres', 'original_language', 'original_title',\n",
       "       'production_companies', 'production_countries', 'release_date',\n",
       "       'revenue', 'runtime', 'spoken_languages', 'title', 'vote_average',\n",
       "       'vote_count', 'production_companies_number',\n",
       "       'production_countries_number', 'spoken_languages_number', 'collection'],\n",
       "      dtype='object')"
      ]
     },
     "execution_count": 37,
     "metadata": {},
     "output_type": "execute_result"
    }
   ],
   "source": [
    "df.columns"
   ]
  },
  {
   "cell_type": "code",
   "execution_count": 38,
   "id": "7ede8517",
   "metadata": {},
   "outputs": [
    {
     "data": {
      "text/plain": [
       "(8628, 18)"
      ]
     },
     "execution_count": 38,
     "metadata": {},
     "output_type": "execute_result"
    }
   ],
   "source": [
    "df.shape"
   ]
  },
  {
   "cell_type": "markdown",
   "id": "349c7aa7",
   "metadata": {},
   "source": [
    "### Impute the remaining missing values"
   ]
  },
  {
   "cell_type": "code",
   "execution_count": 39,
   "id": "8769fb2b",
   "metadata": {},
   "outputs": [
    {
     "data": {
      "text/plain": [
       "id                               0\n",
       "budget                           0\n",
       "genres                         209\n",
       "original_language                0\n",
       "original_title                   0\n",
       "production_companies             0\n",
       "production_countries             0\n",
       "release_date                     0\n",
       "revenue                          0\n",
       "runtime                         16\n",
       "spoken_languages                70\n",
       "title                            0\n",
       "vote_average                     0\n",
       "vote_count                       0\n",
       "production_companies_number      0\n",
       "production_countries_number      0\n",
       "spoken_languages_number          0\n",
       "collection                       0\n",
       "dtype: int64"
      ]
     },
     "execution_count": 39,
     "metadata": {},
     "output_type": "execute_result"
    }
   ],
   "source": [
    "df.isna().sum()"
   ]
  },
  {
   "cell_type": "markdown",
   "id": "5795d5bc",
   "metadata": {},
   "source": [
    "Before imputing I need to split the data"
   ]
  },
  {
   "cell_type": "markdown",
   "id": "43c8f208",
   "metadata": {},
   "source": [
    "### Create `X_basic` that contains only numerical and categorical features."
   ]
  },
  {
   "cell_type": "code",
   "execution_count": 45,
   "id": "4494347d",
   "metadata": {},
   "outputs": [
    {
     "data": {
      "text/plain": [
       "id                               int64\n",
       "budget                           int64\n",
       "genres                          object\n",
       "original_language               object\n",
       "original_title                  object\n",
       "production_companies            object\n",
       "production_countries            object\n",
       "release_date                    object\n",
       "revenue                          int64\n",
       "runtime                        float64\n",
       "spoken_languages                object\n",
       "title                           object\n",
       "vote_average                   float64\n",
       "vote_count                       int64\n",
       "production_companies_number      int64\n",
       "production_countries_number      int64\n",
       "spoken_languages_number          int64\n",
       "collection                       int64\n",
       "dtype: object"
      ]
     },
     "execution_count": 45,
     "metadata": {},
     "output_type": "execute_result"
    }
   ],
   "source": [
    "df.dtypes"
   ]
  },
  {
   "cell_type": "code",
   "execution_count": 46,
   "id": "906443f4",
   "metadata": {},
   "outputs": [],
   "source": [
    "X_basic = df.drop(columns = ['revenue', 'release_date'])\n",
    "y = df['revenue']"
   ]
  },
  {
   "cell_type": "code",
   "execution_count": 42,
   "id": "b6bd3f69",
   "metadata": {},
   "outputs": [],
   "source": [
    "# Impute and scale numeric data\n",
    "numeric_transformer = Pipeline(steps=[ \n",
    "    ('imputer', SimpleImputer(strategy= 'mean')),\n",
    "    ('scaler', StandardScaler())])\n",
    " \n",
    "# Convert categorical data to binary\n",
    "categorical_transformer = Pipeline(steps=[\n",
    "    ('encoder', OneHotEncoder(handle_unknown='ignore'))])"
   ]
  },
  {
   "cell_type": "code",
   "execution_count": 44,
   "id": "d64cba77",
   "metadata": {},
   "outputs": [
    {
     "data": {
      "text/plain": [
       "array([[-1.78265107e-01],\n",
       "       [-2.80186882e+00],\n",
       "       [ 5.48757609e-01],\n",
       "       ...,\n",
       "       [-4.49200617e-16],\n",
       "       [ 1.87636431e+00],\n",
       "       [ 1.06222043e-01]])"
      ]
     },
     "execution_count": 44,
     "metadata": {},
     "output_type": "execute_result"
    }
   ],
   "source": [
    "numeric_transformer.fit_transform(df[['runtime']])"
   ]
  },
  {
   "cell_type": "code",
   "execution_count": null,
   "id": "1173688d",
   "metadata": {},
   "outputs": [],
   "source": []
  }
 ],
 "metadata": {
  "kernelspec": {
   "display_name": "Python 3 (ipykernel)",
   "language": "python",
   "name": "python3"
  },
  "language_info": {
   "codemirror_mode": {
    "name": "ipython",
    "version": 3
   },
   "file_extension": ".py",
   "mimetype": "text/x-python",
   "name": "python",
   "nbconvert_exporter": "python",
   "pygments_lexer": "ipython3",
   "version": "3.8.12"
  },
  "toc": {
   "base_numbering": 1,
   "nav_menu": {},
   "number_sections": true,
   "sideBar": true,
   "skip_h1_title": false,
   "title_cell": "Table of Contents",
   "title_sidebar": "Contents",
   "toc_cell": false,
   "toc_position": {},
   "toc_section_display": true,
   "toc_window_display": false
  }
 },
 "nbformat": 4,
 "nbformat_minor": 5
}
