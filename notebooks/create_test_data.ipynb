{
 "cells": [
  {
   "cell_type": "code",
   "execution_count": 3,
   "id": "5d70c600",
   "metadata": {},
   "outputs": [],
   "source": [
    "# Use this cell to regroup all your imports\n",
    "import pandas as pd\n",
    "import numpy as np\n",
    "import matplotlib.pyplot as plt\n",
    "import seaborn as sns\n",
    "import warnings\n",
    "warnings.filterwarnings(\"ignore\")\n",
    "from sklearn import set_config; set_config(display='diagram')\n",
    "from python_files.data import GetData\n",
    "from python_files.basic_preprocessing import BasicPreprocessing\n",
    "from python_files.preprocessing import Advancedprocessing"
   ]
  },
  {
   "cell_type": "code",
   "execution_count": 8,
   "id": "d7a5a80f",
   "metadata": {
    "scrolled": true
   },
   "outputs": [
    {
     "name": "stdout",
     "output_type": "stream",
     "text": [
      "Requirement already satisfied: cinemagoer in /home/khasija/.pyenv/versions/3.8.12/envs/lewagon/lib/python3.8/site-packages (2022.2.11)\n",
      "Requirement already satisfied: SQLAlchemy in /home/khasija/.pyenv/versions/3.8.12/envs/lewagon/lib/python3.8/site-packages (from cinemagoer) (1.4.29)\n",
      "Requirement already satisfied: lxml in /home/khasija/.pyenv/versions/3.8.12/envs/lewagon/lib/python3.8/site-packages (from cinemagoer) (4.7.1)\n",
      "Requirement already satisfied: greenlet!=0.4.17 in /home/khasija/.pyenv/versions/3.8.12/envs/lewagon/lib/python3.8/site-packages (from SQLAlchemy->cinemagoer) (1.1.2)\n"
     ]
    }
   ],
   "source": [
    "!pip install cinemagoer"
   ]
  },
  {
   "cell_type": "code",
   "execution_count": 127,
   "id": "918a43e1",
   "metadata": {},
   "outputs": [],
   "source": [
    "\n",
    "import json\n",
    "import imdb\n",
    "import requests\n",
    "import pandas as pd\n",
    "# creating an instance of the IMDB()\n",
    "\n",
    "# importing the module\n",
    "def create_test_data(movie_name):\n",
    "    # searching the name\n",
    "    ia = imdb.Cinemagoer()\n",
    "    search = ia.search_movie_advanced(movie_name)\n",
    "    \n",
    "    # getting the id\n",
    "    imdb_id = search[0].movieID\n",
    "    url = f'https://api.themoviedb.org/3/find/tt{imdb_id}?api_key=279ec8b5e677bfd655c30c6403e14469&external_source=imdb_id'            \n",
    "    response = requests.get(url)    \n",
    "    info = response.json()\n",
    "    movie_id = info['movie_results'][0]['id']\n",
    "\n",
    "    df = {}\n",
    "    url = f'https://api.themoviedb.org/3/movie/{movie_id}?api_key=279ec8b5e677bfd655c30c6403e14469'           \n",
    "    response = requests.get(url)\n",
    "    df['budget'] = int(json.dumps(response.json()['budget']))\n",
    "    df['release_date'] = response.json()['release_date']\n",
    "    df['production_companies'] = response.json()['production_companies'][0]['name']\n",
    "    df['production_companies_number'] = len(response.json()['production_companies'])\n",
    "    df['production_countries_number'] = len(response.json()['production_countries'])\n",
    "    df['runtime'] = response.json()['runtime']\n",
    "    df['production_countries'] = response.json()['production_countries'][0]['name']\n",
    "    genres = response.json()['genres']\n",
    "    genre_list = []\n",
    "    for i in range(len(genres)):\n",
    "        genre_list.append(genres[i]['name'])\n",
    "    genre_list = \"|\".join(genre_list)\n",
    "    df['genres'] = genre_list\n",
    "    df['popularity'] = response.json()['popularity']\n",
    "    df['vote_average'] = float(response.json()['vote_average'])\n",
    "    df['vote_count'] = int(response.json()['vote_count'])\n",
    "    df['belongs_to_collection'] = response.json()['belongs_to_collection']\n",
    "    \n",
    "    \n",
    "    url = f'https://api.themoviedb.org/3/movie/{movie_id}/credits?api_key=279ec8b5e677bfd655c30c6403e14469'           \n",
    "\n",
    "            # get the response\n",
    "    response = requests.get(url)\n",
    "    director_names = []\n",
    "    producer_names = []\n",
    "    director_number = 0\n",
    "    producer_number = 0\n",
    "    actor_number = 0\n",
    "    for i in range(len(response.json()['cast'])):\n",
    "        if response.json()['cast'][i]['known_for_department'].lower() == 'acting':\n",
    "            actor_number+=1\n",
    "    for i in range(len(response.json()['crew'])):\n",
    "        if response.json()['crew'][i]['job'].lower() == 'director':\n",
    "            director_number+=1\n",
    "            director_names.append(response.json()['crew'][i]['name'])\n",
    "        if response.json()['crew'][i]['job'].lower() == 'producer':\n",
    "            producer_number+=1\n",
    "            producer_names.append(response.json()['crew'][i]['name'])\n",
    "    df['director_name'] = director_names[0]\n",
    "    df['producer_name'] = producer_names[0]\n",
    "    df['director_number'] = director_number\n",
    "    df['producer_number'] = producer_number\n",
    "    df['actor_number'] = actor_number\n",
    "    return df\n",
    "    \n",
    "    \n",
    "    \n",
    "    \n",
    "    "
   ]
  },
  {
   "cell_type": "code",
   "execution_count": 128,
   "id": "9f4dcd80",
   "metadata": {},
   "outputs": [
    {
     "data": {
      "text/plain": [
       "{'budget': 9000000,\n",
       " 'release_date': '2009-12-23',\n",
       " 'production_companies': 'Vidhu Vinod Chopra Productions',\n",
       " 'production_companies_number': 2,\n",
       " 'production_countries_number': 1,\n",
       " 'runtime': 170,\n",
       " 'production_countries': 'India',\n",
       " 'genres': 'Drama|Comedy',\n",
       " 'popularity': 25.882,\n",
       " 'vote_average': 7.969,\n",
       " 'vote_count': 1949,\n",
       " 'belongs_to_collection': None,\n",
       " 'director_name': 'Rajkumar Hirani',\n",
       " 'producer_name': 'Vidhu Vinod Chopra',\n",
       " 'director_number': 1,\n",
       " 'producer_number': 1,\n",
       " 'actor_number': 22}"
      ]
     },
     "execution_count": 128,
     "metadata": {},
     "output_type": "execute_result"
    }
   ],
   "source": [
    "df = create_test_data('3 idiots')\n",
    "df"
   ]
  },
  {
   "cell_type": "code",
   "execution_count": null,
   "id": "15a02f57",
   "metadata": {},
   "outputs": [],
   "source": []
  }
 ],
 "metadata": {
  "kernelspec": {
   "display_name": "Python 3 (ipykernel)",
   "language": "python",
   "name": "python3"
  },
  "language_info": {
   "codemirror_mode": {
    "name": "ipython",
    "version": 3
   },
   "file_extension": ".py",
   "mimetype": "text/x-python",
   "name": "python",
   "nbconvert_exporter": "python",
   "pygments_lexer": "ipython3",
   "version": "3.8.12"
  },
  "toc": {
   "base_numbering": 1,
   "nav_menu": {},
   "number_sections": true,
   "sideBar": true,
   "skip_h1_title": false,
   "title_cell": "Table of Contents",
   "title_sidebar": "Contents",
   "toc_cell": false,
   "toc_position": {},
   "toc_section_display": true,
   "toc_window_display": false
  }
 },
 "nbformat": 4,
 "nbformat_minor": 5
}
