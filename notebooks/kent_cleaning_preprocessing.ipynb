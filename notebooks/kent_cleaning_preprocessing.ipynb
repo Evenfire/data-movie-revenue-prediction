{
 "cells": [
  {
   "cell_type": "code",
   "execution_count": 101,
   "id": "5bc9c87e",
   "metadata": {},
   "outputs": [],
   "source": [
    "import pandas as pd\n",
    "import os\n",
    "import matplotlib.pyplot as plt\n",
    "import seaborn as sns"
   ]
  },
  {
   "cell_type": "markdown",
   "id": "6659e1e1",
   "metadata": {},
   "source": [
    "## Loading data - Movies Details Cleaned"
   ]
  },
  {
   "cell_type": "code",
   "execution_count": 102,
   "id": "6882671c",
   "metadata": {},
   "outputs": [
    {
     "name": "stderr",
     "output_type": "stream",
     "text": [
      "/tmp/ipykernel_5142/122894487.py:1: DtypeWarning: Columns (7) have mixed types. Specify dtype option on import or set low_memory=False.\n",
      "  df_raw = pd.read_csv(\"data/AllMoviesDetailsCleaned.csv\", delimiter=';')\n"
     ]
    }
   ],
   "source": [
    "df_raw = pd.read_csv(\"data/AllMoviesDetailsCleaned.csv\", delimiter=';')"
   ]
  },
  {
   "cell_type": "code",
   "execution_count": 104,
   "id": "4bc7d112",
   "metadata": {
    "scrolled": true
   },
   "outputs": [
    {
     "data": {
      "text/html": [
       "<div>\n",
       "<style scoped>\n",
       "    .dataframe tbody tr th:only-of-type {\n",
       "        vertical-align: middle;\n",
       "    }\n",
       "\n",
       "    .dataframe tbody tr th {\n",
       "        vertical-align: top;\n",
       "    }\n",
       "\n",
       "    .dataframe thead th {\n",
       "        text-align: right;\n",
       "    }\n",
       "</style>\n",
       "<table border=\"1\" class=\"dataframe\">\n",
       "  <thead>\n",
       "    <tr style=\"text-align: right;\">\n",
       "      <th></th>\n",
       "      <th>id</th>\n",
       "      <th>budget</th>\n",
       "      <th>genres</th>\n",
       "      <th>imdb_id</th>\n",
       "      <th>original_language</th>\n",
       "      <th>original_title</th>\n",
       "      <th>overview</th>\n",
       "      <th>popularity</th>\n",
       "      <th>production_companies</th>\n",
       "      <th>production_countries</th>\n",
       "      <th>...</th>\n",
       "      <th>runtime</th>\n",
       "      <th>spoken_languages</th>\n",
       "      <th>status</th>\n",
       "      <th>tagline</th>\n",
       "      <th>title</th>\n",
       "      <th>vote_average</th>\n",
       "      <th>vote_count</th>\n",
       "      <th>production_companies_number</th>\n",
       "      <th>production_countries_number</th>\n",
       "      <th>spoken_languages_number</th>\n",
       "    </tr>\n",
       "  </thead>\n",
       "  <tbody>\n",
       "    <tr>\n",
       "      <th>0</th>\n",
       "      <td>2</td>\n",
       "      <td>0</td>\n",
       "      <td>Drama|Crime</td>\n",
       "      <td>tt0094675</td>\n",
       "      <td>fi</td>\n",
       "      <td>Ariel</td>\n",
       "      <td>Taisto Kasurinen is a Finnish coal miner whose...</td>\n",
       "      <td>0.823904</td>\n",
       "      <td>Villealfa Filmproduction Oy</td>\n",
       "      <td>Finland</td>\n",
       "      <td>...</td>\n",
       "      <td>69.0</td>\n",
       "      <td>suomi</td>\n",
       "      <td>Released</td>\n",
       "      <td>NaN</td>\n",
       "      <td>Ariel</td>\n",
       "      <td>7.1</td>\n",
       "      <td>40</td>\n",
       "      <td>2</td>\n",
       "      <td>1</td>\n",
       "      <td>2</td>\n",
       "    </tr>\n",
       "    <tr>\n",
       "      <th>1</th>\n",
       "      <td>3</td>\n",
       "      <td>0</td>\n",
       "      <td>Drama|Comedy</td>\n",
       "      <td>tt0092149</td>\n",
       "      <td>fi</td>\n",
       "      <td>Varjoja paratiisissa</td>\n",
       "      <td>An episode in the life of Nikander, a garbage ...</td>\n",
       "      <td>0.47445</td>\n",
       "      <td>Villealfa Filmproduction Oy</td>\n",
       "      <td>Finland</td>\n",
       "      <td>...</td>\n",
       "      <td>76.0</td>\n",
       "      <td>English</td>\n",
       "      <td>Released</td>\n",
       "      <td>NaN</td>\n",
       "      <td>Shadows in Paradise</td>\n",
       "      <td>7.0</td>\n",
       "      <td>32</td>\n",
       "      <td>1</td>\n",
       "      <td>1</td>\n",
       "      <td>3</td>\n",
       "    </tr>\n",
       "    <tr>\n",
       "      <th>2</th>\n",
       "      <td>5</td>\n",
       "      <td>4000000</td>\n",
       "      <td>Crime|Comedy</td>\n",
       "      <td>tt0113101</td>\n",
       "      <td>en</td>\n",
       "      <td>Four Rooms</td>\n",
       "      <td>It's Ted the Bellhop's first night on the job....</td>\n",
       "      <td>1.698</td>\n",
       "      <td>Miramax Films</td>\n",
       "      <td>United States of America</td>\n",
       "      <td>...</td>\n",
       "      <td>98.0</td>\n",
       "      <td>English</td>\n",
       "      <td>Released</td>\n",
       "      <td>Twelve outrageous guests. Four scandalous requ...</td>\n",
       "      <td>Four Rooms</td>\n",
       "      <td>6.5</td>\n",
       "      <td>485</td>\n",
       "      <td>2</td>\n",
       "      <td>1</td>\n",
       "      <td>1</td>\n",
       "    </tr>\n",
       "    <tr>\n",
       "      <th>3</th>\n",
       "      <td>6</td>\n",
       "      <td>0</td>\n",
       "      <td>Action|Thriller|Crime</td>\n",
       "      <td>tt0107286</td>\n",
       "      <td>en</td>\n",
       "      <td>Judgment Night</td>\n",
       "      <td>While racing to a boxing match, Frank, Mike, J...</td>\n",
       "      <td>1.32287</td>\n",
       "      <td>Universal Pictures</td>\n",
       "      <td>Japan</td>\n",
       "      <td>...</td>\n",
       "      <td>110.0</td>\n",
       "      <td>English</td>\n",
       "      <td>Released</td>\n",
       "      <td>Don't move. Don't whisper. Don't even breathe.</td>\n",
       "      <td>Judgment Night</td>\n",
       "      <td>6.5</td>\n",
       "      <td>69</td>\n",
       "      <td>3</td>\n",
       "      <td>2</td>\n",
       "      <td>1</td>\n",
       "    </tr>\n",
       "    <tr>\n",
       "      <th>4</th>\n",
       "      <td>8</td>\n",
       "      <td>42000</td>\n",
       "      <td>Documentary</td>\n",
       "      <td>tt0825671</td>\n",
       "      <td>en</td>\n",
       "      <td>Life in Loops (A Megacities RMX)</td>\n",
       "      <td>Timo Novotny labels his new project an experim...</td>\n",
       "      <td>0.054716</td>\n",
       "      <td>inLoops</td>\n",
       "      <td>Austria</td>\n",
       "      <td>...</td>\n",
       "      <td>80.0</td>\n",
       "      <td>English</td>\n",
       "      <td>Released</td>\n",
       "      <td>A Megacities remix.</td>\n",
       "      <td>Life in Loops (A Megacities RMX)</td>\n",
       "      <td>6.4</td>\n",
       "      <td>4</td>\n",
       "      <td>1</td>\n",
       "      <td>1</td>\n",
       "      <td>5</td>\n",
       "    </tr>\n",
       "  </tbody>\n",
       "</table>\n",
       "<p>5 rows × 22 columns</p>\n",
       "</div>"
      ],
      "text/plain": [
       "   id   budget                 genres    imdb_id original_language  \\\n",
       "0   2        0            Drama|Crime  tt0094675                fi   \n",
       "1   3        0           Drama|Comedy  tt0092149                fi   \n",
       "2   5  4000000           Crime|Comedy  tt0113101                en   \n",
       "3   6        0  Action|Thriller|Crime  tt0107286                en   \n",
       "4   8    42000            Documentary  tt0825671                en   \n",
       "\n",
       "                     original_title  \\\n",
       "0                             Ariel   \n",
       "1              Varjoja paratiisissa   \n",
       "2                        Four Rooms   \n",
       "3                    Judgment Night   \n",
       "4  Life in Loops (A Megacities RMX)   \n",
       "\n",
       "                                            overview popularity  \\\n",
       "0  Taisto Kasurinen is a Finnish coal miner whose...   0.823904   \n",
       "1  An episode in the life of Nikander, a garbage ...    0.47445   \n",
       "2  It's Ted the Bellhop's first night on the job....      1.698   \n",
       "3  While racing to a boxing match, Frank, Mike, J...    1.32287   \n",
       "4  Timo Novotny labels his new project an experim...   0.054716   \n",
       "\n",
       "          production_companies      production_countries  ... runtime  \\\n",
       "0  Villealfa Filmproduction Oy                   Finland  ...    69.0   \n",
       "1  Villealfa Filmproduction Oy                   Finland  ...    76.0   \n",
       "2                Miramax Films  United States of America  ...    98.0   \n",
       "3           Universal Pictures                     Japan  ...   110.0   \n",
       "4                      inLoops                   Austria  ...    80.0   \n",
       "\n",
       "   spoken_languages    status  \\\n",
       "0             suomi  Released   \n",
       "1           English  Released   \n",
       "2           English  Released   \n",
       "3           English  Released   \n",
       "4           English  Released   \n",
       "\n",
       "                                             tagline  \\\n",
       "0                                                NaN   \n",
       "1                                                NaN   \n",
       "2  Twelve outrageous guests. Four scandalous requ...   \n",
       "3     Don't move. Don't whisper. Don't even breathe.   \n",
       "4                                A Megacities remix.   \n",
       "\n",
       "                              title vote_average vote_count  \\\n",
       "0                             Ariel          7.1         40   \n",
       "1               Shadows in Paradise          7.0         32   \n",
       "2                        Four Rooms          6.5        485   \n",
       "3                    Judgment Night          6.5         69   \n",
       "4  Life in Loops (A Megacities RMX)          6.4          4   \n",
       "\n",
       "   production_companies_number  production_countries_number  \\\n",
       "0                            2                            1   \n",
       "1                            1                            1   \n",
       "2                            2                            1   \n",
       "3                            3                            2   \n",
       "4                            1                            1   \n",
       "\n",
       "   spoken_languages_number  \n",
       "0                        2  \n",
       "1                        3  \n",
       "2                        1  \n",
       "3                        1  \n",
       "4                        5  \n",
       "\n",
       "[5 rows x 22 columns]"
      ]
     },
     "execution_count": 104,
     "metadata": {},
     "output_type": "execute_result"
    }
   ],
   "source": [
    "df = df_raw.copy()\n",
    "df.head()"
   ]
  },
  {
   "cell_type": "code",
   "execution_count": 105,
   "id": "182c25f6",
   "metadata": {},
   "outputs": [
    {
     "name": "stdout",
     "output_type": "stream",
     "text": [
      "<class 'pandas.core.frame.DataFrame'>\n",
      "RangeIndex: 329044 entries, 0 to 329043\n",
      "Data columns (total 22 columns):\n",
      " #   Column                       Non-Null Count   Dtype  \n",
      "---  ------                       --------------   -----  \n",
      " 0   id                           329044 non-null  int64  \n",
      " 1   budget                       329044 non-null  int64  \n",
      " 2   genres                       207515 non-null  object \n",
      " 3   imdb_id                      250564 non-null  object \n",
      " 4   original_language            328841 non-null  object \n",
      " 5   original_title               329043 non-null  object \n",
      " 6   overview                     278060 non-null  object \n",
      " 7   popularity                   329044 non-null  object \n",
      " 8   production_companies         329044 non-null  object \n",
      " 9   production_countries         329044 non-null  object \n",
      " 10  release_date                 304998 non-null  object \n",
      " 11  revenue                      329044 non-null  int64  \n",
      " 12  runtime                      292252 non-null  float64\n",
      " 13  spoken_languages             324584 non-null  object \n",
      " 14  status                       327056 non-null  object \n",
      " 15  tagline                      52931 non-null   object \n",
      " 16  title                        329043 non-null  object \n",
      " 17  vote_average                 329044 non-null  float64\n",
      " 18  vote_count                   329044 non-null  int64  \n",
      " 19  production_companies_number  329044 non-null  int64  \n",
      " 20  production_countries_number  329044 non-null  int64  \n",
      " 21  spoken_languages_number      329044 non-null  int64  \n",
      "dtypes: float64(2), int64(7), object(13)\n",
      "memory usage: 55.2+ MB\n"
     ]
    }
   ],
   "source": [
    "df.info()"
   ]
  },
  {
   "cell_type": "markdown",
   "id": "ad0838f5",
   "metadata": {},
   "source": [
    "## Loading data - Belongs to Collection"
   ]
  },
  {
   "cell_type": "code",
   "execution_count": 106,
   "id": "3971db4b",
   "metadata": {
    "scrolled": true
   },
   "outputs": [],
   "source": [
    "df_col_raw = pd.read_csv(\"data/movies_metadata.csv\")"
   ]
  },
  {
   "cell_type": "code",
   "execution_count": 107,
   "id": "8ad24a49",
   "metadata": {
    "scrolled": true
   },
   "outputs": [
    {
     "name": "stdout",
     "output_type": "stream",
     "text": [
      "<class 'pandas.core.frame.DataFrame'>\n",
      "RangeIndex: 45463 entries, 0 to 45462\n",
      "Data columns (total 24 columns):\n",
      " #   Column                 Non-Null Count  Dtype  \n",
      "---  ------                 --------------  -----  \n",
      " 0   adult                  45463 non-null  bool   \n",
      " 1   belongs_to_collection  4491 non-null   object \n",
      " 2   budget                 45463 non-null  int64  \n",
      " 3   genres                 45463 non-null  object \n",
      " 4   homepage               7779 non-null   object \n",
      " 5   id                     45463 non-null  int64  \n",
      " 6   imdb_id                45446 non-null  object \n",
      " 7   original_language      45452 non-null  object \n",
      " 8   original_title         45463 non-null  object \n",
      " 9   overview               44509 non-null  object \n",
      " 10  popularity             45460 non-null  float64\n",
      " 11  poster_path            45077 non-null  object \n",
      " 12  production_companies   45460 non-null  object \n",
      " 13  production_countries   45460 non-null  object \n",
      " 14  release_date           45376 non-null  object \n",
      " 15  revenue                45460 non-null  float64\n",
      " 16  runtime                45203 non-null  float64\n",
      " 17  spoken_languages       45460 non-null  object \n",
      " 18  status                 45379 non-null  object \n",
      " 19  tagline                20412 non-null  object \n",
      " 20  title                  45460 non-null  object \n",
      " 21  video                  45460 non-null  object \n",
      " 22  vote_average           45460 non-null  float64\n",
      " 23  vote_count             45460 non-null  float64\n",
      "dtypes: bool(1), float64(5), int64(2), object(16)\n",
      "memory usage: 8.0+ MB\n"
     ]
    }
   ],
   "source": [
    "df_col = df_col_raw.copy()\n",
    "df_col.info()"
   ]
  },
  {
   "cell_type": "code",
   "execution_count": 108,
   "id": "fd74af00",
   "metadata": {},
   "outputs": [
    {
     "name": "stdout",
     "output_type": "stream",
     "text": [
      "<class 'pandas.core.frame.DataFrame'>\n",
      "RangeIndex: 45463 entries, 0 to 45462\n",
      "Data columns (total 24 columns):\n",
      " #   Column                 Non-Null Count  Dtype  \n",
      "---  ------                 --------------  -----  \n",
      " 0   adult                  45463 non-null  bool   \n",
      " 1   belongs_to_collection  4491 non-null   object \n",
      " 2   budget                 45463 non-null  int64  \n",
      " 3   genres                 45463 non-null  object \n",
      " 4   homepage               7779 non-null   object \n",
      " 5   id                     45463 non-null  int64  \n",
      " 6   imdb_id                45446 non-null  object \n",
      " 7   original_language      45452 non-null  object \n",
      " 8   original_title         45463 non-null  object \n",
      " 9   overview               44509 non-null  object \n",
      " 10  popularity             45460 non-null  float64\n",
      " 11  poster_path            45077 non-null  object \n",
      " 12  production_companies   45460 non-null  object \n",
      " 13  production_countries   45460 non-null  object \n",
      " 14  release_date           45376 non-null  object \n",
      " 15  revenue                45460 non-null  float64\n",
      " 16  runtime                45203 non-null  float64\n",
      " 17  spoken_languages       45460 non-null  object \n",
      " 18  status                 45379 non-null  object \n",
      " 19  tagline                20412 non-null  object \n",
      " 20  title                  45460 non-null  object \n",
      " 21  video                  45460 non-null  object \n",
      " 22  vote_average           45460 non-null  float64\n",
      " 23  vote_count             45460 non-null  float64\n",
      "dtypes: bool(1), float64(5), int64(2), object(16)\n",
      "memory usage: 8.0+ MB\n"
     ]
    }
   ],
   "source": [
    "df_col.info()"
   ]
  },
  {
   "cell_type": "markdown",
   "id": "32f05807",
   "metadata": {},
   "source": [
    "## Merging the movie cleaned and belongs to collection"
   ]
  },
  {
   "cell_type": "code",
   "execution_count": 109,
   "id": "819f1c48",
   "metadata": {
    "scrolled": true
   },
   "outputs": [
    {
     "data": {
      "text/html": [
       "<div>\n",
       "<style scoped>\n",
       "    .dataframe tbody tr th:only-of-type {\n",
       "        vertical-align: middle;\n",
       "    }\n",
       "\n",
       "    .dataframe tbody tr th {\n",
       "        vertical-align: top;\n",
       "    }\n",
       "\n",
       "    .dataframe thead th {\n",
       "        text-align: right;\n",
       "    }\n",
       "</style>\n",
       "<table border=\"1\" class=\"dataframe\">\n",
       "  <thead>\n",
       "    <tr style=\"text-align: right;\">\n",
       "      <th></th>\n",
       "      <th>id</th>\n",
       "      <th>belongs_to_collection</th>\n",
       "    </tr>\n",
       "  </thead>\n",
       "  <tbody>\n",
       "    <tr>\n",
       "      <th>0</th>\n",
       "      <td>862</td>\n",
       "      <td>{'id': 10194, 'name': 'Toy Story Collection', ...</td>\n",
       "    </tr>\n",
       "    <tr>\n",
       "      <th>1</th>\n",
       "      <td>8844</td>\n",
       "      <td>NaN</td>\n",
       "    </tr>\n",
       "    <tr>\n",
       "      <th>2</th>\n",
       "      <td>15602</td>\n",
       "      <td>{'id': 119050, 'name': 'Grumpy Old Men Collect...</td>\n",
       "    </tr>\n",
       "    <tr>\n",
       "      <th>3</th>\n",
       "      <td>31357</td>\n",
       "      <td>NaN</td>\n",
       "    </tr>\n",
       "    <tr>\n",
       "      <th>4</th>\n",
       "      <td>11862</td>\n",
       "      <td>{'id': 96871, 'name': 'Father of the Bride Col...</td>\n",
       "    </tr>\n",
       "    <tr>\n",
       "      <th>...</th>\n",
       "      <td>...</td>\n",
       "      <td>...</td>\n",
       "    </tr>\n",
       "    <tr>\n",
       "      <th>45458</th>\n",
       "      <td>439050</td>\n",
       "      <td>NaN</td>\n",
       "    </tr>\n",
       "    <tr>\n",
       "      <th>45459</th>\n",
       "      <td>111109</td>\n",
       "      <td>NaN</td>\n",
       "    </tr>\n",
       "    <tr>\n",
       "      <th>45460</th>\n",
       "      <td>67758</td>\n",
       "      <td>NaN</td>\n",
       "    </tr>\n",
       "    <tr>\n",
       "      <th>45461</th>\n",
       "      <td>227506</td>\n",
       "      <td>NaN</td>\n",
       "    </tr>\n",
       "    <tr>\n",
       "      <th>45462</th>\n",
       "      <td>461257</td>\n",
       "      <td>NaN</td>\n",
       "    </tr>\n",
       "  </tbody>\n",
       "</table>\n",
       "<p>45463 rows × 2 columns</p>\n",
       "</div>"
      ],
      "text/plain": [
       "           id                              belongs_to_collection\n",
       "0         862  {'id': 10194, 'name': 'Toy Story Collection', ...\n",
       "1        8844                                                NaN\n",
       "2       15602  {'id': 119050, 'name': 'Grumpy Old Men Collect...\n",
       "3       31357                                                NaN\n",
       "4       11862  {'id': 96871, 'name': 'Father of the Bride Col...\n",
       "...       ...                                                ...\n",
       "45458  439050                                                NaN\n",
       "45459  111109                                                NaN\n",
       "45460   67758                                                NaN\n",
       "45461  227506                                                NaN\n",
       "45462  461257                                                NaN\n",
       "\n",
       "[45463 rows x 2 columns]"
      ]
     },
     "execution_count": 109,
     "metadata": {},
     "output_type": "execute_result"
    }
   ],
   "source": [
    "df_col_filter = df_col[['id', 'belongs_to_collection']]\n",
    "df_col_filter"
   ]
  },
  {
   "cell_type": "code",
   "execution_count": 110,
   "id": "d1fde253",
   "metadata": {},
   "outputs": [
    {
     "data": {
      "text/plain": [
       "(329044, 22)"
      ]
     },
     "execution_count": 110,
     "metadata": {},
     "output_type": "execute_result"
    }
   ],
   "source": [
    "df.shape"
   ]
  },
  {
   "cell_type": "code",
   "execution_count": 111,
   "id": "310d6e7d",
   "metadata": {},
   "outputs": [
    {
     "name": "stderr",
     "output_type": "stream",
     "text": [
      "/tmp/ipykernel_5142/1809697786.py:1: SettingWithCopyWarning: \n",
      "A value is trying to be set on a copy of a slice from a DataFrame\n",
      "\n",
      "See the caveats in the documentation: https://pandas.pydata.org/pandas-docs/stable/user_guide/indexing.html#returning-a-view-versus-a-copy\n",
      "  df_col_filter.drop_duplicates(inplace = True)\n"
     ]
    }
   ],
   "source": [
    "df_col_filter.drop_duplicates(inplace = True)"
   ]
  },
  {
   "cell_type": "code",
   "execution_count": 113,
   "id": "60af736e",
   "metadata": {},
   "outputs": [],
   "source": [
    "df_merge = df.merge(df_col_filter, how = 'left', on = 'id')"
   ]
  },
  {
   "cell_type": "code",
   "execution_count": 115,
   "id": "ce517922",
   "metadata": {},
   "outputs": [
    {
     "data": {
      "text/plain": [
       "(329044, 23)"
      ]
     },
     "execution_count": 115,
     "metadata": {},
     "output_type": "execute_result"
    }
   ],
   "source": [
    "df_merge.shape"
   ]
  },
  {
   "cell_type": "code",
   "execution_count": 116,
   "id": "27b40c1a",
   "metadata": {
    "scrolled": true
   },
   "outputs": [],
   "source": [
    "df_merge.to_csv(\"AllMoviesDetailsCleaned_merge_metadata.csv\",index=False)"
   ]
  },
  {
   "cell_type": "markdown",
   "id": "4ac5b7e9",
   "metadata": {},
   "source": [
    "## Loading data - MovieCastingRaw"
   ]
  },
  {
   "cell_type": "code",
   "execution_count": null,
   "id": "f4913eb7",
   "metadata": {},
   "outputs": [],
   "source": [
    "df_cast_raw = pd.read_csv(\"data/AllMoviesCastingRaw.csv\", delimiter=';')"
   ]
  },
  {
   "cell_type": "code",
   "execution_count": null,
   "id": "0832360f",
   "metadata": {},
   "outputs": [],
   "source": [
    "df_cast = df_cast_raw.copy()\n",
    "df_cast"
   ]
  },
  {
   "cell_type": "code",
   "execution_count": null,
   "id": "80396543",
   "metadata": {},
   "outputs": [],
   "source": [
    "df.info()"
   ]
  },
  {
   "cell_type": "code",
   "execution_count": null,
   "id": "5ab4270b",
   "metadata": {},
   "outputs": [],
   "source": [
    "df.head()"
   ]
  },
  {
   "cell_type": "code",
   "execution_count": null,
   "id": "ad19ef8b",
   "metadata": {},
   "outputs": [],
   "source": [
    "df.info()"
   ]
  },
  {
   "cell_type": "markdown",
   "id": "96a0bc7c",
   "metadata": {},
   "source": [
    "## Extracting collection from dictionary"
   ]
  },
  {
   "cell_type": "code",
   "execution_count": 151,
   "id": "a4d3b7e7",
   "metadata": {},
   "outputs": [
    {
     "data": {
      "text/html": [
       "<div>\n",
       "<style scoped>\n",
       "    .dataframe tbody tr th:only-of-type {\n",
       "        vertical-align: middle;\n",
       "    }\n",
       "\n",
       "    .dataframe tbody tr th {\n",
       "        vertical-align: top;\n",
       "    }\n",
       "\n",
       "    .dataframe thead th {\n",
       "        text-align: right;\n",
       "    }\n",
       "</style>\n",
       "<table border=\"1\" class=\"dataframe\">\n",
       "  <thead>\n",
       "    <tr style=\"text-align: right;\">\n",
       "      <th></th>\n",
       "      <th>belongs_to_collection</th>\n",
       "    </tr>\n",
       "  </thead>\n",
       "  <tbody>\n",
       "    <tr>\n",
       "      <th>0</th>\n",
       "      <td>{'id': 10194, 'name': 'Toy Story Collection', ...</td>\n",
       "    </tr>\n",
       "    <tr>\n",
       "      <th>1</th>\n",
       "      <td>nan</td>\n",
       "    </tr>\n",
       "    <tr>\n",
       "      <th>2</th>\n",
       "      <td>{'id': 119050, 'name': 'Grumpy Old Men Collect...</td>\n",
       "    </tr>\n",
       "    <tr>\n",
       "      <th>3</th>\n",
       "      <td>nan</td>\n",
       "    </tr>\n",
       "    <tr>\n",
       "      <th>4</th>\n",
       "      <td>{'id': 96871, 'name': 'Father of the Bride Col...</td>\n",
       "    </tr>\n",
       "    <tr>\n",
       "      <th>...</th>\n",
       "      <td>...</td>\n",
       "    </tr>\n",
       "    <tr>\n",
       "      <th>45458</th>\n",
       "      <td>nan</td>\n",
       "    </tr>\n",
       "    <tr>\n",
       "      <th>45459</th>\n",
       "      <td>nan</td>\n",
       "    </tr>\n",
       "    <tr>\n",
       "      <th>45460</th>\n",
       "      <td>nan</td>\n",
       "    </tr>\n",
       "    <tr>\n",
       "      <th>45461</th>\n",
       "      <td>nan</td>\n",
       "    </tr>\n",
       "    <tr>\n",
       "      <th>45462</th>\n",
       "      <td>nan</td>\n",
       "    </tr>\n",
       "  </tbody>\n",
       "</table>\n",
       "<p>45433 rows × 1 columns</p>\n",
       "</div>"
      ],
      "text/plain": [
       "                                   belongs_to_collection\n",
       "0      {'id': 10194, 'name': 'Toy Story Collection', ...\n",
       "1                                                    nan\n",
       "2      {'id': 119050, 'name': 'Grumpy Old Men Collect...\n",
       "3                                                    nan\n",
       "4      {'id': 96871, 'name': 'Father of the Bride Col...\n",
       "...                                                  ...\n",
       "45458                                                nan\n",
       "45459                                                nan\n",
       "45460                                                nan\n",
       "45461                                                nan\n",
       "45462                                                nan\n",
       "\n",
       "[45433 rows x 1 columns]"
      ]
     },
     "execution_count": 151,
     "metadata": {},
     "output_type": "execute_result"
    }
   ],
   "source": [
    "df_col_test = df_col_filter[['belongs_to_collection']].astype('str')\n",
    "df_col_test"
   ]
  },
  {
   "cell_type": "code",
   "execution_count": 152,
   "id": "144aa469",
   "metadata": {},
   "outputs": [
    {
     "data": {
      "text/plain": [
       "belongs_to_collection    0\n",
       "dtype: int64"
      ]
     },
     "execution_count": 152,
     "metadata": {},
     "output_type": "execute_result"
    }
   ],
   "source": [
    "df_col_test.isnull().sum()"
   ]
  },
  {
   "cell_type": "code",
   "execution_count": 155,
   "id": "8ed297e4",
   "metadata": {},
   "outputs": [
    {
     "data": {
      "text/html": [
       "<div>\n",
       "<style scoped>\n",
       "    .dataframe tbody tr th:only-of-type {\n",
       "        vertical-align: middle;\n",
       "    }\n",
       "\n",
       "    .dataframe tbody tr th {\n",
       "        vertical-align: top;\n",
       "    }\n",
       "\n",
       "    .dataframe thead th {\n",
       "        text-align: right;\n",
       "    }\n",
       "</style>\n",
       "<table border=\"1\" class=\"dataframe\">\n",
       "  <thead>\n",
       "    <tr style=\"text-align: right;\">\n",
       "      <th></th>\n",
       "      <th>belongs_to_collection</th>\n",
       "    </tr>\n",
       "  </thead>\n",
       "  <tbody>\n",
       "    <tr>\n",
       "      <th>0</th>\n",
       "      <td>{'id': 10194, 'name': 'Toy Story Collection', ...</td>\n",
       "    </tr>\n",
       "    <tr>\n",
       "      <th>2</th>\n",
       "      <td>{'id': 119050, 'name': 'Grumpy Old Men Collect...</td>\n",
       "    </tr>\n",
       "    <tr>\n",
       "      <th>4</th>\n",
       "      <td>{'id': 96871, 'name': 'Father of the Bride Col...</td>\n",
       "    </tr>\n",
       "    <tr>\n",
       "      <th>9</th>\n",
       "      <td>{'id': 645, 'name': 'James Bond Collection', '...</td>\n",
       "    </tr>\n",
       "    <tr>\n",
       "      <th>12</th>\n",
       "      <td>{'id': 117693, 'name': 'Balto Collection', 'po...</td>\n",
       "    </tr>\n",
       "    <tr>\n",
       "      <th>...</th>\n",
       "      <td>...</td>\n",
       "    </tr>\n",
       "    <tr>\n",
       "      <th>45352</th>\n",
       "      <td>{'id': 37261, 'name': 'The Carry On Collection...</td>\n",
       "    </tr>\n",
       "    <tr>\n",
       "      <th>45355</th>\n",
       "      <td>{'id': 37261, 'name': 'The Carry On Collection...</td>\n",
       "    </tr>\n",
       "    <tr>\n",
       "      <th>45366</th>\n",
       "      <td>{'id': 37261, 'name': 'The Carry On Collection...</td>\n",
       "    </tr>\n",
       "    <tr>\n",
       "      <th>45368</th>\n",
       "      <td>{'id': 477208, 'name': 'DC Super Hero Girls Co...</td>\n",
       "    </tr>\n",
       "    <tr>\n",
       "      <th>45379</th>\n",
       "      <td>{'id': 200641, 'name': 'Red Lotus Collection',...</td>\n",
       "    </tr>\n",
       "  </tbody>\n",
       "</table>\n",
       "<p>4481 rows × 1 columns</p>\n",
       "</div>"
      ],
      "text/plain": [
       "                                   belongs_to_collection\n",
       "0      {'id': 10194, 'name': 'Toy Story Collection', ...\n",
       "2      {'id': 119050, 'name': 'Grumpy Old Men Collect...\n",
       "4      {'id': 96871, 'name': 'Father of the Bride Col...\n",
       "9      {'id': 645, 'name': 'James Bond Collection', '...\n",
       "12     {'id': 117693, 'name': 'Balto Collection', 'po...\n",
       "...                                                  ...\n",
       "45352  {'id': 37261, 'name': 'The Carry On Collection...\n",
       "45355  {'id': 37261, 'name': 'The Carry On Collection...\n",
       "45366  {'id': 37261, 'name': 'The Carry On Collection...\n",
       "45368  {'id': 477208, 'name': 'DC Super Hero Girls Co...\n",
       "45379  {'id': 200641, 'name': 'Red Lotus Collection',...\n",
       "\n",
       "[4481 rows x 1 columns]"
      ]
     },
     "execution_count": 155,
     "metadata": {},
     "output_type": "execute_result"
    }
   ],
   "source": [
    "df_col_test = df_col_test[df_col_test[\"belongs_to_collection\"].str.contains(\"nan\") == False]\n",
    "df_col_test"
   ]
  },
  {
   "cell_type": "code",
   "execution_count": 185,
   "id": "c7c1d7a3",
   "metadata": {},
   "outputs": [
    {
     "data": {
      "text/plain": [
       "0                  Toy Story Collection\n",
       "2             Grumpy Old Men Collection\n",
       "4        Father of the Bride Collection\n",
       "9                 James Bond Collection\n",
       "12                     Balto Collection\n",
       "                      ...              \n",
       "45352           The Carry On Collection\n",
       "45355           The Carry On Collection\n",
       "45366           The Carry On Collection\n",
       "45368    DC Super Hero Girls Collection\n",
       "45379              Red Lotus Collection\n",
       "Name: belongs_to_collection, Length: 4481, dtype: object"
      ]
     },
     "execution_count": 185,
     "metadata": {},
     "output_type": "execute_result"
    }
   ],
   "source": [
    "df_col_test_dic = df_col_test[\"belongs_to_collection\"].apply(lambda x : dict(eval(x))['name'])\n",
    "df_col_test_dic"
   ]
  }
 ],
 "metadata": {
  "kernelspec": {
   "display_name": "Python 3 (ipykernel)",
   "language": "python",
   "name": "python3"
  },
  "language_info": {
   "codemirror_mode": {
    "name": "ipython",
    "version": 3
   },
   "file_extension": ".py",
   "mimetype": "text/x-python",
   "name": "python",
   "nbconvert_exporter": "python",
   "pygments_lexer": "ipython3",
   "version": "3.8.12"
  },
  "toc": {
   "base_numbering": 1,
   "nav_menu": {},
   "number_sections": true,
   "sideBar": true,
   "skip_h1_title": false,
   "title_cell": "Table of Contents",
   "title_sidebar": "Contents",
   "toc_cell": false,
   "toc_position": {},
   "toc_section_display": true,
   "toc_window_display": false
  },
  "varInspector": {
   "cols": {
    "lenName": 16,
    "lenType": 16,
    "lenVar": 40
   },
   "kernels_config": {
    "python": {
     "delete_cmd_postfix": "",
     "delete_cmd_prefix": "del ",
     "library": "var_list.py",
     "varRefreshCmd": "print(var_dic_list())"
    },
    "r": {
     "delete_cmd_postfix": ") ",
     "delete_cmd_prefix": "rm(",
     "library": "var_list.r",
     "varRefreshCmd": "cat(var_dic_list()) "
    }
   },
   "types_to_exclude": [
    "module",
    "function",
    "builtin_function_or_method",
    "instance",
    "_Feature"
   ],
   "window_display": false
  }
 },
 "nbformat": 4,
 "nbformat_minor": 5
}
