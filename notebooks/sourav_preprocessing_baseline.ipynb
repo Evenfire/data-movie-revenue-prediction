{
 "cells": [
  {
   "cell_type": "markdown",
   "id": "3ff12898",
   "metadata": {},
   "source": [
    "## Import the Modules"
   ]
  },
  {
   "cell_type": "code",
   "execution_count": 1,
   "id": "6ff657e7",
   "metadata": {},
   "outputs": [],
   "source": [
    "%load_ext autoreload\n",
    "%autoreload 2"
   ]
  },
  {
   "cell_type": "code",
   "execution_count": 2,
   "id": "e6310206",
   "metadata": {},
   "outputs": [],
   "source": [
    "import pandas as pd\n",
    "import matplotlib.pyplot as plt\n",
    "import numpy as np\n",
    "from sklearn.model_selection import train_test_split\n",
    "from python_files.fetch_missing_data import fetch_missing_data\n",
    "from sklearn.preprocessing import StandardScaler\n",
    "from sklearn.impute import SimpleImputer\n",
    "from sklearn.dummy import DummyRegressor"
   ]
  },
  {
   "cell_type": "markdown",
   "id": "517b7a53",
   "metadata": {},
   "source": [
    "## Clean the data"
   ]
  },
  {
   "cell_type": "code",
   "execution_count": 3,
   "id": "7e5c03fb",
   "metadata": {},
   "outputs": [
    {
     "name": "stderr",
     "output_type": "stream",
     "text": [
      "/tmp/ipykernel_3113/1057679917.py:1: DtypeWarning: Columns (27,28) have mixed types. Specify dtype option on import or set low_memory=False.\n",
      "  data = pd.read_csv('../data/AllMoviesDetailsCleaned.csv')\n"
     ]
    },
    {
     "data": {
      "text/html": [
       "<div>\n",
       "<style scoped>\n",
       "    .dataframe tbody tr th:only-of-type {\n",
       "        vertical-align: middle;\n",
       "    }\n",
       "\n",
       "    .dataframe tbody tr th {\n",
       "        vertical-align: top;\n",
       "    }\n",
       "\n",
       "    .dataframe thead th {\n",
       "        text-align: right;\n",
       "    }\n",
       "</style>\n",
       "<table border=\"1\" class=\"dataframe\">\n",
       "  <thead>\n",
       "    <tr style=\"text-align: right;\">\n",
       "      <th></th>\n",
       "      <th>id</th>\n",
       "      <th>budget</th>\n",
       "      <th>genres</th>\n",
       "      <th>imdb_id</th>\n",
       "      <th>original_language</th>\n",
       "      <th>original_title</th>\n",
       "      <th>overview</th>\n",
       "      <th>popularity</th>\n",
       "      <th>production_companies</th>\n",
       "      <th>production_countries</th>\n",
       "      <th>...</th>\n",
       "      <th>production_companies_number</th>\n",
       "      <th>production_countries_number</th>\n",
       "      <th>spoken_languages_number</th>\n",
       "      <th>budget_new</th>\n",
       "      <th>revenue_new</th>\n",
       "      <th>popularity_new</th>\n",
       "      <th>vote_average_new</th>\n",
       "      <th>vote_count_new</th>\n",
       "      <th>belongs_to_collection_x</th>\n",
       "      <th>belongs_to_collection</th>\n",
       "    </tr>\n",
       "  </thead>\n",
       "  <tbody>\n",
       "    <tr>\n",
       "      <th>0</th>\n",
       "      <td>2</td>\n",
       "      <td>0</td>\n",
       "      <td>Drama|Crime</td>\n",
       "      <td>tt0094675</td>\n",
       "      <td>fi</td>\n",
       "      <td>Ariel</td>\n",
       "      <td>Taisto Kasurinen is a Finnish coal miner whose...</td>\n",
       "      <td>NaN</td>\n",
       "      <td>Villealfa Filmproduction Oy</td>\n",
       "      <td>Finland</td>\n",
       "      <td>...</td>\n",
       "      <td>2</td>\n",
       "      <td>1</td>\n",
       "      <td>2</td>\n",
       "      <td>NaN</td>\n",
       "      <td>NaN</td>\n",
       "      <td>NaN</td>\n",
       "      <td>NaN</td>\n",
       "      <td>NaN</td>\n",
       "      <td>NaN</td>\n",
       "      <td>NaN</td>\n",
       "    </tr>\n",
       "    <tr>\n",
       "      <th>1</th>\n",
       "      <td>3</td>\n",
       "      <td>0</td>\n",
       "      <td>Drama|Comedy</td>\n",
       "      <td>tt0092149</td>\n",
       "      <td>fi</td>\n",
       "      <td>Varjoja paratiisissa</td>\n",
       "      <td>An episode in the life of Nikander, a garbage ...</td>\n",
       "      <td>NaN</td>\n",
       "      <td>Villealfa Filmproduction Oy</td>\n",
       "      <td>Finland</td>\n",
       "      <td>...</td>\n",
       "      <td>1</td>\n",
       "      <td>1</td>\n",
       "      <td>3</td>\n",
       "      <td>NaN</td>\n",
       "      <td>NaN</td>\n",
       "      <td>NaN</td>\n",
       "      <td>NaN</td>\n",
       "      <td>NaN</td>\n",
       "      <td>NaN</td>\n",
       "      <td>NaN</td>\n",
       "    </tr>\n",
       "    <tr>\n",
       "      <th>2</th>\n",
       "      <td>5</td>\n",
       "      <td>4000000</td>\n",
       "      <td>Crime|Comedy</td>\n",
       "      <td>tt0113101</td>\n",
       "      <td>en</td>\n",
       "      <td>Four Rooms</td>\n",
       "      <td>It's Ted the Bellhop's first night on the job....</td>\n",
       "      <td>NaN</td>\n",
       "      <td>Miramax Films</td>\n",
       "      <td>United States of America</td>\n",
       "      <td>...</td>\n",
       "      <td>2</td>\n",
       "      <td>1</td>\n",
       "      <td>1</td>\n",
       "      <td>NaN</td>\n",
       "      <td>NaN</td>\n",
       "      <td>NaN</td>\n",
       "      <td>NaN</td>\n",
       "      <td>NaN</td>\n",
       "      <td>NaN</td>\n",
       "      <td>NaN</td>\n",
       "    </tr>\n",
       "    <tr>\n",
       "      <th>3</th>\n",
       "      <td>6</td>\n",
       "      <td>0</td>\n",
       "      <td>Action|Thriller|Crime</td>\n",
       "      <td>tt0107286</td>\n",
       "      <td>en</td>\n",
       "      <td>Judgment Night</td>\n",
       "      <td>While racing to a boxing match, Frank, Mike, J...</td>\n",
       "      <td>NaN</td>\n",
       "      <td>Universal Pictures</td>\n",
       "      <td>Japan</td>\n",
       "      <td>...</td>\n",
       "      <td>3</td>\n",
       "      <td>2</td>\n",
       "      <td>1</td>\n",
       "      <td>NaN</td>\n",
       "      <td>NaN</td>\n",
       "      <td>NaN</td>\n",
       "      <td>NaN</td>\n",
       "      <td>NaN</td>\n",
       "      <td>NaN</td>\n",
       "      <td>NaN</td>\n",
       "    </tr>\n",
       "    <tr>\n",
       "      <th>4</th>\n",
       "      <td>8</td>\n",
       "      <td>42000</td>\n",
       "      <td>Documentary</td>\n",
       "      <td>tt0825671</td>\n",
       "      <td>en</td>\n",
       "      <td>Life in Loops (A Megacities RMX)</td>\n",
       "      <td>Timo Novotny labels his new project an experim...</td>\n",
       "      <td>NaN</td>\n",
       "      <td>inLoops</td>\n",
       "      <td>Austria</td>\n",
       "      <td>...</td>\n",
       "      <td>1</td>\n",
       "      <td>1</td>\n",
       "      <td>5</td>\n",
       "      <td>NaN</td>\n",
       "      <td>NaN</td>\n",
       "      <td>NaN</td>\n",
       "      <td>NaN</td>\n",
       "      <td>NaN</td>\n",
       "      <td>NaN</td>\n",
       "      <td>NaN</td>\n",
       "    </tr>\n",
       "  </tbody>\n",
       "</table>\n",
       "<p>5 rows × 29 columns</p>\n",
       "</div>"
      ],
      "text/plain": [
       "   id   budget                 genres    imdb_id original_language  \\\n",
       "0   2        0            Drama|Crime  tt0094675                fi   \n",
       "1   3        0           Drama|Comedy  tt0092149                fi   \n",
       "2   5  4000000           Crime|Comedy  tt0113101                en   \n",
       "3   6        0  Action|Thriller|Crime  tt0107286                en   \n",
       "4   8    42000            Documentary  tt0825671                en   \n",
       "\n",
       "                     original_title  \\\n",
       "0                             Ariel   \n",
       "1              Varjoja paratiisissa   \n",
       "2                        Four Rooms   \n",
       "3                    Judgment Night   \n",
       "4  Life in Loops (A Megacities RMX)   \n",
       "\n",
       "                                            overview  popularity  \\\n",
       "0  Taisto Kasurinen is a Finnish coal miner whose...         NaN   \n",
       "1  An episode in the life of Nikander, a garbage ...         NaN   \n",
       "2  It's Ted the Bellhop's first night on the job....         NaN   \n",
       "3  While racing to a boxing match, Frank, Mike, J...         NaN   \n",
       "4  Timo Novotny labels his new project an experim...         NaN   \n",
       "\n",
       "          production_companies      production_countries  ...  \\\n",
       "0  Villealfa Filmproduction Oy                   Finland  ...   \n",
       "1  Villealfa Filmproduction Oy                   Finland  ...   \n",
       "2                Miramax Films  United States of America  ...   \n",
       "3           Universal Pictures                     Japan  ...   \n",
       "4                      inLoops                   Austria  ...   \n",
       "\n",
       "  production_companies_number  production_countries_number  \\\n",
       "0                           2                            1   \n",
       "1                           1                            1   \n",
       "2                           2                            1   \n",
       "3                           3                            2   \n",
       "4                           1                            1   \n",
       "\n",
       "   spoken_languages_number budget_new revenue_new popularity_new  \\\n",
       "0                        2        NaN         NaN            NaN   \n",
       "1                        3        NaN         NaN            NaN   \n",
       "2                        1        NaN         NaN            NaN   \n",
       "3                        1        NaN         NaN            NaN   \n",
       "4                        5        NaN         NaN            NaN   \n",
       "\n",
       "  vote_average_new  vote_count_new  belongs_to_collection_x  \\\n",
       "0              NaN             NaN                      NaN   \n",
       "1              NaN             NaN                      NaN   \n",
       "2              NaN             NaN                      NaN   \n",
       "3              NaN             NaN                      NaN   \n",
       "4              NaN             NaN                      NaN   \n",
       "\n",
       "   belongs_to_collection  \n",
       "0                    NaN  \n",
       "1                    NaN  \n",
       "2                    NaN  \n",
       "3                    NaN  \n",
       "4                    NaN  \n",
       "\n",
       "[5 rows x 29 columns]"
      ]
     },
     "execution_count": 3,
     "metadata": {},
     "output_type": "execute_result"
    }
   ],
   "source": [
    "data = pd.read_csv('../data/AllMoviesDetailsCleaned.csv')\n",
    "data.head()"
   ]
  },
  {
   "cell_type": "code",
   "execution_count": 4,
   "id": "4913b95e",
   "metadata": {},
   "outputs": [],
   "source": [
    "df= data.copy()"
   ]
  },
  {
   "cell_type": "code",
   "execution_count": 6,
   "id": "72240fbc",
   "metadata": {
    "scrolled": true
   },
   "outputs": [
    {
     "data": {
      "text/plain": [
       "(329074, 29)"
      ]
     },
     "execution_count": 6,
     "metadata": {},
     "output_type": "execute_result"
    }
   ],
   "source": [
    "df.shape"
   ]
  },
  {
   "cell_type": "code",
   "execution_count": 7,
   "id": "86c6d259",
   "metadata": {
    "scrolled": true
   },
   "outputs": [
    {
     "data": {
      "text/html": [
       "<div>\n",
       "<style scoped>\n",
       "    .dataframe tbody tr th:only-of-type {\n",
       "        vertical-align: middle;\n",
       "    }\n",
       "\n",
       "    .dataframe tbody tr th {\n",
       "        vertical-align: top;\n",
       "    }\n",
       "\n",
       "    .dataframe thead th {\n",
       "        text-align: right;\n",
       "    }\n",
       "</style>\n",
       "<table border=\"1\" class=\"dataframe\">\n",
       "  <thead>\n",
       "    <tr style=\"text-align: right;\">\n",
       "      <th></th>\n",
       "      <th>id</th>\n",
       "      <th>budget</th>\n",
       "      <th>popularity</th>\n",
       "      <th>revenue</th>\n",
       "      <th>runtime</th>\n",
       "      <th>vote_average</th>\n",
       "      <th>vote_count</th>\n",
       "      <th>production_companies_number</th>\n",
       "      <th>production_countries_number</th>\n",
       "      <th>spoken_languages_number</th>\n",
       "      <th>budget_new</th>\n",
       "      <th>revenue_new</th>\n",
       "      <th>popularity_new</th>\n",
       "      <th>vote_average_new</th>\n",
       "      <th>vote_count_new</th>\n",
       "    </tr>\n",
       "  </thead>\n",
       "  <tbody>\n",
       "    <tr>\n",
       "      <th>count</th>\n",
       "      <td>329074.000000</td>\n",
       "      <td>3.290740e+05</td>\n",
       "      <td>4299.000000</td>\n",
       "      <td>3.290740e+05</td>\n",
       "      <td>292282.000000</td>\n",
       "      <td>329074.000000</td>\n",
       "      <td>329074.000000</td>\n",
       "      <td>329074.000000</td>\n",
       "      <td>329074.000000</td>\n",
       "      <td>329074.000000</td>\n",
       "      <td>4.299000e+03</td>\n",
       "      <td>4.299000e+03</td>\n",
       "      <td>4299.000000</td>\n",
       "      <td>4299.000000</td>\n",
       "      <td>4299.000000</td>\n",
       "    </tr>\n",
       "    <tr>\n",
       "      <th>mean</th>\n",
       "      <td>252968.854899</td>\n",
       "      <td>8.683204e+05</td>\n",
       "      <td>19.862385</td>\n",
       "      <td>2.236717e+06</td>\n",
       "      <td>60.410877</td>\n",
       "      <td>2.391715</td>\n",
       "      <td>28.757714</td>\n",
       "      <td>0.594942</td>\n",
       "      <td>0.609993</td>\n",
       "      <td>0.647669</td>\n",
       "      <td>2.012306e+07</td>\n",
       "      <td>5.377283e+07</td>\n",
       "      <td>19.862385</td>\n",
       "      <td>6.385571</td>\n",
       "      <td>1136.667597</td>\n",
       "    </tr>\n",
       "    <tr>\n",
       "      <th>std</th>\n",
       "      <td>138638.645851</td>\n",
       "      <td>7.926402e+06</td>\n",
       "      <td>22.166717</td>\n",
       "      <td>2.788750e+07</td>\n",
       "      <td>142.495658</td>\n",
       "      <td>3.134253</td>\n",
       "      <td>327.754144</td>\n",
       "      <td>1.038569</td>\n",
       "      <td>0.665176</td>\n",
       "      <td>0.672060</td>\n",
       "      <td>2.935169e+07</td>\n",
       "      <td>1.126381e+08</td>\n",
       "      <td>22.166717</td>\n",
       "      <td>0.841871</td>\n",
       "      <td>2205.184719</td>\n",
       "    </tr>\n",
       "    <tr>\n",
       "      <th>min</th>\n",
       "      <td>2.000000</td>\n",
       "      <td>0.000000e+00</td>\n",
       "      <td>0.600000</td>\n",
       "      <td>-1.200000e+01</td>\n",
       "      <td>0.000000</td>\n",
       "      <td>0.000000</td>\n",
       "      <td>0.000000</td>\n",
       "      <td>0.000000</td>\n",
       "      <td>0.000000</td>\n",
       "      <td>0.000000</td>\n",
       "      <td>0.000000e+00</td>\n",
       "      <td>0.000000e+00</td>\n",
       "      <td>0.600000</td>\n",
       "      <td>0.000000</td>\n",
       "      <td>0.000000</td>\n",
       "    </tr>\n",
       "    <tr>\n",
       "      <th>25%</th>\n",
       "      <td>124756.750000</td>\n",
       "      <td>0.000000e+00</td>\n",
       "      <td>10.097500</td>\n",
       "      <td>0.000000e+00</td>\n",
       "      <td>5.000000</td>\n",
       "      <td>0.000000</td>\n",
       "      <td>0.000000</td>\n",
       "      <td>0.000000</td>\n",
       "      <td>0.000000</td>\n",
       "      <td>0.000000</td>\n",
       "      <td>5.000000e+05</td>\n",
       "      <td>3.963292e+06</td>\n",
       "      <td>10.097500</td>\n",
       "      <td>5.900000</td>\n",
       "      <td>151.000000</td>\n",
       "    </tr>\n",
       "    <tr>\n",
       "      <th>50%</th>\n",
       "      <td>276456.500000</td>\n",
       "      <td>0.000000e+00</td>\n",
       "      <td>14.922000</td>\n",
       "      <td>0.000000e+00</td>\n",
       "      <td>71.000000</td>\n",
       "      <td>0.000000</td>\n",
       "      <td>0.000000</td>\n",
       "      <td>0.000000</td>\n",
       "      <td>1.000000</td>\n",
       "      <td>1.000000</td>\n",
       "      <td>9.080000e+06</td>\n",
       "      <td>1.787369e+07</td>\n",
       "      <td>14.922000</td>\n",
       "      <td>6.400000</td>\n",
       "      <td>399.000000</td>\n",
       "    </tr>\n",
       "    <tr>\n",
       "      <th>75%</th>\n",
       "      <td>370829.750000</td>\n",
       "      <td>0.000000e+00</td>\n",
       "      <td>22.589500</td>\n",
       "      <td>0.000000e+00</td>\n",
       "      <td>94.000000</td>\n",
       "      <td>5.500000</td>\n",
       "      <td>1.000000</td>\n",
       "      <td>1.000000</td>\n",
       "      <td>1.000000</td>\n",
       "      <td>1.000000</td>\n",
       "      <td>2.700000e+07</td>\n",
       "      <td>5.524500e+07</td>\n",
       "      <td>22.589500</td>\n",
       "      <td>6.965000</td>\n",
       "      <td>1158.000000</td>\n",
       "    </tr>\n",
       "    <tr>\n",
       "      <th>max</th>\n",
       "      <td>469219.000000</td>\n",
       "      <td>6.000000e+08</td>\n",
       "      <td>696.244000</td>\n",
       "      <td>2.920357e+09</td>\n",
       "      <td>51420.000000</td>\n",
       "      <td>10.000000</td>\n",
       "      <td>27803.000000</td>\n",
       "      <td>26.000000</td>\n",
       "      <td>26.000000</td>\n",
       "      <td>25.000000</td>\n",
       "      <td>3.800000e+08</td>\n",
       "      <td>2.920357e+09</td>\n",
       "      <td>696.244000</td>\n",
       "      <td>10.000000</td>\n",
       "      <td>27803.000000</td>\n",
       "    </tr>\n",
       "  </tbody>\n",
       "</table>\n",
       "</div>"
      ],
      "text/plain": [
       "                  id        budget   popularity       revenue        runtime  \\\n",
       "count  329074.000000  3.290740e+05  4299.000000  3.290740e+05  292282.000000   \n",
       "mean   252968.854899  8.683204e+05    19.862385  2.236717e+06      60.410877   \n",
       "std    138638.645851  7.926402e+06    22.166717  2.788750e+07     142.495658   \n",
       "min         2.000000  0.000000e+00     0.600000 -1.200000e+01       0.000000   \n",
       "25%    124756.750000  0.000000e+00    10.097500  0.000000e+00       5.000000   \n",
       "50%    276456.500000  0.000000e+00    14.922000  0.000000e+00      71.000000   \n",
       "75%    370829.750000  0.000000e+00    22.589500  0.000000e+00      94.000000   \n",
       "max    469219.000000  6.000000e+08   696.244000  2.920357e+09   51420.000000   \n",
       "\n",
       "        vote_average     vote_count  production_companies_number  \\\n",
       "count  329074.000000  329074.000000                329074.000000   \n",
       "mean        2.391715      28.757714                     0.594942   \n",
       "std         3.134253     327.754144                     1.038569   \n",
       "min         0.000000       0.000000                     0.000000   \n",
       "25%         0.000000       0.000000                     0.000000   \n",
       "50%         0.000000       0.000000                     0.000000   \n",
       "75%         5.500000       1.000000                     1.000000   \n",
       "max        10.000000   27803.000000                    26.000000   \n",
       "\n",
       "       production_countries_number  spoken_languages_number    budget_new  \\\n",
       "count                329074.000000            329074.000000  4.299000e+03   \n",
       "mean                      0.609993                 0.647669  2.012306e+07   \n",
       "std                       0.665176                 0.672060  2.935169e+07   \n",
       "min                       0.000000                 0.000000  0.000000e+00   \n",
       "25%                       0.000000                 0.000000  5.000000e+05   \n",
       "50%                       1.000000                 1.000000  9.080000e+06   \n",
       "75%                       1.000000                 1.000000  2.700000e+07   \n",
       "max                      26.000000                25.000000  3.800000e+08   \n",
       "\n",
       "        revenue_new  popularity_new  vote_average_new  vote_count_new  \n",
       "count  4.299000e+03     4299.000000       4299.000000     4299.000000  \n",
       "mean   5.377283e+07       19.862385          6.385571     1136.667597  \n",
       "std    1.126381e+08       22.166717          0.841871     2205.184719  \n",
       "min    0.000000e+00        0.600000          0.000000        0.000000  \n",
       "25%    3.963292e+06       10.097500          5.900000      151.000000  \n",
       "50%    1.787369e+07       14.922000          6.400000      399.000000  \n",
       "75%    5.524500e+07       22.589500          6.965000     1158.000000  \n",
       "max    2.920357e+09      696.244000         10.000000    27803.000000  "
      ]
     },
     "execution_count": 7,
     "metadata": {},
     "output_type": "execute_result"
    }
   ],
   "source": [
    "df.describe()"
   ]
  },
  {
   "cell_type": "code",
   "execution_count": 8,
   "id": "555fea04",
   "metadata": {},
   "outputs": [
    {
     "name": "stderr",
     "output_type": "stream",
     "text": [
      "/home/sourav/.pyenv/versions/3.8.12/envs/lewagon/lib/python3.8/site-packages/pandas/core/arraylike.py:397: RuntimeWarning: invalid value encountered in log10\n",
      "  result = getattr(ufunc, method)(*inputs, **kwargs)\n"
     ]
    },
    {
     "data": {
      "image/png": "[encoded data removed]",
      "text/plain": [
       "<Figure size 720x432 with 1 Axes>"
      ]
     },
     "metadata": {
      "needs_background": "light"
     },
     "output_type": "display_data"
    }
   ],
   "source": [
    "plt.figure(figsize=(10,6))\n",
    "log_data = np.log10(df['revenue'] + 1) # add plus 1 to avoid log(0)\n",
    "plt.xlabel('Revenue')\n",
    "plt.ylabel('Number of observations')\n",
    "plt.title('Log transformed histogram for revenue')\n",
    "bin_edges = 10 ** np.arange(0.8, np.log10(df['revenue'].max()) + 0.2, 0.2)\n",
    "plt.hist(df['revenue'], bins=bin_edges, color = 'maroon');\n",
    "plt.xscale('log')\n",
    "labels = [10, 30, 100, 300, '1 T', '3 T', '10 T', '30 T', '100 T', '300 T', '1 M', '3 M', '10 M', '30 M', '100 M', '300 M', '1 B', '3 B']\n",
    "tick_locs = [10, 30, 100, 300, 1000, 3000, 10000, 30000, 100000, 300000, 1000000, 3000000, 10000000, 30000000, 100000000, 300000000, 1000000000, 3000000000]\n",
    "plt.xticks(tick_locs, labels, rotation=45);"
   ]
  },
  {
   "cell_type": "markdown",
   "id": "6a395e8c",
   "metadata": {},
   "source": [
    "**Assumption:** We will only take data with revenue greater than 3K"
   ]
  },
  {
   "cell_type": "code",
   "execution_count": 9,
   "id": "fbdad382",
   "metadata": {},
   "outputs": [
    {
     "data": {
      "image/png": "[encoded data removed]",
      "text/plain": [
       "<Figure size 720x432 with 1 Axes>"
      ]
     },
     "metadata": {
      "needs_background": "light"
     },
     "output_type": "display_data"
    }
   ],
   "source": [
    "# log transforming the data\n",
    "plt.figure(figsize=(10,6))\n",
    "log_data = np.log10(df['budget'] + 1) # add plus 1 to avoid log(0)\n",
    "plt.xlabel('Budget')\n",
    "plt.ylabel('Number of observations')\n",
    "plt.title('Histogram with log transformed budget')\n",
    "bin_edges = 10 ** np.arange(0.8, np.log10(df['budget'].max()) + 0.2, 0.2)\n",
    "plt.hist(df['budget'], bins=bin_edges, color = 'green');\n",
    "plt.xscale('log')\n",
    "labels = [10, 30, 100, 300, '1 T', '3 T', '10 T', '30 T', '100 T', '300 T', '1 M', '3 M', '10 M', '30 M', '100 M', '300 M']\n",
    "tick_locs = [10, 30, 100, 300, 1000, 3000, 10000, 30000, 100000, 300000, 1000000, 3000000, 10000000, 30000000, 100000000, 300000000]\n",
    "plt.xticks(tick_locs, labels, rotation=45);"
   ]
  },
  {
   "cell_type": "code",
   "execution_count": 10,
   "id": "8ad38428",
   "metadata": {
    "scrolled": true
   },
   "outputs": [
    {
     "data": {
      "text/plain": [
       "(8650, 29)"
      ]
     },
     "execution_count": 10,
     "metadata": {},
     "output_type": "execute_result"
    }
   ],
   "source": [
    "df = df[(df['revenue'] > 3000) & (df['budget'] > 300000)]\n",
    "df.shape"
   ]
  },
  {
   "cell_type": "markdown",
   "id": "82f5e2e6",
   "metadata": {},
   "source": [
    "## Remove Duplicates"
   ]
  },
  {
   "cell_type": "code",
   "execution_count": 11,
   "id": "05b923f9",
   "metadata": {},
   "outputs": [],
   "source": [
    "df.drop_duplicates(inplace = True)"
   ]
  },
  {
   "cell_type": "code",
   "execution_count": 12,
   "id": "378f9e0f",
   "metadata": {},
   "outputs": [
    {
     "data": {
      "text/plain": [
       "(8644, 29)"
      ]
     },
     "execution_count": 12,
     "metadata": {},
     "output_type": "execute_result"
    }
   ],
   "source": [
    "df.shape"
   ]
  },
  {
   "cell_type": "markdown",
   "id": "6ead13cd",
   "metadata": {},
   "source": [
    "## Split the data"
   ]
  },
  {
   "cell_type": "code",
   "execution_count": 13,
   "id": "a0f7e6e2",
   "metadata": {},
   "outputs": [],
   "source": [
    "# drop rows with null values in numeric variables\n",
    "df.dropna( axis=0, how='any', subset=['release_date'], inplace= True )"
   ]
  },
  {
   "cell_type": "code",
   "execution_count": 14,
   "id": "c530a024",
   "metadata": {},
   "outputs": [],
   "source": [
    "X = df.drop(columns = ['revenue', 'budget_new', 'revenue_new', 'popularity_new', 'vote_average_new', 'vote_count_new',\\\n",
    "                      'belongs_to_collection_x'])\n",
    "y = df['revenue']"
   ]
  },
  {
   "cell_type": "code",
   "execution_count": 15,
   "id": "ce8e32fd",
   "metadata": {},
   "outputs": [],
   "source": [
    "# split the data into train and test\n",
    "X_train, X_test, y_train, y_test = train_test_split(X, y, test_size=0.2)"
   ]
  },
  {
   "cell_type": "markdown",
   "id": "bb34d7af",
   "metadata": {},
   "source": [
    "## Handle Missing Data"
   ]
  },
  {
   "cell_type": "code",
   "execution_count": 16,
   "id": "fde6cec6",
   "metadata": {},
   "outputs": [
    {
     "data": {
      "text/plain": [
       "id                                0\n",
       "budget                            0\n",
       "genres                          166\n",
       "imdb_id                         157\n",
       "original_language                 0\n",
       "original_title                    0\n",
       "overview                         64\n",
       "popularity                     4247\n",
       "production_companies              0\n",
       "production_countries              0\n",
       "release_date                      0\n",
       "runtime                          12\n",
       "spoken_languages                 54\n",
       "status                            2\n",
       "tagline                        2462\n",
       "title                             0\n",
       "vote_average                      0\n",
       "vote_count                        0\n",
       "production_companies_number       0\n",
       "production_countries_number       0\n",
       "spoken_languages_number           0\n",
       "belongs_to_collection          5748\n",
       "dtype: int64"
      ]
     },
     "execution_count": 16,
     "metadata": {},
     "output_type": "execute_result"
    }
   ],
   "source": [
    "X_train.isnull().sum()"
   ]
  },
  {
   "cell_type": "code",
   "execution_count": 17,
   "id": "5b391d76",
   "metadata": {},
   "outputs": [],
   "source": [
    "X_train.popularity.replace(np.nan, 0, inplace= True)"
   ]
  },
  {
   "cell_type": "code",
   "execution_count": 18,
   "id": "cc211c8c",
   "metadata": {},
   "outputs": [],
   "source": [
    "# Sustituting the missing runtime value with mean \n",
    "imp_mean = SimpleImputer(missing_values=np.nan, strategy='mean')\n",
    "X_train[['runtime']] = imp_mean.fit_transform(X_train[['runtime']])"
   ]
  },
  {
   "cell_type": "code",
   "execution_count": 19,
   "id": "a681750f",
   "metadata": {},
   "outputs": [],
   "source": [
    "# substituing the empty genres with most common value: \"comedy\"\n",
    "most_common_genres = df['genres'].describe()['top']\n",
    "X_train['genres'] = X_train['genres'].apply(lambda x: most_common_genres if x == {} else x)  "
   ]
  },
  {
   "cell_type": "code",
   "execution_count": 20,
   "id": "d854d865",
   "metadata": {
    "scrolled": true
   },
   "outputs": [
    {
     "data": {
      "text/plain": [
       "id                                0\n",
       "budget                            0\n",
       "genres                          166\n",
       "imdb_id                         157\n",
       "original_language                 0\n",
       "original_title                    0\n",
       "overview                         64\n",
       "popularity                        0\n",
       "production_companies              0\n",
       "production_countries              0\n",
       "release_date                      0\n",
       "runtime                           0\n",
       "spoken_languages                 54\n",
       "status                            2\n",
       "tagline                        2462\n",
       "title                             0\n",
       "vote_average                      0\n",
       "vote_count                        0\n",
       "production_companies_number       0\n",
       "production_countries_number       0\n",
       "spoken_languages_number           0\n",
       "belongs_to_collection          5748\n",
       "dtype: int64"
      ]
     },
     "execution_count": 20,
     "metadata": {},
     "output_type": "execute_result"
    }
   ],
   "source": [
    "X_train.isna().sum()"
   ]
  },
  {
   "cell_type": "markdown",
   "id": "17372396",
   "metadata": {},
   "source": [
    "## Convert the data types"
   ]
  },
  {
   "cell_type": "code",
   "execution_count": 21,
   "id": "7b44fa8d",
   "metadata": {},
   "outputs": [
    {
     "name": "stdout",
     "output_type": "stream",
     "text": [
      "<class 'pandas.core.frame.DataFrame'>\n",
      "Int64Index: 6902 entries, 208534 to 174\n",
      "Data columns (total 22 columns):\n",
      " #   Column                       Non-Null Count  Dtype         \n",
      "---  ------                       --------------  -----         \n",
      " 0   id                           6902 non-null   int64         \n",
      " 1   budget                       6902 non-null   int64         \n",
      " 2   genres                       6736 non-null   object        \n",
      " 3   imdb_id                      6745 non-null   object        \n",
      " 4   original_language            6902 non-null   object        \n",
      " 5   original_title               6902 non-null   object        \n",
      " 6   overview                     6838 non-null   object        \n",
      " 7   popularity                   6902 non-null   float64       \n",
      " 8   production_companies         6902 non-null   object        \n",
      " 9   production_countries         6902 non-null   object        \n",
      " 10  release_date                 6902 non-null   datetime64[ns]\n",
      " 11  runtime                      6902 non-null   float64       \n",
      " 12  spoken_languages             6848 non-null   object        \n",
      " 13  status                       6900 non-null   object        \n",
      " 14  tagline                      4440 non-null   object        \n",
      " 15  title                        6902 non-null   object        \n",
      " 16  vote_average                 6902 non-null   float64       \n",
      " 17  vote_count                   6902 non-null   int64         \n",
      " 18  production_companies_number  6902 non-null   int64         \n",
      " 19  production_countries_number  6902 non-null   int64         \n",
      " 20  spoken_languages_number      6902 non-null   int64         \n",
      " 21  belongs_to_collection        1154 non-null   object        \n",
      "dtypes: datetime64[ns](1), float64(3), int64(6), object(12)\n",
      "memory usage: 1.2+ MB\n"
     ]
    }
   ],
   "source": [
    "X_train.info()"
   ]
  },
  {
   "cell_type": "code",
   "execution_count": 22,
   "id": "29f50061",
   "metadata": {},
   "outputs": [],
   "source": [
    "X_train['popularity'] = pd.to_numeric(X_train['popularity'])"
   ]
  },
  {
   "cell_type": "markdown",
   "id": "2778fa12",
   "metadata": {},
   "source": [
    "## Handle Outliers"
   ]
  },
  {
   "cell_type": "markdown",
   "id": "7589893a",
   "metadata": {},
   "source": [
    "## Scaling"
   ]
  },
  {
   "cell_type": "code",
   "execution_count": 23,
   "id": "483b2a0b",
   "metadata": {},
   "outputs": [
    {
     "name": "stdout",
     "output_type": "stream",
     "text": [
      "Index(['budget', 'popularity', 'runtime', 'vote_average', 'vote_count',\n",
      "       'production_companies_number', 'production_countries_number',\n",
      "       'spoken_languages_number'],\n",
      "      dtype='object')\n",
      "Index(['genres', 'original_language', 'original_title', 'overview',\n",
      "       'production_companies', 'production_countries', 'spoken_languages',\n",
      "       'status', 'tagline', 'title', 'belongs_to_collection_x',\n",
      "       'belongs_to_collection'],\n",
      "      dtype='object')\n"
     ]
    }
   ],
   "source": [
    "numerical_features = df.drop(columns = ['id','budget_new',\n",
    "       'revenue_new', 'popularity_new', 'vote_average_new', 'vote_count_new', 'revenue']).select_dtypes(include = ['int64', 'float64']).columns\n",
    "print(numerical_features)\n",
    "categorical_features = df.drop(columns = ['imdb_id']).select_dtypes(include = ['object']).columns\n",
    "print(categorical_features)"
   ]
  },
  {
   "cell_type": "code",
   "execution_count": 24,
   "id": "079b757e",
   "metadata": {},
   "outputs": [
    {
     "data": {
      "text/html": [
       "<div>\n",
       "<style scoped>\n",
       "    .dataframe tbody tr th:only-of-type {\n",
       "        vertical-align: middle;\n",
       "    }\n",
       "\n",
       "    .dataframe tbody tr th {\n",
       "        vertical-align: top;\n",
       "    }\n",
       "\n",
       "    .dataframe thead th {\n",
       "        text-align: right;\n",
       "    }\n",
       "</style>\n",
       "<table border=\"1\" class=\"dataframe\">\n",
       "  <thead>\n",
       "    <tr style=\"text-align: right;\">\n",
       "      <th></th>\n",
       "      <th>budget</th>\n",
       "      <th>popularity</th>\n",
       "      <th>runtime</th>\n",
       "      <th>vote_average</th>\n",
       "      <th>vote_count</th>\n",
       "      <th>production_companies_number</th>\n",
       "      <th>production_countries_number</th>\n",
       "      <th>spoken_languages_number</th>\n",
       "    </tr>\n",
       "  </thead>\n",
       "  <tbody>\n",
       "    <tr>\n",
       "      <th>0</th>\n",
       "      <td>-0.115782</td>\n",
       "      <td>-0.458262</td>\n",
       "      <td>0.730080</td>\n",
       "      <td>0.330122</td>\n",
       "      <td>-0.221046</td>\n",
       "      <td>-0.586547</td>\n",
       "      <td>-0.323047</td>\n",
       "      <td>0.762213</td>\n",
       "    </tr>\n",
       "    <tr>\n",
       "      <th>1</th>\n",
       "      <td>0.561304</td>\n",
       "      <td>-0.458262</td>\n",
       "      <td>0.357036</td>\n",
       "      <td>-0.142945</td>\n",
       "      <td>-0.347561</td>\n",
       "      <td>1.323277</td>\n",
       "      <td>1.012084</td>\n",
       "      <td>-0.406852</td>\n",
       "    </tr>\n",
       "    <tr>\n",
       "      <th>2</th>\n",
       "      <td>1.373808</td>\n",
       "      <td>-0.458262</td>\n",
       "      <td>1.289646</td>\n",
       "      <td>0.613963</td>\n",
       "      <td>-0.422015</td>\n",
       "      <td>-0.109091</td>\n",
       "      <td>-0.323047</td>\n",
       "      <td>0.762213</td>\n",
       "    </tr>\n",
       "    <tr>\n",
       "      <th>3</th>\n",
       "      <td>-0.684534</td>\n",
       "      <td>-0.458262</td>\n",
       "      <td>-0.016008</td>\n",
       "      <td>0.424736</td>\n",
       "      <td>-0.486392</td>\n",
       "      <td>1.323277</td>\n",
       "      <td>1.012084</td>\n",
       "      <td>1.931279</td>\n",
       "    </tr>\n",
       "    <tr>\n",
       "      <th>4</th>\n",
       "      <td>0.398804</td>\n",
       "      <td>-0.458262</td>\n",
       "      <td>0.263775</td>\n",
       "      <td>-0.142945</td>\n",
       "      <td>0.701507</td>\n",
       "      <td>-0.109091</td>\n",
       "      <td>-0.323047</td>\n",
       "      <td>0.762213</td>\n",
       "    </tr>\n",
       "  </tbody>\n",
       "</table>\n",
       "</div>"
      ],
      "text/plain": [
       "     budget  popularity   runtime  vote_average  vote_count  \\\n",
       "0 -0.115782   -0.458262  0.730080      0.330122   -0.221046   \n",
       "1  0.561304   -0.458262  0.357036     -0.142945   -0.347561   \n",
       "2  1.373808   -0.458262  1.289646      0.613963   -0.422015   \n",
       "3 -0.684534   -0.458262 -0.016008      0.424736   -0.486392   \n",
       "4  0.398804   -0.458262  0.263775     -0.142945    0.701507   \n",
       "\n",
       "   production_companies_number  production_countries_number  \\\n",
       "0                    -0.586547                    -0.323047   \n",
       "1                     1.323277                     1.012084   \n",
       "2                    -0.109091                    -0.323047   \n",
       "3                     1.323277                     1.012084   \n",
       "4                    -0.109091                    -0.323047   \n",
       "\n",
       "   spoken_languages_number  \n",
       "0                 0.762213  \n",
       "1                -0.406852  \n",
       "2                 0.762213  \n",
       "3                 1.931279  \n",
       "4                 0.762213  "
      ]
     },
     "execution_count": 24,
     "metadata": {},
     "output_type": "execute_result"
    }
   ],
   "source": [
    "scaler = StandardScaler()\n",
    "\n",
    "X_train_num = pd.DataFrame(scaler.fit_transform(X_train[numerical_features]), columns= numerical_features)\n",
    "X_train_num.head()"
   ]
  },
  {
   "cell_type": "markdown",
   "id": "7f269e98",
   "metadata": {},
   "source": [
    "## Check the balancing"
   ]
  },
  {
   "cell_type": "markdown",
   "id": "2ef87642",
   "metadata": {},
   "source": [
    "## Encoding categorical Data"
   ]
  },
  {
   "cell_type": "code",
   "execution_count": null,
   "id": "95601a45",
   "metadata": {},
   "outputs": [],
   "source": []
  },
  {
   "cell_type": "markdown",
   "id": "eb1ad261",
   "metadata": {},
   "source": [
    "## Feature Creation"
   ]
  },
  {
   "cell_type": "code",
   "execution_count": null,
   "id": "65bf5ad4",
   "metadata": {},
   "outputs": [],
   "source": []
  },
  {
   "cell_type": "code",
   "execution_count": null,
   "id": "b5789403",
   "metadata": {},
   "outputs": [],
   "source": []
  },
  {
   "cell_type": "markdown",
   "id": "13df391e",
   "metadata": {},
   "source": [
    "## Feature Selection, Modelling, Feature Permutation"
   ]
  },
  {
   "cell_type": "code",
   "execution_count": null,
   "id": "66adc8f5",
   "metadata": {},
   "outputs": [],
   "source": []
  },
  {
   "cell_type": "code",
   "execution_count": null,
   "id": "f3e76656",
   "metadata": {},
   "outputs": [],
   "source": []
  },
  {
   "cell_type": "markdown",
   "id": "9499d16d",
   "metadata": {},
   "source": [
    "## Baseline Score"
   ]
  },
  {
   "cell_type": "code",
   "execution_count": 25,
   "id": "ef154279",
   "metadata": {},
   "outputs": [
    {
     "data": {
      "text/plain": [
       "Index(['budget', 'popularity', 'runtime', 'vote_average', 'vote_count',\n",
       "       'production_companies_number', 'production_countries_number',\n",
       "       'spoken_languages_number'],\n",
       "      dtype='object')"
      ]
     },
     "execution_count": 25,
     "metadata": {},
     "output_type": "execute_result"
    }
   ],
   "source": [
    "X_train_num.columns"
   ]
  },
  {
   "cell_type": "code",
   "execution_count": 26,
   "id": "6391245b",
   "metadata": {},
   "outputs": [
    {
     "name": "stdout",
     "output_type": "stream",
     "text": [
      "Baseline Score:  0.6263793773632053\n"
     ]
    }
   ],
   "source": [
    "from sklearn.linear_model import LinearRegression\n",
    "from sklearn.model_selection import cross_val_score\n",
    "\n",
    "model = LinearRegression()\n",
    "\n",
    "scores = cross_val_score(model, X_train_num, y_train, cv = 10)\n",
    "\n",
    "baseline_score = scores.mean()\n",
    "\n",
    "print(\"Baseline Score: \", baseline_score)"
   ]
  },
  {
   "cell_type": "code",
   "execution_count": null,
   "id": "9fb01eeb",
   "metadata": {},
   "outputs": [],
   "source": []
  }
 ],
 "metadata": {
  "kernelspec": {
   "display_name": "Python 3 (ipykernel)",
   "language": "python",
   "name": "python3"
  },
  "language_info": {
   "codemirror_mode": {
    "name": "ipython",
    "version": 3
   },
   "file_extension": ".py",
   "mimetype": "text/x-python",
   "name": "python",
   "nbconvert_exporter": "python",
   "pygments_lexer": "ipython3",
   "version": "3.8.12"
  },
  "toc": {
   "base_numbering": 1,
   "nav_menu": {},
   "number_sections": true,
   "sideBar": true,
   "skip_h1_title": false,
   "title_cell": "Table of Contents",
   "title_sidebar": "Contents",
   "toc_cell": false,
   "toc_position": {},
   "toc_section_display": true,
   "toc_window_display": false
  }
 },
 "nbformat": 4,
 "nbformat_minor": 5
}
